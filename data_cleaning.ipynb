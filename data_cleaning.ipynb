{
 "cells": [
  {
   "cell_type": "code",
   "execution_count": 1,
   "metadata": {},
   "outputs": [],
   "source": [
    "import pandas as pd\n",
    "import numpy as np\n",
    "from helpers import *\n",
    "from constants import *\n",
    "import re"
   ]
  },
  {
   "cell_type": "markdown",
   "metadata": {},
   "source": [
    "### Load Data\n",
    "- remove empty column\n",
    "- clean column names"
   ]
  },
  {
   "cell_type": "code",
   "execution_count": 2,
   "metadata": {},
   "outputs": [
    {
     "name": "stderr",
     "output_type": "stream",
     "text": [
      "/home/owen/Programs/anaconda3/envs/lighthouse/lib/python3.8/site-packages/openpyxl/worksheet/_reader.py:312: UserWarning: Unknown extension is not supported and will be removed\n",
      "  warn(msg)\n"
     ]
    },
    {
     "data": {
      "text/html": [
       "<div>\n",
       "<style scoped>\n",
       "    .dataframe tbody tr th:only-of-type {\n",
       "        vertical-align: middle;\n",
       "    }\n",
       "\n",
       "    .dataframe tbody tr th {\n",
       "        vertical-align: top;\n",
       "    }\n",
       "\n",
       "    .dataframe thead th {\n",
       "        text-align: right;\n",
       "    }\n",
       "</style>\n",
       "<table border=\"1\" class=\"dataframe\">\n",
       "  <thead>\n",
       "    <tr style=\"text-align: right;\">\n",
       "      <th></th>\n",
       "      <th>week_of</th>\n",
       "      <th>station</th>\n",
       "      <th>station_city</th>\n",
       "      <th>station_province</th>\n",
       "      <th>station_latitude</th>\n",
       "      <th>station_longitude</th>\n",
       "      <th>chart_position</th>\n",
       "      <th>artist_name(s)</th>\n",
       "      <th>artist_country</th>\n",
       "      <th>artist_home_city</th>\n",
       "      <th>...</th>\n",
       "      <th>label_name</th>\n",
       "      <th>label_type</th>\n",
       "      <th>language_of_music</th>\n",
       "      <th>visible_ethnic_minority</th>\n",
       "      <th>census_race_classification</th>\n",
       "      <th>artist_gender</th>\n",
       "      <th>m_music</th>\n",
       "      <th>a_artist</th>\n",
       "      <th>p_performance</th>\n",
       "      <th>l_lyrics</th>\n",
       "    </tr>\n",
       "  </thead>\n",
       "  <tbody>\n",
       "    <tr>\n",
       "      <th>0</th>\n",
       "      <td>2006-01-10 00:00:00</td>\n",
       "      <td>CJSR</td>\n",
       "      <td>Edmonton</td>\n",
       "      <td>AB</td>\n",
       "      <td>53.55</td>\n",
       "      <td>-113.5</td>\n",
       "      <td>4</td>\n",
       "      <td>Breakestra</td>\n",
       "      <td>US</td>\n",
       "      <td>Los Angeles, CA</td>\n",
       "      <td>...</td>\n",
       "      <td>Ubiquity</td>\n",
       "      <td>Indie</td>\n",
       "      <td>English</td>\n",
       "      <td>Yes</td>\n",
       "      <td>Mixed Group</td>\n",
       "      <td>Male Group</td>\n",
       "      <td>No</td>\n",
       "      <td>No</td>\n",
       "      <td>No</td>\n",
       "      <td>No</td>\n",
       "    </tr>\n",
       "  </tbody>\n",
       "</table>\n",
       "<p>1 rows × 24 columns</p>\n",
       "</div>"
      ],
      "text/plain": [
       "               week_of station station_city station_province  \\\n",
       "0  2006-01-10 00:00:00    CJSR     Edmonton               AB   \n",
       "\n",
       "   station_latitude  station_longitude chart_position artist_name(s)  \\\n",
       "0             53.55             -113.5              4    Breakestra    \n",
       "\n",
       "  artist_country artist_home_city  ... label_name label_type  \\\n",
       "0             US  Los Angeles, CA  ...   Ubiquity      Indie   \n",
       "\n",
       "   language_of_music visible_ethnic_minority census_race_classification  \\\n",
       "0            English                     Yes                Mixed Group   \n",
       "\n",
       "  artist_gender m_music a_artist p_performance l_lyrics  \n",
       "0    Male Group      No       No            No       No  \n",
       "\n",
       "[1 rows x 24 columns]"
      ]
     },
     "execution_count": 2,
     "metadata": {},
     "output_type": "execute_result"
    }
   ],
   "source": [
    "df = pd.read_excel(\"data/Canadian Radio Playlist_V.21.xlsx\", \"Campus Radio Charts\")\n",
    "df.drop('Unnamed: 24', axis=1, inplace=True)   # Drop empty colummn\n",
    "df.columns = [re.sub('\\s-\\s|\\s+|-', '_',x.lower().strip()) for x in df.columns]  #Clean column names\n",
    "\n",
    "\n",
    "df.head(1)"
   ]
  },
  {
   "cell_type": "markdown",
   "metadata": {},
   "source": [
    "### Strings\n",
    "- remove extra white spaces\n",
    "- lowercase\n",
    "- convert placeholders to nan values"
   ]
  },
  {
   "cell_type": "code",
   "execution_count": 3,
   "metadata": {},
   "outputs": [],
   "source": [
    "\n",
    "df = df.applymap(lambda s: re.sub('\\s+',' ',s.strip().lower()) if type(s) == str else s)\n",
    "df.replace(PLACEHOLDERS, np.nan, inplace=True)"
   ]
  },
  {
   "cell_type": "markdown",
   "metadata": {},
   "source": [
    "### Date Times\n",
    "\n",
    "- Change '3/2/1010' to '2010-03-02'\n",
    "- Convert to datetime object"
   ]
  },
  {
   "cell_type": "code",
   "execution_count": 4,
   "metadata": {},
   "outputs": [],
   "source": [
    "df.loc[df['week_of'] == '3/2/1010', 'week_of'] = '2010-03-02'\n",
    "df['week_of'] = pd.to_datetime(df['week_of'])"
   ]
  },
  {
   "cell_type": "markdown",
   "metadata": {},
   "source": [
    "### Change home cities with multiple entries to be only the first entry\n",
    "- example: \"Toronto, Canada/Kingston, Jamaica\" would become \"Toronto, Canada\""
   ]
  },
  {
   "cell_type": "code",
   "execution_count": 5,
   "metadata": {},
   "outputs": [],
   "source": [
    "df['artist_home_city'] = df['artist_home_city'].str.split('/').str[0]"
   ]
  },
  {
   "cell_type": "markdown",
   "metadata": {},
   "source": [
    "### Split 'various' artists into unique groupings\n",
    "- although the artists are not known, those with the same demographic features and locations are grouped and considered the same"
   ]
  },
  {
   "cell_type": "code",
   "execution_count": 6,
   "metadata": {},
   "outputs": [],
   "source": [
    "df = make_unique(df,'artist_name(s)',VALUE_EXCEPTIONS,ARTIST_COLUMNS)"
   ]
  },
  {
   "cell_type": "markdown",
   "metadata": {},
   "source": [
    "### Synchronize Data by key identifiers\n",
    "- 'identifiers' in this case are Artist Name, Station Name, or Album Name.  It is  assumed than the corresponding information to these identifiers should always be the same.\n",
    "- Remove any records with missing identifiers\n",
    "- Ensure that each instance of a station, artist, or ablum always has the same corresponding information"
   ]
  },
  {
   "cell_type": "code",
   "execution_count": 7,
   "metadata": {},
   "outputs": [],
   "source": [
    "df = df[~df['artist_name(s)'].isna()]\n",
    "df = df[~df['station'].isna()]\n",
    "df = df[~df['album_name'].isna()]"
   ]
  },
  {
   "cell_type": "code",
   "execution_count": 8,
   "metadata": {},
   "outputs": [
    {
     "name": "stderr",
     "output_type": "stream",
     "text": [
      "100%|██████████| 334/334 [00:02<00:00, 122.64it/s]\n",
      "100%|██████████| 22/22 [00:00<00:00, 156.64it/s]\n",
      "100%|██████████| 25/25 [00:00<00:00, 68.97it/s]\n",
      "100%|██████████| 2058/2058 [01:04<00:00, 32.10it/s]\n",
      "100%|██████████| 2673/2673 [00:22<00:00, 120.16it/s]\n"
     ]
    }
   ],
   "source": [
    "df = syncrhonize_data(df, 'artist_home_city', ['artist_home_latitude', 'artist_home_longitude','artist_country'])\n",
    "df = syncrhonize_data(df, 'station_city', ['station_latitude', 'station_longitude'])\n",
    "df = syncrhonize_data(df, 'station', STATION_COLUMNS)\n",
    "df = syncrhonize_data(df, 'artist_name(s)', ARTIST_COLUMNS)\n",
    "df = syncrhonize_data(df, 'album_name', ALBUM_COLUMNS)"
   ]
  },
  {
   "cell_type": "markdown",
   "metadata": {},
   "source": [
    "### Replace nans in string columns with 'unknown'"
   ]
  },
  {
   "cell_type": "code",
   "execution_count": 9,
   "metadata": {},
   "outputs": [],
   "source": [
    "df[df.select_dtypes(exclude=np.number).columns] = df.select_dtypes(exclude=np.number).fillna('unknown')"
   ]
  },
  {
   "cell_type": "markdown",
   "metadata": {},
   "source": [
    "### Give lattitude and longitude to locations without them"
   ]
  },
  {
   "cell_type": "code",
   "execution_count": 10,
   "metadata": {},
   "outputs": [
    {
     "data": {
      "text/html": [
       "<div>\n",
       "<style scoped>\n",
       "    .dataframe tbody tr th:only-of-type {\n",
       "        vertical-align: middle;\n",
       "    }\n",
       "\n",
       "    .dataframe tbody tr th {\n",
       "        vertical-align: top;\n",
       "    }\n",
       "\n",
       "    .dataframe thead th {\n",
       "        text-align: right;\n",
       "    }\n",
       "</style>\n",
       "<table border=\"1\" class=\"dataframe\">\n",
       "  <thead>\n",
       "    <tr style=\"text-align: right;\">\n",
       "      <th></th>\n",
       "      <th>artist_country</th>\n",
       "      <th>artist_home_city</th>\n",
       "      <th>artist_home_latitude</th>\n",
       "      <th>artist_home_longitude</th>\n",
       "      <th>visible_ethnic_minority</th>\n",
       "      <th>census_race_classification</th>\n",
       "      <th>artist_gender</th>\n",
       "      <th>m_music</th>\n",
       "      <th>a_artist</th>\n",
       "      <th>p_performance</th>\n",
       "      <th>l_lyrics</th>\n",
       "    </tr>\n",
       "  </thead>\n",
       "  <tbody>\n",
       "    <tr>\n",
       "      <th>7526</th>\n",
       "      <td>us</td>\n",
       "      <td>california</td>\n",
       "      <td>NaN</td>\n",
       "      <td>NaN</td>\n",
       "      <td>yes</td>\n",
       "      <td>black</td>\n",
       "      <td>male</td>\n",
       "      <td>no</td>\n",
       "      <td>no</td>\n",
       "      <td>no</td>\n",
       "      <td>no</td>\n",
       "    </tr>\n",
       "    <tr>\n",
       "      <th>8593</th>\n",
       "      <td>int</td>\n",
       "      <td>germany</td>\n",
       "      <td>NaN</td>\n",
       "      <td>NaN</td>\n",
       "      <td>no</td>\n",
       "      <td>white</td>\n",
       "      <td>male group</td>\n",
       "      <td>no</td>\n",
       "      <td>no</td>\n",
       "      <td>no</td>\n",
       "      <td>no</td>\n",
       "    </tr>\n",
       "    <tr>\n",
       "      <th>14606</th>\n",
       "      <td>int</td>\n",
       "      <td>spain</td>\n",
       "      <td>NaN</td>\n",
       "      <td>NaN</td>\n",
       "      <td>no</td>\n",
       "      <td>white</td>\n",
       "      <td>male</td>\n",
       "      <td>no</td>\n",
       "      <td>no</td>\n",
       "      <td>no</td>\n",
       "      <td>no</td>\n",
       "    </tr>\n",
       "    <tr>\n",
       "      <th>18732</th>\n",
       "      <td>int</td>\n",
       "      <td>jamaica</td>\n",
       "      <td>NaN</td>\n",
       "      <td>NaN</td>\n",
       "      <td>yes</td>\n",
       "      <td>black</td>\n",
       "      <td>mixed group</td>\n",
       "      <td>no</td>\n",
       "      <td>no</td>\n",
       "      <td>no</td>\n",
       "      <td>no</td>\n",
       "    </tr>\n",
       "    <tr>\n",
       "      <th>23036</th>\n",
       "      <td>int</td>\n",
       "      <td>france</td>\n",
       "      <td>NaN</td>\n",
       "      <td>NaN</td>\n",
       "      <td>no</td>\n",
       "      <td>white</td>\n",
       "      <td>male</td>\n",
       "      <td>no</td>\n",
       "      <td>no</td>\n",
       "      <td>no</td>\n",
       "      <td>no</td>\n",
       "    </tr>\n",
       "    <tr>\n",
       "      <th>28442</th>\n",
       "      <td>cdn</td>\n",
       "      <td>fort mcmurray, ab</td>\n",
       "      <td>NaN</td>\n",
       "      <td>NaN</td>\n",
       "      <td>no</td>\n",
       "      <td>white</td>\n",
       "      <td>male</td>\n",
       "      <td>yes</td>\n",
       "      <td>yes</td>\n",
       "      <td>yes</td>\n",
       "      <td>yes</td>\n",
       "    </tr>\n",
       "  </tbody>\n",
       "</table>\n",
       "</div>"
      ],
      "text/plain": [
       "      artist_country   artist_home_city  artist_home_latitude  \\\n",
       "7526              us         california                   NaN   \n",
       "8593             int            germany                   NaN   \n",
       "14606            int              spain                   NaN   \n",
       "18732            int            jamaica                   NaN   \n",
       "23036            int             france                   NaN   \n",
       "28442            cdn  fort mcmurray, ab                   NaN   \n",
       "\n",
       "       artist_home_longitude visible_ethnic_minority  \\\n",
       "7526                     NaN                     yes   \n",
       "8593                     NaN                      no   \n",
       "14606                    NaN                      no   \n",
       "18732                    NaN                     yes   \n",
       "23036                    NaN                      no   \n",
       "28442                    NaN                      no   \n",
       "\n",
       "      census_race_classification artist_gender m_music a_artist p_performance  \\\n",
       "7526                       black          male      no       no            no   \n",
       "8593                       white    male group      no       no            no   \n",
       "14606                      white          male      no       no            no   \n",
       "18732                      black   mixed group      no       no            no   \n",
       "23036                      white          male      no       no            no   \n",
       "28442                      white          male     yes      yes           yes   \n",
       "\n",
       "      l_lyrics  \n",
       "7526        no  \n",
       "8593        no  \n",
       "14606       no  \n",
       "18732       no  \n",
       "23036       no  \n",
       "28442      yes  "
      ]
     },
     "execution_count": 10,
     "metadata": {},
     "output_type": "execute_result"
    }
   ],
   "source": [
    "\n",
    "df[~(df['artist_home_city'] == 'unknown') & df['artist_home_latitude'].isna()][ARTIST_COLUMNS].drop_duplicates()"
   ]
  },
  {
   "cell_type": "code",
   "execution_count": 11,
   "metadata": {},
   "outputs": [],
   "source": [
    "df = assign_lat_long(df, 'fort mcmurray, ab', 56.72, -111.37)\n",
    "df = assign_lat_long(df, 'california', 36.77, -119.41) #Center of state\n",
    "df = assign_lat_long(df, 'germany', 52.52, 13.40) # Berlin\n",
    "df = assign_lat_long(df, 'spain', 40.41, -3.70) #Madrid\n",
    "df = assign_lat_long(df, 'jamaica', 18.01, -76.80) #Kingston\n",
    "df = assign_lat_long(df, 'france', 48.85, 2.35) #Paris"
   ]
  },
  {
   "cell_type": "markdown",
   "metadata": {},
   "source": [
    "### Gender values\n",
    "- remove group designation from gender and create new column to identify groups from solo artists\n",
    "- fit all values into 'male, 'mixed', 'female', 'unknown'"
   ]
  },
  {
   "cell_type": "code",
   "execution_count": 12,
   "metadata": {},
   "outputs": [
    {
     "data": {
      "text/plain": [
       "male            20180\n",
       "male group      11765\n",
       "mixed group      2214\n",
       "female           1316\n",
       "unknown           285\n",
       "female group       97\n",
       "no                  1\n",
       "Name: artist_gender, dtype: int64"
      ]
     },
     "execution_count": 12,
     "metadata": {},
     "output_type": "execute_result"
    }
   ],
   "source": [
    "df['artist_gender'].value_counts(dropna=False)"
   ]
  },
  {
   "cell_type": "code",
   "execution_count": 13,
   "metadata": {},
   "outputs": [
    {
     "data": {
      "text/plain": [
       "male       31945\n",
       "mixed       2214\n",
       "female      1413\n",
       "unknown      286\n",
       "Name: artist_gender, dtype: int64"
      ]
     },
     "execution_count": 13,
     "metadata": {},
     "output_type": "execute_result"
    }
   ],
   "source": [
    "df['artist_is_group'] = df['artist_gender'].str.contains('group')\n",
    "df['artist_gender'].replace('male group', 'male', inplace=True)\n",
    "df['artist_gender'].replace('mixed group', 'mixed', inplace=True)\n",
    "df['artist_gender'].replace('female group', 'female', inplace=True)\n",
    "df['artist_gender'].replace('no', 'unknown', inplace=True)\n",
    "df['artist_gender'].value_counts(dropna=False)"
   ]
  },
  {
   "cell_type": "markdown",
   "metadata": {},
   "source": [
    "### Visible ethnic minority values\n",
    "- one instance of \"black\" is changed to \"yes\""
   ]
  },
  {
   "cell_type": "code",
   "execution_count": 14,
   "metadata": {},
   "outputs": [
    {
     "data": {
      "text/plain": [
       "yes        23965\n",
       "no         11555\n",
       "unknown      337\n",
       "black          1\n",
       "Name: visible_ethnic_minority, dtype: int64"
      ]
     },
     "execution_count": 14,
     "metadata": {},
     "output_type": "execute_result"
    }
   ],
   "source": [
    "df['visible_ethnic_minority'].value_counts(dropna=False)"
   ]
  },
  {
   "cell_type": "code",
   "execution_count": 15,
   "metadata": {},
   "outputs": [
    {
     "data": {
      "text/plain": [
       "yes        23966\n",
       "no         11555\n",
       "unknown      337\n",
       "Name: visible_ethnic_minority, dtype: int64"
      ]
     },
     "execution_count": 15,
     "metadata": {},
     "output_type": "execute_result"
    }
   ],
   "source": [
    "df['visible_ethnic_minority'].replace('black','yes', inplace=True)\n",
    "df['visible_ethnic_minority'].value_counts(dropna=False)\n"
   ]
  },
  {
   "cell_type": "markdown",
   "metadata": {},
   "source": [
    "### Census race classification values\n",
    "- consolidate similar classifcations into more general categories"
   ]
  },
  {
   "cell_type": "code",
   "execution_count": 16,
   "metadata": {},
   "outputs": [
    {
     "data": {
      "text/plain": [
       "black              15445\n",
       "white              11546\n",
       "mixed group         6692\n",
       "hispanic             499\n",
       "asian                406\n",
       "middle eastern       342\n",
       "unknown              337\n",
       "native canadian      160\n",
       "asian indian         132\n",
       "unidentified          68\n",
       "other asian           66\n",
       "indian asian          48\n",
       "jewish                38\n",
       "asian other           24\n",
       "native american       21\n",
       "inuit                 19\n",
       "metis                  7\n",
       "romany                 3\n",
       "east asian             3\n",
       "indian                 1\n",
       "male                   1\n",
       "Name: census_race_classification, dtype: int64"
      ]
     },
     "execution_count": 16,
     "metadata": {},
     "output_type": "execute_result"
    }
   ],
   "source": [
    "df['census_race_classification'].value_counts(dropna=False)"
   ]
  },
  {
   "cell_type": "code",
   "execution_count": 17,
   "metadata": {},
   "outputs": [
    {
     "data": {
      "text/plain": [
       "black              15445\n",
       "white              11546\n",
       "mixed group         6692\n",
       "hispanic             499\n",
       "asian                499\n",
       "unknown              406\n",
       "middle eastern       342\n",
       "native american      207\n",
       "indian               181\n",
       "jewish                38\n",
       "romany                 3\n",
       "Name: census_race_classification, dtype: int64"
      ]
     },
     "execution_count": 17,
     "metadata": {},
     "output_type": "execute_result"
    }
   ],
   "source": [
    "df['census_race_classification'].replace(['male','unidentified'], 'unknown', inplace=True)\n",
    "df['census_race_classification'].replace(['asian other','other asian', 'east asian'],'asian', inplace=True)\n",
    "df['census_race_classification'].replace(['asian indian','indian asian'],'indian', inplace=True)\n",
    "df['census_race_classification'].replace(['native canadian','native american', 'inuit', 'metis'],'native american', inplace=True)\n",
    "df['census_race_classification'].value_counts(dropna=False)\n"
   ]
  },
  {
   "cell_type": "markdown",
   "metadata": {},
   "source": [
    "### Label type\n",
    "- replace one instance of 'english' to 'unknown'"
   ]
  },
  {
   "cell_type": "code",
   "execution_count": 18,
   "metadata": {},
   "outputs": [
    {
     "data": {
      "text/plain": [
       "indie      27413\n",
       "major       5027\n",
       "self        3388\n",
       "unknown       29\n",
       "english        1\n",
       "Name: label_type, dtype: int64"
      ]
     },
     "execution_count": 18,
     "metadata": {},
     "output_type": "execute_result"
    }
   ],
   "source": [
    "df['label_type'].value_counts(dropna=False)"
   ]
  },
  {
   "cell_type": "code",
   "execution_count": 19,
   "metadata": {},
   "outputs": [
    {
     "data": {
      "text/plain": [
       "indie      27413\n",
       "major       5027\n",
       "self        3388\n",
       "unknown       30\n",
       "Name: label_type, dtype: int64"
      ]
     },
     "execution_count": 19,
     "metadata": {},
     "output_type": "execute_result"
    }
   ],
   "source": [
    "df['label_type'].replace(['english',np.nan], 'unknown', inplace=True)\n",
    "df['label_type'].value_counts(dropna=False)"
   ]
  },
  {
   "cell_type": "markdown",
   "metadata": {},
   "source": [
    "### Language of music\n",
    "- consolidate classifications with multiple langues into 'multiple languages'\n",
    "- consolidate unknowns"
   ]
  },
  {
   "cell_type": "code",
   "execution_count": 20,
   "metadata": {},
   "outputs": [
    {
     "data": {
      "text/plain": [
       "english           34879\n",
       "french              610\n",
       "unknown             186\n",
       "multi                72\n",
       "english/arabic       38\n",
       "spanish              20\n",
       "english/french       13\n",
       "other                 9\n",
       "german                8\n",
       "creole                5\n",
       "english/patois        4\n",
       "english/zulu          4\n",
       "portuguese            4\n",
       "basque                3\n",
       "yes                   1\n",
       "various               1\n",
       "punjabi               1\n",
       "Name: language_of_music, dtype: int64"
      ]
     },
     "execution_count": 20,
     "metadata": {},
     "output_type": "execute_result"
    }
   ],
   "source": [
    "df['language_of_music'].value_counts(dropna=False)"
   ]
  },
  {
   "cell_type": "code",
   "execution_count": 21,
   "metadata": {},
   "outputs": [
    {
     "data": {
      "text/plain": [
       "english               34879\n",
       "french                  610\n",
       "unknown                 196\n",
       "multiple languages      132\n",
       "spanish                  20\n",
       "german                    8\n",
       "creole                    5\n",
       "portuguese                4\n",
       "basque                    3\n",
       "punjabi                   1\n",
       "Name: language_of_music, dtype: int64"
      ]
     },
     "execution_count": 21,
     "metadata": {},
     "output_type": "execute_result"
    }
   ],
   "source": [
    "multiple_languages = [  'english/arabic', \n",
    "                        'english/french', \n",
    "                        'english/patois',\n",
    "                        'english/zulu', \n",
    "                        'various',\n",
    "                        'multi']\n",
    "df['language_of_music'].replace(multiple_languages, 'multiple languages', inplace= True)\n",
    "df['language_of_music'].replace(['yes','other',np.nan], 'unknown', inplace= True)\n",
    "df['language_of_music'].value_counts(dropna=False)"
   ]
  },
  {
   "cell_type": "markdown",
   "metadata": {},
   "source": [
    "### Distance\n",
    "\n",
    "- calculate haversine distance where missing and it is possible to"
   ]
  },
  {
   "cell_type": "code",
   "execution_count": 26,
   "metadata": {},
   "outputs": [
    {
     "data": {
      "text/plain": [
       "False    34117\n",
       "True      1741\n",
       "Name: km_distance_(home_station), dtype: int64"
      ]
     },
     "execution_count": 26,
     "metadata": {},
     "output_type": "execute_result"
    }
   ],
   "source": [
    "df['km_distance_(home_station)'].isna().value_counts()"
   ]
  },
  {
   "cell_type": "code",
   "execution_count": 27,
   "metadata": {},
   "outputs": [],
   "source": [
    "row_filter = df['km_distance_(home_station)'].isna() & ~df['artist_home_latitude'].isna()\n",
    "df.loc[row_filter, 'km_distance_(home_station)'] = haversine(df[row_filter]['station_latitude'],\n",
    "                                                             df[row_filter]['station_longitude'], \n",
    "                                                             df[row_filter]['artist_home_latitude'],\n",
    "                                                             df[row_filter]['artist_home_longitude'])"
   ]
  },
  {
   "cell_type": "code",
   "execution_count": 28,
   "metadata": {},
   "outputs": [
    {
     "data": {
      "text/plain": [
       "False    34117\n",
       "True      1741\n",
       "Name: km_distance_(home_station), dtype: int64"
      ]
     },
     "execution_count": 28,
     "metadata": {},
     "output_type": "execute_result"
    }
   ],
   "source": [
    "df['km_distance_(home_station)'].isna().value_counts()"
   ]
  },
  {
   "cell_type": "markdown",
   "metadata": {},
   "source": [
    "## Add canadian-content status (met by having at least 2 MAPL ratings)"
   ]
  },
  {
   "cell_type": "code",
   "execution_count": 29,
   "metadata": {},
   "outputs": [],
   "source": [
    "df['canadian_content'] = (df[['m_music','a_artist','l_lyrics','p_performance']] == 'yes').sum(axis=1) >=2"
   ]
  },
  {
   "cell_type": "markdown",
   "metadata": {},
   "source": [
    "### Save data"
   ]
  },
  {
   "cell_type": "code",
   "execution_count": 30,
   "metadata": {},
   "outputs": [],
   "source": [
    "df.to_csv('data/clean_data.csv')"
   ]
  },
  {
   "cell_type": "code",
   "execution_count": null,
   "metadata": {},
   "outputs": [],
   "source": []
  }
 ],
 "metadata": {
  "interpreter": {
   "hash": "4fe28adbe6d40c82bdde6a2233f025e3b944121e67b5abb397657075ce1366ca"
  },
  "kernelspec": {
   "display_name": "Python 3.8.12 ('lighthouse')",
   "language": "python",
   "name": "python3"
  },
  "language_info": {
   "codemirror_mode": {
    "name": "ipython",
    "version": 3
   },
   "file_extension": ".py",
   "mimetype": "text/x-python",
   "name": "python",
   "nbconvert_exporter": "python",
   "pygments_lexer": "ipython3",
   "version": "3.8.12"
  },
  "orig_nbformat": 4
 },
 "nbformat": 4,
 "nbformat_minor": 2
}
