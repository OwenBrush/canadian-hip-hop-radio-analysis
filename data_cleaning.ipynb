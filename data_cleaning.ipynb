{
 "cells": [
  {
   "cell_type": "code",
   "execution_count": 1,
   "metadata": {},
   "outputs": [],
   "source": [
    "import pandas as pd\n",
    "import numpy as np\n",
    "import math\n",
    "from sklearn.metrics.pairwise import haversine_distances"
   ]
  },
  {
   "cell_type": "code",
   "execution_count": 2,
   "metadata": {},
   "outputs": [
    {
     "name": "stderr",
     "output_type": "stream",
     "text": [
      "/home/owen/Programs/anaconda3/envs/lighthouse/lib/python3.8/site-packages/openpyxl/worksheet/_reader.py:312: UserWarning: Unknown extension is not supported and will be removed\n",
      "  warn(msg)\n"
     ]
    },
    {
     "data": {
      "text/html": [
       "<div>\n",
       "<style scoped>\n",
       "    .dataframe tbody tr th:only-of-type {\n",
       "        vertical-align: middle;\n",
       "    }\n",
       "\n",
       "    .dataframe tbody tr th {\n",
       "        vertical-align: top;\n",
       "    }\n",
       "\n",
       "    .dataframe thead th {\n",
       "        text-align: right;\n",
       "    }\n",
       "</style>\n",
       "<table border=\"1\" class=\"dataframe\">\n",
       "  <thead>\n",
       "    <tr style=\"text-align: right;\">\n",
       "      <th></th>\n",
       "      <th>WEEK OF</th>\n",
       "      <th>STATION</th>\n",
       "      <th>STATION CITY</th>\n",
       "      <th>STATION PROVINCE</th>\n",
       "      <th>STATION LATITUDE</th>\n",
       "      <th>STATION LONGITUDE</th>\n",
       "      <th>CHART POSITION</th>\n",
       "      <th>ARTIST NAME(S)</th>\n",
       "      <th>ARTIST COUNTRY</th>\n",
       "      <th>ARTIST HOME CITY</th>\n",
       "      <th>...</th>\n",
       "      <th>LABEL TYPE</th>\n",
       "      <th>LANGUAGE OF MUSIC</th>\n",
       "      <th>VISIBLE ETHNIC MINORITY</th>\n",
       "      <th>CENSUS RACE CLASSIFICATION</th>\n",
       "      <th>ARTIST GENDER</th>\n",
       "      <th>M-MUSIC</th>\n",
       "      <th>A-ARTIST</th>\n",
       "      <th>P-PERFORMANCE</th>\n",
       "      <th>L-LYRICS</th>\n",
       "      <th>Unnamed: 24</th>\n",
       "    </tr>\n",
       "  </thead>\n",
       "  <tbody>\n",
       "    <tr>\n",
       "      <th>0</th>\n",
       "      <td>2006-01-10 00:00:00</td>\n",
       "      <td>CJSR</td>\n",
       "      <td>Edmonton</td>\n",
       "      <td>AB</td>\n",
       "      <td>53.55</td>\n",
       "      <td>-113.5</td>\n",
       "      <td>4</td>\n",
       "      <td>Breakestra</td>\n",
       "      <td>US</td>\n",
       "      <td>Los Angeles, CA</td>\n",
       "      <td>...</td>\n",
       "      <td>Indie</td>\n",
       "      <td>English</td>\n",
       "      <td>Yes</td>\n",
       "      <td>Mixed Group</td>\n",
       "      <td>Male Group</td>\n",
       "      <td>No</td>\n",
       "      <td>No</td>\n",
       "      <td>No</td>\n",
       "      <td>No</td>\n",
       "      <td>NaN</td>\n",
       "    </tr>\n",
       "  </tbody>\n",
       "</table>\n",
       "<p>1 rows × 25 columns</p>\n",
       "</div>"
      ],
      "text/plain": [
       "               WEEK OF STATION STATION CITY STATION PROVINCE  \\\n",
       "0  2006-01-10 00:00:00    CJSR     Edmonton               AB   \n",
       "\n",
       "   STATION LATITUDE  STATION LONGITUDE CHART POSITION ARTIST NAME(S)  \\\n",
       "0             53.55             -113.5              4    Breakestra    \n",
       "\n",
       "  ARTIST COUNTRY ARTIST HOME CITY  ... LABEL TYPE LANGUAGE OF MUSIC  \\\n",
       "0             US  Los Angeles, CA  ...      Indie           English   \n",
       "\n",
       "   VISIBLE ETHNIC MINORITY CENSUS RACE CLASSIFICATION ARTIST GENDER M-MUSIC  \\\n",
       "0                      Yes                Mixed Group    Male Group      No   \n",
       "\n",
       "  A-ARTIST  P-PERFORMANCE L-LYRICS Unnamed: 24  \n",
       "0        No            No       No         NaN  \n",
       "\n",
       "[1 rows x 25 columns]"
      ]
     },
     "execution_count": 2,
     "metadata": {},
     "output_type": "execute_result"
    }
   ],
   "source": [
    "df = pd.read_excel(\"Canadian Radio Playlist_V.21.xlsx\", \"Campus Radio Charts\")\n",
    "df.head(1)"
   ]
  },
  {
   "cell_type": "code",
   "execution_count": 3,
   "metadata": {},
   "outputs": [],
   "source": [
    "df.drop('Unnamed: 24', axis=1, inplace=True)"
   ]
  },
  {
   "cell_type": "markdown",
   "metadata": {},
   "source": [
    "# Helpers"
   ]
  },
  {
   "cell_type": "code",
   "execution_count": 29,
   "metadata": {},
   "outputs": [],
   "source": [
    "def replace_nans(key_column:str, columns:list):\n",
    "    \"\"\"Given a key column and a list of columns to fix,\n",
    "    this function will iterate through every value of the key column\n",
    "    and fill any nan values in the columns to fix with the most frequent\n",
    "    value in that column where the key value also occurs.\n",
    "    \"\"\"\n",
    "    \n",
    "    # Create list of all given key values that have any samples with nan values in given columns\n",
    "    for key_value in df[(df[columns].transpose().isna().any())][key_column].unique():\n",
    "        # unkown and various are fillers for unspecified artists\n",
    "        if not key_value in ['unknown','various']:\n",
    "            #Create empy list to fill with most common values per column\n",
    "            values = []\n",
    "            for column in columns:\n",
    "                mode = df[df[key_column] == key_value][column].mode()\n",
    "                # if mode is returned, add to list\n",
    "                if mode.shape[0] > 0:\n",
    "                    values.append(mode.iloc[0])\n",
    "                # else add nan\n",
    "                else:\n",
    "                    values.append(np.nan)\n",
    "        \n",
    "            df.loc[df[key_column] == key_value, columns] = values"
   ]
  },
  {
   "cell_type": "code",
   "execution_count": 5,
   "metadata": {},
   "outputs": [],
   "source": [
    "def display_unique_locations(artist:str) -> pd.DataFrame:\n",
    "    location_table = df[df['ARTIST NAME(S)'] == artist][['ARTIST NAME(S)','ARTIST HOME LATITUDE', 'ARTIST HOME LONGITUDE']]\n",
    "    location_table['COUNT'] = ''\n",
    "    grouped_locations = location_table.groupby(['ARTIST NAME(S)','ARTIST HOME LATITUDE','ARTIST HOME LONGITUDE']).count().reset_index()\n",
    "    return grouped_locations\n"
   ]
  },
  {
   "cell_type": "code",
   "execution_count": 6,
   "metadata": {},
   "outputs": [],
   "source": [
    "def replace_artist_location(artist:str, location:list) ->pd.DataFrame:\n",
    "    filter = df['ARTIST NAME(S)'] == artist\n",
    "    df.loc[filter, ['ARTIST HOME LATITUDE','ARTIST HOME LONGITUDE']] = location\n",
    "    return display_unique_locations(artist)"
   ]
  },
  {
   "cell_type": "code",
   "execution_count": 7,
   "metadata": {},
   "outputs": [],
   "source": [
    "def haversine(row:pd.Series) -> float:\n",
    "    X = [math.radians(float(row[0])), math.radians(float(row[1]))]\n",
    "    Y = [math.radians(float(row[2])), math.radians(float(row[3]))]\n",
    "    return (haversine_distances([X,Y]) * 6371)[0][1]\n"
   ]
  },
  {
   "cell_type": "code",
   "execution_count": 8,
   "metadata": {},
   "outputs": [],
   "source": [
    "def is_can_con(row:pd.Series) -> str:\n",
    "    \"\"\"Given row containing M A L P, determines\n",
    "    Canadian Content status\n",
    "    \"\"\"\n",
    "    if row.str.count(\"yes\").sum() >=2:\n",
    "        return 'yes'\n",
    "    else:\n",
    "        return 'no'"
   ]
  },
  {
   "cell_type": "code",
   "execution_count": 9,
   "metadata": {},
   "outputs": [],
   "source": [
    "def list_artists_by_city(cities:list)->pd.DataFrame:\n",
    "    artist_list = []\n",
    "    columns = ['ARTIST NAME(S)', \n",
    "               'ARTIST HOME LATITUDE',\n",
    "               'ARTIST HOME LONGITUDE', \n",
    "               'ARTIST HOME CITY',\n",
    "               'ARTIST COUNTRY']\n",
    "    for city in cities:\n",
    "        artist_list.append(df[df['ARTIST HOME CITY']== city])\n",
    "    return pd.concat(artist_list).groupby(columns, dropna=False).count().reset_index()[columns]"
   ]
  },
  {
   "cell_type": "markdown",
   "metadata": {},
   "source": [
    "# Strings\n",
    "- removed white spaces\n",
    "- lowercase"
   ]
  },
  {
   "cell_type": "code",
   "execution_count": 10,
   "metadata": {},
   "outputs": [],
   "source": [
    "# Column names\n",
    "df.columns = df.columns.str.strip()\n",
    "df.columns = df.columns.str.replace('\\s+', ' ', regex=True)"
   ]
  },
  {
   "cell_type": "code",
   "execution_count": 11,
   "metadata": {},
   "outputs": [],
   "source": [
    "# Data\n",
    "string_columns = df.select_dtypes(exclude=[np.number, np.datetime64]).columns\n",
    "\n",
    "for column in string_columns:\n",
    "    cleaned = df[column].astype(str)\n",
    "    cleaned = cleaned.str.strip()\n",
    "    cleaned = cleaned.str.replace('\\s+', ' ', regex=True)\n",
    "    cleaned = cleaned.str.lower()\n",
    "    \n",
    "    df[column] = cleaned\n",
    "    \n",
    "df.replace('nan',np.nan, inplace=True)"
   ]
  },
  {
   "cell_type": "markdown",
   "metadata": {},
   "source": [
    "- placeholders to nan"
   ]
  },
  {
   "cell_type": "code",
   "execution_count": 12,
   "metadata": {},
   "outputs": [],
   "source": [
    "df.replace(['', '-', '?'], np.nan, inplace=True)"
   ]
  },
  {
   "cell_type": "markdown",
   "metadata": {},
   "source": [
    "Date Times"
   ]
  },
  {
   "cell_type": "code",
   "execution_count": 13,
   "metadata": {},
   "outputs": [
    {
     "data": {
      "text/plain": [
       "0        2006-01-10 00:00:00\n",
       "1        2006-01-10 00:00:00\n",
       "2        2006-01-10 00:00:00\n",
       "3        2006-01-10 00:00:00\n",
       "4        2006-01-10 00:00:00\n",
       "                ...         \n",
       "35854               3/2/1010\n",
       "35855               3/2/1010\n",
       "35856               3/2/1010\n",
       "35857               3/2/1010\n",
       "35858               3/2/1010\n",
       "Name: WEEK OF, Length: 35859, dtype: object"
      ]
     },
     "execution_count": 13,
     "metadata": {},
     "output_type": "execute_result"
    }
   ],
   "source": [
    "df['WEEK OF']"
   ]
  },
  {
   "cell_type": "markdown",
   "metadata": {},
   "source": [
    "- Looking in the dataset it appears 2010-03-02 is a missing week, which resembles this typo"
   ]
  },
  {
   "cell_type": "code",
   "execution_count": 14,
   "metadata": {},
   "outputs": [],
   "source": [
    "dates = df['WEEK OF'].astype(str).str.split().str[0]\n",
    "dates = dates.replace('3/2/1010', '2010-03-02')\n",
    "df['WEEK OF'] = pd.to_datetime(dates)"
   ]
  },
  {
   "cell_type": "code",
   "execution_count": 15,
   "metadata": {},
   "outputs": [
    {
     "data": {
      "text/plain": [
       "STATION CITY                       1\n",
       "STATION PROVINCE                   1\n",
       "STATION LATITUDE                   1\n",
       "STATION LONGITUDE                 11\n",
       "CHART POSITION                    25\n",
       "ARTIST NAME(S)                     1\n",
       "ARTIST COUNTRY                   395\n",
       "ARTIST HOME CITY                1746\n",
       "ARTIST HOME LATITUDE            1872\n",
       "ARTIST HOME LONGITUDE           1905\n",
       "KM DISTANCE (HOME - STATION)    1872\n",
       "ALBUM NAME                         1\n",
       "LABEL NAME                         1\n",
       "LABEL TYPE                        33\n",
       "LANGUAGE OF MUSIC                190\n",
       "VISIBLE ETHNIC MINORITY          341\n",
       "CENSUS RACE CLASSIFICATION       340\n",
       "ARTIST GENDER                    288\n",
       "M-MUSIC                          188\n",
       "A-ARTIST                         188\n",
       "P-PERFORMANCE                    188\n",
       "L-LYRICS                         191\n",
       "dtype: int64"
      ]
     },
     "execution_count": 15,
     "metadata": {},
     "output_type": "execute_result"
    }
   ],
   "source": [
    "df.isna().sum()[df.isna().sum() > 0]"
   ]
  },
  {
   "cell_type": "markdown",
   "metadata": {},
   "source": [
    "# Station\n",
    "- match null values to existing data"
   ]
  },
  {
   "cell_type": "code",
   "execution_count": 16,
   "metadata": {},
   "outputs": [],
   "source": [
    "replace_nans('STATION', ['STATION CITY',\n",
    "                         'STATION PROVINCE',\n",
    "                         'STATION LATITUDE',\n",
    "                         'STATION LONGITUDE']  )"
   ]
  },
  {
   "cell_type": "code",
   "execution_count": 17,
   "metadata": {},
   "outputs": [
    {
     "data": {
      "text/plain": [
       "CHART POSITION                    25\n",
       "ARTIST NAME(S)                     1\n",
       "ARTIST COUNTRY                   395\n",
       "ARTIST HOME CITY                1746\n",
       "ARTIST HOME LATITUDE            1872\n",
       "ARTIST HOME LONGITUDE           1905\n",
       "KM DISTANCE (HOME - STATION)    1872\n",
       "ALBUM NAME                         1\n",
       "LABEL NAME                         1\n",
       "LABEL TYPE                        33\n",
       "LANGUAGE OF MUSIC                190\n",
       "VISIBLE ETHNIC MINORITY          341\n",
       "CENSUS RACE CLASSIFICATION       340\n",
       "ARTIST GENDER                    288\n",
       "M-MUSIC                          188\n",
       "A-ARTIST                         188\n",
       "P-PERFORMANCE                    188\n",
       "L-LYRICS                         191\n",
       "dtype: int64"
      ]
     },
     "execution_count": 17,
     "metadata": {},
     "output_type": "execute_result"
    }
   ],
   "source": [
    "df.isna().sum()[df.isna().sum() > 0]"
   ]
  },
  {
   "cell_type": "markdown",
   "metadata": {},
   "source": [
    "# Artist"
   ]
  },
  {
   "cell_type": "markdown",
   "metadata": {},
   "source": [
    "- remove record with no data"
   ]
  },
  {
   "cell_type": "code",
   "execution_count": 18,
   "metadata": {},
   "outputs": [
    {
     "data": {
      "text/plain": [
       "array([[Timestamp('2007-07-17 00:00:00'), 'cfuv', 'victoria', 'bc',\n",
       "        48.43, -123.35, '10', nan, nan, nan, nan, nan, nan, nan, nan,\n",
       "        nan, nan, nan, nan, nan, nan, nan, nan, nan]], dtype=object)"
      ]
     },
     "execution_count": 18,
     "metadata": {},
     "output_type": "execute_result"
    }
   ],
   "source": [
    "df[df['ARTIST NAME(S)'].isna()].values"
   ]
  },
  {
   "cell_type": "code",
   "execution_count": 19,
   "metadata": {},
   "outputs": [],
   "source": [
    "# Drop row with no artist data\n",
    "df = df[~df['ARTIST NAME(S)'].isna()]"
   ]
  },
  {
   "cell_type": "code",
   "execution_count": 20,
   "metadata": {},
   "outputs": [
    {
     "data": {
      "text/plain": [
       "various                        29\n",
       "birdman                         2\n",
       "rhymekeepers                    2\n",
       "john smith                      2\n",
       "m.i.a.                          2\n",
       "the dirty sample                2\n",
       "j57                             2\n",
       "justin bieber                   2\n",
       "roots manuva meets wrongtom     2\n",
       "alias and tarsier               2\n",
       "d-sisive                        2\n",
       "ghostface killah                2\n",
       "bobby digital (rza)             2\n",
       "rick ross                       2\n",
       "Name: ARTIST NAME(S), dtype: int64"
      ]
     },
     "execution_count": 20,
     "metadata": {},
     "output_type": "execute_result"
    }
   ],
   "source": [
    "duplicate_location_set = df.groupby(['ARTIST NAME(S)','ARTIST HOME LATITUDE','ARTIST HOME LONGITUDE'])['ARTIST NAME(S)'].count().reset_index(name='count')\n",
    "duplicates = duplicate_location_set['ARTIST NAME(S)'].value_counts()[ duplicate_location_set['ARTIST NAME(S)'].value_counts() >1]\n",
    "duplicates"
   ]
  },
  {
   "cell_type": "markdown",
   "metadata": {},
   "source": [
    "- give distinct names to 'various' artists grouped by shared lattitude/longitude"
   ]
  },
  {
   "cell_type": "code",
   "execution_count": 21,
   "metadata": {},
   "outputs": [],
   "source": [
    "\n",
    "various_locations = df[df['ARTIST NAME(S)'] == 'various'].groupby(['ARTIST HOME LATITUDE', 'ARTIST HOME LONGITUDE']).count().reset_index()\n",
    "for i, location in enumerate(various_locations[['ARTIST HOME LATITUDE', 'ARTIST HOME LONGITUDE']].values):\n",
    "    filter = (df['ARTIST NAME(S)'] == 'various') & (df['ARTIST HOME LATITUDE'] == location[0]) & (df['ARTIST HOME LONGITUDE'] == location[1])\n",
    "    df.loc[filter,['ARTIST NAME(S)']] = f'various_{i}'"
   ]
  },
  {
   "cell_type": "code",
   "execution_count": 22,
   "metadata": {},
   "outputs": [
    {
     "data": {
      "text/plain": [
       "(1478, 24)"
      ]
     },
     "execution_count": 22,
     "metadata": {},
     "output_type": "execute_result"
    }
   ],
   "source": [
    "df[df['ARTIST NAME(S)'] == 'various'].shape"
   ]
  },
  {
   "cell_type": "markdown",
   "metadata": {},
   "source": [
    "- remaining 'various' names are switch to unknown"
   ]
  },
  {
   "cell_type": "code",
   "execution_count": 23,
   "metadata": {},
   "outputs": [],
   "source": [
    "df['ARTIST NAME(S)'].replace('various','unknown', inplace=True)"
   ]
  },
  {
   "cell_type": "markdown",
   "metadata": {},
   "source": [
    "- artists with more than 1 lattitude/longitude fixed to only have 1"
   ]
  },
  {
   "cell_type": "code",
   "execution_count": 24,
   "metadata": {},
   "outputs": [
    {
     "data": {
      "text/html": [
       "<div>\n",
       "<style scoped>\n",
       "    .dataframe tbody tr th:only-of-type {\n",
       "        vertical-align: middle;\n",
       "    }\n",
       "\n",
       "    .dataframe tbody tr th {\n",
       "        vertical-align: top;\n",
       "    }\n",
       "\n",
       "    .dataframe thead th {\n",
       "        text-align: right;\n",
       "    }\n",
       "</style>\n",
       "<table border=\"1\" class=\"dataframe\">\n",
       "  <thead>\n",
       "    <tr style=\"text-align: right;\">\n",
       "      <th></th>\n",
       "      <th>ARTIST NAME(S)</th>\n",
       "      <th>ARTIST HOME LATITUDE</th>\n",
       "      <th>ARTIST HOME LONGITUDE</th>\n",
       "      <th>COUNT</th>\n",
       "    </tr>\n",
       "  </thead>\n",
       "  <tbody>\n",
       "    <tr>\n",
       "      <th>0</th>\n",
       "      <td>birdman</td>\n",
       "      <td>29.95</td>\n",
       "      <td>-90.07</td>\n",
       "      <td>4</td>\n",
       "    </tr>\n",
       "    <tr>\n",
       "      <th>1</th>\n",
       "      <td>birdman</td>\n",
       "      <td>29.95</td>\n",
       "      <td>90.07</td>\n",
       "      <td>1</td>\n",
       "    </tr>\n",
       "    <tr>\n",
       "      <th>0</th>\n",
       "      <td>rhymekeepers</td>\n",
       "      <td>39.76</td>\n",
       "      <td>-84.19</td>\n",
       "      <td>1</td>\n",
       "    </tr>\n",
       "    <tr>\n",
       "      <th>1</th>\n",
       "      <td>rhymekeepers</td>\n",
       "      <td>43.66</td>\n",
       "      <td>-79.42</td>\n",
       "      <td>12</td>\n",
       "    </tr>\n",
       "    <tr>\n",
       "      <th>0</th>\n",
       "      <td>john smith</td>\n",
       "      <td>49.88</td>\n",
       "      <td>-97.16</td>\n",
       "      <td>52</td>\n",
       "    </tr>\n",
       "    <tr>\n",
       "      <th>1</th>\n",
       "      <td>john smith</td>\n",
       "      <td>49.88</td>\n",
       "      <td>-97.17</td>\n",
       "      <td>2</td>\n",
       "    </tr>\n",
       "    <tr>\n",
       "      <th>0</th>\n",
       "      <td>m.i.a.</td>\n",
       "      <td>42.33</td>\n",
       "      <td>-83.04</td>\n",
       "      <td>1</td>\n",
       "    </tr>\n",
       "    <tr>\n",
       "      <th>1</th>\n",
       "      <td>m.i.a.</td>\n",
       "      <td>51.5</td>\n",
       "      <td>-0.117</td>\n",
       "      <td>65</td>\n",
       "    </tr>\n",
       "    <tr>\n",
       "      <th>0</th>\n",
       "      <td>the dirty sample</td>\n",
       "      <td>49.25</td>\n",
       "      <td>-123.13</td>\n",
       "      <td>56</td>\n",
       "    </tr>\n",
       "    <tr>\n",
       "      <th>1</th>\n",
       "      <td>the dirty sample</td>\n",
       "      <td>51.08</td>\n",
       "      <td>-114.08</td>\n",
       "      <td>1</td>\n",
       "    </tr>\n",
       "    <tr>\n",
       "      <th>0</th>\n",
       "      <td>j57</td>\n",
       "      <td>40.65</td>\n",
       "      <td>-73.95</td>\n",
       "      <td>1</td>\n",
       "    </tr>\n",
       "    <tr>\n",
       "      <th>1</th>\n",
       "      <td>j57</td>\n",
       "      <td>40.71</td>\n",
       "      <td>-74</td>\n",
       "      <td>11</td>\n",
       "    </tr>\n",
       "    <tr>\n",
       "      <th>0</th>\n",
       "      <td>justin bieber</td>\n",
       "      <td>43.03</td>\n",
       "      <td>-80.98</td>\n",
       "      <td>1</td>\n",
       "    </tr>\n",
       "    <tr>\n",
       "      <th>1</th>\n",
       "      <td>justin bieber</td>\n",
       "      <td>43037</td>\n",
       "      <td>-80.98</td>\n",
       "      <td>2</td>\n",
       "    </tr>\n",
       "    <tr>\n",
       "      <th>0</th>\n",
       "      <td>roots manuva meets wrongtom</td>\n",
       "      <td>42.33</td>\n",
       "      <td>-83.04</td>\n",
       "      <td>5</td>\n",
       "    </tr>\n",
       "    <tr>\n",
       "      <th>1</th>\n",
       "      <td>roots manuva meets wrongtom</td>\n",
       "      <td>51.5</td>\n",
       "      <td>-0.117</td>\n",
       "      <td>51</td>\n",
       "    </tr>\n",
       "    <tr>\n",
       "      <th>0</th>\n",
       "      <td>alias and tarsier</td>\n",
       "      <td>37.8</td>\n",
       "      <td>-122.27</td>\n",
       "      <td>1</td>\n",
       "    </tr>\n",
       "    <tr>\n",
       "      <th>1</th>\n",
       "      <td>alias and tarsier</td>\n",
       "      <td>43.66</td>\n",
       "      <td>-70.25</td>\n",
       "      <td>1</td>\n",
       "    </tr>\n",
       "    <tr>\n",
       "      <th>0</th>\n",
       "      <td>d-sisive</td>\n",
       "      <td>41.08</td>\n",
       "      <td>-81.52</td>\n",
       "      <td>1</td>\n",
       "    </tr>\n",
       "    <tr>\n",
       "      <th>1</th>\n",
       "      <td>d-sisive</td>\n",
       "      <td>43.66</td>\n",
       "      <td>-79.42</td>\n",
       "      <td>426</td>\n",
       "    </tr>\n",
       "    <tr>\n",
       "      <th>0</th>\n",
       "      <td>ghostface killah</td>\n",
       "      <td>40.58</td>\n",
       "      <td>-74.15</td>\n",
       "      <td>17</td>\n",
       "    </tr>\n",
       "    <tr>\n",
       "      <th>1</th>\n",
       "      <td>ghostface killah</td>\n",
       "      <td>40.71</td>\n",
       "      <td>-74</td>\n",
       "      <td>168</td>\n",
       "    </tr>\n",
       "    <tr>\n",
       "      <th>0</th>\n",
       "      <td>bobby digital (rza)</td>\n",
       "      <td>40.65</td>\n",
       "      <td>-73.95</td>\n",
       "      <td>31</td>\n",
       "    </tr>\n",
       "    <tr>\n",
       "      <th>1</th>\n",
       "      <td>bobby digital (rza)</td>\n",
       "      <td>40.71</td>\n",
       "      <td>-74</td>\n",
       "      <td>1</td>\n",
       "    </tr>\n",
       "    <tr>\n",
       "      <th>0</th>\n",
       "      <td>rick ross</td>\n",
       "      <td>25.94</td>\n",
       "      <td>-80.24</td>\n",
       "      <td>59</td>\n",
       "    </tr>\n",
       "    <tr>\n",
       "      <th>1</th>\n",
       "      <td>rick ross</td>\n",
       "      <td>40.71</td>\n",
       "      <td>-74</td>\n",
       "      <td>4</td>\n",
       "    </tr>\n",
       "  </tbody>\n",
       "</table>\n",
       "</div>"
      ],
      "text/plain": [
       "                ARTIST NAME(S) ARTIST HOME LATITUDE ARTIST HOME LONGITUDE  \\\n",
       "0                      birdman                29.95                -90.07   \n",
       "1                      birdman                29.95                 90.07   \n",
       "0                 rhymekeepers                39.76                -84.19   \n",
       "1                 rhymekeepers                43.66                -79.42   \n",
       "0                   john smith                49.88                -97.16   \n",
       "1                   john smith                49.88                -97.17   \n",
       "0                       m.i.a.                42.33                -83.04   \n",
       "1                       m.i.a.                 51.5                -0.117   \n",
       "0             the dirty sample                49.25               -123.13   \n",
       "1             the dirty sample                51.08               -114.08   \n",
       "0                          j57                40.65                -73.95   \n",
       "1                          j57                40.71                   -74   \n",
       "0                justin bieber                43.03                -80.98   \n",
       "1                justin bieber                43037                -80.98   \n",
       "0  roots manuva meets wrongtom                42.33                -83.04   \n",
       "1  roots manuva meets wrongtom                 51.5                -0.117   \n",
       "0            alias and tarsier                 37.8               -122.27   \n",
       "1            alias and tarsier                43.66                -70.25   \n",
       "0                     d-sisive                41.08                -81.52   \n",
       "1                     d-sisive                43.66                -79.42   \n",
       "0             ghostface killah                40.58                -74.15   \n",
       "1             ghostface killah                40.71                   -74   \n",
       "0          bobby digital (rza)                40.65                -73.95   \n",
       "1          bobby digital (rza)                40.71                   -74   \n",
       "0                    rick ross                25.94                -80.24   \n",
       "1                    rick ross                40.71                   -74   \n",
       "\n",
       "   COUNT  \n",
       "0      4  \n",
       "1      1  \n",
       "0      1  \n",
       "1     12  \n",
       "0     52  \n",
       "1      2  \n",
       "0      1  \n",
       "1     65  \n",
       "0     56  \n",
       "1      1  \n",
       "0      1  \n",
       "1     11  \n",
       "0      1  \n",
       "1      2  \n",
       "0      5  \n",
       "1     51  \n",
       "0      1  \n",
       "1      1  \n",
       "0      1  \n",
       "1    426  \n",
       "0     17  \n",
       "1    168  \n",
       "0     31  \n",
       "1      1  \n",
       "0     59  \n",
       "1      4  "
      ]
     },
     "execution_count": 24,
     "metadata": {},
     "output_type": "execute_result"
    }
   ],
   "source": [
    "duplicate_table = pd.DataFrame()\n",
    "for artist in duplicates.index:\n",
    "    duplicate_table = pd.concat([duplicate_table, display_unique_locations(artist)])\n",
    "duplicate_table"
   ]
  },
  {
   "cell_type": "markdown",
   "metadata": {},
   "source": [
    "- match null values to existing information"
   ]
  },
  {
   "cell_type": "code",
   "execution_count": 25,
   "metadata": {},
   "outputs": [
    {
     "data": {
      "text/html": [
       "<div>\n",
       "<style scoped>\n",
       "    .dataframe tbody tr th:only-of-type {\n",
       "        vertical-align: middle;\n",
       "    }\n",
       "\n",
       "    .dataframe tbody tr th {\n",
       "        vertical-align: top;\n",
       "    }\n",
       "\n",
       "    .dataframe thead th {\n",
       "        text-align: right;\n",
       "    }\n",
       "</style>\n",
       "<table border=\"1\" class=\"dataframe\">\n",
       "  <thead>\n",
       "    <tr style=\"text-align: right;\">\n",
       "      <th></th>\n",
       "      <th>ARTIST NAME(S)</th>\n",
       "      <th>ARTIST HOME LATITUDE</th>\n",
       "      <th>ARTIST HOME LONGITUDE</th>\n",
       "      <th>COUNT</th>\n",
       "    </tr>\n",
       "  </thead>\n",
       "  <tbody>\n",
       "    <tr>\n",
       "      <th>0</th>\n",
       "      <td>rick ross</td>\n",
       "      <td>25.94</td>\n",
       "      <td>-80.24</td>\n",
       "      <td>63</td>\n",
       "    </tr>\n",
       "  </tbody>\n",
       "</table>\n",
       "</div>"
      ],
      "text/plain": [
       "  ARTIST NAME(S)  ARTIST HOME LATITUDE  ARTIST HOME LONGITUDE  COUNT\n",
       "0      rick ross                 25.94                 -80.24     63"
      ]
     },
     "execution_count": 25,
     "metadata": {},
     "output_type": "execute_result"
    }
   ],
   "source": [
    "replace_artist_location('birdman',                      [29.95, -90.07])\n",
    "replace_artist_location('rhymekeepers',                 [43.66, -79.42])\n",
    "replace_artist_location('john smith',                   [49.88, -97.16])\n",
    "replace_artist_location('m.i.a.',                       [51.50, -0.117])\n",
    "replace_artist_location('the dirty sample',             [49.25, -123.13])\n",
    "replace_artist_location('j57',                          [40.71, -74])\n",
    "replace_artist_location('justin bieber',                [43.03, -80.98])\n",
    "replace_artist_location('roots manuva meets wrongtom',  [51.50, -0.117])\n",
    "replace_artist_location('alias and tarsier',            [43.66, -70.25])\n",
    "replace_artist_location('d-sisive',                     [43.66, -79.42])\n",
    "replace_artist_location('ghostface killah',             [40.71, -74])\n",
    "replace_artist_location('bobby digital (rza)',          [40.65, -73.95])\n",
    "replace_artist_location('rick ross',                    [25.94, -80.24])"
   ]
  },
  {
   "cell_type": "markdown",
   "metadata": {},
   "source": [
    "- match null values to existing information"
   ]
  },
  {
   "cell_type": "code",
   "execution_count": 26,
   "metadata": {},
   "outputs": [],
   "source": [
    "replace_nans('ARTIST NAME(S)', ['ARTIST HOME CITY',\n",
    "                                'ARTIST HOME LATITUDE',\n",
    "                                'ARTIST HOME LONGITUDE',\n",
    "                                'VISIBLE ETHNIC MINORITY', \n",
    "                                'CENSUS RACE CLASSIFICATION', \n",
    "                                'ARTIST GENDER',\n",
    "                                'M-MUSIC',\n",
    "                                'A-ARTIST',\n",
    "                                'P-PERFORMANCE',\n",
    "                                'L-LYRICS'\n",
    "                                ]  )"
   ]
  },
  {
   "cell_type": "code",
   "execution_count": 27,
   "metadata": {},
   "outputs": [
    {
     "data": {
      "text/plain": [
       "CHART POSITION                    25\n",
       "ARTIST COUNTRY                   394\n",
       "ARTIST HOME CITY                1744\n",
       "ARTIST HOME LATITUDE            1869\n",
       "ARTIST HOME LONGITUDE           1902\n",
       "KM DISTANCE (HOME - STATION)    1871\n",
       "LABEL TYPE                        32\n",
       "LANGUAGE OF MUSIC                189\n",
       "VISIBLE ETHNIC MINORITY          313\n",
       "CENSUS RACE CLASSIFICATION       313\n",
       "ARTIST GENDER                    261\n",
       "M-MUSIC                          161\n",
       "A-ARTIST                         161\n",
       "P-PERFORMANCE                    161\n",
       "L-LYRICS                         162\n",
       "dtype: int64"
      ]
     },
     "execution_count": 27,
     "metadata": {},
     "output_type": "execute_result"
    }
   ],
   "source": [
    "df.isna().sum()[df.isna().sum() > 0]"
   ]
  },
  {
   "cell_type": "markdown",
   "metadata": {},
   "source": [
    "- replace MAPL nans with 'no'\n",
    "- rplace remaining nans with 'unknown' "
   ]
  },
  {
   "cell_type": "code",
   "execution_count": 28,
   "metadata": {},
   "outputs": [
    {
     "data": {
      "text/plain": [
       "us        18848\n",
       "cdn       14186\n",
       "int        1295\n",
       "uk         1134\n",
       "NaN         394\n",
       "us/cdn        1\n",
       "Name: ARTIST COUNTRY, dtype: int64"
      ]
     },
     "execution_count": 28,
     "metadata": {},
     "output_type": "execute_result"
    }
   ],
   "source": [
    "df['ARTIST COUNTRY'].value_counts(dropna=False)"
   ]
  },
  {
   "cell_type": "code",
   "execution_count": 29,
   "metadata": {},
   "outputs": [
    {
     "data": {
      "text/plain": [
       "us         18848\n",
       "cdn        14186\n",
       "int         1296\n",
       "uk          1134\n",
       "unknown      394\n",
       "Name: ARTIST COUNTRY, dtype: int64"
      ]
     },
     "execution_count": 29,
     "metadata": {},
     "output_type": "execute_result"
    }
   ],
   "source": [
    "df['ARTIST COUNTRY'].fillna('unknown', inplace=True)\n",
    "df['ARTIST COUNTRY'].replace('us/cdn', 'int', inplace=True)\n",
    "df['ARTIST COUNTRY'].value_counts(dropna=False)"
   ]
  },
  {
   "cell_type": "code",
   "execution_count": 30,
   "metadata": {},
   "outputs": [
    {
     "data": {
      "text/plain": [
       "male            20176\n",
       "male group      11756\n",
       "mixed group      2246\n",
       "female           1321\n",
       "NaN               261\n",
       "female group       97\n",
       "no                  1\n",
       "Name: ARTIST GENDER, dtype: int64"
      ]
     },
     "execution_count": 30,
     "metadata": {},
     "output_type": "execute_result"
    }
   ],
   "source": [
    "df['ARTIST GENDER'].value_counts(dropna=False)"
   ]
  },
  {
   "cell_type": "code",
   "execution_count": 31,
   "metadata": {},
   "outputs": [
    {
     "data": {
      "text/plain": [
       "male           31932\n",
       "mixed group     2246\n",
       "female          1418\n",
       "unknown          262\n",
       "Name: ARTIST GENDER, dtype: int64"
      ]
     },
     "execution_count": 31,
     "metadata": {},
     "output_type": "execute_result"
    }
   ],
   "source": [
    "df['ARTIST GENDER'].replace([np.nan,'no'], 'unknown', inplace=True)\n",
    "df['ARTIST GENDER'].replace('male group', 'male',inplace=True)\n",
    "df['ARTIST GENDER'].replace('female group', 'female',inplace=True)\n",
    "df['ARTIST GENDER'].value_counts(dropna=False)"
   ]
  },
  {
   "cell_type": "code",
   "execution_count": 32,
   "metadata": {},
   "outputs": [
    {
     "data": {
      "text/plain": [
       "yes      23972\n",
       "no       11572\n",
       "NaN        313\n",
       "black        1\n",
       "Name: VISIBLE ETHNIC MINORITY, dtype: int64"
      ]
     },
     "execution_count": 32,
     "metadata": {},
     "output_type": "execute_result"
    }
   ],
   "source": [
    "df['VISIBLE ETHNIC MINORITY'].value_counts(dropna=False)"
   ]
  },
  {
   "cell_type": "code",
   "execution_count": 33,
   "metadata": {},
   "outputs": [
    {
     "data": {
      "text/plain": [
       "yes        23973\n",
       "no         11572\n",
       "unknown      313\n",
       "Name: VISIBLE ETHNIC MINORITY, dtype: int64"
      ]
     },
     "execution_count": 33,
     "metadata": {},
     "output_type": "execute_result"
    }
   ],
   "source": [
    "df['VISIBLE ETHNIC MINORITY'].fillna('unknown', inplace=True)\n",
    "df['VISIBLE ETHNIC MINORITY'].replace('black','yes', inplace=True)\n",
    "df['VISIBLE ETHNIC MINORITY'].value_counts(dropna=False)"
   ]
  },
  {
   "cell_type": "code",
   "execution_count": 34,
   "metadata": {},
   "outputs": [
    {
     "data": {
      "text/plain": [
       "black              15438\n",
       "white              11565\n",
       "mixed group         6714\n",
       "hispanic             499\n",
       "asian                406\n",
       "middle eastern       342\n",
       "NaN                  313\n",
       "native canadian      159\n",
       "asian indian         125\n",
       "other asian           66\n",
       "unidentified          66\n",
       "indian asian          48\n",
       "jewish                38\n",
       "asian other           24\n",
       "native american       21\n",
       "inuit                 19\n",
       "metis                  7\n",
       "romany                 3\n",
       "east asian             3\n",
       "indian                 1\n",
       "male                   1\n",
       "Name: CENSUS RACE CLASSIFICATION, dtype: int64"
      ]
     },
     "execution_count": 34,
     "metadata": {},
     "output_type": "execute_result"
    }
   ],
   "source": [
    "df['CENSUS RACE CLASSIFICATION'].value_counts(dropna=False)"
   ]
  },
  {
   "cell_type": "code",
   "execution_count": 35,
   "metadata": {},
   "outputs": [
    {
     "data": {
      "text/plain": [
       "21296    athavale\n",
       "Name: ARTIST NAME(S), dtype: object"
      ]
     },
     "execution_count": 35,
     "metadata": {},
     "output_type": "execute_result"
    }
   ],
   "source": [
    "df[df['CENSUS RACE CLASSIFICATION']=='indian']['ARTIST NAME(S)']"
   ]
  },
  {
   "cell_type": "code",
   "execution_count": 36,
   "metadata": {},
   "outputs": [
    {
     "data": {
      "text/plain": [
       "black              15438\n",
       "white              11565\n",
       "mixed group         6714\n",
       "hispanic             499\n",
       "asian                499\n",
       "unknown              380\n",
       "middle eastern       342\n",
       "native american      206\n",
       "indian               174\n",
       "jewish                38\n",
       "romany                 3\n",
       "Name: CENSUS RACE CLASSIFICATION, dtype: int64"
      ]
     },
     "execution_count": 36,
     "metadata": {},
     "output_type": "execute_result"
    }
   ],
   "source": [
    "df['CENSUS RACE CLASSIFICATION'].replace([np.nan,'male','unidentified'], 'unknown', inplace=True)\n",
    "df['CENSUS RACE CLASSIFICATION'].replace(['asian other','other asian', 'east asian'],'asian', inplace=True)\n",
    "df['CENSUS RACE CLASSIFICATION'].replace(['asian indian','indian asian'],'indian', inplace=True)\n",
    "df['CENSUS RACE CLASSIFICATION'].replace(['native canadian','native american', 'inuit', 'metis'],'native american', inplace=True)\n",
    "df['CENSUS RACE CLASSIFICATION'].value_counts(dropna=False)"
   ]
  },
  {
   "cell_type": "code",
   "execution_count": 39,
   "metadata": {},
   "outputs": [],
   "source": [
    "for key in ['M-MUSIC', 'A-ARTIST', 'P-PERFORMANCE', 'L-LYRICS']:\n",
    "    df[key].fillna('no', inplace=True)\n",
    "\n",
    "\n",
    "\n"
   ]
  },
  {
   "cell_type": "code",
   "execution_count": 49,
   "metadata": {},
   "outputs": [],
   "source": [
    "df['ARTIST HOME CITY'].fillna('unknown',inplace=True)"
   ]
  },
  {
   "cell_type": "code",
   "execution_count": 52,
   "metadata": {},
   "outputs": [
    {
     "data": {
      "text/plain": [
       "CHART POSITION                    25\n",
       "ARTIST HOME LATITUDE            1853\n",
       "ARTIST HOME LONGITUDE           1853\n",
       "KM DISTANCE (HOME - STATION)    1871\n",
       "LABEL TYPE                        32\n",
       "LANGUAGE OF MUSIC                189\n",
       "dtype: int64"
      ]
     },
     "execution_count": 52,
     "metadata": {},
     "output_type": "execute_result"
    }
   ],
   "source": [
    "df.isna().sum()[df.isna().sum() > 0]"
   ]
  },
  {
   "cell_type": "markdown",
   "metadata": {},
   "source": [
    "- give lattitude and longittude to records without, and give each home city a single lat long"
   ]
  },
  {
   "cell_type": "code",
   "execution_count": 41,
   "metadata": {},
   "outputs": [],
   "source": [
    "columns = ['ARTIST HOME LATITUDE', 'ARTIST HOME LONGITUDE']"
   ]
  },
  {
   "cell_type": "code",
   "execution_count": 42,
   "metadata": {},
   "outputs": [
    {
     "data": {
      "text/plain": [
       "new york, ny/kingston, jamaica       45\n",
       "saskatoon, sask/brussels, belgium    42\n",
       "san francisco, ca                    30\n",
       "detroit, mi/los angeles, ca           7\n",
       "california                            7\n",
       "los angeles, ca/belgium               6\n",
       "winnipeg, mb                          5\n",
       "germany                               4\n",
       "kelowna, bc                           4\n",
       "new york, ny                          3\n",
       "fort mcmurray, ab                     3\n",
       "spain                                 2\n",
       "france                                2\n",
       "jamaica                               1\n",
       "Name: ARTIST HOME CITY, dtype: int64"
      ]
     },
     "execution_count": 42,
     "metadata": {},
     "output_type": "execute_result"
    }
   ],
   "source": [
    "artist_without_cities = df[(df[columns].transpose().isna().any())]['ARTIST HOME CITY'].value_counts()\n",
    "artist_without_cities"
   ]
  },
  {
   "cell_type": "code",
   "execution_count": 51,
   "metadata": {},
   "outputs": [],
   "source": [
    "\n",
    "columns = ['ARTIST HOME LATITUDE', 'ARTIST HOME LONGITUDE']\n",
    "for city in df['ARTIST HOME CITY'].unique():\n",
    "    if not city == 'unknown':\n",
    "        location = df[df['ARTIST HOME CITY'] == city][columns].mode(dropna=False).iloc[0].to_list()\n",
    "        df.loc[df['ARTIST HOME CITY'] == city, columns] = location\n",
    "        \n"
   ]
  },
  {
   "cell_type": "code",
   "execution_count": 53,
   "metadata": {},
   "outputs": [
    {
     "data": {
      "text/plain": [
       "unknown                              1741\n",
       "new york, ny/kingston, jamaica         45\n",
       "saskatoon, sask/brussels, belgium      42\n",
       "california                              7\n",
       "los angeles, ca/belgium                 6\n",
       "germany                                 4\n",
       "fort mcmurray, ab                       3\n",
       "spain                                   2\n",
       "france                                  2\n",
       "jamaica                                 1\n",
       "Name: ARTIST HOME CITY, dtype: int64"
      ]
     },
     "execution_count": 53,
     "metadata": {},
     "output_type": "execute_result"
    }
   ],
   "source": [
    "artist_without_cities = df[(df[columns].transpose().isna().any())]['ARTIST HOME CITY'].value_counts()\n",
    "artist_without_cities"
   ]
  },
  {
   "cell_type": "code",
   "execution_count": 54,
   "metadata": {},
   "outputs": [
    {
     "data": {
      "text/html": [
       "<div>\n",
       "<style scoped>\n",
       "    .dataframe tbody tr th:only-of-type {\n",
       "        vertical-align: middle;\n",
       "    }\n",
       "\n",
       "    .dataframe tbody tr th {\n",
       "        vertical-align: top;\n",
       "    }\n",
       "\n",
       "    .dataframe thead th {\n",
       "        text-align: right;\n",
       "    }\n",
       "</style>\n",
       "<table border=\"1\" class=\"dataframe\">\n",
       "  <thead>\n",
       "    <tr style=\"text-align: right;\">\n",
       "      <th></th>\n",
       "      <th>ARTIST NAME(S)</th>\n",
       "      <th>ARTIST HOME LATITUDE</th>\n",
       "      <th>ARTIST HOME LONGITUDE</th>\n",
       "      <th>ARTIST HOME CITY</th>\n",
       "      <th>ARTIST COUNTRY</th>\n",
       "    </tr>\n",
       "  </thead>\n",
       "  <tbody>\n",
       "    <tr>\n",
       "      <th>0</th>\n",
       "      <td>brawler</td>\n",
       "      <td>NaN</td>\n",
       "      <td>NaN</td>\n",
       "      <td>fort mcmurray, ab</td>\n",
       "      <td>cdn</td>\n",
       "    </tr>\n",
       "    <tr>\n",
       "      <th>1</th>\n",
       "      <td>doctor flake</td>\n",
       "      <td>NaN</td>\n",
       "      <td>NaN</td>\n",
       "      <td>france</td>\n",
       "      <td>int</td>\n",
       "    </tr>\n",
       "    <tr>\n",
       "      <th>2</th>\n",
       "      <td>epic/nomad</td>\n",
       "      <td>NaN</td>\n",
       "      <td>NaN</td>\n",
       "      <td>saskatoon, sask/brussels, belgium</td>\n",
       "      <td>int</td>\n",
       "    </tr>\n",
       "    <tr>\n",
       "      <th>3</th>\n",
       "      <td>geckoturner</td>\n",
       "      <td>NaN</td>\n",
       "      <td>NaN</td>\n",
       "      <td>spain</td>\n",
       "      <td>int</td>\n",
       "    </tr>\n",
       "    <tr>\n",
       "      <th>4</th>\n",
       "      <td>leroy brown</td>\n",
       "      <td>NaN</td>\n",
       "      <td>NaN</td>\n",
       "      <td>california</td>\n",
       "      <td>us</td>\n",
       "    </tr>\n",
       "    <tr>\n",
       "      <th>5</th>\n",
       "      <td>nas &amp; damian marley</td>\n",
       "      <td>NaN</td>\n",
       "      <td>NaN</td>\n",
       "      <td>new york, ny/kingston, jamaica</td>\n",
       "      <td>int</td>\n",
       "    </tr>\n",
       "    <tr>\n",
       "      <th>6</th>\n",
       "      <td>non + herrmutt lobby</td>\n",
       "      <td>NaN</td>\n",
       "      <td>NaN</td>\n",
       "      <td>los angeles, ca/belgium</td>\n",
       "      <td>int</td>\n",
       "    </tr>\n",
       "    <tr>\n",
       "      <th>7</th>\n",
       "      <td>snowgoons</td>\n",
       "      <td>NaN</td>\n",
       "      <td>NaN</td>\n",
       "      <td>germany</td>\n",
       "      <td>int</td>\n",
       "    </tr>\n",
       "    <tr>\n",
       "      <th>8</th>\n",
       "      <td>unknown</td>\n",
       "      <td>NaN</td>\n",
       "      <td>NaN</td>\n",
       "      <td>jamaica</td>\n",
       "      <td>int</td>\n",
       "    </tr>\n",
       "  </tbody>\n",
       "</table>\n",
       "</div>"
      ],
      "text/plain": [
       "         ARTIST NAME(S)  ARTIST HOME LATITUDE  ARTIST HOME LONGITUDE  \\\n",
       "0               brawler                   NaN                    NaN   \n",
       "1          doctor flake                   NaN                    NaN   \n",
       "2            epic/nomad                   NaN                    NaN   \n",
       "3           geckoturner                   NaN                    NaN   \n",
       "4           leroy brown                   NaN                    NaN   \n",
       "5   nas & damian marley                   NaN                    NaN   \n",
       "6  non + herrmutt lobby                   NaN                    NaN   \n",
       "7             snowgoons                   NaN                    NaN   \n",
       "8               unknown                   NaN                    NaN   \n",
       "\n",
       "                    ARTIST HOME CITY ARTIST COUNTRY  \n",
       "0                  fort mcmurray, ab            cdn  \n",
       "1                             france            int  \n",
       "2  saskatoon, sask/brussels, belgium            int  \n",
       "3                              spain            int  \n",
       "4                         california             us  \n",
       "5     new york, ny/kingston, jamaica            int  \n",
       "6            los angeles, ca/belgium            int  \n",
       "7                            germany            int  \n",
       "8                            jamaica            int  "
      ]
     },
     "execution_count": 54,
     "metadata": {},
     "output_type": "execute_result"
    }
   ],
   "source": [
    "list_artists_by_city(artist_without_cities.index.drop('unknown'))"
   ]
  },
  {
   "cell_type": "code",
   "execution_count": 55,
   "metadata": {},
   "outputs": [
    {
     "data": {
      "text/html": [
       "<div>\n",
       "<style scoped>\n",
       "    .dataframe tbody tr th:only-of-type {\n",
       "        vertical-align: middle;\n",
       "    }\n",
       "\n",
       "    .dataframe tbody tr th {\n",
       "        vertical-align: top;\n",
       "    }\n",
       "\n",
       "    .dataframe thead th {\n",
       "        text-align: right;\n",
       "    }\n",
       "</style>\n",
       "<table border=\"1\" class=\"dataframe\">\n",
       "  <thead>\n",
       "    <tr style=\"text-align: right;\">\n",
       "      <th></th>\n",
       "      <th>ARTIST HOME LATITUDE</th>\n",
       "      <th>ARTIST HOME LONGITUDE</th>\n",
       "    </tr>\n",
       "  </thead>\n",
       "  <tbody>\n",
       "    <tr>\n",
       "      <th>0</th>\n",
       "      <td>34.05</td>\n",
       "      <td>-118.24</td>\n",
       "    </tr>\n",
       "  </tbody>\n",
       "</table>\n",
       "</div>"
      ],
      "text/plain": [
       "  ARTIST HOME LATITUDE ARTIST HOME LONGITUDE\n",
       "0                34.05               -118.24"
      ]
     },
     "execution_count": 55,
     "metadata": {},
     "output_type": "execute_result"
    }
   ],
   "source": [
    "df[df['ARTIST HOME CITY']=='los angeles, ca'][columns].mode()"
   ]
  },
  {
   "cell_type": "code",
   "execution_count": 56,
   "metadata": {},
   "outputs": [],
   "source": [
    "replace_artist_location('brawler', [56.72, -111.37])\n",
    "replace_artist_location('doctor flake', [48.86, 2.34]) #Paris\n",
    "replace_artist_location('epic/nomad', [50.84, 4.35]) # Brussels\n",
    "replace_artist_location('geckoturner', [40.41, -3.70]) #Madrid\n",
    "replace_artist_location('leroy brown', [34.05,\t-118.24])\n",
    "replace_artist_location('nas & damian marley', [18.01, -76.80]) #Kingston, Jamaica\n",
    "replace_artist_location('non + herrmutt lobby', [50.84, 4.35]) # Brussels\n",
    "replace_artist_location('snowgoons', [52.52, 13.40]) #Berlin\n",
    "df.loc[df['ARTIST HOME CITY'] == 'jamaica', columns] = [18.01, -76.80] #Kingston, Jamaica"
   ]
  },
  {
   "cell_type": "code",
   "execution_count": 57,
   "metadata": {},
   "outputs": [
    {
     "data": {
      "text/plain": [
       "unknown    1741\n",
       "Name: ARTIST HOME CITY, dtype: int64"
      ]
     },
     "execution_count": 57,
     "metadata": {},
     "output_type": "execute_result"
    }
   ],
   "source": [
    "df[(df[columns].transpose().isna().any())]['ARTIST HOME CITY'].value_counts()"
   ]
  },
  {
   "cell_type": "markdown",
   "metadata": {},
   "source": [
    "# Album"
   ]
  },
  {
   "cell_type": "markdown",
   "metadata": {},
   "source": [
    "- match to existing values"
   ]
  },
  {
   "cell_type": "code",
   "execution_count": 58,
   "metadata": {},
   "outputs": [],
   "source": [
    "replace_nans('ALBUM NAME', ['LANGUAGE OF MUSIC'])"
   ]
  },
  {
   "cell_type": "code",
   "execution_count": 59,
   "metadata": {},
   "outputs": [
    {
     "data": {
      "text/plain": [
       "array(['english', 'french', nan, 'multi', 'spanish', 'portuguese',\n",
       "       'english/patois', 'basque', 'other', 'english/arabic', 'german',\n",
       "       'e', 'english/zulu', 'english/french', 'yes', 'various', 'punjabi',\n",
       "       'creole'], dtype=object)"
      ]
     },
     "execution_count": 59,
     "metadata": {},
     "output_type": "execute_result"
    }
   ],
   "source": [
    "df['LANGUAGE OF MUSIC'].unique()"
   ]
  },
  {
   "cell_type": "markdown",
   "metadata": {},
   "source": [
    "- replace e with english\n",
    "- replace yes with other\n",
    "- replace nan with 'unkown'\n"
   ]
  },
  {
   "cell_type": "code",
   "execution_count": 60,
   "metadata": {},
   "outputs": [],
   "source": [
    "df['LANGUAGE OF MUSIC'].replace('e', 'english', inplace=True)\n",
    "df['LANGUAGE OF MUSIC'].replace('yes', 'other', inplace=True)\n",
    "df['LANGUAGE OF MUSIC'].replace(np.nan, 'unknown', inplace=True)"
   ]
  },
  {
   "cell_type": "code",
   "execution_count": 61,
   "metadata": {},
   "outputs": [
    {
     "data": {
      "text/plain": [
       "CHART POSITION                    25\n",
       "ARTIST HOME LATITUDE            1741\n",
       "ARTIST HOME LONGITUDE           1741\n",
       "KM DISTANCE (HOME - STATION)    1871\n",
       "LABEL TYPE                        32\n",
       "dtype: int64"
      ]
     },
     "execution_count": 61,
     "metadata": {},
     "output_type": "execute_result"
    }
   ],
   "source": [
    "df.isna().sum()[df.isna().sum() > 0]"
   ]
  },
  {
   "cell_type": "markdown",
   "metadata": {},
   "source": [
    "# Label"
   ]
  },
  {
   "cell_type": "markdown",
   "metadata": {},
   "source": [
    "- match null values to existing information"
   ]
  },
  {
   "cell_type": "code",
   "execution_count": 62,
   "metadata": {},
   "outputs": [],
   "source": [
    "replace_nans('LABEL NAME', ['LABEL TYPE'])"
   ]
  },
  {
   "cell_type": "markdown",
   "metadata": {},
   "source": [
    "- replace 'english' with 'indie'"
   ]
  },
  {
   "cell_type": "code",
   "execution_count": 63,
   "metadata": {},
   "outputs": [
    {
     "data": {
      "text/plain": [
       "array(['indie', 'major', 'self', nan, 'english'], dtype=object)"
      ]
     },
     "execution_count": 63,
     "metadata": {},
     "output_type": "execute_result"
    }
   ],
   "source": [
    "df['LABEL TYPE'].unique()"
   ]
  },
  {
   "cell_type": "code",
   "execution_count": 64,
   "metadata": {},
   "outputs": [],
   "source": [
    "df['LABEL TYPE'].replace('english', 'indie', inplace=True)\n",
    "df['LABEL TYPE'].replace(np.nan, 'unknown', inplace=True)"
   ]
  },
  {
   "cell_type": "code",
   "execution_count": 65,
   "metadata": {},
   "outputs": [
    {
     "data": {
      "text/plain": [
       "array(['hr', 'carhartt/because', 'homegrown inc.', 'the hip hop company',\n",
       "       'word supremacy press'], dtype=object)"
      ]
     },
     "execution_count": 65,
     "metadata": {},
     "output_type": "execute_result"
    }
   ],
   "source": [
    "df[df['LABEL TYPE']== 'unknown']['LABEL NAME'].unique()"
   ]
  },
  {
   "cell_type": "code",
   "execution_count": 66,
   "metadata": {},
   "outputs": [
    {
     "data": {
      "text/plain": [
       "CHART POSITION                    25\n",
       "ARTIST HOME LATITUDE            1741\n",
       "ARTIST HOME LONGITUDE           1741\n",
       "KM DISTANCE (HOME - STATION)    1871\n",
       "dtype: int64"
      ]
     },
     "execution_count": 66,
     "metadata": {},
     "output_type": "execute_result"
    }
   ],
   "source": [
    "df.isna().sum()[df.isna().sum() > 0]"
   ]
  },
  {
   "cell_type": "markdown",
   "metadata": {},
   "source": [
    "# Chart Position"
   ]
  },
  {
   "cell_type": "code",
   "execution_count": 67,
   "metadata": {},
   "outputs": [
    {
     "data": {
      "text/plain": [
       "array(['4', '5', '7', '8', '9', '10', '3', '2', '6', '1', nan],\n",
       "      dtype=object)"
      ]
     },
     "execution_count": 67,
     "metadata": {},
     "output_type": "execute_result"
    }
   ],
   "source": [
    "df['CHART POSITION'].unique()"
   ]
  },
  {
   "cell_type": "code",
   "execution_count": 68,
   "metadata": {},
   "outputs": [
    {
     "data": {
      "text/plain": [
       "1      3561\n",
       "10     3585\n",
       "2      3586\n",
       "3      3586\n",
       "4      3585\n",
       "5      3586\n",
       "6      3586\n",
       "7      3586\n",
       "8      3586\n",
       "9      3586\n",
       "NaN      25\n",
       "Name: CHART POSITION, dtype: int64"
      ]
     },
     "execution_count": 68,
     "metadata": {},
     "output_type": "execute_result"
    }
   ],
   "source": [
    "df['CHART POSITION'].value_counts(dropna=False).sort_index()"
   ]
  },
  {
   "cell_type": "code",
   "execution_count": 69,
   "metadata": {},
   "outputs": [
    {
     "data": {
      "text/plain": [
       "552         psyche origami\n",
       "1179             aceyalone\n",
       "2063       dilated peoples\n",
       "3048             jay bizzy\n",
       "3657              ok cobra\n",
       "10570                  iam\n",
       "11716       pharoahe monch\n",
       "14923    jesse dangerously\n",
       "15204              othello\n",
       "17819       cadence weapon\n",
       "18242       guilty simpson\n",
       "18345           atmosphere\n",
       "19267           invincible\n",
       "19833              j'davey\n",
       "20428               factor\n",
       "20778         art of fresh\n",
       "21168        josh martinez\n",
       "21614         art of fresh\n",
       "21828          ghettosocks\n",
       "22696               p.o.s.\n",
       "23007               k'naan\n",
       "25087        le klub des 7\n",
       "26107           various_19\n",
       "31753            the roots\n",
       "34058             dj brace\n",
       "Name: ARTIST NAME(S), dtype: object"
      ]
     },
     "execution_count": 69,
     "metadata": {},
     "output_type": "execute_result"
    }
   ],
   "source": [
    "nan_filter = df['CHART POSITION'].isna()\n",
    "artists_with_nan_chart_numbers = df[ nan_filter]['ARTIST NAME(S)']\n",
    "artists_with_nan_chart_numbers"
   ]
  },
  {
   "cell_type": "markdown",
   "metadata": {},
   "source": [
    "- replace missing chart position with average for artist"
   ]
  },
  {
   "cell_type": "code",
   "execution_count": 70,
   "metadata": {},
   "outputs": [],
   "source": [
    "# replace nan values in chart numbers with average chart position held by artist\n",
    "for name in artists_with_nan_chart_numbers:\n",
    "    values = df.loc[df['ARTIST NAME(S)'] == name, 'CHART POSITION'].astype(float)\n",
    "    values.replace(np.nan, values.mean().round(), inplace=True)\n",
    "    df.loc[df['ARTIST NAME(S)'] == name, 'CHART POSITION'] = values.astype(int)"
   ]
  },
  {
   "cell_type": "markdown",
   "metadata": {},
   "source": [
    "# Distance\n",
    "  - recalculate the haversine distance between station and artist for every record "
   ]
  },
  {
   "cell_type": "code",
   "execution_count": 71,
   "metadata": {},
   "outputs": [],
   "source": [
    "df['KM DISTANCE (HOME - STATION)'] = df[['STATION LATITUDE', \n",
    "                                                     'STATION LONGITUDE', \n",
    "                                                     'ARTIST HOME LATITUDE', \n",
    "                                                     'ARTIST HOME LONGITUDE']\n",
    "                                                    ].apply(haversine, axis=1)\n",
    "\n"
   ]
  },
  {
   "cell_type": "code",
   "execution_count": 72,
   "metadata": {},
   "outputs": [
    {
     "data": {
      "text/plain": [
       "ARTIST HOME LATITUDE            1741\n",
       "ARTIST HOME LONGITUDE           1741\n",
       "KM DISTANCE (HOME - STATION)    1741\n",
       "dtype: int64"
      ]
     },
     "execution_count": 72,
     "metadata": {},
     "output_type": "execute_result"
    }
   ],
   "source": [
    "df.isna().sum()[df.isna().sum() > 0]"
   ]
  },
  {
   "cell_type": "markdown",
   "metadata": {},
   "source": [
    "## Add canadian-content status (met by having at least 2 MAPL ratings)"
   ]
  },
  {
   "cell_type": "code",
   "execution_count": 73,
   "metadata": {},
   "outputs": [],
   "source": [
    "df.rename(columns={\"M-MUSIC\":\"M\", \"A-ARTIST\": \"A\", \"P-PERFORMANCE\":\"P\",\"L-LYRICS\":\"L\"}, inplace = True)\n"
   ]
  },
  {
   "cell_type": "code",
   "execution_count": 74,
   "metadata": {},
   "outputs": [],
   "source": [
    "df['CANADIAN CONTENT'] = df[['M','A','L','P']].apply(is_can_con, axis=1)"
   ]
  },
  {
   "cell_type": "code",
   "execution_count": 75,
   "metadata": {},
   "outputs": [],
   "source": [
    "df.to_csv('clean_data.csv')"
   ]
  },
  {
   "cell_type": "code",
   "execution_count": 76,
   "metadata": {},
   "outputs": [
    {
     "data": {
      "text/html": [
       "<div>\n",
       "<style scoped>\n",
       "    .dataframe tbody tr th:only-of-type {\n",
       "        vertical-align: middle;\n",
       "    }\n",
       "\n",
       "    .dataframe tbody tr th {\n",
       "        vertical-align: top;\n",
       "    }\n",
       "\n",
       "    .dataframe thead th {\n",
       "        text-align: right;\n",
       "    }\n",
       "</style>\n",
       "<table border=\"1\" class=\"dataframe\">\n",
       "  <thead>\n",
       "    <tr style=\"text-align: right;\">\n",
       "      <th></th>\n",
       "      <th>WEEK OF</th>\n",
       "      <th>STATION</th>\n",
       "      <th>STATION CITY</th>\n",
       "      <th>STATION PROVINCE</th>\n",
       "      <th>STATION LATITUDE</th>\n",
       "      <th>STATION LONGITUDE</th>\n",
       "      <th>CHART POSITION</th>\n",
       "      <th>ARTIST NAME(S)</th>\n",
       "      <th>ARTIST COUNTRY</th>\n",
       "      <th>ARTIST HOME CITY</th>\n",
       "      <th>...</th>\n",
       "      <th>LABEL TYPE</th>\n",
       "      <th>LANGUAGE OF MUSIC</th>\n",
       "      <th>VISIBLE ETHNIC MINORITY</th>\n",
       "      <th>CENSUS RACE CLASSIFICATION</th>\n",
       "      <th>ARTIST GENDER</th>\n",
       "      <th>M</th>\n",
       "      <th>A</th>\n",
       "      <th>P</th>\n",
       "      <th>L</th>\n",
       "      <th>CANADIAN CONTENT</th>\n",
       "    </tr>\n",
       "  </thead>\n",
       "  <tbody>\n",
       "    <tr>\n",
       "      <th>0</th>\n",
       "      <td>2006-01-10</td>\n",
       "      <td>cjsr</td>\n",
       "      <td>edmonton</td>\n",
       "      <td>ab</td>\n",
       "      <td>53.55</td>\n",
       "      <td>-113.50</td>\n",
       "      <td>4</td>\n",
       "      <td>breakestra</td>\n",
       "      <td>us</td>\n",
       "      <td>los angeles, ca</td>\n",
       "      <td>...</td>\n",
       "      <td>indie</td>\n",
       "      <td>english</td>\n",
       "      <td>yes</td>\n",
       "      <td>mixed group</td>\n",
       "      <td>male</td>\n",
       "      <td>no</td>\n",
       "      <td>no</td>\n",
       "      <td>no</td>\n",
       "      <td>no</td>\n",
       "      <td>no</td>\n",
       "    </tr>\n",
       "    <tr>\n",
       "      <th>1</th>\n",
       "      <td>2006-01-10</td>\n",
       "      <td>cjsr</td>\n",
       "      <td>edmonton</td>\n",
       "      <td>ab</td>\n",
       "      <td>53.55</td>\n",
       "      <td>-113.50</td>\n",
       "      <td>5</td>\n",
       "      <td>candy's .22</td>\n",
       "      <td>us</td>\n",
       "      <td>los angeles, ca</td>\n",
       "      <td>...</td>\n",
       "      <td>indie</td>\n",
       "      <td>english</td>\n",
       "      <td>no</td>\n",
       "      <td>white</td>\n",
       "      <td>male</td>\n",
       "      <td>no</td>\n",
       "      <td>no</td>\n",
       "      <td>no</td>\n",
       "      <td>no</td>\n",
       "      <td>no</td>\n",
       "    </tr>\n",
       "    <tr>\n",
       "      <th>2</th>\n",
       "      <td>2006-01-10</td>\n",
       "      <td>cjsr</td>\n",
       "      <td>edmonton</td>\n",
       "      <td>ab</td>\n",
       "      <td>53.55</td>\n",
       "      <td>-113.50</td>\n",
       "      <td>7</td>\n",
       "      <td>dangerdoom</td>\n",
       "      <td>us</td>\n",
       "      <td>new york, ny</td>\n",
       "      <td>...</td>\n",
       "      <td>indie</td>\n",
       "      <td>english</td>\n",
       "      <td>yes</td>\n",
       "      <td>black</td>\n",
       "      <td>male</td>\n",
       "      <td>no</td>\n",
       "      <td>no</td>\n",
       "      <td>no</td>\n",
       "      <td>no</td>\n",
       "      <td>no</td>\n",
       "    </tr>\n",
       "    <tr>\n",
       "      <th>3</th>\n",
       "      <td>2006-01-10</td>\n",
       "      <td>cjsr</td>\n",
       "      <td>edmonton</td>\n",
       "      <td>ab</td>\n",
       "      <td>53.55</td>\n",
       "      <td>-113.50</td>\n",
       "      <td>8</td>\n",
       "      <td>blockhead</td>\n",
       "      <td>us</td>\n",
       "      <td>new york, ny</td>\n",
       "      <td>...</td>\n",
       "      <td>indie</td>\n",
       "      <td>english</td>\n",
       "      <td>no</td>\n",
       "      <td>white</td>\n",
       "      <td>male</td>\n",
       "      <td>no</td>\n",
       "      <td>no</td>\n",
       "      <td>no</td>\n",
       "      <td>no</td>\n",
       "      <td>no</td>\n",
       "    </tr>\n",
       "    <tr>\n",
       "      <th>4</th>\n",
       "      <td>2006-01-10</td>\n",
       "      <td>cjsr</td>\n",
       "      <td>edmonton</td>\n",
       "      <td>ab</td>\n",
       "      <td>53.55</td>\n",
       "      <td>-113.50</td>\n",
       "      <td>9</td>\n",
       "      <td>blackalicious</td>\n",
       "      <td>us</td>\n",
       "      <td>sacramento, ca</td>\n",
       "      <td>...</td>\n",
       "      <td>indie</td>\n",
       "      <td>english</td>\n",
       "      <td>yes</td>\n",
       "      <td>black</td>\n",
       "      <td>male</td>\n",
       "      <td>no</td>\n",
       "      <td>no</td>\n",
       "      <td>no</td>\n",
       "      <td>no</td>\n",
       "      <td>no</td>\n",
       "    </tr>\n",
       "    <tr>\n",
       "      <th>5</th>\n",
       "      <td>2006-01-10</td>\n",
       "      <td>cjsr</td>\n",
       "      <td>edmonton</td>\n",
       "      <td>ab</td>\n",
       "      <td>53.55</td>\n",
       "      <td>-113.50</td>\n",
       "      <td>10</td>\n",
       "      <td>onry ozzborn</td>\n",
       "      <td>us</td>\n",
       "      <td>seattle, wa</td>\n",
       "      <td>...</td>\n",
       "      <td>indie</td>\n",
       "      <td>english</td>\n",
       "      <td>yes</td>\n",
       "      <td>hispanic</td>\n",
       "      <td>male</td>\n",
       "      <td>no</td>\n",
       "      <td>no</td>\n",
       "      <td>no</td>\n",
       "      <td>no</td>\n",
       "      <td>no</td>\n",
       "    </tr>\n",
       "    <tr>\n",
       "      <th>6</th>\n",
       "      <td>2006-01-10</td>\n",
       "      <td>cjsw</td>\n",
       "      <td>calgary</td>\n",
       "      <td>ab</td>\n",
       "      <td>51.08</td>\n",
       "      <td>-114.08</td>\n",
       "      <td>3</td>\n",
       "      <td>unknown</td>\n",
       "      <td>us</td>\n",
       "      <td>unknown</td>\n",
       "      <td>...</td>\n",
       "      <td>indie</td>\n",
       "      <td>english</td>\n",
       "      <td>yes</td>\n",
       "      <td>mixed group</td>\n",
       "      <td>male</td>\n",
       "      <td>no</td>\n",
       "      <td>no</td>\n",
       "      <td>no</td>\n",
       "      <td>no</td>\n",
       "      <td>no</td>\n",
       "    </tr>\n",
       "    <tr>\n",
       "      <th>7</th>\n",
       "      <td>2006-01-10</td>\n",
       "      <td>cjsw</td>\n",
       "      <td>calgary</td>\n",
       "      <td>ab</td>\n",
       "      <td>51.08</td>\n",
       "      <td>-114.08</td>\n",
       "      <td>5</td>\n",
       "      <td>psyche origami</td>\n",
       "      <td>us</td>\n",
       "      <td>atlanta, ga</td>\n",
       "      <td>...</td>\n",
       "      <td>indie</td>\n",
       "      <td>english</td>\n",
       "      <td>yes</td>\n",
       "      <td>mixed group</td>\n",
       "      <td>male</td>\n",
       "      <td>no</td>\n",
       "      <td>no</td>\n",
       "      <td>no</td>\n",
       "      <td>no</td>\n",
       "      <td>no</td>\n",
       "    </tr>\n",
       "    <tr>\n",
       "      <th>8</th>\n",
       "      <td>2006-01-10</td>\n",
       "      <td>cjsw</td>\n",
       "      <td>calgary</td>\n",
       "      <td>ab</td>\n",
       "      <td>51.08</td>\n",
       "      <td>-114.08</td>\n",
       "      <td>7</td>\n",
       "      <td>unknown</td>\n",
       "      <td>us</td>\n",
       "      <td>unknown</td>\n",
       "      <td>...</td>\n",
       "      <td>indie</td>\n",
       "      <td>english</td>\n",
       "      <td>yes</td>\n",
       "      <td>mixed group</td>\n",
       "      <td>mixed group</td>\n",
       "      <td>no</td>\n",
       "      <td>no</td>\n",
       "      <td>no</td>\n",
       "      <td>no</td>\n",
       "      <td>no</td>\n",
       "    </tr>\n",
       "    <tr>\n",
       "      <th>9</th>\n",
       "      <td>2006-01-10</td>\n",
       "      <td>cjsw</td>\n",
       "      <td>calgary</td>\n",
       "      <td>ab</td>\n",
       "      <td>51.08</td>\n",
       "      <td>-114.08</td>\n",
       "      <td>8</td>\n",
       "      <td>mike ladd</td>\n",
       "      <td>us</td>\n",
       "      <td>boston, mass</td>\n",
       "      <td>...</td>\n",
       "      <td>indie</td>\n",
       "      <td>english</td>\n",
       "      <td>yes</td>\n",
       "      <td>black</td>\n",
       "      <td>male</td>\n",
       "      <td>no</td>\n",
       "      <td>no</td>\n",
       "      <td>no</td>\n",
       "      <td>no</td>\n",
       "      <td>no</td>\n",
       "    </tr>\n",
       "  </tbody>\n",
       "</table>\n",
       "<p>10 rows × 25 columns</p>\n",
       "</div>"
      ],
      "text/plain": [
       "     WEEK OF STATION STATION CITY STATION PROVINCE  STATION LATITUDE  \\\n",
       "0 2006-01-10    cjsr     edmonton               ab             53.55   \n",
       "1 2006-01-10    cjsr     edmonton               ab             53.55   \n",
       "2 2006-01-10    cjsr     edmonton               ab             53.55   \n",
       "3 2006-01-10    cjsr     edmonton               ab             53.55   \n",
       "4 2006-01-10    cjsr     edmonton               ab             53.55   \n",
       "5 2006-01-10    cjsr     edmonton               ab             53.55   \n",
       "6 2006-01-10    cjsw      calgary               ab             51.08   \n",
       "7 2006-01-10    cjsw      calgary               ab             51.08   \n",
       "8 2006-01-10    cjsw      calgary               ab             51.08   \n",
       "9 2006-01-10    cjsw      calgary               ab             51.08   \n",
       "\n",
       "   STATION LONGITUDE CHART POSITION  ARTIST NAME(S) ARTIST COUNTRY  \\\n",
       "0            -113.50              4      breakestra             us   \n",
       "1            -113.50              5     candy's .22             us   \n",
       "2            -113.50              7      dangerdoom             us   \n",
       "3            -113.50              8       blockhead             us   \n",
       "4            -113.50              9   blackalicious             us   \n",
       "5            -113.50             10    onry ozzborn             us   \n",
       "6            -114.08              3         unknown             us   \n",
       "7            -114.08              5  psyche origami             us   \n",
       "8            -114.08              7         unknown             us   \n",
       "9            -114.08              8       mike ladd             us   \n",
       "\n",
       "  ARTIST HOME CITY  ... LABEL TYPE LANGUAGE OF MUSIC  VISIBLE ETHNIC MINORITY  \\\n",
       "0  los angeles, ca  ...      indie           english                      yes   \n",
       "1  los angeles, ca  ...      indie           english                       no   \n",
       "2     new york, ny  ...      indie           english                      yes   \n",
       "3     new york, ny  ...      indie           english                       no   \n",
       "4   sacramento, ca  ...      indie           english                      yes   \n",
       "5      seattle, wa  ...      indie           english                      yes   \n",
       "6          unknown  ...      indie           english                      yes   \n",
       "7      atlanta, ga  ...      indie           english                      yes   \n",
       "8          unknown  ...      indie           english                      yes   \n",
       "9     boston, mass  ...      indie           english                      yes   \n",
       "\n",
       "  CENSUS RACE CLASSIFICATION ARTIST GENDER   M   A   P   L CANADIAN CONTENT  \n",
       "0                mixed group          male  no  no  no  no               no  \n",
       "1                      white          male  no  no  no  no               no  \n",
       "2                      black          male  no  no  no  no               no  \n",
       "3                      white          male  no  no  no  no               no  \n",
       "4                      black          male  no  no  no  no               no  \n",
       "5                   hispanic          male  no  no  no  no               no  \n",
       "6                mixed group          male  no  no  no  no               no  \n",
       "7                mixed group          male  no  no  no  no               no  \n",
       "8                mixed group   mixed group  no  no  no  no               no  \n",
       "9                      black          male  no  no  no  no               no  \n",
       "\n",
       "[10 rows x 25 columns]"
      ]
     },
     "execution_count": 76,
     "metadata": {},
     "output_type": "execute_result"
    }
   ],
   "source": [
    "df.head(10)"
   ]
  },
  {
   "cell_type": "code",
   "execution_count": 77,
   "metadata": {},
   "outputs": [
    {
     "data": {
      "text/plain": [
       "WEEK OF                            0\n",
       "STATION                            0\n",
       "STATION CITY                       0\n",
       "STATION PROVINCE                   0\n",
       "STATION LATITUDE                   0\n",
       "STATION LONGITUDE                  0\n",
       "CHART POSITION                     0\n",
       "ARTIST NAME(S)                     0\n",
       "ARTIST COUNTRY                     0\n",
       "ARTIST HOME CITY                   0\n",
       "ARTIST HOME LATITUDE            1741\n",
       "ARTIST HOME LONGITUDE           1741\n",
       "KM DISTANCE (HOME - STATION)    1741\n",
       "ALBUM NAME                         0\n",
       "LABEL NAME                         0\n",
       "LABEL TYPE                         0\n",
       "LANGUAGE OF MUSIC                  0\n",
       "VISIBLE ETHNIC MINORITY            0\n",
       "CENSUS RACE CLASSIFICATION         0\n",
       "ARTIST GENDER                      0\n",
       "M                                  0\n",
       "A                                  0\n",
       "P                                  0\n",
       "L                                  0\n",
       "CANADIAN CONTENT                   0\n",
       "dtype: int64"
      ]
     },
     "execution_count": 77,
     "metadata": {},
     "output_type": "execute_result"
    }
   ],
   "source": [
    "df.isna().sum()"
   ]
  },
  {
   "cell_type": "code",
   "execution_count": 78,
   "metadata": {},
   "outputs": [
    {
     "data": {
      "text/plain": [
       "(46,)"
      ]
     },
     "execution_count": 78,
     "metadata": {},
     "output_type": "execute_result"
    }
   ],
   "source": [
    "df[df.isna().any(axis=1)]['ARTIST NAME(S)'].unique().shape"
   ]
  },
  {
   "cell_type": "code",
   "execution_count": 79,
   "metadata": {},
   "outputs": [
    {
     "data": {
      "text/html": [
       "<div>\n",
       "<style scoped>\n",
       "    .dataframe tbody tr th:only-of-type {\n",
       "        vertical-align: middle;\n",
       "    }\n",
       "\n",
       "    .dataframe tbody tr th {\n",
       "        vertical-align: top;\n",
       "    }\n",
       "\n",
       "    .dataframe thead th {\n",
       "        text-align: right;\n",
       "    }\n",
       "</style>\n",
       "<table border=\"1\" class=\"dataframe\">\n",
       "  <thead>\n",
       "    <tr style=\"text-align: right;\">\n",
       "      <th></th>\n",
       "      <th>WEEK OF</th>\n",
       "      <th>STATION</th>\n",
       "      <th>STATION CITY</th>\n",
       "      <th>STATION PROVINCE</th>\n",
       "      <th>STATION LATITUDE</th>\n",
       "      <th>STATION LONGITUDE</th>\n",
       "      <th>CHART POSITION</th>\n",
       "      <th>ARTIST NAME(S)</th>\n",
       "      <th>ARTIST COUNTRY</th>\n",
       "      <th>ARTIST HOME CITY</th>\n",
       "      <th>...</th>\n",
       "      <th>LABEL TYPE</th>\n",
       "      <th>LANGUAGE OF MUSIC</th>\n",
       "      <th>VISIBLE ETHNIC MINORITY</th>\n",
       "      <th>CENSUS RACE CLASSIFICATION</th>\n",
       "      <th>ARTIST GENDER</th>\n",
       "      <th>M</th>\n",
       "      <th>A</th>\n",
       "      <th>P</th>\n",
       "      <th>L</th>\n",
       "      <th>CANADIAN CONTENT</th>\n",
       "    </tr>\n",
       "  </thead>\n",
       "  <tbody>\n",
       "  </tbody>\n",
       "</table>\n",
       "<p>0 rows × 25 columns</p>\n",
       "</div>"
      ],
      "text/plain": [
       "Empty DataFrame\n",
       "Columns: [WEEK OF, STATION, STATION CITY, STATION PROVINCE, STATION LATITUDE, STATION LONGITUDE, CHART POSITION, ARTIST NAME(S), ARTIST COUNTRY, ARTIST HOME CITY, ARTIST HOME LATITUDE, ARTIST HOME LONGITUDE, KM DISTANCE (HOME - STATION), ALBUM NAME, LABEL NAME, LABEL TYPE, LANGUAGE OF MUSIC, VISIBLE ETHNIC MINORITY, CENSUS RACE CLASSIFICATION, ARTIST GENDER, M, A, P, L, CANADIAN CONTENT]\n",
       "Index: []\n",
       "\n",
       "[0 rows x 25 columns]"
      ]
     },
     "execution_count": 79,
     "metadata": {},
     "output_type": "execute_result"
    }
   ],
   "source": [
    "df[df['ARTIST NAME(S)'] == 'various']"
   ]
  },
  {
   "cell_type": "code",
   "execution_count": null,
   "metadata": {},
   "outputs": [],
   "source": []
  },
  {
   "cell_type": "code",
   "execution_count": null,
   "metadata": {},
   "outputs": [],
   "source": []
  }
 ],
 "metadata": {
  "interpreter": {
   "hash": "4fe28adbe6d40c82bdde6a2233f025e3b944121e67b5abb397657075ce1366ca"
  },
  "kernelspec": {
   "display_name": "Python 3.8.12 ('lighthouse')",
   "language": "python",
   "name": "python3"
  },
  "language_info": {
   "codemirror_mode": {
    "name": "ipython",
    "version": 3
   },
   "file_extension": ".py",
   "mimetype": "text/x-python",
   "name": "python",
   "nbconvert_exporter": "python",
   "pygments_lexer": "ipython3",
   "version": "3.8.12"
  },
  "orig_nbformat": 4
 },
 "nbformat": 4,
 "nbformat_minor": 2
}
