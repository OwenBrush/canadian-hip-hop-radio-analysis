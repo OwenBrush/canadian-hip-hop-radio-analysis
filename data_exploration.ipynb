{
 "cells": [
  {
   "cell_type": "code",
   "execution_count": 1,
   "metadata": {},
   "outputs": [],
   "source": [
    "import pandas as pd\n",
    "import numpy as np\n",
    "from custom_plots import plot_categorical_comparison, plot_correlation_matrix, plot_time_series\n",
    "from sklearn.preprocessing import MinMaxScaler"
   ]
  },
  {
   "cell_type": "code",
   "execution_count": 2,
   "metadata": {},
   "outputs": [],
   "source": [
    "COLOR_DICT = {\n",
    "                'cdn': '#B32E29',\n",
    "                'us': '#3279B3',\n",
    "                'uk': '#DE7012',\n",
    "                'int': '#FACD14',\n",
    "                'alberta':'#587AFF',\n",
    "                'british columbia':'#37BD54',\n",
    "                'manitoba': '#FFD140',\n",
    "                'nova scotia' : '#FF9A30',\n",
    "                'ontario' : '#BD2F24',\n",
    "                'quebec' : '#60C3FF',\n",
    "                'new brunswick' : '#9552FF'\n",
    "             }"
   ]
  },
  {
   "cell_type": "code",
   "execution_count": 3,
   "metadata": {},
   "outputs": [],
   "source": [
    "df = pd.read_csv('data/clean_data.csv')"
   ]
  },
  {
   "cell_type": "code",
   "execution_count": 4,
   "metadata": {},
   "outputs": [
    {
     "data": {
      "text/plain": [
       "Index(['Unnamed: 0', 'week_of', 'station', 'station_city', 'station_province',\n",
       "       'station_latitude', 'station_longitude', 'chart_position',\n",
       "       'artist_name(s)', 'artist_country', 'artist_home_city',\n",
       "       'artist_home_latitude', 'artist_home_longitude',\n",
       "       'km_distance_(home_station)', 'album_name', 'label_name', 'label_type',\n",
       "       'language_of_music', 'visible_ethnic_minority',\n",
       "       'census_race_classification', 'artist_gender', 'm_music', 'a_artist',\n",
       "       'p_performance', 'l_lyrics', 'artist_is_group', 'canadian_content',\n",
       "       'city_population'],\n",
       "      dtype='object')"
      ]
     },
     "execution_count": 4,
     "metadata": {},
     "output_type": "execute_result"
    }
   ],
   "source": [
    "df.columns"
   ]
  },
  {
   "cell_type": "code",
   "execution_count": 5,
   "metadata": {},
   "outputs": [
    {
     "data": {
      "application/vnd.plotly.v1+json": {
       "config": {
        "plotlyServerURL": "https://plot.ly"
       },
       "data": [
        {
         "marker": {
          "color": "#3279B3"
         },
         "name": "us",
         "type": "bar",
         "x": [
          "mixed group",
          "white",
          "black",
          "hispanic",
          "asian",
          "unknown",
          "native american",
          "middle eastern",
          "indian",
          "jewish",
          "romany"
         ],
         "y": [
          0.18695192815636552,
          0.19899630216587427,
          0.5715795034337031,
          0.01864764923402007,
          0.01347068145800312,
          0.0019017432646593058,
          0.0011093502377178543,
          0.005018489170628637,
          0.002324352879027991,
          0,
          0
         ]
        },
        {
         "marker": {
          "color": "#B32E29"
         },
         "name": "cdn",
         "type": "bar",
         "x": [
          "mixed group",
          "white",
          "black",
          "hispanic",
          "asian",
          "unknown",
          "native american",
          "middle eastern",
          "indian",
          "jewish",
          "romany"
         ],
         "y": [
          0.1769354500314707,
          0.47108189383873,
          0.281208476117211,
          0.007902650535002498,
          0.010000699349604902,
          0.01524582138611097,
          0.013007902650534975,
          0.012588292887614538,
          0.009371284705224192,
          0.002657528498496431,
          0
         ]
        },
        {
         "marker": {
          "color": "#DE7012"
         },
         "name": "uk",
         "type": "bar",
         "x": [
          "mixed group",
          "white",
          "black",
          "hispanic",
          "asian",
          "unknown",
          "native american",
          "middle eastern",
          "indian",
          "jewish",
          "romany"
         ],
         "y": [
          0.16754850088183426,
          0.4426807760141094,
          0.32892416225749554,
          0,
          0.05820105820105825,
          0,
          0,
          0,
          0.002645502645502673,
          0,
          0
         ]
        },
        {
         "marker": {
          "color": "#FACD14"
         },
         "name": "int",
         "type": "bar",
         "x": [
          "mixed group",
          "white",
          "black",
          "hispanic",
          "asian",
          "unknown",
          "native american",
          "middle eastern",
          "indian",
          "jewish",
          "romany"
         ],
         "y": [
          0.22504537205081665,
          0.44283121597096187,
          0.2068965517241379,
          0.029945553539019953,
          0.03176043557168784,
          0,
          0,
          0.060798548094373905,
          0,
          0,
          0.0027223230490017736
         ]
        },
        {
         "marker": {
          "color": "#303030"
         },
         "mode": "lines",
         "name": "mixed group_average",
         "showlegend": false,
         "type": "scatter",
         "x": [
          0,
          1
         ],
         "xaxis": "x2",
         "y": [
          0.18912031278012179,
          0.18912031278012179
         ]
        },
        {
         "marker": {
          "color": "#303030"
         },
         "mode": "lines",
         "name": "white_average",
         "showlegend": false,
         "type": "scatter",
         "x": [
          1,
          2
         ],
         "xaxis": "x2",
         "y": [
          0.38889754699741885,
          0.38889754699741885
         ]
        },
        {
         "marker": {
          "color": "#303030"
         },
         "mode": "lines",
         "name": "black_average",
         "showlegend": false,
         "type": "scatter",
         "x": [
          2,
          3
         ],
         "xaxis": "x2",
         "y": [
          0.34715217338313686,
          0.34715217338313686
         ]
        },
        {
         "marker": {
          "color": "#303030"
         },
         "mode": "lines",
         "name": "hispanic_average",
         "showlegend": false,
         "type": "scatter",
         "x": [
          3,
          4
         ],
         "xaxis": "x2",
         "y": [
          0.01412396332701063,
          0.01412396332701063
         ]
        },
        {
         "marker": {
          "color": "#303030"
         },
         "mode": "lines",
         "name": "asian_average",
         "showlegend": false,
         "type": "scatter",
         "x": [
          4,
          5
         ],
         "xaxis": "x2",
         "y": [
          0.02835821864508853,
          0.02835821864508853
         ]
        },
        {
         "marker": {
          "color": "#303030"
         },
         "mode": "lines",
         "name": "unknown_average",
         "showlegend": false,
         "type": "scatter",
         "x": [
          5,
          6
         ],
         "xaxis": "x2",
         "y": [
          0.004286891162692569,
          0.004286891162692569
         ]
        },
        {
         "marker": {
          "color": "#303030"
         },
         "mode": "lines",
         "name": "native american_average",
         "showlegend": false,
         "type": "scatter",
         "x": [
          6,
          7
         ],
         "xaxis": "x2",
         "y": [
          0.0035293132220632073,
          0.0035293132220632073
         ]
        },
        {
         "marker": {
          "color": "#303030"
         },
         "mode": "lines",
         "name": "middle eastern_average",
         "showlegend": false,
         "type": "scatter",
         "x": [
          7,
          8
         ],
         "xaxis": "x2",
         "y": [
          0.01960133253815427,
          0.01960133253815427
         ]
        },
        {
         "marker": {
          "color": "#303030"
         },
         "mode": "lines",
         "name": "indian_average",
         "showlegend": false,
         "type": "scatter",
         "x": [
          8,
          9
         ],
         "xaxis": "x2",
         "y": [
          0.003585285057438714,
          0.003585285057438714
         ]
        },
        {
         "marker": {
          "color": "#303030"
         },
         "mode": "lines",
         "name": "jewish_average",
         "showlegend": false,
         "type": "scatter",
         "x": [
          9,
          10
         ],
         "xaxis": "x2",
         "y": [
          0.0006643821246241077,
          0.0006643821246241077
         ]
        },
        {
         "marker": {
          "color": "#303030"
         },
         "mode": "lines",
         "name": "romany_average",
         "showlegend": false,
         "type": "scatter",
         "x": [
          10,
          11
         ],
         "xaxis": "x2",
         "y": [
          0.0006805807622504434,
          0.0006805807622504434
         ]
        }
       ],
       "layout": {
        "barmode": "group",
        "font": {
         "size": 16
        },
        "height": 600,
        "plot_bgcolor": "white",
        "template": {
         "data": {
          "bar": [
           {
            "error_x": {
             "color": "#2a3f5f"
            },
            "error_y": {
             "color": "#2a3f5f"
            },
            "marker": {
             "line": {
              "color": "#E5ECF6",
              "width": 0.5
             },
             "pattern": {
              "fillmode": "overlay",
              "size": 10,
              "solidity": 0.2
             }
            },
            "type": "bar"
           }
          ],
          "barpolar": [
           {
            "marker": {
             "line": {
              "color": "#E5ECF6",
              "width": 0.5
             },
             "pattern": {
              "fillmode": "overlay",
              "size": 10,
              "solidity": 0.2
             }
            },
            "type": "barpolar"
           }
          ],
          "carpet": [
           {
            "aaxis": {
             "endlinecolor": "#2a3f5f",
             "gridcolor": "white",
             "linecolor": "white",
             "minorgridcolor": "white",
             "startlinecolor": "#2a3f5f"
            },
            "baxis": {
             "endlinecolor": "#2a3f5f",
             "gridcolor": "white",
             "linecolor": "white",
             "minorgridcolor": "white",
             "startlinecolor": "#2a3f5f"
            },
            "type": "carpet"
           }
          ],
          "choropleth": [
           {
            "colorbar": {
             "outlinewidth": 0,
             "ticks": ""
            },
            "type": "choropleth"
           }
          ],
          "contour": [
           {
            "colorbar": {
             "outlinewidth": 0,
             "ticks": ""
            },
            "colorscale": [
             [
              0,
              "#0d0887"
             ],
             [
              0.1111111111111111,
              "#46039f"
             ],
             [
              0.2222222222222222,
              "#7201a8"
             ],
             [
              0.3333333333333333,
              "#9c179e"
             ],
             [
              0.4444444444444444,
              "#bd3786"
             ],
             [
              0.5555555555555556,
              "#d8576b"
             ],
             [
              0.6666666666666666,
              "#ed7953"
             ],
             [
              0.7777777777777778,
              "#fb9f3a"
             ],
             [
              0.8888888888888888,
              "#fdca26"
             ],
             [
              1,
              "#f0f921"
             ]
            ],
            "type": "contour"
           }
          ],
          "contourcarpet": [
           {
            "colorbar": {
             "outlinewidth": 0,
             "ticks": ""
            },
            "type": "contourcarpet"
           }
          ],
          "heatmap": [
           {
            "colorbar": {
             "outlinewidth": 0,
             "ticks": ""
            },
            "colorscale": [
             [
              0,
              "#0d0887"
             ],
             [
              0.1111111111111111,
              "#46039f"
             ],
             [
              0.2222222222222222,
              "#7201a8"
             ],
             [
              0.3333333333333333,
              "#9c179e"
             ],
             [
              0.4444444444444444,
              "#bd3786"
             ],
             [
              0.5555555555555556,
              "#d8576b"
             ],
             [
              0.6666666666666666,
              "#ed7953"
             ],
             [
              0.7777777777777778,
              "#fb9f3a"
             ],
             [
              0.8888888888888888,
              "#fdca26"
             ],
             [
              1,
              "#f0f921"
             ]
            ],
            "type": "heatmap"
           }
          ],
          "heatmapgl": [
           {
            "colorbar": {
             "outlinewidth": 0,
             "ticks": ""
            },
            "colorscale": [
             [
              0,
              "#0d0887"
             ],
             [
              0.1111111111111111,
              "#46039f"
             ],
             [
              0.2222222222222222,
              "#7201a8"
             ],
             [
              0.3333333333333333,
              "#9c179e"
             ],
             [
              0.4444444444444444,
              "#bd3786"
             ],
             [
              0.5555555555555556,
              "#d8576b"
             ],
             [
              0.6666666666666666,
              "#ed7953"
             ],
             [
              0.7777777777777778,
              "#fb9f3a"
             ],
             [
              0.8888888888888888,
              "#fdca26"
             ],
             [
              1,
              "#f0f921"
             ]
            ],
            "type": "heatmapgl"
           }
          ],
          "histogram": [
           {
            "marker": {
             "pattern": {
              "fillmode": "overlay",
              "size": 10,
              "solidity": 0.2
             }
            },
            "type": "histogram"
           }
          ],
          "histogram2d": [
           {
            "colorbar": {
             "outlinewidth": 0,
             "ticks": ""
            },
            "colorscale": [
             [
              0,
              "#0d0887"
             ],
             [
              0.1111111111111111,
              "#46039f"
             ],
             [
              0.2222222222222222,
              "#7201a8"
             ],
             [
              0.3333333333333333,
              "#9c179e"
             ],
             [
              0.4444444444444444,
              "#bd3786"
             ],
             [
              0.5555555555555556,
              "#d8576b"
             ],
             [
              0.6666666666666666,
              "#ed7953"
             ],
             [
              0.7777777777777778,
              "#fb9f3a"
             ],
             [
              0.8888888888888888,
              "#fdca26"
             ],
             [
              1,
              "#f0f921"
             ]
            ],
            "type": "histogram2d"
           }
          ],
          "histogram2dcontour": [
           {
            "colorbar": {
             "outlinewidth": 0,
             "ticks": ""
            },
            "colorscale": [
             [
              0,
              "#0d0887"
             ],
             [
              0.1111111111111111,
              "#46039f"
             ],
             [
              0.2222222222222222,
              "#7201a8"
             ],
             [
              0.3333333333333333,
              "#9c179e"
             ],
             [
              0.4444444444444444,
              "#bd3786"
             ],
             [
              0.5555555555555556,
              "#d8576b"
             ],
             [
              0.6666666666666666,
              "#ed7953"
             ],
             [
              0.7777777777777778,
              "#fb9f3a"
             ],
             [
              0.8888888888888888,
              "#fdca26"
             ],
             [
              1,
              "#f0f921"
             ]
            ],
            "type": "histogram2dcontour"
           }
          ],
          "mesh3d": [
           {
            "colorbar": {
             "outlinewidth": 0,
             "ticks": ""
            },
            "type": "mesh3d"
           }
          ],
          "parcoords": [
           {
            "line": {
             "colorbar": {
              "outlinewidth": 0,
              "ticks": ""
             }
            },
            "type": "parcoords"
           }
          ],
          "pie": [
           {
            "automargin": true,
            "type": "pie"
           }
          ],
          "scatter": [
           {
            "marker": {
             "colorbar": {
              "outlinewidth": 0,
              "ticks": ""
             }
            },
            "type": "scatter"
           }
          ],
          "scatter3d": [
           {
            "line": {
             "colorbar": {
              "outlinewidth": 0,
              "ticks": ""
             }
            },
            "marker": {
             "colorbar": {
              "outlinewidth": 0,
              "ticks": ""
             }
            },
            "type": "scatter3d"
           }
          ],
          "scattercarpet": [
           {
            "marker": {
             "colorbar": {
              "outlinewidth": 0,
              "ticks": ""
             }
            },
            "type": "scattercarpet"
           }
          ],
          "scattergeo": [
           {
            "marker": {
             "colorbar": {
              "outlinewidth": 0,
              "ticks": ""
             }
            },
            "type": "scattergeo"
           }
          ],
          "scattergl": [
           {
            "marker": {
             "colorbar": {
              "outlinewidth": 0,
              "ticks": ""
             }
            },
            "type": "scattergl"
           }
          ],
          "scattermapbox": [
           {
            "marker": {
             "colorbar": {
              "outlinewidth": 0,
              "ticks": ""
             }
            },
            "type": "scattermapbox"
           }
          ],
          "scatterpolar": [
           {
            "marker": {
             "colorbar": {
              "outlinewidth": 0,
              "ticks": ""
             }
            },
            "type": "scatterpolar"
           }
          ],
          "scatterpolargl": [
           {
            "marker": {
             "colorbar": {
              "outlinewidth": 0,
              "ticks": ""
             }
            },
            "type": "scatterpolargl"
           }
          ],
          "scatterternary": [
           {
            "marker": {
             "colorbar": {
              "outlinewidth": 0,
              "ticks": ""
             }
            },
            "type": "scatterternary"
           }
          ],
          "surface": [
           {
            "colorbar": {
             "outlinewidth": 0,
             "ticks": ""
            },
            "colorscale": [
             [
              0,
              "#0d0887"
             ],
             [
              0.1111111111111111,
              "#46039f"
             ],
             [
              0.2222222222222222,
              "#7201a8"
             ],
             [
              0.3333333333333333,
              "#9c179e"
             ],
             [
              0.4444444444444444,
              "#bd3786"
             ],
             [
              0.5555555555555556,
              "#d8576b"
             ],
             [
              0.6666666666666666,
              "#ed7953"
             ],
             [
              0.7777777777777778,
              "#fb9f3a"
             ],
             [
              0.8888888888888888,
              "#fdca26"
             ],
             [
              1,
              "#f0f921"
             ]
            ],
            "type": "surface"
           }
          ],
          "table": [
           {
            "cells": {
             "fill": {
              "color": "#EBF0F8"
             },
             "line": {
              "color": "white"
             }
            },
            "header": {
             "fill": {
              "color": "#C8D4E3"
             },
             "line": {
              "color": "white"
             }
            },
            "type": "table"
           }
          ]
         },
         "layout": {
          "annotationdefaults": {
           "arrowcolor": "#2a3f5f",
           "arrowhead": 0,
           "arrowwidth": 1
          },
          "autotypenumbers": "strict",
          "coloraxis": {
           "colorbar": {
            "outlinewidth": 0,
            "ticks": ""
           }
          },
          "colorscale": {
           "diverging": [
            [
             0,
             "#8e0152"
            ],
            [
             0.1,
             "#c51b7d"
            ],
            [
             0.2,
             "#de77ae"
            ],
            [
             0.3,
             "#f1b6da"
            ],
            [
             0.4,
             "#fde0ef"
            ],
            [
             0.5,
             "#f7f7f7"
            ],
            [
             0.6,
             "#e6f5d0"
            ],
            [
             0.7,
             "#b8e186"
            ],
            [
             0.8,
             "#7fbc41"
            ],
            [
             0.9,
             "#4d9221"
            ],
            [
             1,
             "#276419"
            ]
           ],
           "sequential": [
            [
             0,
             "#0d0887"
            ],
            [
             0.1111111111111111,
             "#46039f"
            ],
            [
             0.2222222222222222,
             "#7201a8"
            ],
            [
             0.3333333333333333,
             "#9c179e"
            ],
            [
             0.4444444444444444,
             "#bd3786"
            ],
            [
             0.5555555555555556,
             "#d8576b"
            ],
            [
             0.6666666666666666,
             "#ed7953"
            ],
            [
             0.7777777777777778,
             "#fb9f3a"
            ],
            [
             0.8888888888888888,
             "#fdca26"
            ],
            [
             1,
             "#f0f921"
            ]
           ],
           "sequentialminus": [
            [
             0,
             "#0d0887"
            ],
            [
             0.1111111111111111,
             "#46039f"
            ],
            [
             0.2222222222222222,
             "#7201a8"
            ],
            [
             0.3333333333333333,
             "#9c179e"
            ],
            [
             0.4444444444444444,
             "#bd3786"
            ],
            [
             0.5555555555555556,
             "#d8576b"
            ],
            [
             0.6666666666666666,
             "#ed7953"
            ],
            [
             0.7777777777777778,
             "#fb9f3a"
            ],
            [
             0.8888888888888888,
             "#fdca26"
            ],
            [
             1,
             "#f0f921"
            ]
           ]
          },
          "colorway": [
           "#636efa",
           "#EF553B",
           "#00cc96",
           "#ab63fa",
           "#FFA15A",
           "#19d3f3",
           "#FF6692",
           "#B6E880",
           "#FF97FF",
           "#FECB52"
          ],
          "font": {
           "color": "#2a3f5f"
          },
          "geo": {
           "bgcolor": "white",
           "lakecolor": "white",
           "landcolor": "#E5ECF6",
           "showlakes": true,
           "showland": true,
           "subunitcolor": "white"
          },
          "hoverlabel": {
           "align": "left"
          },
          "hovermode": "closest",
          "mapbox": {
           "style": "light"
          },
          "paper_bgcolor": "white",
          "plot_bgcolor": "#E5ECF6",
          "polar": {
           "angularaxis": {
            "gridcolor": "white",
            "linecolor": "white",
            "ticks": ""
           },
           "bgcolor": "#E5ECF6",
           "radialaxis": {
            "gridcolor": "white",
            "linecolor": "white",
            "ticks": ""
           }
          },
          "scene": {
           "xaxis": {
            "backgroundcolor": "#E5ECF6",
            "gridcolor": "white",
            "gridwidth": 2,
            "linecolor": "white",
            "showbackground": true,
            "ticks": "",
            "zerolinecolor": "white"
           },
           "yaxis": {
            "backgroundcolor": "#E5ECF6",
            "gridcolor": "white",
            "gridwidth": 2,
            "linecolor": "white",
            "showbackground": true,
            "ticks": "",
            "zerolinecolor": "white"
           },
           "zaxis": {
            "backgroundcolor": "#E5ECF6",
            "gridcolor": "white",
            "gridwidth": 2,
            "linecolor": "white",
            "showbackground": true,
            "ticks": "",
            "zerolinecolor": "white"
           }
          },
          "shapedefaults": {
           "line": {
            "color": "#2a3f5f"
           }
          },
          "ternary": {
           "aaxis": {
            "gridcolor": "white",
            "linecolor": "white",
            "ticks": ""
           },
           "baxis": {
            "gridcolor": "white",
            "linecolor": "white",
            "ticks": ""
           },
           "bgcolor": "#E5ECF6",
           "caxis": {
            "gridcolor": "white",
            "linecolor": "white",
            "ticks": ""
           }
          },
          "title": {
           "x": 0.05
          },
          "xaxis": {
           "automargin": true,
           "gridcolor": "white",
           "linecolor": "white",
           "ticks": "",
           "title": {
            "standoff": 15
           },
           "zerolinecolor": "white",
           "zerolinewidth": 2
          },
          "yaxis": {
           "automargin": true,
           "gridcolor": "white",
           "linecolor": "white",
           "ticks": "",
           "title": {
            "standoff": 15
           },
           "zerolinecolor": "white",
           "zerolinewidth": 2
          }
         }
        },
        "title": {
         "text": "Distribution of census race classification by artist country."
        },
        "width": 1200,
        "xaxis2": {
         "overlaying": "x",
         "range": [
          0,
          11
         ],
         "showticklabels": false
        },
        "yaxis": {
         "dtick": 0.1,
         "gridcolor": "lightgray",
         "range": [
          0,
          1
         ],
         "tickformat": ".0%"
        }
       }
      }
     },
     "metadata": {},
     "output_type": "display_data"
    }
   ],
   "source": [
    "plot_categorical_comparison(\n",
    "                                        categories = df['census_race_classification'], \n",
    "                                        compare_by = df['artist_country'], \n",
    "                                        comparison_filter=['us','cdn','uk','int'], \n",
    "                                        color_dict=COLOR_DICT )"
   ]
  },
  {
   "cell_type": "code",
   "execution_count": 6,
   "metadata": {},
   "outputs": [
    {
     "data": {
      "application/vnd.plotly.v1+json": {
       "config": {
        "plotlyServerURL": "https://plot.ly"
       },
       "data": [
        {
         "marker": {
          "color": "#3279B3"
         },
         "name": "us",
         "type": "bar",
         "x": [
          "male",
          "mixed",
          "female",
          "unknown"
         ],
         "y": [
          0.9083993660855785,
          0.0538827258320127,
          0.03750660327522448,
          0.00021130480718434264
         ]
        },
        {
         "marker": {
          "color": "#B32E29"
         },
         "name": "cdn",
         "type": "bar",
         "x": [
          "male",
          "mixed",
          "female",
          "unknown"
         ],
         "y": [
          0.9110427302608574,
          0.061752570109797844,
          0.018043219805580768,
          0.009161479823763918
         ]
        },
        {
         "marker": {
          "color": "#DE7012"
         },
         "name": "uk",
         "type": "bar",
         "x": [
          "male",
          "mixed",
          "female",
          "unknown"
         ],
         "y": [
          0.6463844797178131,
          0.08201058201058198,
          0.2716049382716049,
          0
         ]
        },
        {
         "marker": {
          "color": "#FACD14"
         },
         "name": "int",
         "type": "bar",
         "x": [
          "male",
          "mixed",
          "female",
          "unknown"
         ],
         "y": [
          0.8239564428312159,
          0.052631578947368474,
          0.12341197822141559,
          0
         ]
        },
        {
         "marker": {
          "color": "#303030"
         },
         "mode": "lines",
         "name": "male_average",
         "showlegend": false,
         "type": "scatter",
         "x": [
          0,
          1
         ],
         "xaxis": "x2",
         "y": [
          0.8224457547238662,
          0.8224457547238662
         ]
        },
        {
         "marker": {
          "color": "#303030"
         },
         "mode": "lines",
         "name": "mixed_average",
         "showlegend": false,
         "type": "scatter",
         "x": [
          1,
          2
         ],
         "xaxis": "x2",
         "y": [
          0.06256936422494025,
          0.06256936422494025
         ]
        },
        {
         "marker": {
          "color": "#303030"
         },
         "mode": "lines",
         "name": "female_average",
         "showlegend": false,
         "type": "scatter",
         "x": [
          2,
          3
         ],
         "xaxis": "x2",
         "y": [
          0.11264168489345644,
          0.11264168489345644
         ]
        },
        {
         "marker": {
          "color": "#303030"
         },
         "mode": "lines",
         "name": "unknown_average",
         "showlegend": false,
         "type": "scatter",
         "x": [
          3,
          4
         ],
         "xaxis": "x2",
         "y": [
          0.0023431961577370652,
          0.0023431961577370652
         ]
        }
       ],
       "layout": {
        "barmode": "group",
        "font": {
         "size": 16
        },
        "height": 600,
        "plot_bgcolor": "white",
        "template": {
         "data": {
          "bar": [
           {
            "error_x": {
             "color": "#2a3f5f"
            },
            "error_y": {
             "color": "#2a3f5f"
            },
            "marker": {
             "line": {
              "color": "#E5ECF6",
              "width": 0.5
             },
             "pattern": {
              "fillmode": "overlay",
              "size": 10,
              "solidity": 0.2
             }
            },
            "type": "bar"
           }
          ],
          "barpolar": [
           {
            "marker": {
             "line": {
              "color": "#E5ECF6",
              "width": 0.5
             },
             "pattern": {
              "fillmode": "overlay",
              "size": 10,
              "solidity": 0.2
             }
            },
            "type": "barpolar"
           }
          ],
          "carpet": [
           {
            "aaxis": {
             "endlinecolor": "#2a3f5f",
             "gridcolor": "white",
             "linecolor": "white",
             "minorgridcolor": "white",
             "startlinecolor": "#2a3f5f"
            },
            "baxis": {
             "endlinecolor": "#2a3f5f",
             "gridcolor": "white",
             "linecolor": "white",
             "minorgridcolor": "white",
             "startlinecolor": "#2a3f5f"
            },
            "type": "carpet"
           }
          ],
          "choropleth": [
           {
            "colorbar": {
             "outlinewidth": 0,
             "ticks": ""
            },
            "type": "choropleth"
           }
          ],
          "contour": [
           {
            "colorbar": {
             "outlinewidth": 0,
             "ticks": ""
            },
            "colorscale": [
             [
              0,
              "#0d0887"
             ],
             [
              0.1111111111111111,
              "#46039f"
             ],
             [
              0.2222222222222222,
              "#7201a8"
             ],
             [
              0.3333333333333333,
              "#9c179e"
             ],
             [
              0.4444444444444444,
              "#bd3786"
             ],
             [
              0.5555555555555556,
              "#d8576b"
             ],
             [
              0.6666666666666666,
              "#ed7953"
             ],
             [
              0.7777777777777778,
              "#fb9f3a"
             ],
             [
              0.8888888888888888,
              "#fdca26"
             ],
             [
              1,
              "#f0f921"
             ]
            ],
            "type": "contour"
           }
          ],
          "contourcarpet": [
           {
            "colorbar": {
             "outlinewidth": 0,
             "ticks": ""
            },
            "type": "contourcarpet"
           }
          ],
          "heatmap": [
           {
            "colorbar": {
             "outlinewidth": 0,
             "ticks": ""
            },
            "colorscale": [
             [
              0,
              "#0d0887"
             ],
             [
              0.1111111111111111,
              "#46039f"
             ],
             [
              0.2222222222222222,
              "#7201a8"
             ],
             [
              0.3333333333333333,
              "#9c179e"
             ],
             [
              0.4444444444444444,
              "#bd3786"
             ],
             [
              0.5555555555555556,
              "#d8576b"
             ],
             [
              0.6666666666666666,
              "#ed7953"
             ],
             [
              0.7777777777777778,
              "#fb9f3a"
             ],
             [
              0.8888888888888888,
              "#fdca26"
             ],
             [
              1,
              "#f0f921"
             ]
            ],
            "type": "heatmap"
           }
          ],
          "heatmapgl": [
           {
            "colorbar": {
             "outlinewidth": 0,
             "ticks": ""
            },
            "colorscale": [
             [
              0,
              "#0d0887"
             ],
             [
              0.1111111111111111,
              "#46039f"
             ],
             [
              0.2222222222222222,
              "#7201a8"
             ],
             [
              0.3333333333333333,
              "#9c179e"
             ],
             [
              0.4444444444444444,
              "#bd3786"
             ],
             [
              0.5555555555555556,
              "#d8576b"
             ],
             [
              0.6666666666666666,
              "#ed7953"
             ],
             [
              0.7777777777777778,
              "#fb9f3a"
             ],
             [
              0.8888888888888888,
              "#fdca26"
             ],
             [
              1,
              "#f0f921"
             ]
            ],
            "type": "heatmapgl"
           }
          ],
          "histogram": [
           {
            "marker": {
             "pattern": {
              "fillmode": "overlay",
              "size": 10,
              "solidity": 0.2
             }
            },
            "type": "histogram"
           }
          ],
          "histogram2d": [
           {
            "colorbar": {
             "outlinewidth": 0,
             "ticks": ""
            },
            "colorscale": [
             [
              0,
              "#0d0887"
             ],
             [
              0.1111111111111111,
              "#46039f"
             ],
             [
              0.2222222222222222,
              "#7201a8"
             ],
             [
              0.3333333333333333,
              "#9c179e"
             ],
             [
              0.4444444444444444,
              "#bd3786"
             ],
             [
              0.5555555555555556,
              "#d8576b"
             ],
             [
              0.6666666666666666,
              "#ed7953"
             ],
             [
              0.7777777777777778,
              "#fb9f3a"
             ],
             [
              0.8888888888888888,
              "#fdca26"
             ],
             [
              1,
              "#f0f921"
             ]
            ],
            "type": "histogram2d"
           }
          ],
          "histogram2dcontour": [
           {
            "colorbar": {
             "outlinewidth": 0,
             "ticks": ""
            },
            "colorscale": [
             [
              0,
              "#0d0887"
             ],
             [
              0.1111111111111111,
              "#46039f"
             ],
             [
              0.2222222222222222,
              "#7201a8"
             ],
             [
              0.3333333333333333,
              "#9c179e"
             ],
             [
              0.4444444444444444,
              "#bd3786"
             ],
             [
              0.5555555555555556,
              "#d8576b"
             ],
             [
              0.6666666666666666,
              "#ed7953"
             ],
             [
              0.7777777777777778,
              "#fb9f3a"
             ],
             [
              0.8888888888888888,
              "#fdca26"
             ],
             [
              1,
              "#f0f921"
             ]
            ],
            "type": "histogram2dcontour"
           }
          ],
          "mesh3d": [
           {
            "colorbar": {
             "outlinewidth": 0,
             "ticks": ""
            },
            "type": "mesh3d"
           }
          ],
          "parcoords": [
           {
            "line": {
             "colorbar": {
              "outlinewidth": 0,
              "ticks": ""
             }
            },
            "type": "parcoords"
           }
          ],
          "pie": [
           {
            "automargin": true,
            "type": "pie"
           }
          ],
          "scatter": [
           {
            "marker": {
             "colorbar": {
              "outlinewidth": 0,
              "ticks": ""
             }
            },
            "type": "scatter"
           }
          ],
          "scatter3d": [
           {
            "line": {
             "colorbar": {
              "outlinewidth": 0,
              "ticks": ""
             }
            },
            "marker": {
             "colorbar": {
              "outlinewidth": 0,
              "ticks": ""
             }
            },
            "type": "scatter3d"
           }
          ],
          "scattercarpet": [
           {
            "marker": {
             "colorbar": {
              "outlinewidth": 0,
              "ticks": ""
             }
            },
            "type": "scattercarpet"
           }
          ],
          "scattergeo": [
           {
            "marker": {
             "colorbar": {
              "outlinewidth": 0,
              "ticks": ""
             }
            },
            "type": "scattergeo"
           }
          ],
          "scattergl": [
           {
            "marker": {
             "colorbar": {
              "outlinewidth": 0,
              "ticks": ""
             }
            },
            "type": "scattergl"
           }
          ],
          "scattermapbox": [
           {
            "marker": {
             "colorbar": {
              "outlinewidth": 0,
              "ticks": ""
             }
            },
            "type": "scattermapbox"
           }
          ],
          "scatterpolar": [
           {
            "marker": {
             "colorbar": {
              "outlinewidth": 0,
              "ticks": ""
             }
            },
            "type": "scatterpolar"
           }
          ],
          "scatterpolargl": [
           {
            "marker": {
             "colorbar": {
              "outlinewidth": 0,
              "ticks": ""
             }
            },
            "type": "scatterpolargl"
           }
          ],
          "scatterternary": [
           {
            "marker": {
             "colorbar": {
              "outlinewidth": 0,
              "ticks": ""
             }
            },
            "type": "scatterternary"
           }
          ],
          "surface": [
           {
            "colorbar": {
             "outlinewidth": 0,
             "ticks": ""
            },
            "colorscale": [
             [
              0,
              "#0d0887"
             ],
             [
              0.1111111111111111,
              "#46039f"
             ],
             [
              0.2222222222222222,
              "#7201a8"
             ],
             [
              0.3333333333333333,
              "#9c179e"
             ],
             [
              0.4444444444444444,
              "#bd3786"
             ],
             [
              0.5555555555555556,
              "#d8576b"
             ],
             [
              0.6666666666666666,
              "#ed7953"
             ],
             [
              0.7777777777777778,
              "#fb9f3a"
             ],
             [
              0.8888888888888888,
              "#fdca26"
             ],
             [
              1,
              "#f0f921"
             ]
            ],
            "type": "surface"
           }
          ],
          "table": [
           {
            "cells": {
             "fill": {
              "color": "#EBF0F8"
             },
             "line": {
              "color": "white"
             }
            },
            "header": {
             "fill": {
              "color": "#C8D4E3"
             },
             "line": {
              "color": "white"
             }
            },
            "type": "table"
           }
          ]
         },
         "layout": {
          "annotationdefaults": {
           "arrowcolor": "#2a3f5f",
           "arrowhead": 0,
           "arrowwidth": 1
          },
          "autotypenumbers": "strict",
          "coloraxis": {
           "colorbar": {
            "outlinewidth": 0,
            "ticks": ""
           }
          },
          "colorscale": {
           "diverging": [
            [
             0,
             "#8e0152"
            ],
            [
             0.1,
             "#c51b7d"
            ],
            [
             0.2,
             "#de77ae"
            ],
            [
             0.3,
             "#f1b6da"
            ],
            [
             0.4,
             "#fde0ef"
            ],
            [
             0.5,
             "#f7f7f7"
            ],
            [
             0.6,
             "#e6f5d0"
            ],
            [
             0.7,
             "#b8e186"
            ],
            [
             0.8,
             "#7fbc41"
            ],
            [
             0.9,
             "#4d9221"
            ],
            [
             1,
             "#276419"
            ]
           ],
           "sequential": [
            [
             0,
             "#0d0887"
            ],
            [
             0.1111111111111111,
             "#46039f"
            ],
            [
             0.2222222222222222,
             "#7201a8"
            ],
            [
             0.3333333333333333,
             "#9c179e"
            ],
            [
             0.4444444444444444,
             "#bd3786"
            ],
            [
             0.5555555555555556,
             "#d8576b"
            ],
            [
             0.6666666666666666,
             "#ed7953"
            ],
            [
             0.7777777777777778,
             "#fb9f3a"
            ],
            [
             0.8888888888888888,
             "#fdca26"
            ],
            [
             1,
             "#f0f921"
            ]
           ],
           "sequentialminus": [
            [
             0,
             "#0d0887"
            ],
            [
             0.1111111111111111,
             "#46039f"
            ],
            [
             0.2222222222222222,
             "#7201a8"
            ],
            [
             0.3333333333333333,
             "#9c179e"
            ],
            [
             0.4444444444444444,
             "#bd3786"
            ],
            [
             0.5555555555555556,
             "#d8576b"
            ],
            [
             0.6666666666666666,
             "#ed7953"
            ],
            [
             0.7777777777777778,
             "#fb9f3a"
            ],
            [
             0.8888888888888888,
             "#fdca26"
            ],
            [
             1,
             "#f0f921"
            ]
           ]
          },
          "colorway": [
           "#636efa",
           "#EF553B",
           "#00cc96",
           "#ab63fa",
           "#FFA15A",
           "#19d3f3",
           "#FF6692",
           "#B6E880",
           "#FF97FF",
           "#FECB52"
          ],
          "font": {
           "color": "#2a3f5f"
          },
          "geo": {
           "bgcolor": "white",
           "lakecolor": "white",
           "landcolor": "#E5ECF6",
           "showlakes": true,
           "showland": true,
           "subunitcolor": "white"
          },
          "hoverlabel": {
           "align": "left"
          },
          "hovermode": "closest",
          "mapbox": {
           "style": "light"
          },
          "paper_bgcolor": "white",
          "plot_bgcolor": "#E5ECF6",
          "polar": {
           "angularaxis": {
            "gridcolor": "white",
            "linecolor": "white",
            "ticks": ""
           },
           "bgcolor": "#E5ECF6",
           "radialaxis": {
            "gridcolor": "white",
            "linecolor": "white",
            "ticks": ""
           }
          },
          "scene": {
           "xaxis": {
            "backgroundcolor": "#E5ECF6",
            "gridcolor": "white",
            "gridwidth": 2,
            "linecolor": "white",
            "showbackground": true,
            "ticks": "",
            "zerolinecolor": "white"
           },
           "yaxis": {
            "backgroundcolor": "#E5ECF6",
            "gridcolor": "white",
            "gridwidth": 2,
            "linecolor": "white",
            "showbackground": true,
            "ticks": "",
            "zerolinecolor": "white"
           },
           "zaxis": {
            "backgroundcolor": "#E5ECF6",
            "gridcolor": "white",
            "gridwidth": 2,
            "linecolor": "white",
            "showbackground": true,
            "ticks": "",
            "zerolinecolor": "white"
           }
          },
          "shapedefaults": {
           "line": {
            "color": "#2a3f5f"
           }
          },
          "ternary": {
           "aaxis": {
            "gridcolor": "white",
            "linecolor": "white",
            "ticks": ""
           },
           "baxis": {
            "gridcolor": "white",
            "linecolor": "white",
            "ticks": ""
           },
           "bgcolor": "#E5ECF6",
           "caxis": {
            "gridcolor": "white",
            "linecolor": "white",
            "ticks": ""
           }
          },
          "title": {
           "x": 0.05
          },
          "xaxis": {
           "automargin": true,
           "gridcolor": "white",
           "linecolor": "white",
           "ticks": "",
           "title": {
            "standoff": 15
           },
           "zerolinecolor": "white",
           "zerolinewidth": 2
          },
          "yaxis": {
           "automargin": true,
           "gridcolor": "white",
           "linecolor": "white",
           "ticks": "",
           "title": {
            "standoff": 15
           },
           "zerolinecolor": "white",
           "zerolinewidth": 2
          }
         }
        },
        "title": {
         "text": "Distribution of artist gender by artist country."
        },
        "width": 1200,
        "xaxis2": {
         "overlaying": "x",
         "range": [
          0,
          4
         ],
         "showticklabels": false
        },
        "yaxis": {
         "dtick": 0.1,
         "gridcolor": "lightgray",
         "range": [
          0,
          1
         ],
         "tickformat": ".0%"
        }
       }
      }
     },
     "metadata": {},
     "output_type": "display_data"
    }
   ],
   "source": [
    "plot_categorical_comparison(\n",
    "                                        categories = df['artist_gender'], \n",
    "                                        compare_by = df['artist_country'], \n",
    "                                        comparison_filter=['us','cdn','uk','int'], \n",
    "                                        color_dict=COLOR_DICT )"
   ]
  },
  {
   "cell_type": "code",
   "execution_count": 56,
   "metadata": {},
   "outputs": [
    {
     "data": {
      "application/vnd.plotly.v1+json": {
       "config": {
        "plotlyServerURL": "https://plot.ly"
       },
       "data": [
        {
         "marker": {
          "color": "#587AFF"
         },
         "name": "alberta",
         "type": "bar",
         "x": [
          "bipoc",
          "white"
         ],
         "y": [
          0.6299019607843137,
          0.35653594771241826
         ]
        },
        {
         "marker": {
          "color": "#37BD54"
         },
         "name": "british columbia",
         "type": "bar",
         "x": [
          "bipoc",
          "white"
         ],
         "y": [
          0.6761229314420804,
          0.3062374977268594
         ]
        },
        {
         "marker": {
          "color": "#FFD140"
         },
         "name": "manitoba",
         "type": "bar",
         "x": [
          "bipoc",
          "white"
         ],
         "y": [
          0.65,
          0.35
         ]
        },
        {
         "marker": {
          "color": "#FF9A30"
         },
         "name": "nova scotia",
         "type": "bar",
         "x": [
          "bipoc",
          "white"
         ],
         "y": [
          0.5205128205128204,
          0.4551282051282052
         ]
        },
        {
         "marker": {
          "color": "#BD2F24"
         },
         "name": "ontario",
         "type": "bar",
         "x": [
          "bipoc",
          "white"
         ],
         "y": [
          0.6884985130368628,
          0.3041704128916246
         ]
        },
        {
         "marker": {
          "color": "#60C3FF"
         },
         "name": "quebec",
         "type": "bar",
         "x": [
          "bipoc",
          "white"
         ],
         "y": [
          0.6774247491638796,
          0.31739130434782614
         ]
        },
        {
         "marker": {
          "color": "#9552FF"
         },
         "name": "new brunswick",
         "type": "bar",
         "x": [
          "bipoc",
          "white"
         ],
         "y": [
          0.678125,
          0.3203125
         ]
        },
        {
         "marker": {
          "color": "#303030"
         },
         "mode": "lines",
         "name": "bipoc_average",
         "showlegend": false,
         "type": "scatter",
         "x": [
          0,
          1
         ],
         "xaxis": "x2",
         "y": [
          0.6457979964199938,
          0.6457979964199938
         ]
        },
        {
         "marker": {
          "color": "#303030"
         },
         "mode": "lines",
         "name": "white_average",
         "showlegend": false,
         "type": "scatter",
         "x": [
          1,
          2
         ],
         "xaxis": "x2",
         "y": [
          0.34425369540099054,
          0.34425369540099054
         ]
        }
       ],
       "layout": {
        "barmode": "group",
        "font": {
         "size": 16
        },
        "height": 600,
        "plot_bgcolor": "white",
        "template": {
         "data": {
          "bar": [
           {
            "error_x": {
             "color": "#2a3f5f"
            },
            "error_y": {
             "color": "#2a3f5f"
            },
            "marker": {
             "line": {
              "color": "#E5ECF6",
              "width": 0.5
             },
             "pattern": {
              "fillmode": "overlay",
              "size": 10,
              "solidity": 0.2
             }
            },
            "type": "bar"
           }
          ],
          "barpolar": [
           {
            "marker": {
             "line": {
              "color": "#E5ECF6",
              "width": 0.5
             },
             "pattern": {
              "fillmode": "overlay",
              "size": 10,
              "solidity": 0.2
             }
            },
            "type": "barpolar"
           }
          ],
          "carpet": [
           {
            "aaxis": {
             "endlinecolor": "#2a3f5f",
             "gridcolor": "white",
             "linecolor": "white",
             "minorgridcolor": "white",
             "startlinecolor": "#2a3f5f"
            },
            "baxis": {
             "endlinecolor": "#2a3f5f",
             "gridcolor": "white",
             "linecolor": "white",
             "minorgridcolor": "white",
             "startlinecolor": "#2a3f5f"
            },
            "type": "carpet"
           }
          ],
          "choropleth": [
           {
            "colorbar": {
             "outlinewidth": 0,
             "ticks": ""
            },
            "type": "choropleth"
           }
          ],
          "contour": [
           {
            "colorbar": {
             "outlinewidth": 0,
             "ticks": ""
            },
            "colorscale": [
             [
              0,
              "#0d0887"
             ],
             [
              0.1111111111111111,
              "#46039f"
             ],
             [
              0.2222222222222222,
              "#7201a8"
             ],
             [
              0.3333333333333333,
              "#9c179e"
             ],
             [
              0.4444444444444444,
              "#bd3786"
             ],
             [
              0.5555555555555556,
              "#d8576b"
             ],
             [
              0.6666666666666666,
              "#ed7953"
             ],
             [
              0.7777777777777778,
              "#fb9f3a"
             ],
             [
              0.8888888888888888,
              "#fdca26"
             ],
             [
              1,
              "#f0f921"
             ]
            ],
            "type": "contour"
           }
          ],
          "contourcarpet": [
           {
            "colorbar": {
             "outlinewidth": 0,
             "ticks": ""
            },
            "type": "contourcarpet"
           }
          ],
          "heatmap": [
           {
            "colorbar": {
             "outlinewidth": 0,
             "ticks": ""
            },
            "colorscale": [
             [
              0,
              "#0d0887"
             ],
             [
              0.1111111111111111,
              "#46039f"
             ],
             [
              0.2222222222222222,
              "#7201a8"
             ],
             [
              0.3333333333333333,
              "#9c179e"
             ],
             [
              0.4444444444444444,
              "#bd3786"
             ],
             [
              0.5555555555555556,
              "#d8576b"
             ],
             [
              0.6666666666666666,
              "#ed7953"
             ],
             [
              0.7777777777777778,
              "#fb9f3a"
             ],
             [
              0.8888888888888888,
              "#fdca26"
             ],
             [
              1,
              "#f0f921"
             ]
            ],
            "type": "heatmap"
           }
          ],
          "heatmapgl": [
           {
            "colorbar": {
             "outlinewidth": 0,
             "ticks": ""
            },
            "colorscale": [
             [
              0,
              "#0d0887"
             ],
             [
              0.1111111111111111,
              "#46039f"
             ],
             [
              0.2222222222222222,
              "#7201a8"
             ],
             [
              0.3333333333333333,
              "#9c179e"
             ],
             [
              0.4444444444444444,
              "#bd3786"
             ],
             [
              0.5555555555555556,
              "#d8576b"
             ],
             [
              0.6666666666666666,
              "#ed7953"
             ],
             [
              0.7777777777777778,
              "#fb9f3a"
             ],
             [
              0.8888888888888888,
              "#fdca26"
             ],
             [
              1,
              "#f0f921"
             ]
            ],
            "type": "heatmapgl"
           }
          ],
          "histogram": [
           {
            "marker": {
             "pattern": {
              "fillmode": "overlay",
              "size": 10,
              "solidity": 0.2
             }
            },
            "type": "histogram"
           }
          ],
          "histogram2d": [
           {
            "colorbar": {
             "outlinewidth": 0,
             "ticks": ""
            },
            "colorscale": [
             [
              0,
              "#0d0887"
             ],
             [
              0.1111111111111111,
              "#46039f"
             ],
             [
              0.2222222222222222,
              "#7201a8"
             ],
             [
              0.3333333333333333,
              "#9c179e"
             ],
             [
              0.4444444444444444,
              "#bd3786"
             ],
             [
              0.5555555555555556,
              "#d8576b"
             ],
             [
              0.6666666666666666,
              "#ed7953"
             ],
             [
              0.7777777777777778,
              "#fb9f3a"
             ],
             [
              0.8888888888888888,
              "#fdca26"
             ],
             [
              1,
              "#f0f921"
             ]
            ],
            "type": "histogram2d"
           }
          ],
          "histogram2dcontour": [
           {
            "colorbar": {
             "outlinewidth": 0,
             "ticks": ""
            },
            "colorscale": [
             [
              0,
              "#0d0887"
             ],
             [
              0.1111111111111111,
              "#46039f"
             ],
             [
              0.2222222222222222,
              "#7201a8"
             ],
             [
              0.3333333333333333,
              "#9c179e"
             ],
             [
              0.4444444444444444,
              "#bd3786"
             ],
             [
              0.5555555555555556,
              "#d8576b"
             ],
             [
              0.6666666666666666,
              "#ed7953"
             ],
             [
              0.7777777777777778,
              "#fb9f3a"
             ],
             [
              0.8888888888888888,
              "#fdca26"
             ],
             [
              1,
              "#f0f921"
             ]
            ],
            "type": "histogram2dcontour"
           }
          ],
          "mesh3d": [
           {
            "colorbar": {
             "outlinewidth": 0,
             "ticks": ""
            },
            "type": "mesh3d"
           }
          ],
          "parcoords": [
           {
            "line": {
             "colorbar": {
              "outlinewidth": 0,
              "ticks": ""
             }
            },
            "type": "parcoords"
           }
          ],
          "pie": [
           {
            "automargin": true,
            "type": "pie"
           }
          ],
          "scatter": [
           {
            "marker": {
             "colorbar": {
              "outlinewidth": 0,
              "ticks": ""
             }
            },
            "type": "scatter"
           }
          ],
          "scatter3d": [
           {
            "line": {
             "colorbar": {
              "outlinewidth": 0,
              "ticks": ""
             }
            },
            "marker": {
             "colorbar": {
              "outlinewidth": 0,
              "ticks": ""
             }
            },
            "type": "scatter3d"
           }
          ],
          "scattercarpet": [
           {
            "marker": {
             "colorbar": {
              "outlinewidth": 0,
              "ticks": ""
             }
            },
            "type": "scattercarpet"
           }
          ],
          "scattergeo": [
           {
            "marker": {
             "colorbar": {
              "outlinewidth": 0,
              "ticks": ""
             }
            },
            "type": "scattergeo"
           }
          ],
          "scattergl": [
           {
            "marker": {
             "colorbar": {
              "outlinewidth": 0,
              "ticks": ""
             }
            },
            "type": "scattergl"
           }
          ],
          "scattermapbox": [
           {
            "marker": {
             "colorbar": {
              "outlinewidth": 0,
              "ticks": ""
             }
            },
            "type": "scattermapbox"
           }
          ],
          "scatterpolar": [
           {
            "marker": {
             "colorbar": {
              "outlinewidth": 0,
              "ticks": ""
             }
            },
            "type": "scatterpolar"
           }
          ],
          "scatterpolargl": [
           {
            "marker": {
             "colorbar": {
              "outlinewidth": 0,
              "ticks": ""
             }
            },
            "type": "scatterpolargl"
           }
          ],
          "scatterternary": [
           {
            "marker": {
             "colorbar": {
              "outlinewidth": 0,
              "ticks": ""
             }
            },
            "type": "scatterternary"
           }
          ],
          "surface": [
           {
            "colorbar": {
             "outlinewidth": 0,
             "ticks": ""
            },
            "colorscale": [
             [
              0,
              "#0d0887"
             ],
             [
              0.1111111111111111,
              "#46039f"
             ],
             [
              0.2222222222222222,
              "#7201a8"
             ],
             [
              0.3333333333333333,
              "#9c179e"
             ],
             [
              0.4444444444444444,
              "#bd3786"
             ],
             [
              0.5555555555555556,
              "#d8576b"
             ],
             [
              0.6666666666666666,
              "#ed7953"
             ],
             [
              0.7777777777777778,
              "#fb9f3a"
             ],
             [
              0.8888888888888888,
              "#fdca26"
             ],
             [
              1,
              "#f0f921"
             ]
            ],
            "type": "surface"
           }
          ],
          "table": [
           {
            "cells": {
             "fill": {
              "color": "#EBF0F8"
             },
             "line": {
              "color": "white"
             }
            },
            "header": {
             "fill": {
              "color": "#C8D4E3"
             },
             "line": {
              "color": "white"
             }
            },
            "type": "table"
           }
          ]
         },
         "layout": {
          "annotationdefaults": {
           "arrowcolor": "#2a3f5f",
           "arrowhead": 0,
           "arrowwidth": 1
          },
          "autotypenumbers": "strict",
          "coloraxis": {
           "colorbar": {
            "outlinewidth": 0,
            "ticks": ""
           }
          },
          "colorscale": {
           "diverging": [
            [
             0,
             "#8e0152"
            ],
            [
             0.1,
             "#c51b7d"
            ],
            [
             0.2,
             "#de77ae"
            ],
            [
             0.3,
             "#f1b6da"
            ],
            [
             0.4,
             "#fde0ef"
            ],
            [
             0.5,
             "#f7f7f7"
            ],
            [
             0.6,
             "#e6f5d0"
            ],
            [
             0.7,
             "#b8e186"
            ],
            [
             0.8,
             "#7fbc41"
            ],
            [
             0.9,
             "#4d9221"
            ],
            [
             1,
             "#276419"
            ]
           ],
           "sequential": [
            [
             0,
             "#0d0887"
            ],
            [
             0.1111111111111111,
             "#46039f"
            ],
            [
             0.2222222222222222,
             "#7201a8"
            ],
            [
             0.3333333333333333,
             "#9c179e"
            ],
            [
             0.4444444444444444,
             "#bd3786"
            ],
            [
             0.5555555555555556,
             "#d8576b"
            ],
            [
             0.6666666666666666,
             "#ed7953"
            ],
            [
             0.7777777777777778,
             "#fb9f3a"
            ],
            [
             0.8888888888888888,
             "#fdca26"
            ],
            [
             1,
             "#f0f921"
            ]
           ],
           "sequentialminus": [
            [
             0,
             "#0d0887"
            ],
            [
             0.1111111111111111,
             "#46039f"
            ],
            [
             0.2222222222222222,
             "#7201a8"
            ],
            [
             0.3333333333333333,
             "#9c179e"
            ],
            [
             0.4444444444444444,
             "#bd3786"
            ],
            [
             0.5555555555555556,
             "#d8576b"
            ],
            [
             0.6666666666666666,
             "#ed7953"
            ],
            [
             0.7777777777777778,
             "#fb9f3a"
            ],
            [
             0.8888888888888888,
             "#fdca26"
            ],
            [
             1,
             "#f0f921"
            ]
           ]
          },
          "colorway": [
           "#636efa",
           "#EF553B",
           "#00cc96",
           "#ab63fa",
           "#FFA15A",
           "#19d3f3",
           "#FF6692",
           "#B6E880",
           "#FF97FF",
           "#FECB52"
          ],
          "font": {
           "color": "#2a3f5f"
          },
          "geo": {
           "bgcolor": "white",
           "lakecolor": "white",
           "landcolor": "#E5ECF6",
           "showlakes": true,
           "showland": true,
           "subunitcolor": "white"
          },
          "hoverlabel": {
           "align": "left"
          },
          "hovermode": "closest",
          "mapbox": {
           "style": "light"
          },
          "paper_bgcolor": "white",
          "plot_bgcolor": "#E5ECF6",
          "polar": {
           "angularaxis": {
            "gridcolor": "white",
            "linecolor": "white",
            "ticks": ""
           },
           "bgcolor": "#E5ECF6",
           "radialaxis": {
            "gridcolor": "white",
            "linecolor": "white",
            "ticks": ""
           }
          },
          "scene": {
           "xaxis": {
            "backgroundcolor": "#E5ECF6",
            "gridcolor": "white",
            "gridwidth": 2,
            "linecolor": "white",
            "showbackground": true,
            "ticks": "",
            "zerolinecolor": "white"
           },
           "yaxis": {
            "backgroundcolor": "#E5ECF6",
            "gridcolor": "white",
            "gridwidth": 2,
            "linecolor": "white",
            "showbackground": true,
            "ticks": "",
            "zerolinecolor": "white"
           },
           "zaxis": {
            "backgroundcolor": "#E5ECF6",
            "gridcolor": "white",
            "gridwidth": 2,
            "linecolor": "white",
            "showbackground": true,
            "ticks": "",
            "zerolinecolor": "white"
           }
          },
          "shapedefaults": {
           "line": {
            "color": "#2a3f5f"
           }
          },
          "ternary": {
           "aaxis": {
            "gridcolor": "white",
            "linecolor": "white",
            "ticks": ""
           },
           "baxis": {
            "gridcolor": "white",
            "linecolor": "white",
            "ticks": ""
           },
           "bgcolor": "#E5ECF6",
           "caxis": {
            "gridcolor": "white",
            "linecolor": "white",
            "ticks": ""
           }
          },
          "title": {
           "x": 0.05
          },
          "xaxis": {
           "automargin": true,
           "gridcolor": "white",
           "linecolor": "white",
           "ticks": "",
           "title": {
            "standoff": 15
           },
           "zerolinecolor": "white",
           "zerolinewidth": 2
          },
          "yaxis": {
           "automargin": true,
           "gridcolor": "white",
           "linecolor": "white",
           "ticks": "",
           "title": {
            "standoff": 15
           },
           "zerolinecolor": "white",
           "zerolinewidth": 2
          }
         }
        },
        "title": {
         "text": "Distribution of visible ethnic minority by station province."
        },
        "width": 1200,
        "xaxis2": {
         "overlaying": "x",
         "range": [
          0,
          2
         ],
         "showticklabels": false
        },
        "yaxis": {
         "dtick": 0.1,
         "gridcolor": "lightgray",
         "range": [
          0,
          1
         ],
         "tickformat": ".0%"
        }
       }
      }
     },
     "metadata": {},
     "output_type": "display_data"
    }
   ],
   "source": [
    "named_df = df\n",
    "named_df['visible_ethnic_minority'].replace(['yes','no'],['bipoc','white'],inplace=True)\n",
    "plot_categorical_comparison(\n",
    "                                        categories = named_df['visible_ethnic_minority'], \n",
    "                                        compare_by = named_df['station_province'], \n",
    "                                        category_filter=['bipoc','white'], \n",
    "                                        color_dict=COLOR_DICT )\n"
   ]
  },
  {
   "cell_type": "code",
   "execution_count": 8,
   "metadata": {},
   "outputs": [
    {
     "data": {
      "application/vnd.plotly.v1+json": {
       "config": {
        "plotlyServerURL": "https://plot.ly"
       },
       "data": [
        {
         "marker": {
          "color": "#587AFF"
         },
         "name": "alberta",
         "type": "bar",
         "x": [
          false,
          true
         ],
         "y": [
          0.5794117647058823,
          0.4205882352941176
         ]
        },
        {
         "marker": {
          "color": "#37BD54"
         },
         "name": "british columbia",
         "type": "bar",
         "x": [
          false,
          true
         ],
         "y": [
          0.6172031278414257,
          0.3827968721585743
         ]
        },
        {
         "marker": {
          "color": "#FFD140"
         },
         "name": "manitoba",
         "type": "bar",
         "x": [
          false,
          true
         ],
         "y": [
          0.6491596638655462,
          0.35084033613445376
         ]
        },
        {
         "marker": {
          "color": "#FF9A30"
         },
         "name": "nova scotia",
         "type": "bar",
         "x": [
          false,
          true
         ],
         "y": [
          0.2435897435897436,
          0.7564102564102564
         ]
        },
        {
         "marker": {
          "color": "#BD2F24"
         },
         "name": "ontario",
         "type": "bar",
         "x": [
          false,
          true
         ],
         "y": [
          0.6113147520575419,
          0.38868524794245796
         ]
        },
        {
         "marker": {
          "color": "#60C3FF"
         },
         "name": "quebec",
         "type": "bar",
         "x": [
          false,
          true
         ],
         "y": [
          0.6426421404682274,
          0.35735785953177257
         ]
        },
        {
         "marker": {
          "color": "#9552FF"
         },
         "name": "new brunswick",
         "type": "bar",
         "x": [
          false,
          true
         ],
         "y": [
          0.56875,
          0.43125
         ]
        },
        {
         "marker": {
          "color": "#303030"
         },
         "mode": "lines",
         "name": "False_average",
         "showlegend": false,
         "type": "scatter",
         "x": [
          0,
          1
         ],
         "xaxis": "x2",
         "y": [
          0.5588673132183382,
          0.5588673132183382
         ]
        },
        {
         "marker": {
          "color": "#303030"
         },
         "mode": "lines",
         "name": "True_average",
         "showlegend": false,
         "type": "scatter",
         "x": [
          1,
          2
         ],
         "xaxis": "x2",
         "y": [
          0.44113268678166173,
          0.44113268678166173
         ]
        }
       ],
       "layout": {
        "barmode": "group",
        "font": {
         "size": 16
        },
        "height": 600,
        "plot_bgcolor": "white",
        "template": {
         "data": {
          "bar": [
           {
            "error_x": {
             "color": "#2a3f5f"
            },
            "error_y": {
             "color": "#2a3f5f"
            },
            "marker": {
             "line": {
              "color": "#E5ECF6",
              "width": 0.5
             },
             "pattern": {
              "fillmode": "overlay",
              "size": 10,
              "solidity": 0.2
             }
            },
            "type": "bar"
           }
          ],
          "barpolar": [
           {
            "marker": {
             "line": {
              "color": "#E5ECF6",
              "width": 0.5
             },
             "pattern": {
              "fillmode": "overlay",
              "size": 10,
              "solidity": 0.2
             }
            },
            "type": "barpolar"
           }
          ],
          "carpet": [
           {
            "aaxis": {
             "endlinecolor": "#2a3f5f",
             "gridcolor": "white",
             "linecolor": "white",
             "minorgridcolor": "white",
             "startlinecolor": "#2a3f5f"
            },
            "baxis": {
             "endlinecolor": "#2a3f5f",
             "gridcolor": "white",
             "linecolor": "white",
             "minorgridcolor": "white",
             "startlinecolor": "#2a3f5f"
            },
            "type": "carpet"
           }
          ],
          "choropleth": [
           {
            "colorbar": {
             "outlinewidth": 0,
             "ticks": ""
            },
            "type": "choropleth"
           }
          ],
          "contour": [
           {
            "colorbar": {
             "outlinewidth": 0,
             "ticks": ""
            },
            "colorscale": [
             [
              0,
              "#0d0887"
             ],
             [
              0.1111111111111111,
              "#46039f"
             ],
             [
              0.2222222222222222,
              "#7201a8"
             ],
             [
              0.3333333333333333,
              "#9c179e"
             ],
             [
              0.4444444444444444,
              "#bd3786"
             ],
             [
              0.5555555555555556,
              "#d8576b"
             ],
             [
              0.6666666666666666,
              "#ed7953"
             ],
             [
              0.7777777777777778,
              "#fb9f3a"
             ],
             [
              0.8888888888888888,
              "#fdca26"
             ],
             [
              1,
              "#f0f921"
             ]
            ],
            "type": "contour"
           }
          ],
          "contourcarpet": [
           {
            "colorbar": {
             "outlinewidth": 0,
             "ticks": ""
            },
            "type": "contourcarpet"
           }
          ],
          "heatmap": [
           {
            "colorbar": {
             "outlinewidth": 0,
             "ticks": ""
            },
            "colorscale": [
             [
              0,
              "#0d0887"
             ],
             [
              0.1111111111111111,
              "#46039f"
             ],
             [
              0.2222222222222222,
              "#7201a8"
             ],
             [
              0.3333333333333333,
              "#9c179e"
             ],
             [
              0.4444444444444444,
              "#bd3786"
             ],
             [
              0.5555555555555556,
              "#d8576b"
             ],
             [
              0.6666666666666666,
              "#ed7953"
             ],
             [
              0.7777777777777778,
              "#fb9f3a"
             ],
             [
              0.8888888888888888,
              "#fdca26"
             ],
             [
              1,
              "#f0f921"
             ]
            ],
            "type": "heatmap"
           }
          ],
          "heatmapgl": [
           {
            "colorbar": {
             "outlinewidth": 0,
             "ticks": ""
            },
            "colorscale": [
             [
              0,
              "#0d0887"
             ],
             [
              0.1111111111111111,
              "#46039f"
             ],
             [
              0.2222222222222222,
              "#7201a8"
             ],
             [
              0.3333333333333333,
              "#9c179e"
             ],
             [
              0.4444444444444444,
              "#bd3786"
             ],
             [
              0.5555555555555556,
              "#d8576b"
             ],
             [
              0.6666666666666666,
              "#ed7953"
             ],
             [
              0.7777777777777778,
              "#fb9f3a"
             ],
             [
              0.8888888888888888,
              "#fdca26"
             ],
             [
              1,
              "#f0f921"
             ]
            ],
            "type": "heatmapgl"
           }
          ],
          "histogram": [
           {
            "marker": {
             "pattern": {
              "fillmode": "overlay",
              "size": 10,
              "solidity": 0.2
             }
            },
            "type": "histogram"
           }
          ],
          "histogram2d": [
           {
            "colorbar": {
             "outlinewidth": 0,
             "ticks": ""
            },
            "colorscale": [
             [
              0,
              "#0d0887"
             ],
             [
              0.1111111111111111,
              "#46039f"
             ],
             [
              0.2222222222222222,
              "#7201a8"
             ],
             [
              0.3333333333333333,
              "#9c179e"
             ],
             [
              0.4444444444444444,
              "#bd3786"
             ],
             [
              0.5555555555555556,
              "#d8576b"
             ],
             [
              0.6666666666666666,
              "#ed7953"
             ],
             [
              0.7777777777777778,
              "#fb9f3a"
             ],
             [
              0.8888888888888888,
              "#fdca26"
             ],
             [
              1,
              "#f0f921"
             ]
            ],
            "type": "histogram2d"
           }
          ],
          "histogram2dcontour": [
           {
            "colorbar": {
             "outlinewidth": 0,
             "ticks": ""
            },
            "colorscale": [
             [
              0,
              "#0d0887"
             ],
             [
              0.1111111111111111,
              "#46039f"
             ],
             [
              0.2222222222222222,
              "#7201a8"
             ],
             [
              0.3333333333333333,
              "#9c179e"
             ],
             [
              0.4444444444444444,
              "#bd3786"
             ],
             [
              0.5555555555555556,
              "#d8576b"
             ],
             [
              0.6666666666666666,
              "#ed7953"
             ],
             [
              0.7777777777777778,
              "#fb9f3a"
             ],
             [
              0.8888888888888888,
              "#fdca26"
             ],
             [
              1,
              "#f0f921"
             ]
            ],
            "type": "histogram2dcontour"
           }
          ],
          "mesh3d": [
           {
            "colorbar": {
             "outlinewidth": 0,
             "ticks": ""
            },
            "type": "mesh3d"
           }
          ],
          "parcoords": [
           {
            "line": {
             "colorbar": {
              "outlinewidth": 0,
              "ticks": ""
             }
            },
            "type": "parcoords"
           }
          ],
          "pie": [
           {
            "automargin": true,
            "type": "pie"
           }
          ],
          "scatter": [
           {
            "marker": {
             "colorbar": {
              "outlinewidth": 0,
              "ticks": ""
             }
            },
            "type": "scatter"
           }
          ],
          "scatter3d": [
           {
            "line": {
             "colorbar": {
              "outlinewidth": 0,
              "ticks": ""
             }
            },
            "marker": {
             "colorbar": {
              "outlinewidth": 0,
              "ticks": ""
             }
            },
            "type": "scatter3d"
           }
          ],
          "scattercarpet": [
           {
            "marker": {
             "colorbar": {
              "outlinewidth": 0,
              "ticks": ""
             }
            },
            "type": "scattercarpet"
           }
          ],
          "scattergeo": [
           {
            "marker": {
             "colorbar": {
              "outlinewidth": 0,
              "ticks": ""
             }
            },
            "type": "scattergeo"
           }
          ],
          "scattergl": [
           {
            "marker": {
             "colorbar": {
              "outlinewidth": 0,
              "ticks": ""
             }
            },
            "type": "scattergl"
           }
          ],
          "scattermapbox": [
           {
            "marker": {
             "colorbar": {
              "outlinewidth": 0,
              "ticks": ""
             }
            },
            "type": "scattermapbox"
           }
          ],
          "scatterpolar": [
           {
            "marker": {
             "colorbar": {
              "outlinewidth": 0,
              "ticks": ""
             }
            },
            "type": "scatterpolar"
           }
          ],
          "scatterpolargl": [
           {
            "marker": {
             "colorbar": {
              "outlinewidth": 0,
              "ticks": ""
             }
            },
            "type": "scatterpolargl"
           }
          ],
          "scatterternary": [
           {
            "marker": {
             "colorbar": {
              "outlinewidth": 0,
              "ticks": ""
             }
            },
            "type": "scatterternary"
           }
          ],
          "surface": [
           {
            "colorbar": {
             "outlinewidth": 0,
             "ticks": ""
            },
            "colorscale": [
             [
              0,
              "#0d0887"
             ],
             [
              0.1111111111111111,
              "#46039f"
             ],
             [
              0.2222222222222222,
              "#7201a8"
             ],
             [
              0.3333333333333333,
              "#9c179e"
             ],
             [
              0.4444444444444444,
              "#bd3786"
             ],
             [
              0.5555555555555556,
              "#d8576b"
             ],
             [
              0.6666666666666666,
              "#ed7953"
             ],
             [
              0.7777777777777778,
              "#fb9f3a"
             ],
             [
              0.8888888888888888,
              "#fdca26"
             ],
             [
              1,
              "#f0f921"
             ]
            ],
            "type": "surface"
           }
          ],
          "table": [
           {
            "cells": {
             "fill": {
              "color": "#EBF0F8"
             },
             "line": {
              "color": "white"
             }
            },
            "header": {
             "fill": {
              "color": "#C8D4E3"
             },
             "line": {
              "color": "white"
             }
            },
            "type": "table"
           }
          ]
         },
         "layout": {
          "annotationdefaults": {
           "arrowcolor": "#2a3f5f",
           "arrowhead": 0,
           "arrowwidth": 1
          },
          "autotypenumbers": "strict",
          "coloraxis": {
           "colorbar": {
            "outlinewidth": 0,
            "ticks": ""
           }
          },
          "colorscale": {
           "diverging": [
            [
             0,
             "#8e0152"
            ],
            [
             0.1,
             "#c51b7d"
            ],
            [
             0.2,
             "#de77ae"
            ],
            [
             0.3,
             "#f1b6da"
            ],
            [
             0.4,
             "#fde0ef"
            ],
            [
             0.5,
             "#f7f7f7"
            ],
            [
             0.6,
             "#e6f5d0"
            ],
            [
             0.7,
             "#b8e186"
            ],
            [
             0.8,
             "#7fbc41"
            ],
            [
             0.9,
             "#4d9221"
            ],
            [
             1,
             "#276419"
            ]
           ],
           "sequential": [
            [
             0,
             "#0d0887"
            ],
            [
             0.1111111111111111,
             "#46039f"
            ],
            [
             0.2222222222222222,
             "#7201a8"
            ],
            [
             0.3333333333333333,
             "#9c179e"
            ],
            [
             0.4444444444444444,
             "#bd3786"
            ],
            [
             0.5555555555555556,
             "#d8576b"
            ],
            [
             0.6666666666666666,
             "#ed7953"
            ],
            [
             0.7777777777777778,
             "#fb9f3a"
            ],
            [
             0.8888888888888888,
             "#fdca26"
            ],
            [
             1,
             "#f0f921"
            ]
           ],
           "sequentialminus": [
            [
             0,
             "#0d0887"
            ],
            [
             0.1111111111111111,
             "#46039f"
            ],
            [
             0.2222222222222222,
             "#7201a8"
            ],
            [
             0.3333333333333333,
             "#9c179e"
            ],
            [
             0.4444444444444444,
             "#bd3786"
            ],
            [
             0.5555555555555556,
             "#d8576b"
            ],
            [
             0.6666666666666666,
             "#ed7953"
            ],
            [
             0.7777777777777778,
             "#fb9f3a"
            ],
            [
             0.8888888888888888,
             "#fdca26"
            ],
            [
             1,
             "#f0f921"
            ]
           ]
          },
          "colorway": [
           "#636efa",
           "#EF553B",
           "#00cc96",
           "#ab63fa",
           "#FFA15A",
           "#19d3f3",
           "#FF6692",
           "#B6E880",
           "#FF97FF",
           "#FECB52"
          ],
          "font": {
           "color": "#2a3f5f"
          },
          "geo": {
           "bgcolor": "white",
           "lakecolor": "white",
           "landcolor": "#E5ECF6",
           "showlakes": true,
           "showland": true,
           "subunitcolor": "white"
          },
          "hoverlabel": {
           "align": "left"
          },
          "hovermode": "closest",
          "mapbox": {
           "style": "light"
          },
          "paper_bgcolor": "white",
          "plot_bgcolor": "#E5ECF6",
          "polar": {
           "angularaxis": {
            "gridcolor": "white",
            "linecolor": "white",
            "ticks": ""
           },
           "bgcolor": "#E5ECF6",
           "radialaxis": {
            "gridcolor": "white",
            "linecolor": "white",
            "ticks": ""
           }
          },
          "scene": {
           "xaxis": {
            "backgroundcolor": "#E5ECF6",
            "gridcolor": "white",
            "gridwidth": 2,
            "linecolor": "white",
            "showbackground": true,
            "ticks": "",
            "zerolinecolor": "white"
           },
           "yaxis": {
            "backgroundcolor": "#E5ECF6",
            "gridcolor": "white",
            "gridwidth": 2,
            "linecolor": "white",
            "showbackground": true,
            "ticks": "",
            "zerolinecolor": "white"
           },
           "zaxis": {
            "backgroundcolor": "#E5ECF6",
            "gridcolor": "white",
            "gridwidth": 2,
            "linecolor": "white",
            "showbackground": true,
            "ticks": "",
            "zerolinecolor": "white"
           }
          },
          "shapedefaults": {
           "line": {
            "color": "#2a3f5f"
           }
          },
          "ternary": {
           "aaxis": {
            "gridcolor": "white",
            "linecolor": "white",
            "ticks": ""
           },
           "baxis": {
            "gridcolor": "white",
            "linecolor": "white",
            "ticks": ""
           },
           "bgcolor": "#E5ECF6",
           "caxis": {
            "gridcolor": "white",
            "linecolor": "white",
            "ticks": ""
           }
          },
          "title": {
           "x": 0.05
          },
          "xaxis": {
           "automargin": true,
           "gridcolor": "white",
           "linecolor": "white",
           "ticks": "",
           "title": {
            "standoff": 15
           },
           "zerolinecolor": "white",
           "zerolinewidth": 2
          },
          "yaxis": {
           "automargin": true,
           "gridcolor": "white",
           "linecolor": "white",
           "ticks": "",
           "title": {
            "standoff": 15
           },
           "zerolinecolor": "white",
           "zerolinewidth": 2
          }
         }
        },
        "title": {
         "text": "Distribution of canadian content by station province."
        },
        "width": 1200,
        "xaxis2": {
         "overlaying": "x",
         "range": [
          0,
          2
         ],
         "showticklabels": false
        },
        "yaxis": {
         "dtick": 0.1,
         "gridcolor": "lightgray",
         "range": [
          0,
          1
         ],
         "tickformat": ".0%"
        }
       }
      }
     },
     "metadata": {},
     "output_type": "display_data"
    }
   ],
   "source": [
    "plot_categorical_comparison(\n",
    "                                        categories = df['canadian_content'], \n",
    "                                        compare_by = df['station_province'], \n",
    "                                        # category_filter=['yes','no'], \n",
    "                                        color_dict=COLOR_DICT )"
   ]
  },
  {
   "cell_type": "code",
   "execution_count": 9,
   "metadata": {},
   "outputs": [
    {
     "data": {
      "text/html": [
       "<div>\n",
       "<style scoped>\n",
       "    .dataframe tbody tr th:only-of-type {\n",
       "        vertical-align: middle;\n",
       "    }\n",
       "\n",
       "    .dataframe tbody tr th {\n",
       "        vertical-align: top;\n",
       "    }\n",
       "\n",
       "    .dataframe thead th {\n",
       "        text-align: right;\n",
       "    }\n",
       "</style>\n",
       "<table border=\"1\" class=\"dataframe\">\n",
       "  <thead>\n",
       "    <tr style=\"text-align: right;\">\n",
       "      <th></th>\n",
       "      <th>Unnamed: 0</th>\n",
       "      <th>station</th>\n",
       "      <th>station_city</th>\n",
       "      <th>city_population</th>\n",
       "      <th>station_province</th>\n",
       "      <th>station_latitude</th>\n",
       "      <th>station_longitude</th>\n",
       "      <th>total_plays</th>\n",
       "      <th>total_artists</th>\n",
       "      <th>artists_to_plays_ratio</th>\n",
       "      <th>artists_to_population_ratio</th>\n",
       "      <th>bipoc_artists</th>\n",
       "      <th>canadian_artists</th>\n",
       "      <th>male_artists</th>\n",
       "      <th>english_plays</th>\n",
       "    </tr>\n",
       "  </thead>\n",
       "  <tbody>\n",
       "    <tr>\n",
       "      <th>6</th>\n",
       "      <td>6</td>\n",
       "      <td>ckdu</td>\n",
       "      <td>halifax</td>\n",
       "      <td>403130</td>\n",
       "      <td>nova scotia</td>\n",
       "      <td>44.65</td>\n",
       "      <td>-63.6</td>\n",
       "      <td>780</td>\n",
       "      <td>169</td>\n",
       "      <td>0.216667</td>\n",
       "      <td>0.000419</td>\n",
       "      <td>0.520513</td>\n",
       "      <td>0.75641</td>\n",
       "      <td>0.916667</td>\n",
       "      <td>0.979487</td>\n",
       "    </tr>\n",
       "  </tbody>\n",
       "</table>\n",
       "</div>"
      ],
      "text/plain": [
       "   Unnamed: 0 station station_city  city_population station_province  \\\n",
       "6           6    ckdu      halifax           403130      nova scotia   \n",
       "\n",
       "   station_latitude  station_longitude  total_plays  total_artists  \\\n",
       "6             44.65              -63.6          780            169   \n",
       "\n",
       "   artists_to_plays_ratio  artists_to_population_ratio  bipoc_artists  \\\n",
       "6                0.216667                     0.000419       0.520513   \n",
       "\n",
       "   canadian_artists  male_artists  english_plays  \n",
       "6           0.75641      0.916667       0.979487  "
      ]
     },
     "execution_count": 9,
     "metadata": {},
     "output_type": "execute_result"
    }
   ],
   "source": [
    "station_df = pd.read_csv('data/clean_data_stations.csv')\n",
    "station_df[station_df['station_province'] == 'nova scotia']"
   ]
  },
  {
   "cell_type": "code",
   "execution_count": 10,
   "metadata": {},
   "outputs": [
    {
     "data": {
      "text/plain": [
       "35858"
      ]
     },
     "execution_count": 10,
     "metadata": {},
     "output_type": "execute_result"
    }
   ],
   "source": [
    "station_df['total_plays'].sum()"
   ]
  },
  {
   "cell_type": "code",
   "execution_count": 11,
   "metadata": {},
   "outputs": [
    {
     "data": {
      "application/vnd.plotly.v1+json": {
       "config": {
        "plotlyServerURL": "https://plot.ly"
       },
       "data": [
        {
         "name": "toronto",
         "type": "bar",
         "x": [
          "yes",
          "no"
         ],
         "y": [
          0.7710804745110612,
          0.2170567489579993
         ]
        },
        {
         "name": "mississauga",
         "type": "bar",
         "x": [
          "yes",
          "no"
         ],
         "y": [
          0.7432835820895523,
          0.25074626865671645
         ]
        },
        {
         "name": "london",
         "type": "bar",
         "x": [
          "yes",
          "no"
         ],
         "y": [
          0.5814516129032259,
          0.40846774193548385
         ]
        },
        {
         "name": "ottawa",
         "type": "bar",
         "x": [
          "yes",
          "no"
         ],
         "y": [
          0.6646017699115044,
          0.3314159292035398
         ]
        },
        {
         "name": "thunder bay",
         "type": "bar",
         "x": [
          "yes",
          "no"
         ],
         "y": [
          0.696,
          0.2972
         ]
        },
        {
         "name": "guelph",
         "type": "bar",
         "x": [
          "yes",
          "no"
         ],
         "y": [
          0.6623076923076923,
          0.33307692307692305
         ]
        },
        {
         "name": "windsor",
         "type": "bar",
         "x": [
          "yes",
          "no"
         ],
         "y": [
          0.7075117370892019,
          0.28873239436619713
         ]
        },
        {
         "marker": {
          "color": "#303030"
         },
         "mode": "lines",
         "name": "yes_average",
         "showlegend": false,
         "type": "scatter",
         "x": [
          0,
          1
         ],
         "xaxis": "x2",
         "y": [
          0.6894624098303197,
          0.6894624098303197
         ]
        },
        {
         "marker": {
          "color": "#303030"
         },
         "mode": "lines",
         "name": "no_average",
         "showlegend": false,
         "type": "scatter",
         "x": [
          1,
          2
         ],
         "xaxis": "x2",
         "y": [
          0.30381371517097994,
          0.30381371517097994
         ]
        }
       ],
       "layout": {
        "barmode": "group",
        "font": {
         "size": 16
        },
        "height": 600,
        "plot_bgcolor": "white",
        "template": {
         "data": {
          "bar": [
           {
            "error_x": {
             "color": "#2a3f5f"
            },
            "error_y": {
             "color": "#2a3f5f"
            },
            "marker": {
             "line": {
              "color": "#E5ECF6",
              "width": 0.5
             },
             "pattern": {
              "fillmode": "overlay",
              "size": 10,
              "solidity": 0.2
             }
            },
            "type": "bar"
           }
          ],
          "barpolar": [
           {
            "marker": {
             "line": {
              "color": "#E5ECF6",
              "width": 0.5
             },
             "pattern": {
              "fillmode": "overlay",
              "size": 10,
              "solidity": 0.2
             }
            },
            "type": "barpolar"
           }
          ],
          "carpet": [
           {
            "aaxis": {
             "endlinecolor": "#2a3f5f",
             "gridcolor": "white",
             "linecolor": "white",
             "minorgridcolor": "white",
             "startlinecolor": "#2a3f5f"
            },
            "baxis": {
             "endlinecolor": "#2a3f5f",
             "gridcolor": "white",
             "linecolor": "white",
             "minorgridcolor": "white",
             "startlinecolor": "#2a3f5f"
            },
            "type": "carpet"
           }
          ],
          "choropleth": [
           {
            "colorbar": {
             "outlinewidth": 0,
             "ticks": ""
            },
            "type": "choropleth"
           }
          ],
          "contour": [
           {
            "colorbar": {
             "outlinewidth": 0,
             "ticks": ""
            },
            "colorscale": [
             [
              0,
              "#0d0887"
             ],
             [
              0.1111111111111111,
              "#46039f"
             ],
             [
              0.2222222222222222,
              "#7201a8"
             ],
             [
              0.3333333333333333,
              "#9c179e"
             ],
             [
              0.4444444444444444,
              "#bd3786"
             ],
             [
              0.5555555555555556,
              "#d8576b"
             ],
             [
              0.6666666666666666,
              "#ed7953"
             ],
             [
              0.7777777777777778,
              "#fb9f3a"
             ],
             [
              0.8888888888888888,
              "#fdca26"
             ],
             [
              1,
              "#f0f921"
             ]
            ],
            "type": "contour"
           }
          ],
          "contourcarpet": [
           {
            "colorbar": {
             "outlinewidth": 0,
             "ticks": ""
            },
            "type": "contourcarpet"
           }
          ],
          "heatmap": [
           {
            "colorbar": {
             "outlinewidth": 0,
             "ticks": ""
            },
            "colorscale": [
             [
              0,
              "#0d0887"
             ],
             [
              0.1111111111111111,
              "#46039f"
             ],
             [
              0.2222222222222222,
              "#7201a8"
             ],
             [
              0.3333333333333333,
              "#9c179e"
             ],
             [
              0.4444444444444444,
              "#bd3786"
             ],
             [
              0.5555555555555556,
              "#d8576b"
             ],
             [
              0.6666666666666666,
              "#ed7953"
             ],
             [
              0.7777777777777778,
              "#fb9f3a"
             ],
             [
              0.8888888888888888,
              "#fdca26"
             ],
             [
              1,
              "#f0f921"
             ]
            ],
            "type": "heatmap"
           }
          ],
          "heatmapgl": [
           {
            "colorbar": {
             "outlinewidth": 0,
             "ticks": ""
            },
            "colorscale": [
             [
              0,
              "#0d0887"
             ],
             [
              0.1111111111111111,
              "#46039f"
             ],
             [
              0.2222222222222222,
              "#7201a8"
             ],
             [
              0.3333333333333333,
              "#9c179e"
             ],
             [
              0.4444444444444444,
              "#bd3786"
             ],
             [
              0.5555555555555556,
              "#d8576b"
             ],
             [
              0.6666666666666666,
              "#ed7953"
             ],
             [
              0.7777777777777778,
              "#fb9f3a"
             ],
             [
              0.8888888888888888,
              "#fdca26"
             ],
             [
              1,
              "#f0f921"
             ]
            ],
            "type": "heatmapgl"
           }
          ],
          "histogram": [
           {
            "marker": {
             "pattern": {
              "fillmode": "overlay",
              "size": 10,
              "solidity": 0.2
             }
            },
            "type": "histogram"
           }
          ],
          "histogram2d": [
           {
            "colorbar": {
             "outlinewidth": 0,
             "ticks": ""
            },
            "colorscale": [
             [
              0,
              "#0d0887"
             ],
             [
              0.1111111111111111,
              "#46039f"
             ],
             [
              0.2222222222222222,
              "#7201a8"
             ],
             [
              0.3333333333333333,
              "#9c179e"
             ],
             [
              0.4444444444444444,
              "#bd3786"
             ],
             [
              0.5555555555555556,
              "#d8576b"
             ],
             [
              0.6666666666666666,
              "#ed7953"
             ],
             [
              0.7777777777777778,
              "#fb9f3a"
             ],
             [
              0.8888888888888888,
              "#fdca26"
             ],
             [
              1,
              "#f0f921"
             ]
            ],
            "type": "histogram2d"
           }
          ],
          "histogram2dcontour": [
           {
            "colorbar": {
             "outlinewidth": 0,
             "ticks": ""
            },
            "colorscale": [
             [
              0,
              "#0d0887"
             ],
             [
              0.1111111111111111,
              "#46039f"
             ],
             [
              0.2222222222222222,
              "#7201a8"
             ],
             [
              0.3333333333333333,
              "#9c179e"
             ],
             [
              0.4444444444444444,
              "#bd3786"
             ],
             [
              0.5555555555555556,
              "#d8576b"
             ],
             [
              0.6666666666666666,
              "#ed7953"
             ],
             [
              0.7777777777777778,
              "#fb9f3a"
             ],
             [
              0.8888888888888888,
              "#fdca26"
             ],
             [
              1,
              "#f0f921"
             ]
            ],
            "type": "histogram2dcontour"
           }
          ],
          "mesh3d": [
           {
            "colorbar": {
             "outlinewidth": 0,
             "ticks": ""
            },
            "type": "mesh3d"
           }
          ],
          "parcoords": [
           {
            "line": {
             "colorbar": {
              "outlinewidth": 0,
              "ticks": ""
             }
            },
            "type": "parcoords"
           }
          ],
          "pie": [
           {
            "automargin": true,
            "type": "pie"
           }
          ],
          "scatter": [
           {
            "marker": {
             "colorbar": {
              "outlinewidth": 0,
              "ticks": ""
             }
            },
            "type": "scatter"
           }
          ],
          "scatter3d": [
           {
            "line": {
             "colorbar": {
              "outlinewidth": 0,
              "ticks": ""
             }
            },
            "marker": {
             "colorbar": {
              "outlinewidth": 0,
              "ticks": ""
             }
            },
            "type": "scatter3d"
           }
          ],
          "scattercarpet": [
           {
            "marker": {
             "colorbar": {
              "outlinewidth": 0,
              "ticks": ""
             }
            },
            "type": "scattercarpet"
           }
          ],
          "scattergeo": [
           {
            "marker": {
             "colorbar": {
              "outlinewidth": 0,
              "ticks": ""
             }
            },
            "type": "scattergeo"
           }
          ],
          "scattergl": [
           {
            "marker": {
             "colorbar": {
              "outlinewidth": 0,
              "ticks": ""
             }
            },
            "type": "scattergl"
           }
          ],
          "scattermapbox": [
           {
            "marker": {
             "colorbar": {
              "outlinewidth": 0,
              "ticks": ""
             }
            },
            "type": "scattermapbox"
           }
          ],
          "scatterpolar": [
           {
            "marker": {
             "colorbar": {
              "outlinewidth": 0,
              "ticks": ""
             }
            },
            "type": "scatterpolar"
           }
          ],
          "scatterpolargl": [
           {
            "marker": {
             "colorbar": {
              "outlinewidth": 0,
              "ticks": ""
             }
            },
            "type": "scatterpolargl"
           }
          ],
          "scatterternary": [
           {
            "marker": {
             "colorbar": {
              "outlinewidth": 0,
              "ticks": ""
             }
            },
            "type": "scatterternary"
           }
          ],
          "surface": [
           {
            "colorbar": {
             "outlinewidth": 0,
             "ticks": ""
            },
            "colorscale": [
             [
              0,
              "#0d0887"
             ],
             [
              0.1111111111111111,
              "#46039f"
             ],
             [
              0.2222222222222222,
              "#7201a8"
             ],
             [
              0.3333333333333333,
              "#9c179e"
             ],
             [
              0.4444444444444444,
              "#bd3786"
             ],
             [
              0.5555555555555556,
              "#d8576b"
             ],
             [
              0.6666666666666666,
              "#ed7953"
             ],
             [
              0.7777777777777778,
              "#fb9f3a"
             ],
             [
              0.8888888888888888,
              "#fdca26"
             ],
             [
              1,
              "#f0f921"
             ]
            ],
            "type": "surface"
           }
          ],
          "table": [
           {
            "cells": {
             "fill": {
              "color": "#EBF0F8"
             },
             "line": {
              "color": "white"
             }
            },
            "header": {
             "fill": {
              "color": "#C8D4E3"
             },
             "line": {
              "color": "white"
             }
            },
            "type": "table"
           }
          ]
         },
         "layout": {
          "annotationdefaults": {
           "arrowcolor": "#2a3f5f",
           "arrowhead": 0,
           "arrowwidth": 1
          },
          "autotypenumbers": "strict",
          "coloraxis": {
           "colorbar": {
            "outlinewidth": 0,
            "ticks": ""
           }
          },
          "colorscale": {
           "diverging": [
            [
             0,
             "#8e0152"
            ],
            [
             0.1,
             "#c51b7d"
            ],
            [
             0.2,
             "#de77ae"
            ],
            [
             0.3,
             "#f1b6da"
            ],
            [
             0.4,
             "#fde0ef"
            ],
            [
             0.5,
             "#f7f7f7"
            ],
            [
             0.6,
             "#e6f5d0"
            ],
            [
             0.7,
             "#b8e186"
            ],
            [
             0.8,
             "#7fbc41"
            ],
            [
             0.9,
             "#4d9221"
            ],
            [
             1,
             "#276419"
            ]
           ],
           "sequential": [
            [
             0,
             "#0d0887"
            ],
            [
             0.1111111111111111,
             "#46039f"
            ],
            [
             0.2222222222222222,
             "#7201a8"
            ],
            [
             0.3333333333333333,
             "#9c179e"
            ],
            [
             0.4444444444444444,
             "#bd3786"
            ],
            [
             0.5555555555555556,
             "#d8576b"
            ],
            [
             0.6666666666666666,
             "#ed7953"
            ],
            [
             0.7777777777777778,
             "#fb9f3a"
            ],
            [
             0.8888888888888888,
             "#fdca26"
            ],
            [
             1,
             "#f0f921"
            ]
           ],
           "sequentialminus": [
            [
             0,
             "#0d0887"
            ],
            [
             0.1111111111111111,
             "#46039f"
            ],
            [
             0.2222222222222222,
             "#7201a8"
            ],
            [
             0.3333333333333333,
             "#9c179e"
            ],
            [
             0.4444444444444444,
             "#bd3786"
            ],
            [
             0.5555555555555556,
             "#d8576b"
            ],
            [
             0.6666666666666666,
             "#ed7953"
            ],
            [
             0.7777777777777778,
             "#fb9f3a"
            ],
            [
             0.8888888888888888,
             "#fdca26"
            ],
            [
             1,
             "#f0f921"
            ]
           ]
          },
          "colorway": [
           "#636efa",
           "#EF553B",
           "#00cc96",
           "#ab63fa",
           "#FFA15A",
           "#19d3f3",
           "#FF6692",
           "#B6E880",
           "#FF97FF",
           "#FECB52"
          ],
          "font": {
           "color": "#2a3f5f"
          },
          "geo": {
           "bgcolor": "white",
           "lakecolor": "white",
           "landcolor": "#E5ECF6",
           "showlakes": true,
           "showland": true,
           "subunitcolor": "white"
          },
          "hoverlabel": {
           "align": "left"
          },
          "hovermode": "closest",
          "mapbox": {
           "style": "light"
          },
          "paper_bgcolor": "white",
          "plot_bgcolor": "#E5ECF6",
          "polar": {
           "angularaxis": {
            "gridcolor": "white",
            "linecolor": "white",
            "ticks": ""
           },
           "bgcolor": "#E5ECF6",
           "radialaxis": {
            "gridcolor": "white",
            "linecolor": "white",
            "ticks": ""
           }
          },
          "scene": {
           "xaxis": {
            "backgroundcolor": "#E5ECF6",
            "gridcolor": "white",
            "gridwidth": 2,
            "linecolor": "white",
            "showbackground": true,
            "ticks": "",
            "zerolinecolor": "white"
           },
           "yaxis": {
            "backgroundcolor": "#E5ECF6",
            "gridcolor": "white",
            "gridwidth": 2,
            "linecolor": "white",
            "showbackground": true,
            "ticks": "",
            "zerolinecolor": "white"
           },
           "zaxis": {
            "backgroundcolor": "#E5ECF6",
            "gridcolor": "white",
            "gridwidth": 2,
            "linecolor": "white",
            "showbackground": true,
            "ticks": "",
            "zerolinecolor": "white"
           }
          },
          "shapedefaults": {
           "line": {
            "color": "#2a3f5f"
           }
          },
          "ternary": {
           "aaxis": {
            "gridcolor": "white",
            "linecolor": "white",
            "ticks": ""
           },
           "baxis": {
            "gridcolor": "white",
            "linecolor": "white",
            "ticks": ""
           },
           "bgcolor": "#E5ECF6",
           "caxis": {
            "gridcolor": "white",
            "linecolor": "white",
            "ticks": ""
           }
          },
          "title": {
           "x": 0.05
          },
          "xaxis": {
           "automargin": true,
           "gridcolor": "white",
           "linecolor": "white",
           "ticks": "",
           "title": {
            "standoff": 15
           },
           "zerolinecolor": "white",
           "zerolinewidth": 2
          },
          "yaxis": {
           "automargin": true,
           "gridcolor": "white",
           "linecolor": "white",
           "ticks": "",
           "title": {
            "standoff": 15
           },
           "zerolinecolor": "white",
           "zerolinewidth": 2
          }
         }
        },
        "title": {
         "text": "Distribution of visible ethnic minority by station city."
        },
        "width": 1200,
        "xaxis2": {
         "overlaying": "x",
         "range": [
          0,
          2
         ],
         "showticklabels": false
        },
        "yaxis": {
         "dtick": 0.1,
         "gridcolor": "lightgray",
         "range": [
          0,
          1
         ],
         "tickformat": ".0%"
        }
       }
      }
     },
     "metadata": {},
     "output_type": "display_data"
    }
   ],
   "source": [
    "ontario_df = df[df['station_province'] == 'ontario']\n",
    "plot_categorical_comparison(\n",
    "                            categories = ontario_df['visible_ethnic_minority'], \n",
    "                            category_filter=['yes','no'], \n",
    "                            compare_by = ontario_df['station_city'], \n",
    "                            color_dict=COLOR_DICT \n",
    "                            )"
   ]
  },
  {
   "cell_type": "code",
   "execution_count": 12,
   "metadata": {},
   "outputs": [
    {
     "data": {
      "text/html": [
       "<div>\n",
       "<style scoped>\n",
       "    .dataframe tbody tr th:only-of-type {\n",
       "        vertical-align: middle;\n",
       "    }\n",
       "\n",
       "    .dataframe tbody tr th {\n",
       "        vertical-align: top;\n",
       "    }\n",
       "\n",
       "    .dataframe thead th {\n",
       "        text-align: right;\n",
       "    }\n",
       "</style>\n",
       "<table border=\"1\" class=\"dataframe\">\n",
       "  <thead>\n",
       "    <tr style=\"text-align: right;\">\n",
       "      <th></th>\n",
       "      <th>station</th>\n",
       "      <th>station_city</th>\n",
       "      <th>city_population</th>\n",
       "      <th>station_province</th>\n",
       "      <th>station_latitude</th>\n",
       "      <th>station_longitude</th>\n",
       "      <th>total_plays</th>\n",
       "      <th>total_artists</th>\n",
       "      <th>artists_to_plays_ratio</th>\n",
       "      <th>artists_to_population_ratio</th>\n",
       "      <th>bipoc_artists</th>\n",
       "      <th>canadian_artists</th>\n",
       "      <th>male_artists</th>\n",
       "      <th>english_plays</th>\n",
       "    </tr>\n",
       "  </thead>\n",
       "  <tbody>\n",
       "    <tr>\n",
       "      <th>0</th>\n",
       "      <td>cjsr</td>\n",
       "      <td>edmonton</td>\n",
       "      <td>932550</td>\n",
       "      <td>alberta</td>\n",
       "      <td>53.55</td>\n",
       "      <td>-113.5</td>\n",
       "      <td>1920</td>\n",
       "      <td>425</td>\n",
       "      <td>0.221354</td>\n",
       "      <td>0.000456</td>\n",
       "      <td>0.651042</td>\n",
       "      <td>0.432292</td>\n",
       "      <td>0.851562</td>\n",
       "      <td>0.986458</td>\n",
       "    </tr>\n",
       "  </tbody>\n",
       "</table>\n",
       "</div>"
      ],
      "text/plain": [
       "  station station_city  city_population station_province  station_latitude  \\\n",
       "0    cjsr     edmonton           932550          alberta             53.55   \n",
       "\n",
       "   station_longitude  total_plays  total_artists  artists_to_plays_ratio  \\\n",
       "0             -113.5         1920            425                0.221354   \n",
       "\n",
       "   artists_to_population_ratio  bipoc_artists  canadian_artists  male_artists  \\\n",
       "0                     0.000456       0.651042          0.432292      0.851562   \n",
       "\n",
       "   english_plays  \n",
       "0       0.986458  "
      ]
     },
     "execution_count": 12,
     "metadata": {},
     "output_type": "execute_result"
    }
   ],
   "source": [
    "station_df = pd.read_csv('data/clean_data_stations.csv', index_col=0)\n",
    "station_df.head(1)"
   ]
  },
  {
   "cell_type": "code",
   "execution_count": 60,
   "metadata": {},
   "outputs": [
    {
     "data": {
      "application/vnd.plotly.v1+json": {
       "config": {
        "plotlyServerURL": "https://plot.ly"
       },
       "data": [
        {
         "colorscale": [
          [
           0,
           "#84145C"
          ],
          [
           0.25,
           "#BF4995"
          ],
          [
           0.5,
           "rgb(255,255,255)"
          ],
          [
           0.75,
           "#57B76C"
          ],
          [
           1,
           "#276B36"
          ]
         ],
         "type": "heatmap",
         "x": [
          "Total Plays ",
          "Total Artists ",
          "Bipoc Artists ",
          "Canadian Artists ",
          "Male Artists ",
          "English Plays ",
          "City Population "
         ],
         "y": [
          "Total Plays ",
          "Total Artists ",
          "Bipoc Artists ",
          "Canadian Artists ",
          "Male Artists ",
          "English Plays ",
          "City Population "
         ],
         "z": [
          [
           null,
           null,
           null,
           null,
           null,
           null,
           null
          ],
          [
           0.8588275939766695,
           null,
           null,
           null,
           null,
           null,
           null
          ],
          [
           -0.0968516792674855,
           -0.10034486637801264,
           null,
           null,
           null,
           null,
           null
          ],
          [
           -0.12642934051463198,
           -0.05354476900128983,
           -0.6802517640386143,
           null,
           null,
           null,
           null
          ],
          [
           0.302743458792144,
           0.08035598961944646,
           -0.18881485135296655,
           0.13031279274423252,
           null,
           null,
           null
          ],
          [
           0.20591765845579488,
           0.24232928532824535,
           -0.038879408787938344,
           0.09981494659793405,
           0.24422534614780303,
           null,
           null
          ],
          [
           -0.07967679883703754,
           -0.14503316292824409,
           0.680959826646578,
           -0.34102657658960134,
           -0.22700484791057082,
           -0.12347382024036159,
           null
          ]
         ],
         "zmax": 1,
         "zmin": -1
        }
       ],
       "layout": {
        "font": {
         "size": 16
        },
        "height": 1000,
        "template": {
         "data": {
          "bar": [
           {
            "error_x": {
             "color": "#2a3f5f"
            },
            "error_y": {
             "color": "#2a3f5f"
            },
            "marker": {
             "line": {
              "color": "white",
              "width": 0.5
             },
             "pattern": {
              "fillmode": "overlay",
              "size": 10,
              "solidity": 0.2
             }
            },
            "type": "bar"
           }
          ],
          "barpolar": [
           {
            "marker": {
             "line": {
              "color": "white",
              "width": 0.5
             },
             "pattern": {
              "fillmode": "overlay",
              "size": 10,
              "solidity": 0.2
             }
            },
            "type": "barpolar"
           }
          ],
          "carpet": [
           {
            "aaxis": {
             "endlinecolor": "#2a3f5f",
             "gridcolor": "#C8D4E3",
             "linecolor": "#C8D4E3",
             "minorgridcolor": "#C8D4E3",
             "startlinecolor": "#2a3f5f"
            },
            "baxis": {
             "endlinecolor": "#2a3f5f",
             "gridcolor": "#C8D4E3",
             "linecolor": "#C8D4E3",
             "minorgridcolor": "#C8D4E3",
             "startlinecolor": "#2a3f5f"
            },
            "type": "carpet"
           }
          ],
          "choropleth": [
           {
            "colorbar": {
             "outlinewidth": 0,
             "ticks": ""
            },
            "type": "choropleth"
           }
          ],
          "contour": [
           {
            "colorbar": {
             "outlinewidth": 0,
             "ticks": ""
            },
            "colorscale": [
             [
              0,
              "#0d0887"
             ],
             [
              0.1111111111111111,
              "#46039f"
             ],
             [
              0.2222222222222222,
              "#7201a8"
             ],
             [
              0.3333333333333333,
              "#9c179e"
             ],
             [
              0.4444444444444444,
              "#bd3786"
             ],
             [
              0.5555555555555556,
              "#d8576b"
             ],
             [
              0.6666666666666666,
              "#ed7953"
             ],
             [
              0.7777777777777778,
              "#fb9f3a"
             ],
             [
              0.8888888888888888,
              "#fdca26"
             ],
             [
              1,
              "#f0f921"
             ]
            ],
            "type": "contour"
           }
          ],
          "contourcarpet": [
           {
            "colorbar": {
             "outlinewidth": 0,
             "ticks": ""
            },
            "type": "contourcarpet"
           }
          ],
          "heatmap": [
           {
            "colorbar": {
             "outlinewidth": 0,
             "ticks": ""
            },
            "colorscale": [
             [
              0,
              "#0d0887"
             ],
             [
              0.1111111111111111,
              "#46039f"
             ],
             [
              0.2222222222222222,
              "#7201a8"
             ],
             [
              0.3333333333333333,
              "#9c179e"
             ],
             [
              0.4444444444444444,
              "#bd3786"
             ],
             [
              0.5555555555555556,
              "#d8576b"
             ],
             [
              0.6666666666666666,
              "#ed7953"
             ],
             [
              0.7777777777777778,
              "#fb9f3a"
             ],
             [
              0.8888888888888888,
              "#fdca26"
             ],
             [
              1,
              "#f0f921"
             ]
            ],
            "type": "heatmap"
           }
          ],
          "heatmapgl": [
           {
            "colorbar": {
             "outlinewidth": 0,
             "ticks": ""
            },
            "colorscale": [
             [
              0,
              "#0d0887"
             ],
             [
              0.1111111111111111,
              "#46039f"
             ],
             [
              0.2222222222222222,
              "#7201a8"
             ],
             [
              0.3333333333333333,
              "#9c179e"
             ],
             [
              0.4444444444444444,
              "#bd3786"
             ],
             [
              0.5555555555555556,
              "#d8576b"
             ],
             [
              0.6666666666666666,
              "#ed7953"
             ],
             [
              0.7777777777777778,
              "#fb9f3a"
             ],
             [
              0.8888888888888888,
              "#fdca26"
             ],
             [
              1,
              "#f0f921"
             ]
            ],
            "type": "heatmapgl"
           }
          ],
          "histogram": [
           {
            "marker": {
             "pattern": {
              "fillmode": "overlay",
              "size": 10,
              "solidity": 0.2
             }
            },
            "type": "histogram"
           }
          ],
          "histogram2d": [
           {
            "colorbar": {
             "outlinewidth": 0,
             "ticks": ""
            },
            "colorscale": [
             [
              0,
              "#0d0887"
             ],
             [
              0.1111111111111111,
              "#46039f"
             ],
             [
              0.2222222222222222,
              "#7201a8"
             ],
             [
              0.3333333333333333,
              "#9c179e"
             ],
             [
              0.4444444444444444,
              "#bd3786"
             ],
             [
              0.5555555555555556,
              "#d8576b"
             ],
             [
              0.6666666666666666,
              "#ed7953"
             ],
             [
              0.7777777777777778,
              "#fb9f3a"
             ],
             [
              0.8888888888888888,
              "#fdca26"
             ],
             [
              1,
              "#f0f921"
             ]
            ],
            "type": "histogram2d"
           }
          ],
          "histogram2dcontour": [
           {
            "colorbar": {
             "outlinewidth": 0,
             "ticks": ""
            },
            "colorscale": [
             [
              0,
              "#0d0887"
             ],
             [
              0.1111111111111111,
              "#46039f"
             ],
             [
              0.2222222222222222,
              "#7201a8"
             ],
             [
              0.3333333333333333,
              "#9c179e"
             ],
             [
              0.4444444444444444,
              "#bd3786"
             ],
             [
              0.5555555555555556,
              "#d8576b"
             ],
             [
              0.6666666666666666,
              "#ed7953"
             ],
             [
              0.7777777777777778,
              "#fb9f3a"
             ],
             [
              0.8888888888888888,
              "#fdca26"
             ],
             [
              1,
              "#f0f921"
             ]
            ],
            "type": "histogram2dcontour"
           }
          ],
          "mesh3d": [
           {
            "colorbar": {
             "outlinewidth": 0,
             "ticks": ""
            },
            "type": "mesh3d"
           }
          ],
          "parcoords": [
           {
            "line": {
             "colorbar": {
              "outlinewidth": 0,
              "ticks": ""
             }
            },
            "type": "parcoords"
           }
          ],
          "pie": [
           {
            "automargin": true,
            "type": "pie"
           }
          ],
          "scatter": [
           {
            "marker": {
             "colorbar": {
              "outlinewidth": 0,
              "ticks": ""
             }
            },
            "type": "scatter"
           }
          ],
          "scatter3d": [
           {
            "line": {
             "colorbar": {
              "outlinewidth": 0,
              "ticks": ""
             }
            },
            "marker": {
             "colorbar": {
              "outlinewidth": 0,
              "ticks": ""
             }
            },
            "type": "scatter3d"
           }
          ],
          "scattercarpet": [
           {
            "marker": {
             "colorbar": {
              "outlinewidth": 0,
              "ticks": ""
             }
            },
            "type": "scattercarpet"
           }
          ],
          "scattergeo": [
           {
            "marker": {
             "colorbar": {
              "outlinewidth": 0,
              "ticks": ""
             }
            },
            "type": "scattergeo"
           }
          ],
          "scattergl": [
           {
            "marker": {
             "colorbar": {
              "outlinewidth": 0,
              "ticks": ""
             }
            },
            "type": "scattergl"
           }
          ],
          "scattermapbox": [
           {
            "marker": {
             "colorbar": {
              "outlinewidth": 0,
              "ticks": ""
             }
            },
            "type": "scattermapbox"
           }
          ],
          "scatterpolar": [
           {
            "marker": {
             "colorbar": {
              "outlinewidth": 0,
              "ticks": ""
             }
            },
            "type": "scatterpolar"
           }
          ],
          "scatterpolargl": [
           {
            "marker": {
             "colorbar": {
              "outlinewidth": 0,
              "ticks": ""
             }
            },
            "type": "scatterpolargl"
           }
          ],
          "scatterternary": [
           {
            "marker": {
             "colorbar": {
              "outlinewidth": 0,
              "ticks": ""
             }
            },
            "type": "scatterternary"
           }
          ],
          "surface": [
           {
            "colorbar": {
             "outlinewidth": 0,
             "ticks": ""
            },
            "colorscale": [
             [
              0,
              "#0d0887"
             ],
             [
              0.1111111111111111,
              "#46039f"
             ],
             [
              0.2222222222222222,
              "#7201a8"
             ],
             [
              0.3333333333333333,
              "#9c179e"
             ],
             [
              0.4444444444444444,
              "#bd3786"
             ],
             [
              0.5555555555555556,
              "#d8576b"
             ],
             [
              0.6666666666666666,
              "#ed7953"
             ],
             [
              0.7777777777777778,
              "#fb9f3a"
             ],
             [
              0.8888888888888888,
              "#fdca26"
             ],
             [
              1,
              "#f0f921"
             ]
            ],
            "type": "surface"
           }
          ],
          "table": [
           {
            "cells": {
             "fill": {
              "color": "#EBF0F8"
             },
             "line": {
              "color": "white"
             }
            },
            "header": {
             "fill": {
              "color": "#C8D4E3"
             },
             "line": {
              "color": "white"
             }
            },
            "type": "table"
           }
          ]
         },
         "layout": {
          "annotationdefaults": {
           "arrowcolor": "#2a3f5f",
           "arrowhead": 0,
           "arrowwidth": 1
          },
          "autotypenumbers": "strict",
          "coloraxis": {
           "colorbar": {
            "outlinewidth": 0,
            "ticks": ""
           }
          },
          "colorscale": {
           "diverging": [
            [
             0,
             "#8e0152"
            ],
            [
             0.1,
             "#c51b7d"
            ],
            [
             0.2,
             "#de77ae"
            ],
            [
             0.3,
             "#f1b6da"
            ],
            [
             0.4,
             "#fde0ef"
            ],
            [
             0.5,
             "#f7f7f7"
            ],
            [
             0.6,
             "#e6f5d0"
            ],
            [
             0.7,
             "#b8e186"
            ],
            [
             0.8,
             "#7fbc41"
            ],
            [
             0.9,
             "#4d9221"
            ],
            [
             1,
             "#276419"
            ]
           ],
           "sequential": [
            [
             0,
             "#0d0887"
            ],
            [
             0.1111111111111111,
             "#46039f"
            ],
            [
             0.2222222222222222,
             "#7201a8"
            ],
            [
             0.3333333333333333,
             "#9c179e"
            ],
            [
             0.4444444444444444,
             "#bd3786"
            ],
            [
             0.5555555555555556,
             "#d8576b"
            ],
            [
             0.6666666666666666,
             "#ed7953"
            ],
            [
             0.7777777777777778,
             "#fb9f3a"
            ],
            [
             0.8888888888888888,
             "#fdca26"
            ],
            [
             1,
             "#f0f921"
            ]
           ],
           "sequentialminus": [
            [
             0,
             "#0d0887"
            ],
            [
             0.1111111111111111,
             "#46039f"
            ],
            [
             0.2222222222222222,
             "#7201a8"
            ],
            [
             0.3333333333333333,
             "#9c179e"
            ],
            [
             0.4444444444444444,
             "#bd3786"
            ],
            [
             0.5555555555555556,
             "#d8576b"
            ],
            [
             0.6666666666666666,
             "#ed7953"
            ],
            [
             0.7777777777777778,
             "#fb9f3a"
            ],
            [
             0.8888888888888888,
             "#fdca26"
            ],
            [
             1,
             "#f0f921"
            ]
           ]
          },
          "colorway": [
           "#636efa",
           "#EF553B",
           "#00cc96",
           "#ab63fa",
           "#FFA15A",
           "#19d3f3",
           "#FF6692",
           "#B6E880",
           "#FF97FF",
           "#FECB52"
          ],
          "font": {
           "color": "#2a3f5f"
          },
          "geo": {
           "bgcolor": "white",
           "lakecolor": "white",
           "landcolor": "white",
           "showlakes": true,
           "showland": true,
           "subunitcolor": "#C8D4E3"
          },
          "hoverlabel": {
           "align": "left"
          },
          "hovermode": "closest",
          "mapbox": {
           "style": "light"
          },
          "paper_bgcolor": "white",
          "plot_bgcolor": "white",
          "polar": {
           "angularaxis": {
            "gridcolor": "#EBF0F8",
            "linecolor": "#EBF0F8",
            "ticks": ""
           },
           "bgcolor": "white",
           "radialaxis": {
            "gridcolor": "#EBF0F8",
            "linecolor": "#EBF0F8",
            "ticks": ""
           }
          },
          "scene": {
           "xaxis": {
            "backgroundcolor": "white",
            "gridcolor": "#DFE8F3",
            "gridwidth": 2,
            "linecolor": "#EBF0F8",
            "showbackground": true,
            "ticks": "",
            "zerolinecolor": "#EBF0F8"
           },
           "yaxis": {
            "backgroundcolor": "white",
            "gridcolor": "#DFE8F3",
            "gridwidth": 2,
            "linecolor": "#EBF0F8",
            "showbackground": true,
            "ticks": "",
            "zerolinecolor": "#EBF0F8"
           },
           "zaxis": {
            "backgroundcolor": "white",
            "gridcolor": "#DFE8F3",
            "gridwidth": 2,
            "linecolor": "#EBF0F8",
            "showbackground": true,
            "ticks": "",
            "zerolinecolor": "#EBF0F8"
           }
          },
          "shapedefaults": {
           "line": {
            "color": "#2a3f5f"
           }
          },
          "ternary": {
           "aaxis": {
            "gridcolor": "#DFE8F3",
            "linecolor": "#A2B1C6",
            "ticks": ""
           },
           "baxis": {
            "gridcolor": "#DFE8F3",
            "linecolor": "#A2B1C6",
            "ticks": ""
           },
           "bgcolor": "white",
           "caxis": {
            "gridcolor": "#DFE8F3",
            "linecolor": "#A2B1C6",
            "ticks": ""
           }
          },
          "title": {
           "x": 0.05
          },
          "xaxis": {
           "automargin": true,
           "gridcolor": "#EBF0F8",
           "linecolor": "#EBF0F8",
           "ticks": "",
           "title": {
            "standoff": 15
           },
           "zerolinecolor": "#EBF0F8",
           "zerolinewidth": 2
          },
          "yaxis": {
           "automargin": true,
           "gridcolor": "#EBF0F8",
           "linecolor": "#EBF0F8",
           "ticks": "",
           "title": {
            "standoff": 15
           },
           "zerolinecolor": "#EBF0F8",
           "zerolinewidth": 2
          }
         }
        },
        "title": {
         "text": "Correlation Map of Station Data",
         "x": 0.5
        },
        "width": 1000,
        "xaxis": {
         "showgrid": false,
         "tickangle": 30,
         "zeroline": false
        },
        "yaxis": {
         "autorange": "reversed",
         "showgrid": false,
         "zeroline": false
        }
       }
      }
     },
     "metadata": {},
     "output_type": "display_data"
    }
   ],
   "source": [
    "station_correlations = station_df[[\n",
    "                                'total_plays',\n",
    "                                'total_artists',\n",
    "                                'bipoc_artists',\n",
    "                                'canadian_artists',\n",
    "                                'male_artists',\n",
    "                                'english_plays',\n",
    "                                'city_population'\n",
    "                            ]]\n",
    "plot_correlation_matrix(station_correlations, title='Correlation Map of Station Data')"
   ]
  },
  {
   "cell_type": "code",
   "execution_count": 64,
   "metadata": {},
   "outputs": [
    {
     "data": {
      "application/vnd.plotly.v1+json": {
       "config": {
        "plotlyServerURL": "https://plot.ly"
       },
       "data": [
        {
         "colorscale": [
          [
           0,
           "#84145C"
          ],
          [
           0.25,
           "#BF4995"
          ],
          [
           0.5,
           "rgb(255,255,255)"
          ],
          [
           0.75,
           "#57B76C"
          ],
          [
           1,
           "#276B36"
          ]
         ],
         "type": "heatmap",
         "x": [
          "Total Plays ",
          "Total Artists ",
          "Bipoc Artists ",
          "Canadian Artists ",
          "Male Artists ",
          "English Plays ",
          "City Population "
         ],
         "y": [
          "Total Plays ",
          "Total Artists ",
          "Bipoc Artists ",
          "Canadian Artists ",
          "Male Artists ",
          "English Plays ",
          "City Population "
         ],
         "z": [
          [
           null,
           null,
           null,
           null,
           null,
           null,
           null
          ],
          [
           0.8551587613492782,
           null,
           null,
           null,
           null,
           null,
           null
          ],
          [
           -0.15623602832614622,
           -0.15851414869800173,
           null,
           null,
           null,
           null,
           null
          ],
          [
           -0.06298759741812435,
           0.01710653293787897,
           -0.63744655883008,
           null,
           null,
           null,
           null
          ],
          [
           0.34187687232516395,
           0.11194540484670314,
           -0.1422872608330604,
           0.058163527204977646,
           null,
           null,
           null
          ],
          [
           0.2174168250883531,
           0.25397871119941107,
           -0.02409061228411935,
           0.08590987724606972,
           0.23911557244398313,
           null,
           null
          ],
          [
           -0.09643236077888137,
           -0.16245259020980488,
           0.6886122549449496,
           -0.3352211003703806,
           -0.21459204808923368,
           -0.11931369193635412,
           null
          ]
         ],
         "zmax": 1,
         "zmin": -1
        }
       ],
       "layout": {
        "font": {
         "size": 16
        },
        "height": 1000,
        "template": {
         "data": {
          "bar": [
           {
            "error_x": {
             "color": "#2a3f5f"
            },
            "error_y": {
             "color": "#2a3f5f"
            },
            "marker": {
             "line": {
              "color": "white",
              "width": 0.5
             },
             "pattern": {
              "fillmode": "overlay",
              "size": 10,
              "solidity": 0.2
             }
            },
            "type": "bar"
           }
          ],
          "barpolar": [
           {
            "marker": {
             "line": {
              "color": "white",
              "width": 0.5
             },
             "pattern": {
              "fillmode": "overlay",
              "size": 10,
              "solidity": 0.2
             }
            },
            "type": "barpolar"
           }
          ],
          "carpet": [
           {
            "aaxis": {
             "endlinecolor": "#2a3f5f",
             "gridcolor": "#C8D4E3",
             "linecolor": "#C8D4E3",
             "minorgridcolor": "#C8D4E3",
             "startlinecolor": "#2a3f5f"
            },
            "baxis": {
             "endlinecolor": "#2a3f5f",
             "gridcolor": "#C8D4E3",
             "linecolor": "#C8D4E3",
             "minorgridcolor": "#C8D4E3",
             "startlinecolor": "#2a3f5f"
            },
            "type": "carpet"
           }
          ],
          "choropleth": [
           {
            "colorbar": {
             "outlinewidth": 0,
             "ticks": ""
            },
            "type": "choropleth"
           }
          ],
          "contour": [
           {
            "colorbar": {
             "outlinewidth": 0,
             "ticks": ""
            },
            "colorscale": [
             [
              0,
              "#0d0887"
             ],
             [
              0.1111111111111111,
              "#46039f"
             ],
             [
              0.2222222222222222,
              "#7201a8"
             ],
             [
              0.3333333333333333,
              "#9c179e"
             ],
             [
              0.4444444444444444,
              "#bd3786"
             ],
             [
              0.5555555555555556,
              "#d8576b"
             ],
             [
              0.6666666666666666,
              "#ed7953"
             ],
             [
              0.7777777777777778,
              "#fb9f3a"
             ],
             [
              0.8888888888888888,
              "#fdca26"
             ],
             [
              1,
              "#f0f921"
             ]
            ],
            "type": "contour"
           }
          ],
          "contourcarpet": [
           {
            "colorbar": {
             "outlinewidth": 0,
             "ticks": ""
            },
            "type": "contourcarpet"
           }
          ],
          "heatmap": [
           {
            "colorbar": {
             "outlinewidth": 0,
             "ticks": ""
            },
            "colorscale": [
             [
              0,
              "#0d0887"
             ],
             [
              0.1111111111111111,
              "#46039f"
             ],
             [
              0.2222222222222222,
              "#7201a8"
             ],
             [
              0.3333333333333333,
              "#9c179e"
             ],
             [
              0.4444444444444444,
              "#bd3786"
             ],
             [
              0.5555555555555556,
              "#d8576b"
             ],
             [
              0.6666666666666666,
              "#ed7953"
             ],
             [
              0.7777777777777778,
              "#fb9f3a"
             ],
             [
              0.8888888888888888,
              "#fdca26"
             ],
             [
              1,
              "#f0f921"
             ]
            ],
            "type": "heatmap"
           }
          ],
          "heatmapgl": [
           {
            "colorbar": {
             "outlinewidth": 0,
             "ticks": ""
            },
            "colorscale": [
             [
              0,
              "#0d0887"
             ],
             [
              0.1111111111111111,
              "#46039f"
             ],
             [
              0.2222222222222222,
              "#7201a8"
             ],
             [
              0.3333333333333333,
              "#9c179e"
             ],
             [
              0.4444444444444444,
              "#bd3786"
             ],
             [
              0.5555555555555556,
              "#d8576b"
             ],
             [
              0.6666666666666666,
              "#ed7953"
             ],
             [
              0.7777777777777778,
              "#fb9f3a"
             ],
             [
              0.8888888888888888,
              "#fdca26"
             ],
             [
              1,
              "#f0f921"
             ]
            ],
            "type": "heatmapgl"
           }
          ],
          "histogram": [
           {
            "marker": {
             "pattern": {
              "fillmode": "overlay",
              "size": 10,
              "solidity": 0.2
             }
            },
            "type": "histogram"
           }
          ],
          "histogram2d": [
           {
            "colorbar": {
             "outlinewidth": 0,
             "ticks": ""
            },
            "colorscale": [
             [
              0,
              "#0d0887"
             ],
             [
              0.1111111111111111,
              "#46039f"
             ],
             [
              0.2222222222222222,
              "#7201a8"
             ],
             [
              0.3333333333333333,
              "#9c179e"
             ],
             [
              0.4444444444444444,
              "#bd3786"
             ],
             [
              0.5555555555555556,
              "#d8576b"
             ],
             [
              0.6666666666666666,
              "#ed7953"
             ],
             [
              0.7777777777777778,
              "#fb9f3a"
             ],
             [
              0.8888888888888888,
              "#fdca26"
             ],
             [
              1,
              "#f0f921"
             ]
            ],
            "type": "histogram2d"
           }
          ],
          "histogram2dcontour": [
           {
            "colorbar": {
             "outlinewidth": 0,
             "ticks": ""
            },
            "colorscale": [
             [
              0,
              "#0d0887"
             ],
             [
              0.1111111111111111,
              "#46039f"
             ],
             [
              0.2222222222222222,
              "#7201a8"
             ],
             [
              0.3333333333333333,
              "#9c179e"
             ],
             [
              0.4444444444444444,
              "#bd3786"
             ],
             [
              0.5555555555555556,
              "#d8576b"
             ],
             [
              0.6666666666666666,
              "#ed7953"
             ],
             [
              0.7777777777777778,
              "#fb9f3a"
             ],
             [
              0.8888888888888888,
              "#fdca26"
             ],
             [
              1,
              "#f0f921"
             ]
            ],
            "type": "histogram2dcontour"
           }
          ],
          "mesh3d": [
           {
            "colorbar": {
             "outlinewidth": 0,
             "ticks": ""
            },
            "type": "mesh3d"
           }
          ],
          "parcoords": [
           {
            "line": {
             "colorbar": {
              "outlinewidth": 0,
              "ticks": ""
             }
            },
            "type": "parcoords"
           }
          ],
          "pie": [
           {
            "automargin": true,
            "type": "pie"
           }
          ],
          "scatter": [
           {
            "marker": {
             "colorbar": {
              "outlinewidth": 0,
              "ticks": ""
             }
            },
            "type": "scatter"
           }
          ],
          "scatter3d": [
           {
            "line": {
             "colorbar": {
              "outlinewidth": 0,
              "ticks": ""
             }
            },
            "marker": {
             "colorbar": {
              "outlinewidth": 0,
              "ticks": ""
             }
            },
            "type": "scatter3d"
           }
          ],
          "scattercarpet": [
           {
            "marker": {
             "colorbar": {
              "outlinewidth": 0,
              "ticks": ""
             }
            },
            "type": "scattercarpet"
           }
          ],
          "scattergeo": [
           {
            "marker": {
             "colorbar": {
              "outlinewidth": 0,
              "ticks": ""
             }
            },
            "type": "scattergeo"
           }
          ],
          "scattergl": [
           {
            "marker": {
             "colorbar": {
              "outlinewidth": 0,
              "ticks": ""
             }
            },
            "type": "scattergl"
           }
          ],
          "scattermapbox": [
           {
            "marker": {
             "colorbar": {
              "outlinewidth": 0,
              "ticks": ""
             }
            },
            "type": "scattermapbox"
           }
          ],
          "scatterpolar": [
           {
            "marker": {
             "colorbar": {
              "outlinewidth": 0,
              "ticks": ""
             }
            },
            "type": "scatterpolar"
           }
          ],
          "scatterpolargl": [
           {
            "marker": {
             "colorbar": {
              "outlinewidth": 0,
              "ticks": ""
             }
            },
            "type": "scatterpolargl"
           }
          ],
          "scatterternary": [
           {
            "marker": {
             "colorbar": {
              "outlinewidth": 0,
              "ticks": ""
             }
            },
            "type": "scatterternary"
           }
          ],
          "surface": [
           {
            "colorbar": {
             "outlinewidth": 0,
             "ticks": ""
            },
            "colorscale": [
             [
              0,
              "#0d0887"
             ],
             [
              0.1111111111111111,
              "#46039f"
             ],
             [
              0.2222222222222222,
              "#7201a8"
             ],
             [
              0.3333333333333333,
              "#9c179e"
             ],
             [
              0.4444444444444444,
              "#bd3786"
             ],
             [
              0.5555555555555556,
              "#d8576b"
             ],
             [
              0.6666666666666666,
              "#ed7953"
             ],
             [
              0.7777777777777778,
              "#fb9f3a"
             ],
             [
              0.8888888888888888,
              "#fdca26"
             ],
             [
              1,
              "#f0f921"
             ]
            ],
            "type": "surface"
           }
          ],
          "table": [
           {
            "cells": {
             "fill": {
              "color": "#EBF0F8"
             },
             "line": {
              "color": "white"
             }
            },
            "header": {
             "fill": {
              "color": "#C8D4E3"
             },
             "line": {
              "color": "white"
             }
            },
            "type": "table"
           }
          ]
         },
         "layout": {
          "annotationdefaults": {
           "arrowcolor": "#2a3f5f",
           "arrowhead": 0,
           "arrowwidth": 1
          },
          "autotypenumbers": "strict",
          "coloraxis": {
           "colorbar": {
            "outlinewidth": 0,
            "ticks": ""
           }
          },
          "colorscale": {
           "diverging": [
            [
             0,
             "#8e0152"
            ],
            [
             0.1,
             "#c51b7d"
            ],
            [
             0.2,
             "#de77ae"
            ],
            [
             0.3,
             "#f1b6da"
            ],
            [
             0.4,
             "#fde0ef"
            ],
            [
             0.5,
             "#f7f7f7"
            ],
            [
             0.6,
             "#e6f5d0"
            ],
            [
             0.7,
             "#b8e186"
            ],
            [
             0.8,
             "#7fbc41"
            ],
            [
             0.9,
             "#4d9221"
            ],
            [
             1,
             "#276419"
            ]
           ],
           "sequential": [
            [
             0,
             "#0d0887"
            ],
            [
             0.1111111111111111,
             "#46039f"
            ],
            [
             0.2222222222222222,
             "#7201a8"
            ],
            [
             0.3333333333333333,
             "#9c179e"
            ],
            [
             0.4444444444444444,
             "#bd3786"
            ],
            [
             0.5555555555555556,
             "#d8576b"
            ],
            [
             0.6666666666666666,
             "#ed7953"
            ],
            [
             0.7777777777777778,
             "#fb9f3a"
            ],
            [
             0.8888888888888888,
             "#fdca26"
            ],
            [
             1,
             "#f0f921"
            ]
           ],
           "sequentialminus": [
            [
             0,
             "#0d0887"
            ],
            [
             0.1111111111111111,
             "#46039f"
            ],
            [
             0.2222222222222222,
             "#7201a8"
            ],
            [
             0.3333333333333333,
             "#9c179e"
            ],
            [
             0.4444444444444444,
             "#bd3786"
            ],
            [
             0.5555555555555556,
             "#d8576b"
            ],
            [
             0.6666666666666666,
             "#ed7953"
            ],
            [
             0.7777777777777778,
             "#fb9f3a"
            ],
            [
             0.8888888888888888,
             "#fdca26"
            ],
            [
             1,
             "#f0f921"
            ]
           ]
          },
          "colorway": [
           "#636efa",
           "#EF553B",
           "#00cc96",
           "#ab63fa",
           "#FFA15A",
           "#19d3f3",
           "#FF6692",
           "#B6E880",
           "#FF97FF",
           "#FECB52"
          ],
          "font": {
           "color": "#2a3f5f"
          },
          "geo": {
           "bgcolor": "white",
           "lakecolor": "white",
           "landcolor": "white",
           "showlakes": true,
           "showland": true,
           "subunitcolor": "#C8D4E3"
          },
          "hoverlabel": {
           "align": "left"
          },
          "hovermode": "closest",
          "mapbox": {
           "style": "light"
          },
          "paper_bgcolor": "white",
          "plot_bgcolor": "white",
          "polar": {
           "angularaxis": {
            "gridcolor": "#EBF0F8",
            "linecolor": "#EBF0F8",
            "ticks": ""
           },
           "bgcolor": "white",
           "radialaxis": {
            "gridcolor": "#EBF0F8",
            "linecolor": "#EBF0F8",
            "ticks": ""
           }
          },
          "scene": {
           "xaxis": {
            "backgroundcolor": "white",
            "gridcolor": "#DFE8F3",
            "gridwidth": 2,
            "linecolor": "#EBF0F8",
            "showbackground": true,
            "ticks": "",
            "zerolinecolor": "#EBF0F8"
           },
           "yaxis": {
            "backgroundcolor": "white",
            "gridcolor": "#DFE8F3",
            "gridwidth": 2,
            "linecolor": "#EBF0F8",
            "showbackground": true,
            "ticks": "",
            "zerolinecolor": "#EBF0F8"
           },
           "zaxis": {
            "backgroundcolor": "white",
            "gridcolor": "#DFE8F3",
            "gridwidth": 2,
            "linecolor": "#EBF0F8",
            "showbackground": true,
            "ticks": "",
            "zerolinecolor": "#EBF0F8"
           }
          },
          "shapedefaults": {
           "line": {
            "color": "#2a3f5f"
           }
          },
          "ternary": {
           "aaxis": {
            "gridcolor": "#DFE8F3",
            "linecolor": "#A2B1C6",
            "ticks": ""
           },
           "baxis": {
            "gridcolor": "#DFE8F3",
            "linecolor": "#A2B1C6",
            "ticks": ""
           },
           "bgcolor": "white",
           "caxis": {
            "gridcolor": "#DFE8F3",
            "linecolor": "#A2B1C6",
            "ticks": ""
           }
          },
          "title": {
           "x": 0.05
          },
          "xaxis": {
           "automargin": true,
           "gridcolor": "#EBF0F8",
           "linecolor": "#EBF0F8",
           "ticks": "",
           "title": {
            "standoff": 15
           },
           "zerolinecolor": "#EBF0F8",
           "zerolinewidth": 2
          },
          "yaxis": {
           "automargin": true,
           "gridcolor": "#EBF0F8",
           "linecolor": "#EBF0F8",
           "ticks": "",
           "title": {
            "standoff": 15
           },
           "zerolinecolor": "#EBF0F8",
           "zerolinewidth": 2
          }
         }
        },
        "title": {
         "text": "Correlation Map of Station Data",
         "x": 0.5
        },
        "width": 1000,
        "xaxis": {
         "showgrid": false,
         "tickangle": 30,
         "zeroline": false
        },
        "yaxis": {
         "autorange": "reversed",
         "showgrid": false,
         "zeroline": false
        }
       }
      }
     },
     "metadata": {},
     "output_type": "display_data"
    }
   ],
   "source": [
    "station_correlations = station_df[[\n",
    "                                'total_plays',\n",
    "                                'total_artists',\n",
    "                                'bipoc_artists',\n",
    "                                'canadian_artists',\n",
    "                                'male_artists',\n",
    "                                'english_plays',\n",
    "                                'city_population',\n",
    "                                'station_province'\n",
    "                            ]]\n",
    "station_correlations= station_correlations[station_correlations['station_province'] != 'nova scotia']\n",
    "plot_correlation_matrix(station_correlations, title='Correlation Map of Station Data')"
   ]
  },
  {
   "cell_type": "code",
   "execution_count": 63,
   "metadata": {},
   "outputs": [
    {
     "data": {
      "text/html": [
       "<div>\n",
       "<style scoped>\n",
       "    .dataframe tbody tr th:only-of-type {\n",
       "        vertical-align: middle;\n",
       "    }\n",
       "\n",
       "    .dataframe tbody tr th {\n",
       "        vertical-align: top;\n",
       "    }\n",
       "\n",
       "    .dataframe thead th {\n",
       "        text-align: right;\n",
       "    }\n",
       "</style>\n",
       "<table border=\"1\" class=\"dataframe\">\n",
       "  <thead>\n",
       "    <tr style=\"text-align: right;\">\n",
       "      <th></th>\n",
       "      <th>total_plays</th>\n",
       "      <th>total_artists</th>\n",
       "      <th>bipoc_artists</th>\n",
       "      <th>canadian_artists</th>\n",
       "      <th>male_artists</th>\n",
       "      <th>english_plays</th>\n",
       "      <th>city_population</th>\n",
       "      <th>station_province</th>\n",
       "    </tr>\n",
       "  </thead>\n",
       "  <tbody>\n",
       "    <tr>\n",
       "      <th>6</th>\n",
       "      <td>780</td>\n",
       "      <td>169</td>\n",
       "      <td>0.520513</td>\n",
       "      <td>0.75641</td>\n",
       "      <td>0.916667</td>\n",
       "      <td>0.979487</td>\n",
       "      <td>403130</td>\n",
       "      <td>nova scotia</td>\n",
       "    </tr>\n",
       "  </tbody>\n",
       "</table>\n",
       "</div>"
      ],
      "text/plain": [
       "   total_plays  total_artists  bipoc_artists  canadian_artists  male_artists  \\\n",
       "6          780            169       0.520513           0.75641      0.916667   \n",
       "\n",
       "   english_plays  city_population station_province  \n",
       "6       0.979487           403130      nova scotia  "
      ]
     },
     "execution_count": 63,
     "metadata": {},
     "output_type": "execute_result"
    }
   ],
   "source": [
    "station_correlations"
   ]
  },
  {
   "cell_type": "code",
   "execution_count": 14,
   "metadata": {},
   "outputs": [],
   "source": [
    "artist_df = pd.read_csv('data/clean_data_artists.csv',index_col=0)"
   ]
  },
  {
   "cell_type": "code",
   "execution_count": 15,
   "metadata": {},
   "outputs": [
    {
     "data": {
      "text/plain": [
       "Index(['artist_name(s)', 'artist_country', 'artist_home_city',\n",
       "       'visible_ethnic_minority', 'census_race_classification',\n",
       "       'artist_gender', 'canadian_content', 'artist_is_group', 'total_plays',\n",
       "       'alberta', 'british columbia', 'manitoba', 'new brunswick',\n",
       "       'nova scotia', 'ontario', 'quebec', 'artist_country_cdn',\n",
       "       'artist_country_int', 'artist_country_uk', 'artist_country_unknown',\n",
       "       'artist_country_us', 'visible_ethnic_minority_no',\n",
       "       'visible_ethnic_minority_unknown', 'visible_ethnic_minority_yes',\n",
       "       'artist_gender_female', 'artist_gender_male', 'artist_gender_mixed',\n",
       "       'artist_gender_unknown'],\n",
       "      dtype='object')"
      ]
     },
     "execution_count": 15,
     "metadata": {},
     "output_type": "execute_result"
    }
   ],
   "source": [
    "artist_df.columns"
   ]
  },
  {
   "cell_type": "code",
   "execution_count": 52,
   "metadata": {},
   "outputs": [
    {
     "data": {
      "application/vnd.plotly.v1+json": {
       "config": {
        "plotlyServerURL": "https://plot.ly"
       },
       "data": [
        {
         "colorscale": [
          [
           0,
           "#84145C"
          ],
          [
           0.25,
           "#BF4995"
          ],
          [
           0.5,
           "rgb(255,255,255)"
          ],
          [
           0.75,
           "#57B76C"
          ],
          [
           1,
           "#276B36"
          ]
         ],
         "type": "heatmap",
         "x": [
          "Total Plays ",
          "Canadian Content ",
          "Visible Ethnic Minority Yes ",
          "Artist Gender Male ",
          "Artist Is Group "
         ],
         "y": [
          "Total Plays ",
          "Canadian Content ",
          "Visible Ethnic Minority Yes ",
          "Artist Gender Male ",
          "Artist Is Group "
         ],
         "z": [
          [
           null,
           null,
           null,
           null,
           null
          ],
          [
           0.10305787612217891,
           null,
           null,
           null,
           null
          ],
          [
           0.01600987583995876,
           -0.20792561831300624,
           null,
           null,
           null
          ],
          [
           0.05086624771925648,
           -0.01368439672551724,
           -0.016150554631258203,
           null,
           null
          ],
          [
           -0.0107698674540474,
           0.007436448336886772,
           0.08579911902181697,
           -0.06991905948936168,
           null
          ]
         ],
         "zmax": 1,
         "zmin": -1
        }
       ],
       "layout": {
        "font": {
         "size": 16
        },
        "height": 1000,
        "template": {
         "data": {
          "bar": [
           {
            "error_x": {
             "color": "#2a3f5f"
            },
            "error_y": {
             "color": "#2a3f5f"
            },
            "marker": {
             "line": {
              "color": "white",
              "width": 0.5
             },
             "pattern": {
              "fillmode": "overlay",
              "size": 10,
              "solidity": 0.2
             }
            },
            "type": "bar"
           }
          ],
          "barpolar": [
           {
            "marker": {
             "line": {
              "color": "white",
              "width": 0.5
             },
             "pattern": {
              "fillmode": "overlay",
              "size": 10,
              "solidity": 0.2
             }
            },
            "type": "barpolar"
           }
          ],
          "carpet": [
           {
            "aaxis": {
             "endlinecolor": "#2a3f5f",
             "gridcolor": "#C8D4E3",
             "linecolor": "#C8D4E3",
             "minorgridcolor": "#C8D4E3",
             "startlinecolor": "#2a3f5f"
            },
            "baxis": {
             "endlinecolor": "#2a3f5f",
             "gridcolor": "#C8D4E3",
             "linecolor": "#C8D4E3",
             "minorgridcolor": "#C8D4E3",
             "startlinecolor": "#2a3f5f"
            },
            "type": "carpet"
           }
          ],
          "choropleth": [
           {
            "colorbar": {
             "outlinewidth": 0,
             "ticks": ""
            },
            "type": "choropleth"
           }
          ],
          "contour": [
           {
            "colorbar": {
             "outlinewidth": 0,
             "ticks": ""
            },
            "colorscale": [
             [
              0,
              "#0d0887"
             ],
             [
              0.1111111111111111,
              "#46039f"
             ],
             [
              0.2222222222222222,
              "#7201a8"
             ],
             [
              0.3333333333333333,
              "#9c179e"
             ],
             [
              0.4444444444444444,
              "#bd3786"
             ],
             [
              0.5555555555555556,
              "#d8576b"
             ],
             [
              0.6666666666666666,
              "#ed7953"
             ],
             [
              0.7777777777777778,
              "#fb9f3a"
             ],
             [
              0.8888888888888888,
              "#fdca26"
             ],
             [
              1,
              "#f0f921"
             ]
            ],
            "type": "contour"
           }
          ],
          "contourcarpet": [
           {
            "colorbar": {
             "outlinewidth": 0,
             "ticks": ""
            },
            "type": "contourcarpet"
           }
          ],
          "heatmap": [
           {
            "colorbar": {
             "outlinewidth": 0,
             "ticks": ""
            },
            "colorscale": [
             [
              0,
              "#0d0887"
             ],
             [
              0.1111111111111111,
              "#46039f"
             ],
             [
              0.2222222222222222,
              "#7201a8"
             ],
             [
              0.3333333333333333,
              "#9c179e"
             ],
             [
              0.4444444444444444,
              "#bd3786"
             ],
             [
              0.5555555555555556,
              "#d8576b"
             ],
             [
              0.6666666666666666,
              "#ed7953"
             ],
             [
              0.7777777777777778,
              "#fb9f3a"
             ],
             [
              0.8888888888888888,
              "#fdca26"
             ],
             [
              1,
              "#f0f921"
             ]
            ],
            "type": "heatmap"
           }
          ],
          "heatmapgl": [
           {
            "colorbar": {
             "outlinewidth": 0,
             "ticks": ""
            },
            "colorscale": [
             [
              0,
              "#0d0887"
             ],
             [
              0.1111111111111111,
              "#46039f"
             ],
             [
              0.2222222222222222,
              "#7201a8"
             ],
             [
              0.3333333333333333,
              "#9c179e"
             ],
             [
              0.4444444444444444,
              "#bd3786"
             ],
             [
              0.5555555555555556,
              "#d8576b"
             ],
             [
              0.6666666666666666,
              "#ed7953"
             ],
             [
              0.7777777777777778,
              "#fb9f3a"
             ],
             [
              0.8888888888888888,
              "#fdca26"
             ],
             [
              1,
              "#f0f921"
             ]
            ],
            "type": "heatmapgl"
           }
          ],
          "histogram": [
           {
            "marker": {
             "pattern": {
              "fillmode": "overlay",
              "size": 10,
              "solidity": 0.2
             }
            },
            "type": "histogram"
           }
          ],
          "histogram2d": [
           {
            "colorbar": {
             "outlinewidth": 0,
             "ticks": ""
            },
            "colorscale": [
             [
              0,
              "#0d0887"
             ],
             [
              0.1111111111111111,
              "#46039f"
             ],
             [
              0.2222222222222222,
              "#7201a8"
             ],
             [
              0.3333333333333333,
              "#9c179e"
             ],
             [
              0.4444444444444444,
              "#bd3786"
             ],
             [
              0.5555555555555556,
              "#d8576b"
             ],
             [
              0.6666666666666666,
              "#ed7953"
             ],
             [
              0.7777777777777778,
              "#fb9f3a"
             ],
             [
              0.8888888888888888,
              "#fdca26"
             ],
             [
              1,
              "#f0f921"
             ]
            ],
            "type": "histogram2d"
           }
          ],
          "histogram2dcontour": [
           {
            "colorbar": {
             "outlinewidth": 0,
             "ticks": ""
            },
            "colorscale": [
             [
              0,
              "#0d0887"
             ],
             [
              0.1111111111111111,
              "#46039f"
             ],
             [
              0.2222222222222222,
              "#7201a8"
             ],
             [
              0.3333333333333333,
              "#9c179e"
             ],
             [
              0.4444444444444444,
              "#bd3786"
             ],
             [
              0.5555555555555556,
              "#d8576b"
             ],
             [
              0.6666666666666666,
              "#ed7953"
             ],
             [
              0.7777777777777778,
              "#fb9f3a"
             ],
             [
              0.8888888888888888,
              "#fdca26"
             ],
             [
              1,
              "#f0f921"
             ]
            ],
            "type": "histogram2dcontour"
           }
          ],
          "mesh3d": [
           {
            "colorbar": {
             "outlinewidth": 0,
             "ticks": ""
            },
            "type": "mesh3d"
           }
          ],
          "parcoords": [
           {
            "line": {
             "colorbar": {
              "outlinewidth": 0,
              "ticks": ""
             }
            },
            "type": "parcoords"
           }
          ],
          "pie": [
           {
            "automargin": true,
            "type": "pie"
           }
          ],
          "scatter": [
           {
            "marker": {
             "colorbar": {
              "outlinewidth": 0,
              "ticks": ""
             }
            },
            "type": "scatter"
           }
          ],
          "scatter3d": [
           {
            "line": {
             "colorbar": {
              "outlinewidth": 0,
              "ticks": ""
             }
            },
            "marker": {
             "colorbar": {
              "outlinewidth": 0,
              "ticks": ""
             }
            },
            "type": "scatter3d"
           }
          ],
          "scattercarpet": [
           {
            "marker": {
             "colorbar": {
              "outlinewidth": 0,
              "ticks": ""
             }
            },
            "type": "scattercarpet"
           }
          ],
          "scattergeo": [
           {
            "marker": {
             "colorbar": {
              "outlinewidth": 0,
              "ticks": ""
             }
            },
            "type": "scattergeo"
           }
          ],
          "scattergl": [
           {
            "marker": {
             "colorbar": {
              "outlinewidth": 0,
              "ticks": ""
             }
            },
            "type": "scattergl"
           }
          ],
          "scattermapbox": [
           {
            "marker": {
             "colorbar": {
              "outlinewidth": 0,
              "ticks": ""
             }
            },
            "type": "scattermapbox"
           }
          ],
          "scatterpolar": [
           {
            "marker": {
             "colorbar": {
              "outlinewidth": 0,
              "ticks": ""
             }
            },
            "type": "scatterpolar"
           }
          ],
          "scatterpolargl": [
           {
            "marker": {
             "colorbar": {
              "outlinewidth": 0,
              "ticks": ""
             }
            },
            "type": "scatterpolargl"
           }
          ],
          "scatterternary": [
           {
            "marker": {
             "colorbar": {
              "outlinewidth": 0,
              "ticks": ""
             }
            },
            "type": "scatterternary"
           }
          ],
          "surface": [
           {
            "colorbar": {
             "outlinewidth": 0,
             "ticks": ""
            },
            "colorscale": [
             [
              0,
              "#0d0887"
             ],
             [
              0.1111111111111111,
              "#46039f"
             ],
             [
              0.2222222222222222,
              "#7201a8"
             ],
             [
              0.3333333333333333,
              "#9c179e"
             ],
             [
              0.4444444444444444,
              "#bd3786"
             ],
             [
              0.5555555555555556,
              "#d8576b"
             ],
             [
              0.6666666666666666,
              "#ed7953"
             ],
             [
              0.7777777777777778,
              "#fb9f3a"
             ],
             [
              0.8888888888888888,
              "#fdca26"
             ],
             [
              1,
              "#f0f921"
             ]
            ],
            "type": "surface"
           }
          ],
          "table": [
           {
            "cells": {
             "fill": {
              "color": "#EBF0F8"
             },
             "line": {
              "color": "white"
             }
            },
            "header": {
             "fill": {
              "color": "#C8D4E3"
             },
             "line": {
              "color": "white"
             }
            },
            "type": "table"
           }
          ]
         },
         "layout": {
          "annotationdefaults": {
           "arrowcolor": "#2a3f5f",
           "arrowhead": 0,
           "arrowwidth": 1
          },
          "autotypenumbers": "strict",
          "coloraxis": {
           "colorbar": {
            "outlinewidth": 0,
            "ticks": ""
           }
          },
          "colorscale": {
           "diverging": [
            [
             0,
             "#8e0152"
            ],
            [
             0.1,
             "#c51b7d"
            ],
            [
             0.2,
             "#de77ae"
            ],
            [
             0.3,
             "#f1b6da"
            ],
            [
             0.4,
             "#fde0ef"
            ],
            [
             0.5,
             "#f7f7f7"
            ],
            [
             0.6,
             "#e6f5d0"
            ],
            [
             0.7,
             "#b8e186"
            ],
            [
             0.8,
             "#7fbc41"
            ],
            [
             0.9,
             "#4d9221"
            ],
            [
             1,
             "#276419"
            ]
           ],
           "sequential": [
            [
             0,
             "#0d0887"
            ],
            [
             0.1111111111111111,
             "#46039f"
            ],
            [
             0.2222222222222222,
             "#7201a8"
            ],
            [
             0.3333333333333333,
             "#9c179e"
            ],
            [
             0.4444444444444444,
             "#bd3786"
            ],
            [
             0.5555555555555556,
             "#d8576b"
            ],
            [
             0.6666666666666666,
             "#ed7953"
            ],
            [
             0.7777777777777778,
             "#fb9f3a"
            ],
            [
             0.8888888888888888,
             "#fdca26"
            ],
            [
             1,
             "#f0f921"
            ]
           ],
           "sequentialminus": [
            [
             0,
             "#0d0887"
            ],
            [
             0.1111111111111111,
             "#46039f"
            ],
            [
             0.2222222222222222,
             "#7201a8"
            ],
            [
             0.3333333333333333,
             "#9c179e"
            ],
            [
             0.4444444444444444,
             "#bd3786"
            ],
            [
             0.5555555555555556,
             "#d8576b"
            ],
            [
             0.6666666666666666,
             "#ed7953"
            ],
            [
             0.7777777777777778,
             "#fb9f3a"
            ],
            [
             0.8888888888888888,
             "#fdca26"
            ],
            [
             1,
             "#f0f921"
            ]
           ]
          },
          "colorway": [
           "#636efa",
           "#EF553B",
           "#00cc96",
           "#ab63fa",
           "#FFA15A",
           "#19d3f3",
           "#FF6692",
           "#B6E880",
           "#FF97FF",
           "#FECB52"
          ],
          "font": {
           "color": "#2a3f5f"
          },
          "geo": {
           "bgcolor": "white",
           "lakecolor": "white",
           "landcolor": "white",
           "showlakes": true,
           "showland": true,
           "subunitcolor": "#C8D4E3"
          },
          "hoverlabel": {
           "align": "left"
          },
          "hovermode": "closest",
          "mapbox": {
           "style": "light"
          },
          "paper_bgcolor": "white",
          "plot_bgcolor": "white",
          "polar": {
           "angularaxis": {
            "gridcolor": "#EBF0F8",
            "linecolor": "#EBF0F8",
            "ticks": ""
           },
           "bgcolor": "white",
           "radialaxis": {
            "gridcolor": "#EBF0F8",
            "linecolor": "#EBF0F8",
            "ticks": ""
           }
          },
          "scene": {
           "xaxis": {
            "backgroundcolor": "white",
            "gridcolor": "#DFE8F3",
            "gridwidth": 2,
            "linecolor": "#EBF0F8",
            "showbackground": true,
            "ticks": "",
            "zerolinecolor": "#EBF0F8"
           },
           "yaxis": {
            "backgroundcolor": "white",
            "gridcolor": "#DFE8F3",
            "gridwidth": 2,
            "linecolor": "#EBF0F8",
            "showbackground": true,
            "ticks": "",
            "zerolinecolor": "#EBF0F8"
           },
           "zaxis": {
            "backgroundcolor": "white",
            "gridcolor": "#DFE8F3",
            "gridwidth": 2,
            "linecolor": "#EBF0F8",
            "showbackground": true,
            "ticks": "",
            "zerolinecolor": "#EBF0F8"
           }
          },
          "shapedefaults": {
           "line": {
            "color": "#2a3f5f"
           }
          },
          "ternary": {
           "aaxis": {
            "gridcolor": "#DFE8F3",
            "linecolor": "#A2B1C6",
            "ticks": ""
           },
           "baxis": {
            "gridcolor": "#DFE8F3",
            "linecolor": "#A2B1C6",
            "ticks": ""
           },
           "bgcolor": "white",
           "caxis": {
            "gridcolor": "#DFE8F3",
            "linecolor": "#A2B1C6",
            "ticks": ""
           }
          },
          "title": {
           "x": 0.05
          },
          "xaxis": {
           "automargin": true,
           "gridcolor": "#EBF0F8",
           "linecolor": "#EBF0F8",
           "ticks": "",
           "title": {
            "standoff": 15
           },
           "zerolinecolor": "#EBF0F8",
           "zerolinewidth": 2
          },
          "yaxis": {
           "automargin": true,
           "gridcolor": "#EBF0F8",
           "linecolor": "#EBF0F8",
           "ticks": "",
           "title": {
            "standoff": 15
           },
           "zerolinecolor": "#EBF0F8",
           "zerolinewidth": 2
          }
         }
        },
        "title": {
         "text": "Correlation Map of Artist Data",
         "x": 0.5
        },
        "width": 1000,
        "xaxis": {
         "showgrid": false,
         "tickangle": 30,
         "zeroline": false
        },
        "yaxis": {
         "autorange": "reversed",
         "showgrid": false,
         "zeroline": false
        }
       }
      }
     },
     "metadata": {},
     "output_type": "display_data"
    }
   ],
   "source": [
    "artist_correlations = artist_df[[\n",
    "                                'total_plays',\n",
    "                                'canadian_content',\n",
    "                                'visible_ethnic_minority_yes',\n",
    "                                'artist_gender_male',\n",
    "                                'artist_is_group'\n",
    "                                ]]\n",
    "plot_correlation_matrix(artist_correlations._get_numeric_data(),title='Correlation Map of Artist Data')"
   ]
  },
  {
   "cell_type": "code",
   "execution_count": 30,
   "metadata": {},
   "outputs": [],
   "source": [
    "time_table = pd.read_csv('data/time_table.csv', index_col=0)"
   ]
  },
  {
   "cell_type": "code",
   "execution_count": 31,
   "metadata": {},
   "outputs": [],
   "source": [
    "time_table = time_table.sort_values('week_of')"
   ]
  },
  {
   "cell_type": "code",
   "execution_count": 51,
   "metadata": {},
   "outputs": [
    {
     "data": {
      "application/vnd.plotly.v1+json": {
       "config": {
        "plotlyServerURL": "https://plot.ly"
       },
       "data": [
        {
         "type": "heatmap",
         "x": [
          "2006-01-10",
          "2006-01-17",
          "2006-01-24",
          "2006-01-31",
          "2006-02-07",
          "2006-02-14",
          "2006-02-21",
          "2006-02-28",
          "2006-03-07",
          "2006-03-14",
          "2006-03-21",
          "2006-03-28",
          "2006-04-04",
          "2006-04-11",
          "2006-04-18",
          "2006-04-25",
          "2006-05-02",
          "2006-05-09",
          "2006-05-16",
          "2006-05-23",
          "2006-05-30",
          "2006-06-06",
          "2006-06-13",
          "2006-06-20",
          "2006-06-27",
          "2006-07-04",
          "2006-07-11",
          "2006-07-18",
          "2006-07-25",
          "2006-08-01",
          "2006-08-08",
          "2006-08-15",
          "2006-08-22",
          "2006-08-29",
          "2006-09-05",
          "2006-09-12",
          "2006-09-19",
          "2006-09-26",
          "2006-10-03",
          "2006-10-10",
          "2006-10-17",
          "2006-10-24",
          "2006-10-31",
          "2006-11-07",
          "2006-11-14",
          "2006-11-21",
          "2006-11-28",
          "2006-12-05",
          "2006-12-12",
          "2006-12-19",
          "2006-12-26",
          "2007-01-02",
          "2007-01-09",
          "2007-01-16",
          "2007-01-23",
          "2007-01-30",
          "2007-02-06",
          "2007-02-13",
          "2007-02-20",
          "2007-02-27",
          "2007-03-06",
          "2007-03-13",
          "2007-03-20",
          "2007-03-27",
          "2007-04-03",
          "2007-04-10",
          "2007-04-17",
          "2007-04-24",
          "2007-05-01",
          "2007-05-08",
          "2007-05-15",
          "2007-05-22",
          "2007-05-29",
          "2007-06-05",
          "2007-06-12",
          "2007-06-19",
          "2007-06-26",
          "2007-07-03",
          "2007-07-10",
          "2007-07-17",
          "2007-07-24",
          "2007-07-31",
          "2007-08-07",
          "2007-08-14",
          "2007-08-21",
          "2007-08-28",
          "2007-09-04",
          "2007-09-11",
          "2007-09-18",
          "2007-09-25",
          "2007-10-02",
          "2007-10-09",
          "2007-10-16",
          "2007-10-23",
          "2007-10-30",
          "2007-11-06",
          "2007-11-13",
          "2007-11-20",
          "2007-11-27",
          "2007-12-04",
          "2007-12-11",
          "2007-12-18",
          "2008-01-08",
          "2008-01-15",
          "2008-01-22",
          "2008-01-29",
          "2008-02-05",
          "2008-02-12",
          "2008-02-19",
          "2008-02-26",
          "2008-03-04",
          "2008-03-11",
          "2008-03-18",
          "2008-03-25",
          "2008-04-01",
          "2008-04-08",
          "2008-04-15",
          "2008-04-22",
          "2008-04-29",
          "2008-05-06",
          "2008-05-13",
          "2008-05-20",
          "2008-05-27",
          "2008-06-03",
          "2008-06-10",
          "2008-06-17",
          "2008-06-24",
          "2008-07-01",
          "2008-07-08",
          "2008-07-15",
          "2008-07-22",
          "2008-07-29",
          "2008-08-05",
          "2008-08-12",
          "2008-08-19",
          "2008-08-26",
          "2008-09-02",
          "2008-09-09",
          "2008-09-16",
          "2008-09-23",
          "2008-09-30",
          "2008-10-07",
          "2008-10-14",
          "2008-10-21",
          "2008-10-28",
          "2008-11-04",
          "2008-11-11",
          "2008-11-18",
          "2008-11-25",
          "2008-12-02",
          "2008-12-09",
          "2008-12-16",
          "2008-12-23",
          "2008-12-30",
          "2009-01-06",
          "2009-01-13",
          "2009-01-20",
          "2009-01-27",
          "2009-02-03",
          "2009-02-10",
          "2009-02-17",
          "2009-02-24",
          "2009-03-03",
          "2009-03-10",
          "2009-03-17",
          "2009-03-24",
          "2009-03-31",
          "2009-04-07",
          "2009-04-14",
          "2009-04-21",
          "2009-04-28",
          "2009-05-05",
          "2009-05-12",
          "2009-05-19",
          "2009-05-26",
          "2009-06-02",
          "2009-06-09",
          "2009-06-16",
          "2009-06-23",
          "2009-06-30",
          "2009-07-07",
          "2009-07-14",
          "2009-07-21",
          "2009-07-28",
          "2009-08-04",
          "2009-08-11",
          "2009-08-18",
          "2009-08-25",
          "2009-09-01",
          "2009-09-08",
          "2009-09-15",
          "2009-09-22",
          "2009-09-29",
          "2009-10-06",
          "2009-10-13",
          "2009-10-20",
          "2009-10-27",
          "2009-11-03",
          "2009-11-10",
          "2009-11-17",
          "2009-11-24",
          "2009-12-01",
          "2009-12-08",
          "2009-12-15",
          "2009-12-22",
          "2009-12-29",
          "2010-01-05",
          "2010-01-12",
          "2010-01-19",
          "2010-01-26",
          "2010-02-02",
          "2010-02-09",
          "2010-02-16",
          "2010-02-23",
          "2010-03-02",
          "2010-03-09",
          "2010-03-16",
          "2010-03-23",
          "2010-03-30",
          "2010-04-06",
          "2010-04-13",
          "2010-04-20",
          "2010-04-27",
          "2010-05-04",
          "2010-05-11",
          "2010-05-18",
          "2010-05-25",
          "2010-06-01",
          "2010-06-08",
          "2010-06-15",
          "2010-06-22",
          "2010-06-29",
          "2010-07-06",
          "2010-07-13",
          "2010-07-20",
          "2010-07-27",
          "2010-08-03",
          "2010-08-10",
          "2010-08-17",
          "2010-08-24",
          "2010-08-31",
          "2010-09-07",
          "2010-09-14",
          "2010-09-21",
          "2010-09-28",
          "2010-10-05",
          "2010-10-12",
          "2010-10-19",
          "2010-10-26",
          "2010-11-02",
          "2010-11-09",
          "2010-11-16",
          "2010-11-23",
          "2010-11-30",
          "2010-12-07",
          "2010-12-14",
          "2010-12-21",
          "2010-12-28",
          "2011-01-04",
          "2011-01-11",
          "2011-01-18",
          "2011-01-25",
          "2011-02-01",
          "2011-02-08",
          "2011-02-15",
          "2011-02-22",
          "2011-03-01"
         ],
         "y": [
          "Cjsr ",
          "Cjsw ",
          "Ckxu ",
          "Cfuv ",
          "Cjsf ",
          "Cjum ",
          "Ckdu ",
          "Ciut ",
          "Cfre ",
          "Chrw ",
          "Chuo ",
          "Cilu ",
          "Ckut ",
          "Cfbx ",
          "Cfru ",
          "Cfmh ",
          "Cjam ",
          "Chsr ",
          "Chry ",
          "Cjlo ",
          "Chyz ",
          "Chly ",
          "Cscr ",
          "Cism ",
          "Cick "
         ],
         "z": [
          [
           10,
           0,
           10,
           10,
           10,
           10,
           10,
           10,
           10,
           10,
           10,
           10,
           0,
           10,
           10,
           0,
           10,
           0,
           10,
           10,
           10,
           10,
           10,
           10,
           10,
           0,
           0,
           10,
           10,
           10,
           0,
           10,
           10,
           10,
           10,
           10,
           10,
           10,
           10,
           10,
           10,
           10,
           10,
           10,
           10,
           10,
           10,
           10,
           10,
           10,
           0,
           10,
           10,
           10,
           10,
           10,
           10,
           10,
           10,
           10,
           10,
           10,
           10,
           10,
           10,
           10,
           10,
           10,
           10,
           10,
           10,
           10,
           10,
           10,
           10,
           10,
           10,
           10,
           10,
           10,
           10,
           10,
           10,
           10,
           10,
           10,
           10,
           10,
           10,
           10,
           10,
           10,
           10,
           10,
           10,
           10,
           10,
           10,
           10,
           10,
           10,
           10,
           10,
           10,
           10,
           10,
           10,
           10,
           10,
           10,
           10,
           10,
           10,
           10,
           10,
           10,
           10,
           10,
           10,
           10,
           10,
           10,
           10,
           10,
           10,
           10,
           0,
           10,
           10,
           10,
           10,
           10,
           10,
           10,
           10,
           10,
           0,
           10,
           10,
           10,
           10,
           10,
           0,
           0,
           0,
           10,
           10,
           10,
           10,
           10,
           0,
           0,
           0,
           0,
           0,
           0,
           10,
           0,
           0,
           10,
           10,
           10,
           10,
           10,
           0,
           0,
           10,
           10,
           10,
           0,
           0,
           10,
           10,
           10,
           10,
           10,
           10,
           10,
           10,
           10,
           0,
           10,
           0,
           0,
           10,
           0,
           0,
           0,
           0,
           0,
           0,
           0,
           0,
           0,
           0,
           0,
           0,
           0,
           0,
           0,
           0,
           0,
           0,
           0,
           0,
           0,
           0,
           0,
           0,
           0,
           0,
           0,
           0,
           0,
           0,
           0,
           0,
           0,
           0,
           0,
           0,
           0,
           0,
           10,
           0,
           10,
           0,
           0,
           10,
           10,
           10,
           10,
           10,
           10,
           10,
           10,
           10,
           10,
           10,
           10,
           10,
           10,
           10,
           0,
           0,
           10,
           10,
           10,
           10,
           0,
           10,
           10,
           10,
           10,
           10,
           10,
           0,
           0,
           10,
           10,
           10,
           10,
           10,
           10,
           10,
           10,
           0
          ],
          [
           10,
           10,
           10,
           10,
           10,
           10,
           10,
           0,
           10,
           10,
           10,
           0,
           10,
           10,
           10,
           10,
           10,
           10,
           10,
           10,
           10,
           0,
           10,
           10,
           10,
           10,
           10,
           10,
           10,
           0,
           10,
           10,
           10,
           10,
           0,
           10,
           0,
           10,
           10,
           10,
           10,
           0,
           0,
           0,
           10,
           10,
           10,
           10,
           10,
           0,
           0,
           0,
           0,
           0,
           0,
           0,
           0,
           10,
           0,
           10,
           10,
           10,
           10,
           0,
           0,
           10,
           10,
           10,
           0,
           0,
           0,
           10,
           10,
           10,
           0,
           0,
           0,
           0,
           0,
           0,
           0,
           0,
           10,
           0,
           0,
           10,
           10,
           0,
           10,
           0,
           10,
           10,
           0,
           0,
           0,
           10,
           10,
           10,
           10,
           10,
           0,
           0,
           10,
           10,
           10,
           10,
           10,
           10,
           10,
           10,
           10,
           10,
           0,
           10,
           10,
           10,
           10,
           10,
           10,
           10,
           0,
           10,
           10,
           10,
           10,
           10,
           10,
           0,
           0,
           10,
           10,
           10,
           10,
           10,
           10,
           10,
           10,
           10,
           10,
           10,
           10,
           0,
           10,
           10,
           0,
           10,
           10,
           10,
           0,
           10,
           0,
           0,
           0,
           0,
           0,
           0,
           10,
           10,
           10,
           10,
           10,
           10,
           10,
           0,
           0,
           0,
           10,
           10,
           0,
           0,
           10,
           10,
           10,
           10,
           10,
           10,
           0,
           10,
           10,
           10,
           10,
           10,
           10,
           10,
           10,
           10,
           10,
           10,
           10,
           10,
           10,
           10,
           10,
           10,
           10,
           10,
           0,
           0,
           10,
           10,
           10,
           10,
           10,
           10,
           0,
           0,
           10,
           10,
           10,
           10,
           0,
           10,
           10,
           10,
           10,
           10,
           10,
           10,
           10,
           10,
           10,
           10,
           10,
           10,
           10,
           10,
           10,
           10,
           0,
           0,
           10,
           10,
           10,
           10,
           10,
           10,
           10,
           10,
           10,
           10,
           10,
           10,
           10,
           10,
           10,
           10,
           10,
           10,
           0,
           10,
           10,
           10,
           10,
           10,
           10,
           10,
           10,
           0,
           0,
           10,
           10,
           10,
           10,
           10,
           10,
           10,
           0
          ],
          [
           10,
           10,
           10,
           10,
           10,
           10,
           10,
           10,
           10,
           10,
           10,
           10,
           10,
           10,
           10,
           10,
           10,
           10,
           10,
           10,
           10,
           10,
           10,
           10,
           10,
           10,
           10,
           10,
           10,
           10,
           10,
           10,
           10,
           10,
           10,
           10,
           10,
           10,
           10,
           10,
           10,
           10,
           10,
           10,
           10,
           10,
           10,
           10,
           10,
           10,
           0,
           0,
           10,
           10,
           10,
           10,
           10,
           10,
           10,
           10,
           10,
           10,
           10,
           10,
           10,
           0,
           10,
           10,
           10,
           10,
           10,
           10,
           0,
           10,
           0,
           10,
           10,
           10,
           10,
           10,
           10,
           10,
           10,
           10,
           10,
           10,
           10,
           10,
           10,
           10,
           10,
           10,
           0,
           10,
           10,
           10,
           10,
           10,
           10,
           10,
           10,
           0,
           0,
           10,
           10,
           10,
           10,
           10,
           10,
           10,
           10,
           10,
           10,
           10,
           10,
           0,
           10,
           10,
           10,
           10,
           10,
           10,
           0,
           0,
           0,
           10,
           0,
           0,
           10,
           10,
           10,
           10,
           10,
           10,
           10,
           10,
           10,
           10,
           10,
           10,
           10,
           0,
           0,
           10,
           10,
           0,
           10,
           10,
           10,
           10,
           10,
           0,
           0,
           0,
           0,
           0,
           10,
           10,
           10,
           10,
           10,
           10,
           10,
           10,
           0,
           0,
           10,
           0,
           10,
           10,
           10,
           10,
           10,
           10,
           10,
           10,
           10,
           0,
           0,
           0,
           10,
           10,
           0,
           10,
           10,
           10,
           10,
           10,
           0,
           10,
           10,
           10,
           10,
           10,
           10,
           10,
           10,
           0,
           0,
           0,
           10,
           10,
           10,
           10,
           0,
           0,
           0,
           0,
           10,
           10,
           10,
           10,
           10,
           10,
           10,
           10,
           10,
           10,
           10,
           10,
           10,
           10,
           10,
           10,
           10,
           10,
           10,
           10,
           10,
           10,
           10,
           10,
           10,
           10,
           0,
           10,
           10,
           10,
           0,
           10,
           10,
           10,
           10,
           10,
           10,
           10,
           10,
           10,
           10,
           10,
           0,
           10,
           10,
           10,
           10,
           10,
           0,
           0,
           0,
           10,
           10,
           10,
           10,
           10,
           10,
           0,
           10
          ],
          [
           10,
           10,
           0,
           10,
           10,
           10,
           10,
           10,
           10,
           10,
           10,
           10,
           10,
           10,
           10,
           10,
           10,
           10,
           10,
           10,
           10,
           10,
           10,
           10,
           10,
           0,
           10,
           10,
           10,
           10,
           10,
           10,
           10,
           10,
           10,
           10,
           10,
           10,
           10,
           10,
           10,
           10,
           10,
           10,
           10,
           10,
           10,
           10,
           10,
           10,
           0,
           0,
           10,
           10,
           10,
           10,
           10,
           10,
           10,
           10,
           10,
           10,
           0,
           10,
           10,
           10,
           10,
           10,
           10,
           10,
           0,
           0,
           10,
           10,
           10,
           10,
           10,
           10,
           10,
           9,
           10,
           10,
           10,
           10,
           10,
           10,
           10,
           10,
           10,
           10,
           10,
           10,
           10,
           0,
           10,
           10,
           10,
           10,
           10,
           10,
           10,
           10,
           0,
           10,
           10,
           10,
           10,
           10,
           10,
           10,
           10,
           0,
           10,
           10,
           10,
           0,
           10,
           10,
           10,
           10,
           10,
           0,
           0,
           10,
           10,
           10,
           0,
           10,
           0,
           10,
           0,
           0,
           0,
           0,
           10,
           10,
           10,
           10,
           10,
           0,
           10,
           10,
           10,
           10,
           0,
           10,
           10,
           10,
           10,
           10,
           10,
           10,
           10,
           0,
           0,
           0,
           0,
           0,
           0,
           0,
           0,
           0,
           0,
           0,
           0,
           0,
           0,
           10,
           10,
           10,
           10,
           10,
           10,
           10,
           10,
           10,
           0,
           10,
           10,
           10,
           10,
           10,
           10,
           10,
           10,
           10,
           10,
           10,
           10,
           10,
           0,
           10,
           10,
           10,
           10,
           0,
           0,
           10,
           0,
           0,
           10,
           10,
           10,
           0,
           0,
           0,
           0,
           10,
           0,
           0,
           0,
           10,
           10,
           10,
           10,
           10,
           0,
           0,
           0,
           10,
           10,
           10,
           10,
           10,
           10,
           10,
           10,
           10,
           10,
           10,
           10,
           10,
           10,
           10,
           10,
           10,
           10,
           10,
           10,
           10,
           10,
           10,
           10,
           10,
           10,
           10,
           10,
           10,
           0,
           10,
           10,
           10,
           10,
           10,
           10,
           10,
           10,
           0,
           0,
           10,
           10,
           10,
           10,
           10,
           10,
           10,
           10
          ],
          [
           10,
           10,
           10,
           10,
           0,
           0,
           10,
           10,
           10,
           10,
           10,
           10,
           10,
           10,
           0,
           10,
           10,
           10,
           10,
           0,
           10,
           10,
           10,
           10,
           10,
           0,
           10,
           10,
           10,
           10,
           0,
           10,
           10,
           10,
           0,
           10,
           10,
           10,
           10,
           0,
           10,
           10,
           10,
           0,
           0,
           10,
           10,
           10,
           10,
           0,
           0,
           0,
           10,
           10,
           10,
           10,
           10,
           10,
           10,
           10,
           0,
           10,
           0,
           10,
           10,
           0,
           10,
           10,
           10,
           0,
           0,
           10,
           10,
           0,
           0,
           10,
           10,
           0,
           10,
           10,
           0,
           10,
           0,
           10,
           10,
           10,
           0,
           10,
           10,
           0,
           10,
           0,
           10,
           0,
           10,
           10,
           0,
           0,
           10,
           0,
           0,
           0,
           10,
           0,
           10,
           10,
           10,
           10,
           10,
           10,
           10,
           0,
           0,
           0,
           10,
           10,
           10,
           10,
           10,
           10,
           10,
           0,
           10,
           10,
           10,
           0,
           0,
           0,
           10,
           10,
           10,
           10,
           0,
           10,
           10,
           10,
           0,
           10,
           10,
           10,
           0,
           10,
           0,
           10,
           10,
           10,
           0,
           0,
           10,
           10,
           10,
           0,
           0,
           0,
           0,
           10,
           10,
           10,
           0,
           0,
           10,
           10,
           10,
           0,
           10,
           10,
           10,
           10,
           0,
           10,
           10,
           10,
           10,
           0,
           0,
           0,
           10,
           10,
           10,
           0,
           0,
           10,
           10,
           10,
           0,
           0,
           10,
           0,
           10,
           0,
           10,
           10,
           10,
           0,
           0,
           10,
           10,
           10,
           0,
           0,
           10,
           0,
           10,
           0,
           0,
           0,
           0,
           0,
           0,
           0,
           0,
           0,
           0,
           0,
           0,
           0,
           0,
           0,
           0,
           0,
           0,
           0,
           0,
           0,
           0,
           0,
           0,
           0,
           0,
           0,
           0,
           0,
           0,
           0,
           0,
           0,
           0,
           0,
           0,
           0,
           0,
           0,
           0,
           0,
           0,
           0,
           0,
           0,
           0,
           0,
           0,
           0,
           0,
           0,
           0,
           0,
           0,
           0,
           0,
           0,
           0,
           0,
           0,
           0,
           0,
           0,
           0
          ],
          [
           10,
           10,
           10,
           10,
           10,
           10,
           10,
           10,
           10,
           10,
           10,
           10,
           10,
           10,
           10,
           10,
           10,
           10,
           10,
           10,
           10,
           10,
           10,
           10,
           10,
           10,
           10,
           10,
           10,
           10,
           10,
           10,
           10,
           10,
           10,
           10,
           10,
           10,
           10,
           10,
           10,
           10,
           10,
           10,
           10,
           10,
           10,
           10,
           10,
           0,
           0,
           0,
           10,
           10,
           10,
           10,
           10,
           10,
           10,
           10,
           10,
           10,
           10,
           0,
           10,
           10,
           10,
           10,
           10,
           10,
           10,
           10,
           10,
           10,
           10,
           10,
           10,
           10,
           10,
           10,
           10,
           10,
           10,
           10,
           10,
           10,
           10,
           10,
           10,
           10,
           10,
           10,
           10,
           10,
           10,
           10,
           10,
           10,
           10,
           10,
           10,
           10,
           10,
           10,
           10,
           10,
           10,
           10,
           10,
           10,
           10,
           10,
           10,
           10,
           10,
           10,
           10,
           10,
           10,
           10,
           10,
           10,
           10,
           10,
           10,
           10,
           10,
           10,
           10,
           10,
           0,
           0,
           10,
           10,
           10,
           10,
           10,
           10,
           10,
           10,
           10,
           10,
           10,
           10,
           10,
           10,
           10,
           10,
           10,
           10,
           10,
           10,
           0,
           0,
           0,
           10,
           10,
           10,
           10,
           10,
           10,
           10,
           10,
           10,
           10,
           0,
           10,
           10,
           10,
           10,
           10,
           10,
           10,
           10,
           10,
           10,
           10,
           10,
           10,
           10,
           10,
           10,
           10,
           10,
           10,
           10,
           10,
           10,
           10,
           10,
           10,
           10,
           10,
           10,
           10,
           10,
           10,
           10,
           10,
           10,
           10,
           10,
           10,
           10,
           0,
           0,
           0,
           0,
           0,
           0,
           0,
           0,
           0,
           0,
           0,
           0,
           10,
           10,
           10,
           10,
           10,
           10,
           10,
           10,
           10,
           10,
           10,
           10,
           10,
           10,
           10,
           10,
           0,
           10,
           10,
           10,
           0,
           10,
           10,
           10,
           10,
           0,
           0,
           10,
           10,
           10,
           10,
           10,
           10,
           10,
           10,
           10,
           10,
           10,
           10,
           10,
           10,
           0,
           0,
           10,
           10,
           10,
           10,
           10,
           10,
           0,
           10
          ],
          [
           10,
           10,
           10,
           10,
           10,
           10,
           0,
           10,
           0,
           10,
           0,
           0,
           10,
           10,
           10,
           10,
           0,
           0,
           10,
           10,
           10,
           10,
           10,
           10,
           0,
           0,
           0,
           0,
           10,
           0,
           0,
           10,
           0,
           10,
           0,
           0,
           10,
           10,
           10,
           10,
           10,
           10,
           10,
           10,
           10,
           10,
           0,
           10,
           10,
           10,
           0,
           0,
           10,
           10,
           0,
           10,
           0,
           10,
           10,
           10,
           10,
           10,
           10,
           10,
           10,
           10,
           10,
           10,
           10,
           10,
           0,
           10,
           0,
           10,
           10,
           0,
           0,
           0,
           0,
           0,
           10,
           10,
           0,
           10,
           10,
           0,
           10,
           10,
           10,
           10,
           10,
           0,
           10,
           0,
           0,
           10,
           10,
           10,
           10,
           10,
           0,
           10,
           0,
           0,
           0,
           10,
           10,
           0,
           10,
           0,
           0,
           10,
           0,
           0,
           0,
           0,
           10,
           0,
           10,
           0,
           10,
           10,
           0,
           0,
           10,
           0,
           0,
           0,
           0,
           0,
           0,
           0,
           0,
           0,
           0,
           0,
           0,
           0,
           0,
           0,
           0,
           0,
           0,
           0,
           0,
           0,
           0,
           0,
           0,
           0,
           0,
           0,
           0,
           0,
           0,
           0,
           0,
           0,
           0,
           0,
           0,
           0,
           0,
           0,
           0,
           0,
           0,
           0,
           0,
           0,
           0,
           0,
           0,
           0,
           0,
           0,
           0,
           0,
           0,
           0,
           0,
           0,
           0,
           0,
           0,
           0,
           0,
           0,
           0,
           0,
           0,
           0,
           0,
           0,
           0,
           0,
           0,
           0,
           0,
           0,
           0,
           0,
           0,
           0,
           0,
           0,
           0,
           0,
           0,
           0,
           0,
           0,
           0,
           0,
           0,
           0,
           0,
           0,
           0,
           0,
           0,
           0,
           0,
           0,
           0,
           0,
           0,
           0,
           0,
           0,
           0,
           0,
           0,
           0,
           0,
           0,
           0,
           0,
           0,
           0,
           0,
           0,
           0,
           0,
           0,
           0,
           0,
           0,
           0,
           0,
           0,
           0,
           0,
           0,
           0,
           0,
           0,
           0,
           0,
           0,
           0,
           0,
           0,
           0,
           0,
           0,
           0
          ],
          [
           10,
           10,
           10,
           10,
           0,
           10,
           10,
           10,
           10,
           10,
           10,
           10,
           10,
           0,
           10,
           10,
           10,
           10,
           10,
           10,
           0,
           10,
           10,
           10,
           10,
           0,
           10,
           10,
           10,
           10,
           10,
           10,
           10,
           10,
           10,
           10,
           10,
           10,
           10,
           10,
           10,
           10,
           10,
           10,
           10,
           10,
           10,
           10,
           10,
           10,
           0,
           0,
           10,
           10,
           9,
           10,
           10,
           10,
           10,
           10,
           10,
           10,
           10,
           10,
           10,
           10,
           0,
           0,
           0,
           0,
           0,
           0,
           0,
           0,
           10,
           10,
           10,
           0,
           10,
           10,
           10,
           10,
           10,
           10,
           10,
           10,
           10,
           10,
           10,
           10,
           10,
           10,
           10,
           10,
           10,
           10,
           0,
           10,
           10,
           10,
           0,
           0,
           0,
           0,
           0,
           0,
           0,
           10,
           10,
           10,
           10,
           10,
           10,
           10,
           10,
           10,
           0,
           10,
           10,
           10,
           10,
           10,
           10,
           10,
           10,
           10,
           10,
           10,
           10,
           10,
           10,
           10,
           10,
           10,
           10,
           10,
           10,
           10,
           10,
           10,
           10,
           0,
           10,
           10,
           0,
           0,
           0,
           0,
           0,
           0,
           0,
           0,
           0,
           0,
           0,
           0,
           0,
           0,
           0,
           10,
           10,
           10,
           10,
           10,
           10,
           10,
           10,
           10,
           10,
           10,
           10,
           10,
           10,
           10,
           10,
           10,
           10,
           10,
           10,
           10,
           10,
           10,
           10,
           10,
           10,
           10,
           10,
           10,
           10,
           10,
           10,
           10,
           10,
           10,
           10,
           10,
           10,
           10,
           10,
           10,
           10,
           10,
           10,
           10,
           10,
           0,
           0,
           10,
           10,
           10,
           10,
           10,
           10,
           10,
           10,
           10,
           10,
           10,
           10,
           10,
           10,
           10,
           10,
           10,
           10,
           10,
           10,
           10,
           10,
           10,
           10,
           10,
           10,
           10,
           10,
           10,
           10,
           10,
           10,
           10,
           10,
           10,
           10,
           10,
           10,
           10,
           10,
           10,
           0,
           10,
           0,
           10,
           0,
           0,
           0,
           0,
           0,
           0,
           0,
           0,
           0,
           0,
           0,
           0,
           0,
           0,
           0
          ],
          [
           10,
           10,
           10,
           10,
           0,
           10,
           10,
           10,
           10,
           10,
           10,
           10,
           10,
           10,
           0,
           10,
           10,
           10,
           10,
           10,
           10,
           0,
           0,
           0,
           0,
           0,
           0,
           0,
           0,
           0,
           0,
           0,
           0,
           0,
           0,
           0,
           0,
           10,
           10,
           10,
           10,
           10,
           0,
           10,
           10,
           10,
           10,
           10,
           10,
           0,
           0,
           0,
           10,
           10,
           10,
           10,
           10,
           10,
           10,
           10,
           10,
           10,
           10,
           0,
           10,
           10,
           10,
           10,
           10,
           10,
           10,
           10,
           10,
           10,
           0,
           10,
           10,
           10,
           10,
           0,
           0,
           0,
           0,
           0,
           0,
           0,
           0,
           0,
           0,
           0,
           0,
           0,
           0,
           0,
           0,
           0,
           0,
           0,
           0,
           0,
           0,
           0,
           0,
           0,
           0,
           0,
           0,
           0,
           0,
           0,
           0,
           0,
           0,
           0,
           0,
           0,
           0,
           0,
           0,
           0,
           0,
           0,
           0,
           0,
           0,
           0,
           0,
           0,
           0,
           0,
           0,
           0,
           0,
           0,
           0,
           0,
           0,
           0,
           0,
           0,
           0,
           0,
           0,
           0,
           0,
           0,
           0,
           0,
           10,
           10,
           0,
           0,
           0,
           0,
           0,
           0,
           0,
           0,
           10,
           10,
           0,
           0,
           10,
           0,
           10,
           0,
           10,
           10,
           10,
           0,
           0,
           10,
           0,
           0,
           10,
           10,
           0,
           0,
           0,
           0,
           0,
           0,
           0,
           0,
           0,
           0,
           0,
           0,
           0,
           0,
           0,
           0,
           0,
           0,
           0,
           0,
           0,
           0,
           0,
           0,
           0,
           0,
           0,
           0,
           0,
           0,
           0,
           0,
           0,
           0,
           0,
           0,
           0,
           0,
           0,
           0,
           0,
           0,
           0,
           0,
           0,
           0,
           0,
           0,
           0,
           0,
           0,
           0,
           0,
           0,
           0,
           0,
           0,
           0,
           0,
           0,
           0,
           0,
           0,
           0,
           0,
           0,
           0,
           0,
           0,
           0,
           0,
           0,
           0,
           0,
           0,
           0,
           0,
           0,
           0,
           0,
           0,
           0,
           0,
           0,
           0,
           0,
           0,
           0,
           0,
           0,
           0
          ],
          [
           10,
           10,
           10,
           10,
           10,
           10,
           10,
           10,
           10,
           10,
           10,
           10,
           10,
           10,
           10,
           10,
           10,
           10,
           10,
           10,
           10,
           10,
           10,
           10,
           10,
           10,
           10,
           10,
           10,
           10,
           10,
           10,
           10,
           10,
           10,
           10,
           10,
           10,
           10,
           10,
           10,
           10,
           10,
           10,
           10,
           10,
           0,
           10,
           10,
           10,
           0,
           10,
           10,
           10,
           10,
           10,
           10,
           10,
           10,
           10,
           10,
           10,
           10,
           10,
           10,
           10,
           10,
           10,
           10,
           10,
           10,
           10,
           10,
           10,
           0,
           10,
           10,
           10,
           10,
           10,
           10,
           10,
           10,
           10,
           10,
           10,
           10,
           10,
           10,
           10,
           10,
           10,
           10,
           10,
           10,
           10,
           10,
           10,
           10,
           10,
           10,
           10,
           10,
           10,
           10,
           10,
           10,
           10,
           10,
           10,
           0,
           10,
           10,
           10,
           10,
           10,
           10,
           10,
           10,
           10,
           10,
           10,
           10,
           10,
           10,
           10,
           10,
           10,
           10,
           10,
           10,
           10,
           10,
           10,
           10,
           10,
           10,
           10,
           10,
           10,
           0,
           10,
           10,
           10,
           10,
           10,
           10,
           10,
           10,
           10,
           10,
           0,
           0,
           0,
           10,
           0,
           10,
           10,
           0,
           10,
           0,
           10,
           10,
           0,
           10,
           10,
           10,
           10,
           10,
           10,
           10,
           10,
           10,
           10,
           10,
           10,
           10,
           10,
           10,
           10,
           10,
           10,
           10,
           10,
           10,
           10,
           10,
           0,
           10,
           10,
           10,
           10,
           10,
           10,
           10,
           10,
           10,
           10,
           10,
           10,
           10,
           10,
           10,
           10,
           0,
           0,
           10,
           10,
           10,
           10,
           10,
           10,
           10,
           10,
           10,
           10,
           10,
           10,
           10,
           10,
           10,
           10,
           10,
           10,
           0,
           10,
           10,
           10,
           10,
           10,
           10,
           10,
           10,
           10,
           10,
           10,
           10,
           10,
           10,
           10,
           10,
           10,
           10,
           10,
           10,
           10,
           10,
           10,
           10,
           10,
           10,
           10,
           10,
           10,
           10,
           10,
           0,
           0,
           10,
           10,
           0,
           10,
           10,
           10,
           10,
           10,
           10
          ],
          [
           10,
           10,
           10,
           10,
           0,
           10,
           0,
           10,
           0,
           0,
           0,
           10,
           10,
           10,
           10,
           10,
           10,
           10,
           10,
           10,
           10,
           10,
           10,
           10,
           10,
           0,
           10,
           10,
           10,
           10,
           10,
           10,
           10,
           10,
           10,
           10,
           10,
           10,
           10,
           10,
           10,
           10,
           10,
           10,
           10,
           10,
           0,
           10,
           10,
           10,
           0,
           0,
           10,
           0,
           10,
           10,
           0,
           0,
           10,
           10,
           10,
           10,
           10,
           0,
           10,
           10,
           0,
           10,
           10,
           10,
           10,
           10,
           10,
           10,
           0,
           0,
           10,
           10,
           10,
           10,
           10,
           10,
           10,
           10,
           10,
           10,
           10,
           10,
           10,
           10,
           10,
           10,
           10,
           0,
           10,
           10,
           10,
           10,
           10,
           10,
           10,
           10,
           10,
           10,
           10,
           10,
           10,
           0,
           10,
           10,
           10,
           10,
           10,
           0,
           0,
           10,
           10,
           10,
           10,
           10,
           10,
           10,
           10,
           10,
           10,
           10,
           10,
           10,
           10,
           10,
           10,
           10,
           10,
           10,
           10,
           10,
           0,
           10,
           10,
           10,
           10,
           10,
           10,
           0,
           10,
           10,
           10,
           10,
           0,
           10,
           10,
           10,
           0,
           0,
           10,
           10,
           10,
           10,
           10,
           10,
           10,
           10,
           10,
           0,
           10,
           10,
           10,
           10,
           10,
           10,
           10,
           10,
           10,
           10,
           10,
           10,
           0,
           10,
           10,
           10,
           10,
           10,
           10,
           10,
           10,
           10,
           10,
           10,
           0,
           10,
           10,
           10,
           10,
           10,
           10,
           0,
           10,
           10,
           10,
           10,
           10,
           10,
           10,
           10,
           0,
           0,
           10,
           10,
           10,
           10,
           10,
           10,
           10,
           10,
           10,
           10,
           0,
           0,
           10,
           10,
           10,
           10,
           10,
           10,
           10,
           10,
           10,
           10,
           10,
           10,
           10,
           10,
           10,
           0,
           0,
           0,
           0,
           10,
           10,
           10,
           10,
           10,
           10,
           10,
           10,
           10,
           10,
           10,
           10,
           10,
           10,
           10,
           10,
           10,
           10,
           10,
           0,
           0,
           10,
           10,
           10,
           10,
           10,
           0,
           0,
           10,
           10
          ],
          [
           10,
           10,
           10,
           10,
           10,
           10,
           10,
           10,
           10,
           10,
           10,
           10,
           10,
           10,
           10,
           10,
           10,
           10,
           10,
           10,
           10,
           10,
           10,
           10,
           10,
           10,
           10,
           10,
           10,
           10,
           10,
           10,
           10,
           10,
           10,
           10,
           10,
           10,
           10,
           10,
           10,
           10,
           10,
           10,
           10,
           10,
           10,
           10,
           10,
           0,
           0,
           10,
           10,
           10,
           10,
           10,
           10,
           10,
           10,
           10,
           10,
           10,
           10,
           10,
           10,
           10,
           10,
           10,
           10,
           10,
           10,
           10,
           10,
           10,
           0,
           10,
           10,
           10,
           10,
           10,
           10,
           10,
           10,
           10,
           10,
           10,
           10,
           10,
           10,
           10,
           10,
           10,
           10,
           10,
           10,
           10,
           10,
           10,
           10,
           10,
           0,
           0,
           10,
           10,
           10,
           10,
           10,
           10,
           10,
           10,
           10,
           10,
           10,
           10,
           10,
           10,
           10,
           10,
           10,
           10,
           10,
           10,
           10,
           10,
           10,
           10,
           10,
           10,
           10,
           10,
           10,
           10,
           10,
           10,
           10,
           10,
           10,
           10,
           10,
           10,
           10,
           10,
           10,
           0,
           10,
           10,
           10,
           10,
           10,
           10,
           10,
           0,
           0,
           10,
           0,
           10,
           10,
           10,
           10,
           10,
           10,
           10,
           10,
           0,
           10,
           10,
           10,
           10,
           10,
           10,
           10,
           10,
           10,
           10,
           10,
           10,
           0,
           10,
           0,
           10,
           10,
           10,
           10,
           10,
           10,
           10,
           10,
           10,
           10,
           10,
           10,
           10,
           10,
           10,
           10,
           10,
           10,
           10,
           0,
           10,
           0,
           10,
           10,
           10,
           0,
           0,
           0,
           10,
           10,
           10,
           10,
           10,
           10,
           10,
           10,
           10,
           10,
           10,
           10,
           10,
           10,
           10,
           10,
           10,
           10,
           10,
           10,
           10,
           10,
           10,
           10,
           10,
           10,
           10,
           10,
           10,
           10,
           10,
           10,
           10,
           10,
           10,
           10,
           10,
           10,
           10,
           10,
           10,
           10,
           10,
           10,
           10,
           10,
           10,
           10,
           10,
           10,
           10,
           10,
           10,
           10,
           10,
           10,
           10,
           10,
           10,
           10
          ],
          [
           10,
           10,
           10,
           10,
           0,
           10,
           10,
           10,
           10,
           10,
           10,
           10,
           0,
           10,
           10,
           10,
           10,
           10,
           10,
           10,
           10,
           10,
           10,
           10,
           10,
           10,
           10,
           10,
           10,
           10,
           10,
           10,
           10,
           10,
           10,
           10,
           10,
           10,
           10,
           10,
           10,
           10,
           10,
           10,
           0,
           10,
           10,
           0,
           10,
           0,
           0,
           0,
           10,
           10,
           0,
           10,
           10,
           10,
           10,
           10,
           10,
           10,
           10,
           10,
           10,
           10,
           10,
           10,
           10,
           10,
           10,
           10,
           10,
           10,
           0,
           10,
           10,
           10,
           10,
           10,
           10,
           0,
           10,
           10,
           10,
           10,
           10,
           10,
           10,
           10,
           10,
           10,
           10,
           10,
           10,
           10,
           10,
           0,
           10,
           10,
           10,
           10,
           0,
           10,
           10,
           10,
           10,
           10,
           10,
           10,
           10,
           10,
           10,
           0,
           10,
           0,
           10,
           10,
           0,
           0,
           10,
           0,
           0,
           10,
           10,
           10,
           10,
           10,
           10,
           10,
           0,
           10,
           10,
           10,
           10,
           10,
           0,
           10,
           10,
           10,
           10,
           0,
           0,
           0,
           0,
           10,
           10,
           10,
           0,
           0,
           10,
           0,
           0,
           0,
           10,
           10,
           0,
           10,
           0,
           0,
           0,
           10,
           0,
           0,
           0,
           10,
           10,
           10,
           10,
           10,
           10,
           10,
           10,
           10,
           10,
           10,
           10,
           10,
           0,
           0,
           10,
           0,
           10,
           10,
           10,
           10,
           10,
           10,
           10,
           10,
           10,
           10,
           10,
           10,
           10,
           10,
           10,
           10,
           10,
           10,
           10,
           0,
           10,
           10,
           0,
           0,
           0,
           10,
           10,
           10,
           10,
           10,
           10,
           10,
           10,
           10,
           10,
           10,
           10,
           10,
           10,
           10,
           10,
           10,
           0,
           10,
           0,
           10,
           10,
           10,
           0,
           10,
           0,
           10,
           10,
           0,
           10,
           10,
           10,
           10,
           10,
           10,
           10,
           10,
           10,
           10,
           0,
           0,
           0,
           0,
           10,
           0,
           10,
           0,
           0,
           0,
           0,
           0,
           0,
           0,
           10,
           0,
           10,
           0,
           0,
           0,
           0
          ],
          [
           0,
           10,
           0,
           10,
           0,
           10,
           0,
           10,
           0,
           10,
           0,
           10,
           0,
           10,
           0,
           10,
           0,
           10,
           0,
           10,
           0,
           10,
           0,
           10,
           0,
           10,
           0,
           10,
           0,
           10,
           0,
           10,
           0,
           10,
           0,
           10,
           0,
           10,
           0,
           10,
           0,
           10,
           0,
           10,
           0,
           10,
           0,
           10,
           0,
           10,
           0,
           0,
           0,
           10,
           0,
           10,
           0,
           10,
           0,
           10,
           0,
           10,
           0,
           10,
           0,
           10,
           0,
           10,
           0,
           10,
           0,
           10,
           0,
           10,
           0,
           10,
           0,
           10,
           0,
           10,
           0,
           10,
           0,
           10,
           0,
           10,
           0,
           10,
           0,
           10,
           0,
           10,
           0,
           10,
           0,
           10,
           0,
           10,
           0,
           10,
           0,
           0,
           0,
           10,
           0,
           10,
           0,
           10,
           0,
           10,
           0,
           10,
           0,
           10,
           0,
           10,
           0,
           10,
           0,
           10,
           0,
           10,
           0,
           10,
           0,
           10,
           0,
           10,
           0,
           10,
           0,
           10,
           0,
           10,
           0,
           10,
           0,
           10,
           0,
           10,
           0,
           10,
           0,
           10,
           0,
           10,
           0,
           10,
           0,
           10,
           0,
           10,
           0,
           0,
           0,
           0,
           10,
           0,
           10,
           0,
           10,
           0,
           10,
           0,
           10,
           0,
           10,
           0,
           10,
           0,
           10,
           0,
           10,
           0,
           10,
           0,
           10,
           0,
           10,
           0,
           10,
           0,
           10,
           0,
           10,
           0,
           10,
           0,
           10,
           0,
           10,
           0,
           10,
           0,
           10,
           0,
           10,
           0,
           10,
           0,
           10,
           0,
           10,
           0,
           10,
           0,
           0,
           0,
           10,
           0,
           10,
           0,
           10,
           0,
           10,
           0,
           10,
           0,
           10,
           0,
           10,
           0,
           10,
           0,
           10,
           0,
           10,
           0,
           10,
           0,
           10,
           0,
           10,
           0,
           10,
           0,
           10,
           0,
           10,
           0,
           10,
           0,
           10,
           0,
           10,
           0,
           10,
           0,
           10,
           0,
           10,
           0,
           10,
           0,
           10,
           0,
           10,
           0,
           0,
           0,
           10,
           0,
           10,
           0,
           10,
           0,
           10
          ],
          [
           0,
           0,
           10,
           0,
           0,
           10,
           0,
           10,
           10,
           0,
           10,
           0,
           0,
           10,
           10,
           10,
           10,
           0,
           10,
           0,
           0,
           10,
           10,
           10,
           10,
           0,
           10,
           10,
           10,
           10,
           10,
           0,
           0,
           0,
           0,
           0,
           0,
           0,
           0,
           0,
           10,
           0,
           0,
           0,
           0,
           0,
           0,
           0,
           0,
           0,
           0,
           0,
           0,
           0,
           0,
           0,
           0,
           0,
           0,
           0,
           0,
           0,
           0,
           0,
           0,
           0,
           0,
           0,
           0,
           0,
           0,
           0,
           0,
           0,
           0,
           0,
           0,
           0,
           0,
           0,
           0,
           0,
           0,
           0,
           0,
           0,
           0,
           0,
           0,
           0,
           0,
           0,
           0,
           0,
           0,
           0,
           0,
           0,
           0,
           0,
           10,
           10,
           10,
           10,
           10,
           0,
           0,
           0,
           10,
           10,
           10,
           10,
           10,
           0,
           10,
           10,
           10,
           10,
           10,
           10,
           10,
           10,
           10,
           0,
           0,
           10,
           10,
           0,
           0,
           10,
           0,
           0,
           10,
           0,
           0,
           0,
           0,
           0,
           0,
           0,
           0,
           10,
           0,
           0,
           10,
           10,
           10,
           0,
           10,
           10,
           10,
           0,
           0,
           0,
           0,
           0,
           10,
           10,
           0,
           10,
           10,
           10,
           10,
           10,
           0,
           0,
           10,
           10,
           10,
           10,
           10,
           10,
           10,
           10,
           10,
           10,
           0,
           10,
           10,
           10,
           10,
           10,
           10,
           10,
           10,
           0,
           10,
           10,
           10,
           10,
           10,
           10,
           10,
           10,
           10,
           0,
           0,
           10,
           10,
           10,
           0,
           10,
           0,
           0,
           0,
           0,
           0,
           10,
           10,
           10,
           10,
           10,
           10,
           10,
           10,
           10,
           0,
           10,
           10,
           0,
           0,
           10,
           10,
           10,
           10,
           10,
           10,
           10,
           10,
           10,
           10,
           10,
           10,
           10,
           0,
           0,
           10,
           10,
           10,
           10,
           10,
           0,
           0,
           0,
           0,
           0,
           0,
           10,
           0,
           0,
           10,
           10,
           10,
           0,
           10,
           0,
           0,
           0,
           0,
           10,
           10,
           10,
           10,
           10,
           10,
           10,
           10
          ],
          [
           0,
           0,
           0,
           10,
           0,
           0,
           0,
           0,
           0,
           0,
           0,
           0,
           0,
           0,
           0,
           0,
           0,
           0,
           0,
           0,
           0,
           0,
           0,
           0,
           0,
           0,
           0,
           0,
           0,
           0,
           0,
           0,
           0,
           0,
           0,
           0,
           0,
           0,
           0,
           0,
           0,
           0,
           0,
           0,
           0,
           0,
           0,
           0,
           0,
           0,
           0,
           0,
           0,
           0,
           0,
           0,
           10,
           10,
           0,
           0,
           0,
           0,
           0,
           0,
           0,
           0,
           0,
           0,
           0,
           0,
           0,
           0,
           0,
           0,
           0,
           0,
           0,
           0,
           0,
           0,
           0,
           0,
           0,
           0,
           0,
           0,
           0,
           0,
           0,
           0,
           0,
           0,
           0,
           0,
           0,
           0,
           0,
           0,
           0,
           0,
           0,
           0,
           0,
           0,
           0,
           0,
           0,
           0,
           0,
           0,
           0,
           0,
           0,
           0,
           0,
           0,
           0,
           0,
           0,
           0,
           0,
           0,
           0,
           0,
           0,
           0,
           0,
           0,
           0,
           0,
           0,
           0,
           0,
           0,
           0,
           0,
           0,
           0,
           0,
           0,
           0,
           0,
           0,
           0,
           0,
           0,
           0,
           0,
           0,
           0,
           0,
           0,
           0,
           0,
           0,
           0,
           0,
           0,
           0,
           0,
           0,
           0,
           0,
           0,
           0,
           0,
           0,
           0,
           0,
           0,
           0,
           0,
           0,
           0,
           0,
           0,
           0,
           0,
           0,
           0,
           0,
           0,
           0,
           0,
           0,
           0,
           0,
           0,
           0,
           0,
           0,
           0,
           0,
           0,
           0,
           0,
           0,
           0,
           0,
           0,
           0,
           0,
           0,
           0,
           0,
           0,
           0,
           0,
           0,
           0,
           0,
           0,
           0,
           0,
           0,
           0,
           0,
           0,
           0,
           0,
           0,
           0,
           0,
           0,
           0,
           0,
           0,
           0,
           0,
           0,
           10,
           10,
           10,
           10,
           10,
           10,
           10,
           10,
           10,
           0,
           0,
           0,
           0,
           0,
           0,
           0,
           0,
           0,
           0,
           0,
           0,
           0,
           0,
           0,
           0,
           0,
           0,
           0,
           0,
           0,
           0,
           0,
           0,
           0,
           0,
           0,
           0
          ],
          [
           0,
           0,
           0,
           0,
           0,
           0,
           10,
           10,
           10,
           10,
           10,
           10,
           10,
           10,
           0,
           10,
           10,
           10,
           10,
           10,
           10,
           10,
           10,
           10,
           10,
           10,
           10,
           10,
           10,
           10,
           10,
           10,
           10,
           10,
           10,
           10,
           10,
           10,
           10,
           0,
           10,
           10,
           0,
           0,
           0,
           10,
           10,
           10,
           10,
           10,
           0,
           0,
           10,
           10,
           10,
           10,
           10,
           10,
           10,
           10,
           0,
           10,
           10,
           0,
           10,
           10,
           10,
           10,
           10,
           10,
           10,
           0,
           10,
           10,
           10,
           10,
           10,
           10,
           10,
           10,
           10,
           10,
           10,
           10,
           10,
           0,
           10,
           10,
           10,
           10,
           10,
           10,
           10,
           0,
           10,
           10,
           10,
           10,
           10,
           10,
           0,
           0,
           0,
           10,
           10,
           10,
           10,
           0,
           10,
           10,
           10,
           10,
           10,
           10,
           10,
           10,
           10,
           10,
           10,
           10,
           10,
           10,
           0,
           10,
           10,
           10,
           10,
           10,
           10,
           10,
           10,
           10,
           10,
           10,
           10,
           10,
           10,
           10,
           10,
           10,
           0,
           0,
           10,
           10,
           10,
           0,
           10,
           10,
           0,
           10,
           10,
           0,
           0,
           0,
           0,
           10,
           10,
           10,
           10,
           10,
           0,
           10,
           10,
           0,
           10,
           10,
           0,
           10,
           10,
           10,
           10,
           10,
           10,
           10,
           10,
           10,
           10,
           10,
           10,
           10,
           10,
           10,
           10,
           10,
           10,
           10,
           10,
           10,
           10,
           10,
           10,
           10,
           0,
           0,
           0,
           10,
           10,
           0,
           10,
           10,
           10,
           10,
           10,
           10,
           0,
           0,
           0,
           0,
           10,
           10,
           10,
           10,
           10,
           10,
           10,
           10,
           0,
           0,
           0,
           0,
           10,
           10,
           10,
           10,
           10,
           10,
           10,
           10,
           10,
           10,
           10,
           10,
           10,
           0,
           10,
           10,
           10,
           10,
           0,
           0,
           10,
           10,
           10,
           10,
           10,
           10,
           10,
           10,
           10,
           0,
           0,
           10,
           10,
           0,
           10,
           10,
           10,
           0,
           10,
           10,
           10,
           10,
           10,
           10,
           10,
           10,
           0
          ],
          [
           0,
           0,
           0,
           0,
           0,
           0,
           0,
           0,
           0,
           0,
           10,
           10,
           10,
           0,
           10,
           10,
           0,
           0,
           10,
           0,
           0,
           0,
           0,
           0,
           0,
           0,
           0,
           0,
           10,
           0,
           0,
           0,
           0,
           0,
           10,
           10,
           10,
           0,
           0,
           10,
           10,
           10,
           10,
           10,
           10,
           10,
           0,
           0,
           0,
           0,
           0,
           0,
           0,
           10,
           10,
           10,
           0,
           10,
           10,
           10,
           10,
           0,
           10,
           0,
           10,
           0,
           0,
           10,
           0,
           0,
           10,
           10,
           10,
           10,
           0,
           0,
           10,
           10,
           10,
           10,
           10,
           10,
           10,
           10,
           10,
           10,
           0,
           10,
           10,
           10,
           10,
           0,
           0,
           0,
           0,
           0,
           10,
           0,
           0,
           0,
           0,
           0,
           0,
           0,
           0,
           0,
           0,
           0,
           0,
           0,
           0,
           0,
           0,
           0,
           10,
           10,
           0,
           0,
           0,
           10,
           10,
           0,
           0,
           0,
           0,
           0,
           0,
           0,
           0,
           10,
           10,
           0,
           0,
           0,
           0,
           0,
           0,
           0,
           0,
           0,
           0,
           0,
           0,
           0,
           0,
           0,
           0,
           0,
           0,
           0,
           0,
           0,
           0,
           0,
           0,
           0,
           0,
           0,
           0,
           0,
           0,
           0,
           0,
           0,
           0,
           0,
           0,
           0,
           0,
           0,
           0,
           0,
           0,
           0,
           0,
           0,
           0,
           0,
           0,
           0,
           0,
           0,
           0,
           0,
           0,
           0,
           0,
           0,
           0,
           0,
           0,
           0,
           0,
           0,
           0,
           0,
           0,
           0,
           0,
           0,
           0,
           0,
           0,
           0,
           0,
           0,
           0,
           0,
           0,
           0,
           0,
           0,
           0,
           0,
           0,
           0,
           0,
           0,
           0,
           0,
           0,
           0,
           0,
           0,
           0,
           0,
           0,
           0,
           0,
           0,
           0,
           0,
           0,
           0,
           0,
           0,
           0,
           0,
           0,
           0,
           0,
           0,
           0,
           0,
           0,
           0,
           0,
           0,
           0,
           0,
           0,
           0,
           0,
           0,
           0,
           0,
           0,
           0,
           0,
           0,
           0,
           0,
           0,
           0,
           0,
           0,
           0
          ],
          [
           0,
           0,
           0,
           0,
           0,
           0,
           0,
           0,
           0,
           0,
           0,
           10,
           10,
           10,
           0,
           10,
           10,
           10,
           0,
           10,
           10,
           0,
           10,
           10,
           10,
           10,
           10,
           10,
           10,
           0,
           10,
           0,
           10,
           0,
           0,
           10,
           10,
           10,
           0,
           0,
           0,
           10,
           0,
           0,
           0,
           0,
           0,
           0,
           0,
           0,
           0,
           0,
           0,
           0,
           0,
           0,
           0,
           0,
           0,
           0,
           0,
           0,
           0,
           0,
           0,
           0,
           10,
           0,
           0,
           0,
           0,
           0,
           0,
           0,
           0,
           0,
           0,
           0,
           0,
           0,
           0,
           0,
           0,
           0,
           0,
           0,
           0,
           0,
           0,
           0,
           0,
           0,
           0,
           0,
           0,
           10,
           0,
           0,
           0,
           0,
           0,
           0,
           0,
           0,
           0,
           0,
           0,
           0,
           0,
           0,
           0,
           0,
           0,
           0,
           0,
           0,
           0,
           0,
           0,
           0,
           0,
           0,
           0,
           0,
           0,
           0,
           0,
           0,
           0,
           0,
           0,
           0,
           0,
           0,
           0,
           0,
           0,
           0,
           0,
           0,
           0,
           0,
           0,
           0,
           0,
           0,
           0,
           0,
           0,
           0,
           0,
           0,
           0,
           0,
           0,
           0,
           0,
           0,
           0,
           0,
           0,
           0,
           0,
           0,
           0,
           0,
           0,
           0,
           0,
           0,
           0,
           0,
           0,
           0,
           0,
           0,
           0,
           0,
           0,
           0,
           0,
           0,
           0,
           0,
           0,
           0,
           0,
           0,
           0,
           0,
           0,
           0,
           0,
           0,
           0,
           0,
           0,
           0,
           0,
           0,
           0,
           0,
           0,
           0,
           0,
           0,
           0,
           0,
           0,
           0,
           0,
           0,
           0,
           0,
           0,
           0,
           0,
           0,
           0,
           0,
           0,
           0,
           0,
           0,
           0,
           0,
           0,
           0,
           0,
           0,
           0,
           0,
           0,
           0,
           0,
           0,
           0,
           0,
           0,
           0,
           0,
           0,
           0,
           0,
           0,
           0,
           0,
           0,
           0,
           0,
           0,
           0,
           0,
           0,
           0,
           0,
           0,
           0,
           0,
           0,
           0,
           0,
           0,
           0,
           0,
           0,
           0
          ],
          [
           0,
           0,
           0,
           0,
           0,
           0,
           0,
           0,
           0,
           0,
           0,
           0,
           0,
           10,
           10,
           10,
           0,
           0,
           10,
           10,
           0,
           10,
           10,
           0,
           0,
           0,
           0,
           0,
           0,
           0,
           0,
           0,
           0,
           0,
           0,
           0,
           10,
           0,
           0,
           0,
           0,
           0,
           0,
           0,
           0,
           0,
           0,
           0,
           0,
           0,
           0,
           0,
           0,
           10,
           10,
           10,
           10,
           10,
           10,
           10,
           10,
           10,
           0,
           0,
           10,
           10,
           10,
           10,
           0,
           10,
           10,
           10,
           10,
           10,
           0,
           0,
           10,
           10,
           10,
           10,
           10,
           10,
           10,
           10,
           10,
           10,
           0,
           10,
           0,
           10,
           0,
           10,
           0,
           0,
           10,
           10,
           10,
           10,
           10,
           10,
           0,
           0,
           0,
           0,
           10,
           10,
           10,
           10,
           10,
           10,
           10,
           10,
           10,
           10,
           10,
           10,
           10,
           10,
           10,
           10,
           10,
           10,
           10,
           10,
           10,
           10,
           0,
           10,
           10,
           10,
           10,
           10,
           10,
           10,
           10,
           10,
           10,
           10,
           10,
           10,
           10,
           10,
           10,
           0,
           10,
           10,
           10,
           10,
           10,
           10,
           10,
           0,
           10,
           0,
           0,
           10,
           10,
           10,
           10,
           10,
           10,
           10,
           10,
           0,
           0,
           10,
           0,
           10,
           0,
           10,
           10,
           0,
           0,
           10,
           0,
           10,
           10,
           10,
           10,
           10,
           10,
           10,
           10,
           10,
           10,
           10,
           10,
           10,
           10,
           10,
           10,
           10,
           10,
           10,
           0,
           0,
           10,
           0,
           10,
           10,
           10,
           0,
           10,
           0,
           0,
           0,
           0,
           10,
           10,
           10,
           10,
           10,
           10,
           10,
           10,
           10,
           10,
           0,
           10,
           10,
           10,
           10,
           10,
           10,
           10,
           10,
           10,
           10,
           10,
           0,
           10,
           10,
           10,
           0,
           0,
           10,
           10,
           10,
           10,
           10,
           10,
           0,
           10,
           0,
           0,
           10,
           10,
           10,
           10,
           10,
           10,
           10,
           0,
           10,
           0,
           0,
           0,
           0,
           0,
           10,
           10,
           0,
           10,
           10,
           10,
           10,
           10
          ],
          [
           0,
           0,
           0,
           0,
           0,
           0,
           0,
           0,
           0,
           0,
           0,
           0,
           0,
           0,
           0,
           0,
           0,
           0,
           0,
           0,
           0,
           0,
           0,
           0,
           0,
           0,
           0,
           0,
           0,
           0,
           10,
           10,
           10,
           10,
           10,
           10,
           10,
           10,
           10,
           10,
           10,
           10,
           10,
           10,
           10,
           10,
           10,
           10,
           10,
           10,
           0,
           0,
           10,
           0,
           10,
           10,
           10,
           10,
           10,
           10,
           10,
           10,
           10,
           0,
           10,
           10,
           10,
           10,
           10,
           10,
           10,
           10,
           10,
           10,
           0,
           10,
           10,
           10,
           10,
           10,
           10,
           10,
           10,
           10,
           10,
           10,
           10,
           10,
           10,
           10,
           10,
           10,
           0,
           10,
           10,
           10,
           10,
           10,
           0,
           10,
           10,
           0,
           10,
           10,
           10,
           10,
           10,
           10,
           10,
           10,
           0,
           10,
           10,
           10,
           10,
           10,
           10,
           10,
           10,
           10,
           10,
           10,
           10,
           10,
           10,
           10,
           10,
           10,
           10,
           10,
           10,
           10,
           10,
           10,
           10,
           10,
           10,
           10,
           10,
           0,
           10,
           10,
           10,
           10,
           10,
           10,
           10,
           10,
           10,
           10,
           10,
           0,
           0,
           0,
           10,
           10,
           10,
           10,
           10,
           10,
           10,
           10,
           10,
           10,
           10,
           10,
           10,
           10,
           10,
           10,
           10,
           10,
           10,
           10,
           10,
           10,
           10,
           10,
           10,
           10,
           10,
           0,
           10,
           10,
           10,
           10,
           10,
           10,
           10,
           10,
           10,
           10,
           10,
           10,
           10,
           10,
           10,
           10,
           10,
           10,
           10,
           10,
           10,
           10,
           0,
           0,
           10,
           10,
           10,
           10,
           10,
           10,
           10,
           10,
           10,
           10,
           10,
           10,
           10,
           10,
           10,
           10,
           10,
           10,
           10,
           10,
           10,
           0,
           10,
           10,
           10,
           10,
           10,
           10,
           0,
           10,
           10,
           10,
           10,
           10,
           10,
           10,
           10,
           10,
           10,
           10,
           10,
           0,
           10,
           10,
           10,
           10,
           10,
           10,
           10,
           10,
           0,
           0,
           0,
           10,
           10,
           10,
           10,
           10,
           10,
           10,
           10
          ],
          [
           0,
           0,
           0,
           0,
           0,
           0,
           0,
           0,
           0,
           0,
           0,
           0,
           0,
           0,
           0,
           0,
           0,
           0,
           0,
           0,
           0,
           0,
           0,
           0,
           0,
           0,
           0,
           0,
           0,
           0,
           0,
           0,
           0,
           0,
           0,
           0,
           0,
           0,
           0,
           10,
           10,
           10,
           0,
           0,
           0,
           10,
           10,
           0,
           0,
           10,
           10,
           10,
           10,
           10,
           10,
           10,
           10,
           10,
           10,
           0,
           0,
           10,
           10,
           0,
           10,
           10,
           10,
           10,
           10,
           10,
           10,
           10,
           10,
           10,
           10,
           10,
           10,
           10,
           0,
           10,
           10,
           10,
           0,
           10,
           10,
           10,
           10,
           10,
           10,
           10,
           10,
           0,
           10,
           0,
           10,
           10,
           10,
           10,
           10,
           0,
           10,
           10,
           10,
           10,
           10,
           0,
           0,
           0,
           0,
           10,
           10,
           0,
           0,
           0,
           10,
           10,
           10,
           10,
           10,
           10,
           10,
           10,
           10,
           10,
           10,
           10,
           10,
           0,
           10,
           10,
           10,
           10,
           0,
           0,
           0,
           0,
           0,
           0,
           0,
           0,
           0,
           0,
           0,
           0,
           0,
           0,
           0,
           0,
           0,
           0,
           0,
           0,
           0,
           0,
           0,
           0,
           0,
           0,
           0,
           0,
           0,
           0,
           0,
           0,
           0,
           0,
           0,
           0,
           0,
           0,
           0,
           0,
           0,
           0,
           0,
           0,
           0,
           0,
           0,
           0,
           0,
           0,
           0,
           0,
           0,
           0,
           0,
           0,
           0,
           0,
           0,
           0,
           0,
           0,
           0,
           0,
           0,
           0,
           0,
           0,
           0,
           0,
           0,
           0,
           0,
           0,
           0,
           0,
           0,
           0,
           0,
           0,
           0,
           0,
           0,
           0,
           0,
           0,
           0,
           0,
           0,
           0,
           0,
           0,
           0,
           0,
           0,
           0,
           0,
           0,
           0,
           0,
           0,
           0,
           0,
           0,
           0,
           0,
           0,
           0,
           0,
           0,
           0,
           0,
           0,
           0,
           0,
           0,
           0,
           0,
           0,
           0,
           0,
           0,
           0,
           0,
           0,
           0,
           0,
           0,
           0,
           0,
           0,
           0,
           0,
           0,
           0
          ],
          [
           0,
           0,
           0,
           0,
           0,
           0,
           0,
           0,
           0,
           0,
           0,
           0,
           0,
           0,
           0,
           0,
           0,
           0,
           0,
           0,
           0,
           0,
           0,
           0,
           0,
           0,
           0,
           0,
           0,
           0,
           0,
           0,
           0,
           0,
           0,
           0,
           0,
           0,
           0,
           0,
           0,
           0,
           0,
           0,
           0,
           0,
           0,
           0,
           0,
           0,
           0,
           0,
           0,
           0,
           0,
           0,
           0,
           0,
           0,
           0,
           0,
           0,
           0,
           0,
           0,
           0,
           0,
           0,
           0,
           0,
           0,
           0,
           0,
           0,
           0,
           0,
           0,
           0,
           0,
           0,
           0,
           0,
           0,
           0,
           0,
           0,
           0,
           0,
           0,
           0,
           0,
           0,
           0,
           0,
           0,
           0,
           0,
           0,
           0,
           0,
           0,
           0,
           0,
           0,
           0,
           0,
           0,
           0,
           0,
           0,
           0,
           0,
           0,
           0,
           0,
           0,
           0,
           0,
           0,
           0,
           0,
           0,
           0,
           0,
           0,
           0,
           0,
           0,
           0,
           0,
           0,
           0,
           0,
           0,
           0,
           0,
           0,
           0,
           0,
           0,
           0,
           0,
           0,
           0,
           0,
           0,
           0,
           10,
           0,
           10,
           10,
           0,
           0,
           0,
           0,
           0,
           0,
           0,
           0,
           0,
           0,
           10,
           10,
           10,
           10,
           0,
           10,
           10,
           10,
           10,
           10,
           10,
           10,
           0,
           10,
           10,
           0,
           10,
           10,
           0,
           10,
           10,
           10,
           10,
           0,
           10,
           10,
           10,
           10,
           10,
           10,
           10,
           10,
           10,
           10,
           10,
           10,
           10,
           10,
           10,
           10,
           10,
           10,
           10,
           10,
           10,
           10,
           10,
           10,
           10,
           10,
           10,
           10,
           10,
           10,
           10,
           10,
           10,
           10,
           0,
           10,
           10,
           10,
           0,
           10,
           0,
           10,
           10,
           10,
           10,
           10,
           10,
           10,
           10,
           0,
           10,
           0,
           0,
           0,
           0,
           0,
           0,
           0,
           0,
           10,
           10,
           0,
           0,
           10,
           10,
           10,
           10,
           10,
           10,
           10,
           10,
           10,
           0,
           0,
           0,
           0,
           10,
           0,
           0,
           0,
           0,
           0
          ],
          [
           0,
           0,
           0,
           0,
           0,
           0,
           0,
           0,
           0,
           0,
           0,
           0,
           0,
           0,
           0,
           0,
           0,
           0,
           0,
           0,
           0,
           0,
           0,
           0,
           0,
           0,
           0,
           0,
           0,
           0,
           0,
           0,
           0,
           0,
           0,
           0,
           0,
           0,
           0,
           0,
           0,
           0,
           0,
           0,
           0,
           0,
           0,
           0,
           0,
           0,
           0,
           0,
           0,
           0,
           0,
           0,
           0,
           0,
           0,
           0,
           0,
           0,
           0,
           0,
           0,
           0,
           0,
           0,
           0,
           0,
           0,
           0,
           0,
           0,
           0,
           0,
           0,
           0,
           0,
           0,
           0,
           0,
           0,
           0,
           0,
           0,
           0,
           0,
           0,
           0,
           0,
           0,
           0,
           0,
           0,
           0,
           0,
           0,
           0,
           0,
           0,
           0,
           0,
           0,
           0,
           0,
           0,
           0,
           0,
           0,
           0,
           0,
           0,
           0,
           0,
           0,
           0,
           0,
           0,
           0,
           0,
           0,
           0,
           0,
           0,
           0,
           0,
           0,
           0,
           0,
           0,
           0,
           0,
           0,
           0,
           0,
           0,
           0,
           0,
           0,
           0,
           0,
           0,
           0,
           0,
           0,
           0,
           0,
           0,
           0,
           0,
           0,
           0,
           0,
           0,
           0,
           0,
           0,
           0,
           0,
           0,
           0,
           0,
           0,
           0,
           0,
           0,
           0,
           0,
           0,
           0,
           0,
           0,
           0,
           0,
           0,
           0,
           0,
           0,
           0,
           0,
           0,
           0,
           0,
           0,
           0,
           0,
           0,
           0,
           0,
           0,
           0,
           0,
           0,
           0,
           0,
           0,
           0,
           0,
           0,
           0,
           0,
           0,
           0,
           0,
           0,
           0,
           0,
           0,
           0,
           0,
           0,
           10,
           10,
           10,
           10,
           10,
           10,
           10,
           0,
           0,
           0,
           0,
           0,
           0,
           0,
           0,
           0,
           0,
           0,
           0,
           0,
           0,
           0,
           0,
           0,
           0,
           0,
           0,
           0,
           0,
           0,
           0,
           0,
           0,
           0,
           0,
           0,
           0,
           0,
           0,
           0,
           0,
           0,
           0,
           0,
           0,
           0,
           0,
           0,
           0,
           0,
           0,
           0,
           0,
           0,
           0
          ],
          [
           0,
           0,
           0,
           0,
           0,
           0,
           0,
           0,
           0,
           0,
           0,
           0,
           0,
           0,
           0,
           0,
           0,
           0,
           0,
           0,
           0,
           0,
           0,
           0,
           0,
           0,
           0,
           0,
           0,
           0,
           0,
           0,
           0,
           0,
           0,
           0,
           0,
           0,
           0,
           0,
           0,
           0,
           0,
           0,
           0,
           0,
           0,
           0,
           0,
           0,
           0,
           0,
           0,
           0,
           0,
           0,
           0,
           0,
           0,
           0,
           0,
           0,
           0,
           0,
           0,
           0,
           0,
           0,
           0,
           0,
           0,
           0,
           0,
           0,
           0,
           0,
           0,
           0,
           0,
           0,
           0,
           0,
           0,
           0,
           0,
           0,
           0,
           0,
           0,
           0,
           0,
           0,
           0,
           0,
           0,
           0,
           0,
           0,
           0,
           0,
           0,
           0,
           0,
           0,
           0,
           0,
           0,
           0,
           0,
           0,
           0,
           0,
           0,
           0,
           0,
           0,
           0,
           0,
           0,
           0,
           0,
           0,
           0,
           0,
           0,
           0,
           0,
           0,
           0,
           0,
           0,
           0,
           0,
           0,
           0,
           0,
           0,
           0,
           0,
           0,
           0,
           0,
           0,
           0,
           0,
           0,
           0,
           0,
           0,
           0,
           0,
           0,
           0,
           0,
           0,
           0,
           0,
           0,
           0,
           0,
           0,
           0,
           0,
           0,
           0,
           0,
           0,
           0,
           0,
           0,
           0,
           0,
           0,
           0,
           0,
           0,
           0,
           0,
           0,
           0,
           0,
           0,
           0,
           0,
           0,
           0,
           0,
           0,
           0,
           0,
           0,
           0,
           0,
           0,
           0,
           0,
           0,
           0,
           0,
           0,
           0,
           0,
           0,
           0,
           0,
           0,
           0,
           0,
           0,
           0,
           0,
           0,
           0,
           0,
           0,
           0,
           0,
           0,
           0,
           0,
           0,
           0,
           0,
           0,
           0,
           0,
           0,
           0,
           0,
           0,
           0,
           0,
           0,
           0,
           0,
           0,
           10,
           0,
           0,
           0,
           0,
           0,
           0,
           0,
           0,
           0,
           0,
           0,
           0,
           10,
           0,
           0,
           0,
           0,
           0,
           0,
           0,
           0,
           0,
           0,
           0,
           0,
           0,
           0,
           0,
           0,
           0
          ]
         ]
        }
       ],
       "layout": {
        "font": {
         "size": 16
        },
        "height": 600,
        "template": {
         "data": {
          "bar": [
           {
            "error_x": {
             "color": "#2a3f5f"
            },
            "error_y": {
             "color": "#2a3f5f"
            },
            "marker": {
             "line": {
              "color": "#E5ECF6",
              "width": 0.5
             },
             "pattern": {
              "fillmode": "overlay",
              "size": 10,
              "solidity": 0.2
             }
            },
            "type": "bar"
           }
          ],
          "barpolar": [
           {
            "marker": {
             "line": {
              "color": "#E5ECF6",
              "width": 0.5
             },
             "pattern": {
              "fillmode": "overlay",
              "size": 10,
              "solidity": 0.2
             }
            },
            "type": "barpolar"
           }
          ],
          "carpet": [
           {
            "aaxis": {
             "endlinecolor": "#2a3f5f",
             "gridcolor": "white",
             "linecolor": "white",
             "minorgridcolor": "white",
             "startlinecolor": "#2a3f5f"
            },
            "baxis": {
             "endlinecolor": "#2a3f5f",
             "gridcolor": "white",
             "linecolor": "white",
             "minorgridcolor": "white",
             "startlinecolor": "#2a3f5f"
            },
            "type": "carpet"
           }
          ],
          "choropleth": [
           {
            "colorbar": {
             "outlinewidth": 0,
             "ticks": ""
            },
            "type": "choropleth"
           }
          ],
          "contour": [
           {
            "colorbar": {
             "outlinewidth": 0,
             "ticks": ""
            },
            "colorscale": [
             [
              0,
              "#0d0887"
             ],
             [
              0.1111111111111111,
              "#46039f"
             ],
             [
              0.2222222222222222,
              "#7201a8"
             ],
             [
              0.3333333333333333,
              "#9c179e"
             ],
             [
              0.4444444444444444,
              "#bd3786"
             ],
             [
              0.5555555555555556,
              "#d8576b"
             ],
             [
              0.6666666666666666,
              "#ed7953"
             ],
             [
              0.7777777777777778,
              "#fb9f3a"
             ],
             [
              0.8888888888888888,
              "#fdca26"
             ],
             [
              1,
              "#f0f921"
             ]
            ],
            "type": "contour"
           }
          ],
          "contourcarpet": [
           {
            "colorbar": {
             "outlinewidth": 0,
             "ticks": ""
            },
            "type": "contourcarpet"
           }
          ],
          "heatmap": [
           {
            "colorbar": {
             "outlinewidth": 0,
             "ticks": ""
            },
            "colorscale": [
             [
              0,
              "#0d0887"
             ],
             [
              0.1111111111111111,
              "#46039f"
             ],
             [
              0.2222222222222222,
              "#7201a8"
             ],
             [
              0.3333333333333333,
              "#9c179e"
             ],
             [
              0.4444444444444444,
              "#bd3786"
             ],
             [
              0.5555555555555556,
              "#d8576b"
             ],
             [
              0.6666666666666666,
              "#ed7953"
             ],
             [
              0.7777777777777778,
              "#fb9f3a"
             ],
             [
              0.8888888888888888,
              "#fdca26"
             ],
             [
              1,
              "#f0f921"
             ]
            ],
            "type": "heatmap"
           }
          ],
          "heatmapgl": [
           {
            "colorbar": {
             "outlinewidth": 0,
             "ticks": ""
            },
            "colorscale": [
             [
              0,
              "#0d0887"
             ],
             [
              0.1111111111111111,
              "#46039f"
             ],
             [
              0.2222222222222222,
              "#7201a8"
             ],
             [
              0.3333333333333333,
              "#9c179e"
             ],
             [
              0.4444444444444444,
              "#bd3786"
             ],
             [
              0.5555555555555556,
              "#d8576b"
             ],
             [
              0.6666666666666666,
              "#ed7953"
             ],
             [
              0.7777777777777778,
              "#fb9f3a"
             ],
             [
              0.8888888888888888,
              "#fdca26"
             ],
             [
              1,
              "#f0f921"
             ]
            ],
            "type": "heatmapgl"
           }
          ],
          "histogram": [
           {
            "marker": {
             "pattern": {
              "fillmode": "overlay",
              "size": 10,
              "solidity": 0.2
             }
            },
            "type": "histogram"
           }
          ],
          "histogram2d": [
           {
            "colorbar": {
             "outlinewidth": 0,
             "ticks": ""
            },
            "colorscale": [
             [
              0,
              "#0d0887"
             ],
             [
              0.1111111111111111,
              "#46039f"
             ],
             [
              0.2222222222222222,
              "#7201a8"
             ],
             [
              0.3333333333333333,
              "#9c179e"
             ],
             [
              0.4444444444444444,
              "#bd3786"
             ],
             [
              0.5555555555555556,
              "#d8576b"
             ],
             [
              0.6666666666666666,
              "#ed7953"
             ],
             [
              0.7777777777777778,
              "#fb9f3a"
             ],
             [
              0.8888888888888888,
              "#fdca26"
             ],
             [
              1,
              "#f0f921"
             ]
            ],
            "type": "histogram2d"
           }
          ],
          "histogram2dcontour": [
           {
            "colorbar": {
             "outlinewidth": 0,
             "ticks": ""
            },
            "colorscale": [
             [
              0,
              "#0d0887"
             ],
             [
              0.1111111111111111,
              "#46039f"
             ],
             [
              0.2222222222222222,
              "#7201a8"
             ],
             [
              0.3333333333333333,
              "#9c179e"
             ],
             [
              0.4444444444444444,
              "#bd3786"
             ],
             [
              0.5555555555555556,
              "#d8576b"
             ],
             [
              0.6666666666666666,
              "#ed7953"
             ],
             [
              0.7777777777777778,
              "#fb9f3a"
             ],
             [
              0.8888888888888888,
              "#fdca26"
             ],
             [
              1,
              "#f0f921"
             ]
            ],
            "type": "histogram2dcontour"
           }
          ],
          "mesh3d": [
           {
            "colorbar": {
             "outlinewidth": 0,
             "ticks": ""
            },
            "type": "mesh3d"
           }
          ],
          "parcoords": [
           {
            "line": {
             "colorbar": {
              "outlinewidth": 0,
              "ticks": ""
             }
            },
            "type": "parcoords"
           }
          ],
          "pie": [
           {
            "automargin": true,
            "type": "pie"
           }
          ],
          "scatter": [
           {
            "marker": {
             "colorbar": {
              "outlinewidth": 0,
              "ticks": ""
             }
            },
            "type": "scatter"
           }
          ],
          "scatter3d": [
           {
            "line": {
             "colorbar": {
              "outlinewidth": 0,
              "ticks": ""
             }
            },
            "marker": {
             "colorbar": {
              "outlinewidth": 0,
              "ticks": ""
             }
            },
            "type": "scatter3d"
           }
          ],
          "scattercarpet": [
           {
            "marker": {
             "colorbar": {
              "outlinewidth": 0,
              "ticks": ""
             }
            },
            "type": "scattercarpet"
           }
          ],
          "scattergeo": [
           {
            "marker": {
             "colorbar": {
              "outlinewidth": 0,
              "ticks": ""
             }
            },
            "type": "scattergeo"
           }
          ],
          "scattergl": [
           {
            "marker": {
             "colorbar": {
              "outlinewidth": 0,
              "ticks": ""
             }
            },
            "type": "scattergl"
           }
          ],
          "scattermapbox": [
           {
            "marker": {
             "colorbar": {
              "outlinewidth": 0,
              "ticks": ""
             }
            },
            "type": "scattermapbox"
           }
          ],
          "scatterpolar": [
           {
            "marker": {
             "colorbar": {
              "outlinewidth": 0,
              "ticks": ""
             }
            },
            "type": "scatterpolar"
           }
          ],
          "scatterpolargl": [
           {
            "marker": {
             "colorbar": {
              "outlinewidth": 0,
              "ticks": ""
             }
            },
            "type": "scatterpolargl"
           }
          ],
          "scatterternary": [
           {
            "marker": {
             "colorbar": {
              "outlinewidth": 0,
              "ticks": ""
             }
            },
            "type": "scatterternary"
           }
          ],
          "surface": [
           {
            "colorbar": {
             "outlinewidth": 0,
             "ticks": ""
            },
            "colorscale": [
             [
              0,
              "#0d0887"
             ],
             [
              0.1111111111111111,
              "#46039f"
             ],
             [
              0.2222222222222222,
              "#7201a8"
             ],
             [
              0.3333333333333333,
              "#9c179e"
             ],
             [
              0.4444444444444444,
              "#bd3786"
             ],
             [
              0.5555555555555556,
              "#d8576b"
             ],
             [
              0.6666666666666666,
              "#ed7953"
             ],
             [
              0.7777777777777778,
              "#fb9f3a"
             ],
             [
              0.8888888888888888,
              "#fdca26"
             ],
             [
              1,
              "#f0f921"
             ]
            ],
            "type": "surface"
           }
          ],
          "table": [
           {
            "cells": {
             "fill": {
              "color": "#EBF0F8"
             },
             "line": {
              "color": "white"
             }
            },
            "header": {
             "fill": {
              "color": "#C8D4E3"
             },
             "line": {
              "color": "white"
             }
            },
            "type": "table"
           }
          ]
         },
         "layout": {
          "annotationdefaults": {
           "arrowcolor": "#2a3f5f",
           "arrowhead": 0,
           "arrowwidth": 1
          },
          "autotypenumbers": "strict",
          "coloraxis": {
           "colorbar": {
            "outlinewidth": 0,
            "ticks": ""
           }
          },
          "colorscale": {
           "diverging": [
            [
             0,
             "#8e0152"
            ],
            [
             0.1,
             "#c51b7d"
            ],
            [
             0.2,
             "#de77ae"
            ],
            [
             0.3,
             "#f1b6da"
            ],
            [
             0.4,
             "#fde0ef"
            ],
            [
             0.5,
             "#f7f7f7"
            ],
            [
             0.6,
             "#e6f5d0"
            ],
            [
             0.7,
             "#b8e186"
            ],
            [
             0.8,
             "#7fbc41"
            ],
            [
             0.9,
             "#4d9221"
            ],
            [
             1,
             "#276419"
            ]
           ],
           "sequential": [
            [
             0,
             "#0d0887"
            ],
            [
             0.1111111111111111,
             "#46039f"
            ],
            [
             0.2222222222222222,
             "#7201a8"
            ],
            [
             0.3333333333333333,
             "#9c179e"
            ],
            [
             0.4444444444444444,
             "#bd3786"
            ],
            [
             0.5555555555555556,
             "#d8576b"
            ],
            [
             0.6666666666666666,
             "#ed7953"
            ],
            [
             0.7777777777777778,
             "#fb9f3a"
            ],
            [
             0.8888888888888888,
             "#fdca26"
            ],
            [
             1,
             "#f0f921"
            ]
           ],
           "sequentialminus": [
            [
             0,
             "#0d0887"
            ],
            [
             0.1111111111111111,
             "#46039f"
            ],
            [
             0.2222222222222222,
             "#7201a8"
            ],
            [
             0.3333333333333333,
             "#9c179e"
            ],
            [
             0.4444444444444444,
             "#bd3786"
            ],
            [
             0.5555555555555556,
             "#d8576b"
            ],
            [
             0.6666666666666666,
             "#ed7953"
            ],
            [
             0.7777777777777778,
             "#fb9f3a"
            ],
            [
             0.8888888888888888,
             "#fdca26"
            ],
            [
             1,
             "#f0f921"
            ]
           ]
          },
          "colorway": [
           "#636efa",
           "#EF553B",
           "#00cc96",
           "#ab63fa",
           "#FFA15A",
           "#19d3f3",
           "#FF6692",
           "#B6E880",
           "#FF97FF",
           "#FECB52"
          ],
          "font": {
           "color": "#2a3f5f"
          },
          "geo": {
           "bgcolor": "white",
           "lakecolor": "white",
           "landcolor": "#E5ECF6",
           "showlakes": true,
           "showland": true,
           "subunitcolor": "white"
          },
          "hoverlabel": {
           "align": "left"
          },
          "hovermode": "closest",
          "mapbox": {
           "style": "light"
          },
          "paper_bgcolor": "white",
          "plot_bgcolor": "#E5ECF6",
          "polar": {
           "angularaxis": {
            "gridcolor": "white",
            "linecolor": "white",
            "ticks": ""
           },
           "bgcolor": "#E5ECF6",
           "radialaxis": {
            "gridcolor": "white",
            "linecolor": "white",
            "ticks": ""
           }
          },
          "scene": {
           "xaxis": {
            "backgroundcolor": "#E5ECF6",
            "gridcolor": "white",
            "gridwidth": 2,
            "linecolor": "white",
            "showbackground": true,
            "ticks": "",
            "zerolinecolor": "white"
           },
           "yaxis": {
            "backgroundcolor": "#E5ECF6",
            "gridcolor": "white",
            "gridwidth": 2,
            "linecolor": "white",
            "showbackground": true,
            "ticks": "",
            "zerolinecolor": "white"
           },
           "zaxis": {
            "backgroundcolor": "#E5ECF6",
            "gridcolor": "white",
            "gridwidth": 2,
            "linecolor": "white",
            "showbackground": true,
            "ticks": "",
            "zerolinecolor": "white"
           }
          },
          "shapedefaults": {
           "line": {
            "color": "#2a3f5f"
           }
          },
          "ternary": {
           "aaxis": {
            "gridcolor": "white",
            "linecolor": "white",
            "ticks": ""
           },
           "baxis": {
            "gridcolor": "white",
            "linecolor": "white",
            "ticks": ""
           },
           "bgcolor": "#E5ECF6",
           "caxis": {
            "gridcolor": "white",
            "linecolor": "white",
            "ticks": ""
           }
          },
          "title": {
           "x": 0.05
          },
          "xaxis": {
           "automargin": true,
           "gridcolor": "white",
           "linecolor": "white",
           "ticks": "",
           "title": {
            "standoff": 15
           },
           "zerolinecolor": "white",
           "zerolinewidth": 2
          },
          "yaxis": {
           "automargin": true,
           "gridcolor": "white",
           "linecolor": "white",
           "ticks": "",
           "title": {
            "standoff": 15
           },
           "zerolinecolor": "white",
           "zerolinewidth": 2
          }
         }
        },
        "title": {
         "text": "Total Plays by Station"
        },
        "width": 1200,
        "xaxis": {
         "nticks": 22
        },
        "yaxis": {
         "nticks": 25
        }
       }
      }
     },
     "metadata": {},
     "output_type": "display_data"
    }
   ],
   "source": [
    "x = time_table['week_of']\n",
    "y = [x.split('_')[0] for x in time_table.columns if 'station' in x]\n",
    "z = time_table[[x for x in time_table.columns if 'station' in x]].T\n",
    "\n",
    "plot_time_series(x,y,z, title='Total Plays by Station')"
   ]
  },
  {
   "cell_type": "code",
   "execution_count": 33,
   "metadata": {},
   "outputs": [
    {
     "data": {
      "application/vnd.plotly.v1+json": {
       "config": {
        "plotlyServerURL": "https://plot.ly"
       },
       "data": [
        {
         "type": "heatmap",
         "x": [
          "2006-01-10",
          "2006-01-17",
          "2006-01-24",
          "2006-01-31",
          "2006-02-07",
          "2006-02-14",
          "2006-02-21",
          "2006-02-28",
          "2006-03-07",
          "2006-03-14",
          "2006-03-21",
          "2006-03-28",
          "2006-04-04",
          "2006-04-11",
          "2006-04-18",
          "2006-04-25",
          "2006-05-02",
          "2006-05-09",
          "2006-05-16",
          "2006-05-23",
          "2006-05-30",
          "2006-06-06",
          "2006-06-13",
          "2006-06-20",
          "2006-06-27",
          "2006-07-04",
          "2006-07-11",
          "2006-07-18",
          "2006-07-25",
          "2006-08-01",
          "2006-08-08",
          "2006-08-15",
          "2006-08-22",
          "2006-08-29",
          "2006-09-05",
          "2006-09-12",
          "2006-09-19",
          "2006-09-26",
          "2006-10-03",
          "2006-10-10",
          "2006-10-17",
          "2006-10-24",
          "2006-10-31",
          "2006-11-07",
          "2006-11-14",
          "2006-11-21",
          "2006-11-28",
          "2006-12-05",
          "2006-12-12",
          "2006-12-19",
          "2006-12-26",
          "2007-01-02",
          "2007-01-09",
          "2007-01-16",
          "2007-01-23",
          "2007-01-30",
          "2007-02-06",
          "2007-02-13",
          "2007-02-20",
          "2007-02-27",
          "2007-03-06",
          "2007-03-13",
          "2007-03-20",
          "2007-03-27",
          "2007-04-03",
          "2007-04-10",
          "2007-04-17",
          "2007-04-24",
          "2007-05-01",
          "2007-05-08",
          "2007-05-15",
          "2007-05-22",
          "2007-05-29",
          "2007-06-05",
          "2007-06-12",
          "2007-06-19",
          "2007-06-26",
          "2007-07-03",
          "2007-07-10",
          "2007-07-17",
          "2007-07-24",
          "2007-07-31",
          "2007-08-07",
          "2007-08-14",
          "2007-08-21",
          "2007-08-28",
          "2007-09-04",
          "2007-09-11",
          "2007-09-18",
          "2007-09-25",
          "2007-10-02",
          "2007-10-09",
          "2007-10-16",
          "2007-10-23",
          "2007-10-30",
          "2007-11-06",
          "2007-11-13",
          "2007-11-20",
          "2007-11-27",
          "2007-12-04",
          "2007-12-11",
          "2007-12-18",
          "2008-01-08",
          "2008-01-15",
          "2008-01-22",
          "2008-01-29",
          "2008-02-05",
          "2008-02-12",
          "2008-02-19",
          "2008-02-26",
          "2008-03-04",
          "2008-03-11",
          "2008-03-18",
          "2008-03-25",
          "2008-04-01",
          "2008-04-08",
          "2008-04-15",
          "2008-04-22",
          "2008-04-29",
          "2008-05-06",
          "2008-05-13",
          "2008-05-20",
          "2008-05-27",
          "2008-06-03",
          "2008-06-10",
          "2008-06-17",
          "2008-06-24",
          "2008-07-01",
          "2008-07-08",
          "2008-07-15",
          "2008-07-22",
          "2008-07-29",
          "2008-08-05",
          "2008-08-12",
          "2008-08-19",
          "2008-08-26",
          "2008-09-02",
          "2008-09-09",
          "2008-09-16",
          "2008-09-23",
          "2008-09-30",
          "2008-10-07",
          "2008-10-14",
          "2008-10-21",
          "2008-10-28",
          "2008-11-04",
          "2008-11-11",
          "2008-11-18",
          "2008-11-25",
          "2008-12-02",
          "2008-12-09",
          "2008-12-16",
          "2008-12-23",
          "2008-12-30",
          "2009-01-06",
          "2009-01-13",
          "2009-01-20",
          "2009-01-27",
          "2009-02-03",
          "2009-02-10",
          "2009-02-17",
          "2009-02-24",
          "2009-03-03",
          "2009-03-10",
          "2009-03-17",
          "2009-03-24",
          "2009-03-31",
          "2009-04-07",
          "2009-04-14",
          "2009-04-21",
          "2009-04-28",
          "2009-05-05",
          "2009-05-12",
          "2009-05-19",
          "2009-05-26",
          "2009-06-02",
          "2009-06-09",
          "2009-06-16",
          "2009-06-23",
          "2009-06-30",
          "2009-07-07",
          "2009-07-14",
          "2009-07-21",
          "2009-07-28",
          "2009-08-04",
          "2009-08-11",
          "2009-08-18",
          "2009-08-25",
          "2009-09-01",
          "2009-09-08",
          "2009-09-15",
          "2009-09-22",
          "2009-09-29",
          "2009-10-06",
          "2009-10-13",
          "2009-10-20",
          "2009-10-27",
          "2009-11-03",
          "2009-11-10",
          "2009-11-17",
          "2009-11-24",
          "2009-12-01",
          "2009-12-08",
          "2009-12-15",
          "2009-12-22",
          "2009-12-29",
          "2010-01-05",
          "2010-01-12",
          "2010-01-19",
          "2010-01-26",
          "2010-02-02",
          "2010-02-09",
          "2010-02-16",
          "2010-02-23",
          "2010-03-02",
          "2010-03-09",
          "2010-03-16",
          "2010-03-23",
          "2010-03-30",
          "2010-04-06",
          "2010-04-13",
          "2010-04-20",
          "2010-04-27",
          "2010-05-04",
          "2010-05-11",
          "2010-05-18",
          "2010-05-25",
          "2010-06-01",
          "2010-06-08",
          "2010-06-15",
          "2010-06-22",
          "2010-06-29",
          "2010-07-06",
          "2010-07-13",
          "2010-07-20",
          "2010-07-27",
          "2010-08-03",
          "2010-08-10",
          "2010-08-17",
          "2010-08-24",
          "2010-08-31",
          "2010-09-07",
          "2010-09-14",
          "2010-09-21",
          "2010-09-28",
          "2010-10-05",
          "2010-10-12",
          "2010-10-19",
          "2010-10-26",
          "2010-11-02",
          "2010-11-09",
          "2010-11-16",
          "2010-11-23",
          "2010-11-30",
          "2010-12-07",
          "2010-12-14",
          "2010-12-21",
          "2010-12-28",
          "2011-01-04",
          "2011-01-11",
          "2011-01-18",
          "2011-01-25",
          "2011-02-01",
          "2011-02-08",
          "2011-02-15",
          "2011-02-22",
          "2011-03-01"
         ],
         "y": [
          "Alberta ",
          "British Columbia ",
          "Manitoba ",
          "Nova Scotia ",
          "Ontario ",
          "Quebec ",
          "New Brunswick "
         ],
         "z": [
          [
           30,
           20,
           30,
           30,
           30,
           30,
           30,
           20,
           30,
           30,
           30,
           20,
           20,
           30,
           30,
           20,
           30,
           20,
           30,
           30,
           30,
           20,
           30,
           30,
           30,
           20,
           20,
           30,
           30,
           20,
           20,
           30,
           30,
           30,
           20,
           30,
           20,
           30,
           30,
           30,
           30,
           20,
           20,
           20,
           30,
           30,
           30,
           30,
           30,
           20,
           0,
           10,
           20,
           20,
           20,
           20,
           20,
           30,
           20,
           30,
           30,
           30,
           30,
           20,
           20,
           20,
           30,
           30,
           20,
           20,
           20,
           30,
           20,
           30,
           10,
           20,
           20,
           20,
           20,
           20,
           20,
           20,
           30,
           20,
           20,
           30,
           30,
           20,
           30,
           20,
           30,
           30,
           10,
           20,
           20,
           30,
           30,
           30,
           30,
           30,
           20,
           10,
           20,
           30,
           30,
           30,
           30,
           30,
           30,
           30,
           30,
           30,
           20,
           30,
           30,
           20,
           30,
           30,
           30,
           30,
           20,
           30,
           20,
           20,
           20,
           30,
           10,
           10,
           20,
           30,
           30,
           30,
           30,
           30,
           30,
           30,
           20,
           30,
           30,
           30,
           30,
           10,
           10,
           20,
           10,
           20,
           30,
           30,
           20,
           30,
           10,
           0,
           0,
           0,
           0,
           0,
           30,
           20,
           20,
           30,
           30,
           30,
           30,
           20,
           0,
           0,
           30,
           20,
           20,
           10,
           20,
           30,
           30,
           30,
           30,
           30,
           20,
           20,
           20,
           20,
           20,
           30,
           10,
           20,
           30,
           20,
           20,
           20,
           10,
           20,
           20,
           20,
           20,
           20,
           20,
           20,
           10,
           0,
           10,
           10,
           20,
           20,
           20,
           20,
           0,
           0,
           10,
           10,
           20,
           20,
           10,
           20,
           20,
           20,
           20,
           20,
           20,
           20,
           20,
           20,
           20,
           20,
           20,
           30,
           20,
           30,
           20,
           20,
           20,
           20,
           30,
           30,
           30,
           30,
           20,
           30,
           30,
           30,
           20,
           30,
           30,
           30,
           30,
           20,
           20,
           30,
           30,
           30,
           20,
           20,
           20,
           30,
           30,
           30,
           30,
           30,
           10,
           0,
           10,
           30,
           30,
           30,
           30,
           30,
           30,
           20,
           10
          ],
          [
           20,
           30,
           10,
           30,
           10,
           20,
           20,
           30,
           20,
           30,
           20,
           30,
           20,
           30,
           10,
           30,
           20,
           30,
           20,
           20,
           20,
           30,
           20,
           30,
           20,
           10,
           20,
           30,
           20,
           30,
           10,
           30,
           20,
           30,
           10,
           30,
           20,
           30,
           20,
           30,
           30,
           40,
           20,
           20,
           10,
           40,
           30,
           30,
           20,
           30,
           10,
           10,
           30,
           40,
           30,
           40,
           30,
           40,
           30,
           30,
           10,
           40,
           10,
           30,
           30,
           30,
           30,
           40,
           30,
           30,
           10,
           30,
           30,
           30,
           20,
           40,
           30,
           30,
           20,
           39,
           20,
           40,
           10,
           40,
           30,
           40,
           20,
           40,
           30,
           30,
           30,
           20,
           30,
           10,
           30,
           40,
           20,
           30,
           30,
           20,
           20,
           20,
           20,
           30,
           30,
           30,
           20,
           30,
           20,
           40,
           30,
           10,
           10,
           20,
           30,
           30,
           30,
           40,
           30,
           40,
           30,
           20,
           20,
           40,
           30,
           30,
           10,
           20,
           20,
           40,
           20,
           30,
           0,
           20,
           20,
           30,
           10,
           30,
           20,
           20,
           10,
           30,
           10,
           30,
           10,
           30,
           10,
           20,
           20,
           30,
           20,
           20,
           10,
           0,
           0,
           10,
           20,
           10,
           10,
           0,
           20,
           10,
           20,
           0,
           20,
           10,
           20,
           20,
           20,
           20,
           30,
           20,
           30,
           10,
           20,
           10,
           20,
           20,
           30,
           10,
           20,
           20,
           30,
           20,
           20,
           10,
           30,
           10,
           30,
           10,
           20,
           20,
           30,
           10,
           20,
           10,
           20,
           20,
           10,
           0,
           30,
           10,
           30,
           0,
           10,
           0,
           0,
           10,
           10,
           0,
           10,
           10,
           20,
           10,
           20,
           10,
           10,
           0,
           10,
           10,
           20,
           10,
           20,
           10,
           20,
           10,
           20,
           10,
           20,
           10,
           20,
           10,
           20,
           10,
           20,
           10,
           30,
           10,
           20,
           10,
           20,
           10,
           20,
           10,
           20,
           10,
           20,
           10,
           10,
           20,
           20,
           10,
           20,
           10,
           20,
           10,
           20,
           0,
           0,
           10,
           20,
           10,
           20,
           10,
           20,
           10,
           20
          ],
          [
           10,
           10,
           10,
           10,
           10,
           10,
           10,
           10,
           10,
           10,
           10,
           10,
           10,
           10,
           10,
           10,
           10,
           10,
           10,
           10,
           10,
           10,
           10,
           10,
           10,
           10,
           10,
           10,
           10,
           10,
           10,
           10,
           10,
           10,
           10,
           10,
           10,
           10,
           10,
           10,
           10,
           10,
           10,
           10,
           10,
           10,
           10,
           10,
           10,
           0,
           0,
           0,
           10,
           10,
           10,
           10,
           10,
           10,
           10,
           10,
           10,
           10,
           10,
           0,
           10,
           10,
           10,
           10,
           10,
           10,
           10,
           10,
           10,
           10,
           10,
           10,
           10,
           10,
           10,
           10,
           10,
           10,
           10,
           10,
           10,
           10,
           10,
           10,
           10,
           10,
           10,
           10,
           10,
           10,
           10,
           10,
           10,
           10,
           10,
           10,
           10,
           10,
           10,
           10,
           10,
           10,
           10,
           10,
           10,
           10,
           10,
           10,
           10,
           10,
           10,
           10,
           10,
           10,
           10,
           10,
           10,
           10,
           10,
           10,
           10,
           10,
           10,
           10,
           10,
           10,
           0,
           0,
           10,
           10,
           10,
           10,
           10,
           10,
           10,
           10,
           10,
           10,
           10,
           10,
           10,
           10,
           10,
           10,
           10,
           10,
           10,
           10,
           0,
           0,
           0,
           10,
           10,
           10,
           10,
           10,
           10,
           10,
           10,
           10,
           10,
           0,
           10,
           10,
           10,
           10,
           10,
           10,
           10,
           10,
           10,
           10,
           10,
           10,
           10,
           10,
           10,
           10,
           10,
           10,
           10,
           10,
           10,
           10,
           10,
           10,
           10,
           10,
           10,
           10,
           10,
           10,
           10,
           10,
           10,
           10,
           10,
           10,
           10,
           10,
           0,
           0,
           0,
           0,
           0,
           0,
           0,
           0,
           0,
           0,
           0,
           0,
           10,
           10,
           10,
           10,
           10,
           10,
           10,
           10,
           10,
           10,
           10,
           10,
           10,
           10,
           10,
           10,
           0,
           10,
           10,
           10,
           0,
           10,
           10,
           10,
           10,
           0,
           0,
           10,
           10,
           10,
           10,
           10,
           10,
           10,
           10,
           10,
           10,
           10,
           10,
           10,
           10,
           0,
           0,
           10,
           10,
           10,
           10,
           10,
           10,
           0,
           10
          ],
          [
           10,
           10,
           10,
           10,
           10,
           10,
           0,
           10,
           0,
           10,
           0,
           0,
           10,
           10,
           10,
           10,
           0,
           0,
           10,
           10,
           10,
           10,
           10,
           10,
           0,
           0,
           0,
           0,
           10,
           0,
           0,
           10,
           0,
           10,
           0,
           0,
           10,
           10,
           10,
           10,
           10,
           10,
           10,
           10,
           10,
           10,
           0,
           10,
           10,
           10,
           0,
           0,
           10,
           10,
           0,
           10,
           0,
           10,
           10,
           10,
           10,
           10,
           10,
           10,
           10,
           10,
           10,
           10,
           10,
           10,
           0,
           10,
           0,
           10,
           10,
           0,
           0,
           0,
           0,
           0,
           10,
           10,
           0,
           10,
           10,
           0,
           10,
           10,
           10,
           10,
           10,
           0,
           10,
           0,
           0,
           10,
           10,
           10,
           10,
           10,
           0,
           10,
           0,
           0,
           0,
           10,
           10,
           0,
           10,
           0,
           0,
           10,
           0,
           0,
           0,
           0,
           10,
           0,
           10,
           0,
           10,
           10,
           0,
           0,
           10,
           0,
           0,
           0,
           0,
           0,
           0,
           0,
           0,
           0,
           0,
           0,
           0,
           0,
           0,
           0,
           0,
           0,
           0,
           0,
           0,
           0,
           0,
           0,
           0,
           0,
           0,
           0,
           0,
           0,
           0,
           0,
           0,
           0,
           0,
           0,
           0,
           0,
           0,
           0,
           0,
           0,
           0,
           0,
           0,
           0,
           0,
           0,
           0,
           0,
           0,
           0,
           0,
           0,
           0,
           0,
           0,
           0,
           0,
           0,
           0,
           0,
           0,
           0,
           0,
           0,
           0,
           0,
           0,
           0,
           0,
           0,
           0,
           0,
           0,
           0,
           0,
           0,
           0,
           0,
           0,
           0,
           0,
           0,
           0,
           0,
           0,
           0,
           0,
           0,
           0,
           0,
           0,
           0,
           0,
           0,
           0,
           0,
           0,
           0,
           0,
           0,
           0,
           0,
           0,
           0,
           0,
           0,
           0,
           0,
           0,
           0,
           0,
           0,
           0,
           0,
           0,
           0,
           0,
           0,
           0,
           0,
           0,
           0,
           0,
           0,
           0,
           0,
           0,
           0,
           0,
           0,
           0,
           0,
           0,
           0,
           0,
           0,
           0,
           0,
           0,
           0,
           0
          ],
          [
           50,
           50,
           60,
           50,
           20,
           60,
           50,
           70,
           60,
           50,
           60,
           70,
           70,
           70,
           50,
           80,
           80,
           70,
           70,
           70,
           60,
           60,
           70,
           70,
           70,
           40,
           70,
           70,
           70,
           60,
           70,
           50,
           60,
           50,
           50,
           60,
           60,
           70,
           60,
           50,
           70,
           70,
           40,
           50,
           50,
           60,
           40,
           60,
           60,
           40,
           0,
           20,
           60,
           50,
           59,
           60,
           50,
           50,
           60,
           60,
           50,
           60,
           60,
           30,
           60,
           60,
           50,
           50,
           50,
           50,
           50,
           40,
           50,
           50,
           20,
           50,
           60,
           50,
           60,
           50,
           50,
           50,
           50,
           50,
           50,
           40,
           50,
           50,
           50,
           50,
           50,
           50,
           50,
           30,
           50,
           60,
           40,
           50,
           50,
           50,
           30,
           30,
           40,
           50,
           50,
           40,
           40,
           30,
           60,
           60,
           50,
           60,
           60,
           40,
           50,
           60,
           50,
           60,
           60,
           60,
           60,
           60,
           50,
           50,
           50,
           60,
           60,
           50,
           50,
           60,
           50,
           50,
           60,
           50,
           50,
           50,
           40,
           50,
           50,
           50,
           30,
           40,
           50,
           30,
           50,
           40,
           50,
           50,
           40,
           70,
           60,
           10,
           0,
           10,
           20,
           30,
           50,
           50,
           40,
           70,
           40,
           70,
           80,
           30,
           70,
           50,
           70,
           80,
           80,
           70,
           70,
           80,
           70,
           60,
           80,
           80,
           30,
           70,
           60,
           60,
           70,
           70,
           70,
           70,
           60,
           60,
           70,
           60,
           60,
           70,
           70,
           70,
           60,
           60,
           60,
           50,
           60,
           60,
           60,
           70,
           50,
           70,
           60,
           60,
           20,
           10,
           30,
           60,
           70,
           70,
           70,
           70,
           70,
           70,
           70,
           70,
           40,
           50,
           60,
           40,
           60,
           70,
           70,
           60,
           60,
           60,
           70,
           70,
           70,
           70,
           70,
           70,
           70,
           50,
           40,
           50,
           50,
           60,
           50,
           50,
           60,
           50,
           50,
           50,
           60,
           60,
           50,
           60,
           50,
           50,
           50,
           70,
           60,
           40,
           60,
           50,
           30,
           10,
           40,
           50,
           40,
           60,
           50,
           40,
           40,
           50,
           40
          ],
          [
           10,
           10,
           10,
           10,
           0,
           10,
           10,
           10,
           10,
           10,
           10,
           10,
           0,
           20,
           20,
           20,
           10,
           10,
           20,
           20,
           10,
           20,
           20,
           10,
           10,
           10,
           10,
           10,
           10,
           10,
           20,
           20,
           20,
           20,
           20,
           20,
           30,
           20,
           20,
           20,
           20,
           20,
           20,
           20,
           10,
           20,
           20,
           10,
           20,
           10,
           0,
           0,
           20,
           20,
           20,
           30,
           30,
           30,
           30,
           30,
           30,
           30,
           20,
           10,
           30,
           30,
           30,
           30,
           20,
           30,
           30,
           30,
           30,
           30,
           0,
           20,
           30,
           30,
           30,
           30,
           30,
           20,
           30,
           30,
           30,
           30,
           20,
           30,
           20,
           30,
           20,
           30,
           10,
           20,
           30,
           30,
           30,
           20,
           20,
           30,
           20,
           10,
           10,
           20,
           30,
           30,
           30,
           30,
           30,
           30,
           20,
           30,
           30,
           20,
           30,
           20,
           30,
           30,
           20,
           20,
           30,
           20,
           20,
           30,
           30,
           30,
           20,
           30,
           30,
           30,
           20,
           30,
           30,
           30,
           30,
           30,
           20,
           30,
           30,
           20,
           30,
           20,
           20,
           10,
           20,
           30,
           30,
           30,
           20,
           20,
           30,
           0,
           10,
           0,
           20,
           30,
           20,
           30,
           20,
           20,
           20,
           30,
           20,
           10,
           10,
           30,
           20,
           30,
           20,
           30,
           30,
           20,
           20,
           30,
           20,
           30,
           30,
           30,
           20,
           20,
           30,
           10,
           30,
           30,
           30,
           30,
           30,
           30,
           30,
           30,
           30,
           30,
           30,
           30,
           20,
           20,
           30,
           20,
           30,
           30,
           30,
           10,
           30,
           20,
           0,
           0,
           10,
           30,
           30,
           30,
           30,
           30,
           40,
           40,
           40,
           40,
           40,
           30,
           40,
           30,
           30,
           30,
           30,
           30,
           20,
           30,
           20,
           20,
           30,
           20,
           20,
           30,
           20,
           20,
           10,
           20,
           30,
           30,
           30,
           30,
           30,
           20,
           30,
           20,
           20,
           30,
           20,
           10,
           20,
           20,
           30,
           20,
           20,
           20,
           10,
           10,
           0,
           0,
           0,
           20,
           30,
           10,
           30,
           20,
           20,
           20,
           20
          ],
          [
           0,
           0,
           0,
           10,
           0,
           0,
           0,
           0,
           0,
           0,
           10,
           10,
           10,
           0,
           10,
           10,
           0,
           0,
           10,
           0,
           0,
           0,
           0,
           0,
           0,
           0,
           0,
           0,
           10,
           0,
           0,
           0,
           0,
           0,
           10,
           10,
           10,
           0,
           0,
           10,
           10,
           10,
           10,
           10,
           10,
           10,
           0,
           0,
           0,
           0,
           0,
           0,
           0,
           10,
           10,
           10,
           10,
           20,
           10,
           10,
           10,
           0,
           10,
           0,
           10,
           0,
           0,
           10,
           0,
           0,
           10,
           10,
           10,
           10,
           0,
           0,
           10,
           10,
           10,
           10,
           10,
           10,
           10,
           10,
           10,
           10,
           0,
           10,
           10,
           10,
           10,
           0,
           0,
           0,
           0,
           0,
           10,
           0,
           0,
           0,
           0,
           0,
           0,
           0,
           0,
           0,
           0,
           0,
           0,
           0,
           0,
           0,
           0,
           0,
           10,
           10,
           0,
           0,
           0,
           10,
           10,
           0,
           0,
           0,
           0,
           0,
           0,
           0,
           0,
           10,
           10,
           0,
           0,
           0,
           0,
           0,
           0,
           0,
           0,
           0,
           0,
           0,
           0,
           0,
           0,
           0,
           0,
           0,
           0,
           0,
           0,
           0,
           0,
           0,
           0,
           0,
           0,
           0,
           0,
           0,
           0,
           0,
           0,
           0,
           0,
           0,
           0,
           0,
           0,
           0,
           0,
           0,
           0,
           0,
           0,
           0,
           0,
           0,
           0,
           0,
           0,
           0,
           0,
           0,
           0,
           0,
           0,
           0,
           0,
           0,
           0,
           0,
           0,
           0,
           0,
           0,
           0,
           0,
           0,
           0,
           0,
           0,
           0,
           0,
           0,
           0,
           0,
           0,
           0,
           0,
           0,
           0,
           0,
           0,
           0,
           0,
           0,
           0,
           0,
           0,
           0,
           0,
           0,
           0,
           0,
           0,
           0,
           0,
           0,
           0,
           10,
           10,
           10,
           10,
           10,
           10,
           10,
           10,
           10,
           0,
           0,
           0,
           0,
           0,
           0,
           0,
           0,
           0,
           0,
           0,
           0,
           0,
           0,
           0,
           0,
           0,
           0,
           0,
           0,
           0,
           0,
           0,
           0,
           0,
           0,
           0,
           0
          ]
         ]
        }
       ],
       "layout": {
        "font": {
         "size": 16
        },
        "height": 600,
        "template": {
         "data": {
          "bar": [
           {
            "error_x": {
             "color": "#2a3f5f"
            },
            "error_y": {
             "color": "#2a3f5f"
            },
            "marker": {
             "line": {
              "color": "#E5ECF6",
              "width": 0.5
             },
             "pattern": {
              "fillmode": "overlay",
              "size": 10,
              "solidity": 0.2
             }
            },
            "type": "bar"
           }
          ],
          "barpolar": [
           {
            "marker": {
             "line": {
              "color": "#E5ECF6",
              "width": 0.5
             },
             "pattern": {
              "fillmode": "overlay",
              "size": 10,
              "solidity": 0.2
             }
            },
            "type": "barpolar"
           }
          ],
          "carpet": [
           {
            "aaxis": {
             "endlinecolor": "#2a3f5f",
             "gridcolor": "white",
             "linecolor": "white",
             "minorgridcolor": "white",
             "startlinecolor": "#2a3f5f"
            },
            "baxis": {
             "endlinecolor": "#2a3f5f",
             "gridcolor": "white",
             "linecolor": "white",
             "minorgridcolor": "white",
             "startlinecolor": "#2a3f5f"
            },
            "type": "carpet"
           }
          ],
          "choropleth": [
           {
            "colorbar": {
             "outlinewidth": 0,
             "ticks": ""
            },
            "type": "choropleth"
           }
          ],
          "contour": [
           {
            "colorbar": {
             "outlinewidth": 0,
             "ticks": ""
            },
            "colorscale": [
             [
              0,
              "#0d0887"
             ],
             [
              0.1111111111111111,
              "#46039f"
             ],
             [
              0.2222222222222222,
              "#7201a8"
             ],
             [
              0.3333333333333333,
              "#9c179e"
             ],
             [
              0.4444444444444444,
              "#bd3786"
             ],
             [
              0.5555555555555556,
              "#d8576b"
             ],
             [
              0.6666666666666666,
              "#ed7953"
             ],
             [
              0.7777777777777778,
              "#fb9f3a"
             ],
             [
              0.8888888888888888,
              "#fdca26"
             ],
             [
              1,
              "#f0f921"
             ]
            ],
            "type": "contour"
           }
          ],
          "contourcarpet": [
           {
            "colorbar": {
             "outlinewidth": 0,
             "ticks": ""
            },
            "type": "contourcarpet"
           }
          ],
          "heatmap": [
           {
            "colorbar": {
             "outlinewidth": 0,
             "ticks": ""
            },
            "colorscale": [
             [
              0,
              "#0d0887"
             ],
             [
              0.1111111111111111,
              "#46039f"
             ],
             [
              0.2222222222222222,
              "#7201a8"
             ],
             [
              0.3333333333333333,
              "#9c179e"
             ],
             [
              0.4444444444444444,
              "#bd3786"
             ],
             [
              0.5555555555555556,
              "#d8576b"
             ],
             [
              0.6666666666666666,
              "#ed7953"
             ],
             [
              0.7777777777777778,
              "#fb9f3a"
             ],
             [
              0.8888888888888888,
              "#fdca26"
             ],
             [
              1,
              "#f0f921"
             ]
            ],
            "type": "heatmap"
           }
          ],
          "heatmapgl": [
           {
            "colorbar": {
             "outlinewidth": 0,
             "ticks": ""
            },
            "colorscale": [
             [
              0,
              "#0d0887"
             ],
             [
              0.1111111111111111,
              "#46039f"
             ],
             [
              0.2222222222222222,
              "#7201a8"
             ],
             [
              0.3333333333333333,
              "#9c179e"
             ],
             [
              0.4444444444444444,
              "#bd3786"
             ],
             [
              0.5555555555555556,
              "#d8576b"
             ],
             [
              0.6666666666666666,
              "#ed7953"
             ],
             [
              0.7777777777777778,
              "#fb9f3a"
             ],
             [
              0.8888888888888888,
              "#fdca26"
             ],
             [
              1,
              "#f0f921"
             ]
            ],
            "type": "heatmapgl"
           }
          ],
          "histogram": [
           {
            "marker": {
             "pattern": {
              "fillmode": "overlay",
              "size": 10,
              "solidity": 0.2
             }
            },
            "type": "histogram"
           }
          ],
          "histogram2d": [
           {
            "colorbar": {
             "outlinewidth": 0,
             "ticks": ""
            },
            "colorscale": [
             [
              0,
              "#0d0887"
             ],
             [
              0.1111111111111111,
              "#46039f"
             ],
             [
              0.2222222222222222,
              "#7201a8"
             ],
             [
              0.3333333333333333,
              "#9c179e"
             ],
             [
              0.4444444444444444,
              "#bd3786"
             ],
             [
              0.5555555555555556,
              "#d8576b"
             ],
             [
              0.6666666666666666,
              "#ed7953"
             ],
             [
              0.7777777777777778,
              "#fb9f3a"
             ],
             [
              0.8888888888888888,
              "#fdca26"
             ],
             [
              1,
              "#f0f921"
             ]
            ],
            "type": "histogram2d"
           }
          ],
          "histogram2dcontour": [
           {
            "colorbar": {
             "outlinewidth": 0,
             "ticks": ""
            },
            "colorscale": [
             [
              0,
              "#0d0887"
             ],
             [
              0.1111111111111111,
              "#46039f"
             ],
             [
              0.2222222222222222,
              "#7201a8"
             ],
             [
              0.3333333333333333,
              "#9c179e"
             ],
             [
              0.4444444444444444,
              "#bd3786"
             ],
             [
              0.5555555555555556,
              "#d8576b"
             ],
             [
              0.6666666666666666,
              "#ed7953"
             ],
             [
              0.7777777777777778,
              "#fb9f3a"
             ],
             [
              0.8888888888888888,
              "#fdca26"
             ],
             [
              1,
              "#f0f921"
             ]
            ],
            "type": "histogram2dcontour"
           }
          ],
          "mesh3d": [
           {
            "colorbar": {
             "outlinewidth": 0,
             "ticks": ""
            },
            "type": "mesh3d"
           }
          ],
          "parcoords": [
           {
            "line": {
             "colorbar": {
              "outlinewidth": 0,
              "ticks": ""
             }
            },
            "type": "parcoords"
           }
          ],
          "pie": [
           {
            "automargin": true,
            "type": "pie"
           }
          ],
          "scatter": [
           {
            "marker": {
             "colorbar": {
              "outlinewidth": 0,
              "ticks": ""
             }
            },
            "type": "scatter"
           }
          ],
          "scatter3d": [
           {
            "line": {
             "colorbar": {
              "outlinewidth": 0,
              "ticks": ""
             }
            },
            "marker": {
             "colorbar": {
              "outlinewidth": 0,
              "ticks": ""
             }
            },
            "type": "scatter3d"
           }
          ],
          "scattercarpet": [
           {
            "marker": {
             "colorbar": {
              "outlinewidth": 0,
              "ticks": ""
             }
            },
            "type": "scattercarpet"
           }
          ],
          "scattergeo": [
           {
            "marker": {
             "colorbar": {
              "outlinewidth": 0,
              "ticks": ""
             }
            },
            "type": "scattergeo"
           }
          ],
          "scattergl": [
           {
            "marker": {
             "colorbar": {
              "outlinewidth": 0,
              "ticks": ""
             }
            },
            "type": "scattergl"
           }
          ],
          "scattermapbox": [
           {
            "marker": {
             "colorbar": {
              "outlinewidth": 0,
              "ticks": ""
             }
            },
            "type": "scattermapbox"
           }
          ],
          "scatterpolar": [
           {
            "marker": {
             "colorbar": {
              "outlinewidth": 0,
              "ticks": ""
             }
            },
            "type": "scatterpolar"
           }
          ],
          "scatterpolargl": [
           {
            "marker": {
             "colorbar": {
              "outlinewidth": 0,
              "ticks": ""
             }
            },
            "type": "scatterpolargl"
           }
          ],
          "scatterternary": [
           {
            "marker": {
             "colorbar": {
              "outlinewidth": 0,
              "ticks": ""
             }
            },
            "type": "scatterternary"
           }
          ],
          "surface": [
           {
            "colorbar": {
             "outlinewidth": 0,
             "ticks": ""
            },
            "colorscale": [
             [
              0,
              "#0d0887"
             ],
             [
              0.1111111111111111,
              "#46039f"
             ],
             [
              0.2222222222222222,
              "#7201a8"
             ],
             [
              0.3333333333333333,
              "#9c179e"
             ],
             [
              0.4444444444444444,
              "#bd3786"
             ],
             [
              0.5555555555555556,
              "#d8576b"
             ],
             [
              0.6666666666666666,
              "#ed7953"
             ],
             [
              0.7777777777777778,
              "#fb9f3a"
             ],
             [
              0.8888888888888888,
              "#fdca26"
             ],
             [
              1,
              "#f0f921"
             ]
            ],
            "type": "surface"
           }
          ],
          "table": [
           {
            "cells": {
             "fill": {
              "color": "#EBF0F8"
             },
             "line": {
              "color": "white"
             }
            },
            "header": {
             "fill": {
              "color": "#C8D4E3"
             },
             "line": {
              "color": "white"
             }
            },
            "type": "table"
           }
          ]
         },
         "layout": {
          "annotationdefaults": {
           "arrowcolor": "#2a3f5f",
           "arrowhead": 0,
           "arrowwidth": 1
          },
          "autotypenumbers": "strict",
          "coloraxis": {
           "colorbar": {
            "outlinewidth": 0,
            "ticks": ""
           }
          },
          "colorscale": {
           "diverging": [
            [
             0,
             "#8e0152"
            ],
            [
             0.1,
             "#c51b7d"
            ],
            [
             0.2,
             "#de77ae"
            ],
            [
             0.3,
             "#f1b6da"
            ],
            [
             0.4,
             "#fde0ef"
            ],
            [
             0.5,
             "#f7f7f7"
            ],
            [
             0.6,
             "#e6f5d0"
            ],
            [
             0.7,
             "#b8e186"
            ],
            [
             0.8,
             "#7fbc41"
            ],
            [
             0.9,
             "#4d9221"
            ],
            [
             1,
             "#276419"
            ]
           ],
           "sequential": [
            [
             0,
             "#0d0887"
            ],
            [
             0.1111111111111111,
             "#46039f"
            ],
            [
             0.2222222222222222,
             "#7201a8"
            ],
            [
             0.3333333333333333,
             "#9c179e"
            ],
            [
             0.4444444444444444,
             "#bd3786"
            ],
            [
             0.5555555555555556,
             "#d8576b"
            ],
            [
             0.6666666666666666,
             "#ed7953"
            ],
            [
             0.7777777777777778,
             "#fb9f3a"
            ],
            [
             0.8888888888888888,
             "#fdca26"
            ],
            [
             1,
             "#f0f921"
            ]
           ],
           "sequentialminus": [
            [
             0,
             "#0d0887"
            ],
            [
             0.1111111111111111,
             "#46039f"
            ],
            [
             0.2222222222222222,
             "#7201a8"
            ],
            [
             0.3333333333333333,
             "#9c179e"
            ],
            [
             0.4444444444444444,
             "#bd3786"
            ],
            [
             0.5555555555555556,
             "#d8576b"
            ],
            [
             0.6666666666666666,
             "#ed7953"
            ],
            [
             0.7777777777777778,
             "#fb9f3a"
            ],
            [
             0.8888888888888888,
             "#fdca26"
            ],
            [
             1,
             "#f0f921"
            ]
           ]
          },
          "colorway": [
           "#636efa",
           "#EF553B",
           "#00cc96",
           "#ab63fa",
           "#FFA15A",
           "#19d3f3",
           "#FF6692",
           "#B6E880",
           "#FF97FF",
           "#FECB52"
          ],
          "font": {
           "color": "#2a3f5f"
          },
          "geo": {
           "bgcolor": "white",
           "lakecolor": "white",
           "landcolor": "#E5ECF6",
           "showlakes": true,
           "showland": true,
           "subunitcolor": "white"
          },
          "hoverlabel": {
           "align": "left"
          },
          "hovermode": "closest",
          "mapbox": {
           "style": "light"
          },
          "paper_bgcolor": "white",
          "plot_bgcolor": "#E5ECF6",
          "polar": {
           "angularaxis": {
            "gridcolor": "white",
            "linecolor": "white",
            "ticks": ""
           },
           "bgcolor": "#E5ECF6",
           "radialaxis": {
            "gridcolor": "white",
            "linecolor": "white",
            "ticks": ""
           }
          },
          "scene": {
           "xaxis": {
            "backgroundcolor": "#E5ECF6",
            "gridcolor": "white",
            "gridwidth": 2,
            "linecolor": "white",
            "showbackground": true,
            "ticks": "",
            "zerolinecolor": "white"
           },
           "yaxis": {
            "backgroundcolor": "#E5ECF6",
            "gridcolor": "white",
            "gridwidth": 2,
            "linecolor": "white",
            "showbackground": true,
            "ticks": "",
            "zerolinecolor": "white"
           },
           "zaxis": {
            "backgroundcolor": "#E5ECF6",
            "gridcolor": "white",
            "gridwidth": 2,
            "linecolor": "white",
            "showbackground": true,
            "ticks": "",
            "zerolinecolor": "white"
           }
          },
          "shapedefaults": {
           "line": {
            "color": "#2a3f5f"
           }
          },
          "ternary": {
           "aaxis": {
            "gridcolor": "white",
            "linecolor": "white",
            "ticks": ""
           },
           "baxis": {
            "gridcolor": "white",
            "linecolor": "white",
            "ticks": ""
           },
           "bgcolor": "#E5ECF6",
           "caxis": {
            "gridcolor": "white",
            "linecolor": "white",
            "ticks": ""
           }
          },
          "title": {
           "x": 0.05
          },
          "xaxis": {
           "automargin": true,
           "gridcolor": "white",
           "linecolor": "white",
           "ticks": "",
           "title": {
            "standoff": 15
           },
           "zerolinecolor": "white",
           "zerolinewidth": 2
          },
          "yaxis": {
           "automargin": true,
           "gridcolor": "white",
           "linecolor": "white",
           "ticks": "",
           "title": {
            "standoff": 15
           },
           "zerolinecolor": "white",
           "zerolinewidth": 2
          }
         }
        },
        "title": {
         "text": "Total Plays by Province"
        },
        "width": 1200,
        "xaxis": {
         "nticks": 22
        },
        "yaxis": {
         "nticks": 7
        }
       }
      }
     },
     "metadata": {},
     "output_type": "display_data"
    }
   ],
   "source": [
    "x = time_table['week_of']\n",
    "y = [x.split('_')[0] for x in time_table.columns if 'province' in x]\n",
    "z = time_table[[x for x in time_table.columns if 'province' in x]].T\n",
    "plot_time_series(x,y,z, 'Total Plays by Province')"
   ]
  },
  {
   "cell_type": "code",
   "execution_count": 34,
   "metadata": {},
   "outputs": [
    {
     "data": {
      "application/vnd.plotly.v1+json": {
       "config": {
        "plotlyServerURL": "https://plot.ly"
       },
       "data": [
        {
         "type": "heatmap",
         "x": [
          "2006-01-10",
          "2006-01-17",
          "2006-01-24",
          "2006-01-31",
          "2006-02-07",
          "2006-02-14",
          "2006-02-21",
          "2006-02-28",
          "2006-03-07",
          "2006-03-14",
          "2006-03-21",
          "2006-03-28",
          "2006-04-04",
          "2006-04-11",
          "2006-04-18",
          "2006-04-25",
          "2006-05-02",
          "2006-05-09",
          "2006-05-16",
          "2006-05-23",
          "2006-05-30",
          "2006-06-06",
          "2006-06-13",
          "2006-06-20",
          "2006-06-27",
          "2006-07-04",
          "2006-07-11",
          "2006-07-18",
          "2006-07-25",
          "2006-08-01",
          "2006-08-08",
          "2006-08-15",
          "2006-08-22",
          "2006-08-29",
          "2006-09-05",
          "2006-09-12",
          "2006-09-19",
          "2006-09-26",
          "2006-10-03",
          "2006-10-10",
          "2006-10-17",
          "2006-10-24",
          "2006-10-31",
          "2006-11-07",
          "2006-11-14",
          "2006-11-21",
          "2006-11-28",
          "2006-12-05",
          "2006-12-12",
          "2006-12-19",
          "2006-12-26",
          "2007-01-02",
          "2007-01-09",
          "2007-01-16",
          "2007-01-23",
          "2007-01-30",
          "2007-02-06",
          "2007-02-13",
          "2007-02-20",
          "2007-02-27",
          "2007-03-06",
          "2007-03-13",
          "2007-03-20",
          "2007-03-27",
          "2007-04-03",
          "2007-04-10",
          "2007-04-17",
          "2007-04-24",
          "2007-05-01",
          "2007-05-08",
          "2007-05-15",
          "2007-05-22",
          "2007-05-29",
          "2007-06-05",
          "2007-06-12",
          "2007-06-19",
          "2007-06-26",
          "2007-07-03",
          "2007-07-10",
          "2007-07-17",
          "2007-07-24",
          "2007-07-31",
          "2007-08-07",
          "2007-08-14",
          "2007-08-21",
          "2007-08-28",
          "2007-09-04",
          "2007-09-11",
          "2007-09-18",
          "2007-09-25",
          "2007-10-02",
          "2007-10-09",
          "2007-10-16",
          "2007-10-23",
          "2007-10-30",
          "2007-11-06",
          "2007-11-13",
          "2007-11-20",
          "2007-11-27",
          "2007-12-04",
          "2007-12-11",
          "2007-12-18",
          "2008-01-08",
          "2008-01-15",
          "2008-01-22",
          "2008-01-29",
          "2008-02-05",
          "2008-02-12",
          "2008-02-19",
          "2008-02-26",
          "2008-03-04",
          "2008-03-11",
          "2008-03-18",
          "2008-03-25",
          "2008-04-01",
          "2008-04-08",
          "2008-04-15",
          "2008-04-22",
          "2008-04-29",
          "2008-05-06",
          "2008-05-13",
          "2008-05-20",
          "2008-05-27",
          "2008-06-03",
          "2008-06-10",
          "2008-06-17",
          "2008-06-24",
          "2008-07-01",
          "2008-07-08",
          "2008-07-15",
          "2008-07-22",
          "2008-07-29",
          "2008-08-05",
          "2008-08-12",
          "2008-08-19",
          "2008-08-26",
          "2008-09-02",
          "2008-09-09",
          "2008-09-16",
          "2008-09-23",
          "2008-09-30",
          "2008-10-07",
          "2008-10-14",
          "2008-10-21",
          "2008-10-28",
          "2008-11-04",
          "2008-11-11",
          "2008-11-18",
          "2008-11-25",
          "2008-12-02",
          "2008-12-09",
          "2008-12-16",
          "2008-12-23",
          "2008-12-30",
          "2009-01-06",
          "2009-01-13",
          "2009-01-20",
          "2009-01-27",
          "2009-02-03",
          "2009-02-10",
          "2009-02-17",
          "2009-02-24",
          "2009-03-03",
          "2009-03-10",
          "2009-03-17",
          "2009-03-24",
          "2009-03-31",
          "2009-04-07",
          "2009-04-14",
          "2009-04-21",
          "2009-04-28",
          "2009-05-05",
          "2009-05-12",
          "2009-05-19",
          "2009-05-26",
          "2009-06-02",
          "2009-06-09",
          "2009-06-16",
          "2009-06-23",
          "2009-06-30",
          "2009-07-07",
          "2009-07-14",
          "2009-07-21",
          "2009-07-28",
          "2009-08-04",
          "2009-08-11",
          "2009-08-18",
          "2009-08-25",
          "2009-09-01",
          "2009-09-08",
          "2009-09-15",
          "2009-09-22",
          "2009-09-29",
          "2009-10-06",
          "2009-10-13",
          "2009-10-20",
          "2009-10-27",
          "2009-11-03",
          "2009-11-10",
          "2009-11-17",
          "2009-11-24",
          "2009-12-01",
          "2009-12-08",
          "2009-12-15",
          "2009-12-22",
          "2009-12-29",
          "2010-01-05",
          "2010-01-12",
          "2010-01-19",
          "2010-01-26",
          "2010-02-02",
          "2010-02-09",
          "2010-02-16",
          "2010-02-23",
          "2010-03-02",
          "2010-03-09",
          "2010-03-16",
          "2010-03-23",
          "2010-03-30",
          "2010-04-06",
          "2010-04-13",
          "2010-04-20",
          "2010-04-27",
          "2010-05-04",
          "2010-05-11",
          "2010-05-18",
          "2010-05-25",
          "2010-06-01",
          "2010-06-08",
          "2010-06-15",
          "2010-06-22",
          "2010-06-29",
          "2010-07-06",
          "2010-07-13",
          "2010-07-20",
          "2010-07-27",
          "2010-08-03",
          "2010-08-10",
          "2010-08-17",
          "2010-08-24",
          "2010-08-31",
          "2010-09-07",
          "2010-09-14",
          "2010-09-21",
          "2010-09-28",
          "2010-10-05",
          "2010-10-12",
          "2010-10-19",
          "2010-10-26",
          "2010-11-02",
          "2010-11-09",
          "2010-11-16",
          "2010-11-23",
          "2010-11-30",
          "2010-12-07",
          "2010-12-14",
          "2010-12-21",
          "2010-12-28",
          "2011-01-04",
          "2011-01-11",
          "2011-01-18",
          "2011-01-25",
          "2011-02-01",
          "2011-02-08",
          "2011-02-15",
          "2011-02-22",
          "2011-03-01"
         ],
         "y": [
          "Bipoc Plays ",
          "Canadian Content Plays "
         ],
         "z": [
          [
           92,
           86,
           82,
           91,
           49,
           91,
           88,
           95,
           96,
           101,
           103,
           115,
           105,
           133,
           105,
           137,
           114,
           98,
           128,
           114,
           104,
           105,
           114,
           116,
           110,
           66,
           102,
           113,
           122,
           88,
           89,
           103,
           96,
           101,
           83,
           117,
           115,
           116,
           102,
           101,
           118,
           121,
           86,
           99,
           93,
           134,
           95,
           104,
           99,
           73,
           7,
           24,
           102,
           111,
           103,
           128,
           111,
           122,
           116,
           128,
           103,
           132,
           103,
           75,
           118,
           107,
           111,
           122,
           99,
           100,
           94,
           110,
           100,
           123,
           49,
           101,
           109,
           99,
           103,
           110,
           110,
           108,
           106,
           123,
           106,
           106,
           91,
           107,
           108,
           99,
           107,
           90,
           83,
           59,
           95,
           109,
           92,
           87,
           93,
           86,
           64,
           54,
           68,
           90,
           96,
           93,
           91,
           87,
           109,
           126,
           109,
           109,
           92,
           80,
           115,
           117,
           124,
           121,
           116,
           117,
           117,
           95,
           72,
           92,
           90,
           93,
           64,
           82,
           82,
           112,
           73,
           83,
           81,
           91,
           96,
           97,
           71,
           106,
           100,
           96,
           78,
           81,
           64,
           73,
           66,
           93,
           87,
           100,
           79,
           114,
           97,
           28,
           18,
           8,
           35,
           60,
           89,
           85,
           74,
           99,
           87,
           113,
           121,
           50,
           79,
           68,
           99,
           117,
           105,
           96,
           114,
           118,
           117,
           98,
           101,
           94,
           67,
           89,
           77,
           66,
           88,
           91,
           98,
           101,
           89,
           84,
           97,
           73,
           90,
           88,
           98,
           102,
           98,
           90,
           94,
           78,
           83,
           74,
           87,
           91,
           102,
           90,
           105,
           72,
           26,
           10,
           35,
           71,
           81,
           71,
           66,
           69,
           97,
           90,
           91,
           80,
           66,
           63,
           75,
           56,
           84,
           84,
           96,
           87,
           92,
           96,
           94,
           86,
           103,
           86,
           98,
           88,
           82,
           67,
           51,
           62,
           70,
           66,
           63,
           59,
           72,
           51,
           67,
           53,
           65,
           77,
           72,
           69,
           67,
           76,
           89,
           95,
           104,
           78,
           98,
           81,
           56,
           9,
           39,
           90,
           103,
           92,
           103,
           80,
           73,
           59,
           56
          ],
          [
           32,
           43,
           56,
           55,
           26,
           52,
           37,
           55,
           39,
           43,
           33,
           36,
           33,
           41,
           28,
           38,
           27,
           30,
           31,
           36,
           27,
           32,
           38,
           39,
           32,
           25,
           37,
           41,
           52,
           42,
           44,
           53,
           44,
           47,
           33,
           46,
           44,
           53,
           45,
           53,
           65,
           62,
           54,
           53,
           52,
           67,
           37,
           56,
           54,
           49,
           5,
           18,
           65,
           56,
           57,
           72,
           58,
           82,
           69,
           63,
           64,
           72,
           57,
           38,
           65,
           67,
           70,
           86,
           50,
           53,
           50,
           67,
           56,
           71,
           34,
           59,
           65,
           65,
           60,
           59,
           57,
           75,
           53,
           68,
           70,
           51,
           45,
           60,
           46,
           53,
           54,
           41,
           40,
           30,
           37,
           70,
           58,
           67,
           59,
           73,
           49,
           48,
           38,
           58,
           64,
           65,
           60,
           56,
           68,
           75,
           56,
           66,
           56,
           49,
           64,
           66,
           70,
           78,
           80,
           72,
           74,
           62,
           46,
           54,
           56,
           59,
           37,
           38,
           44,
           66,
           50,
           56,
           53,
           58,
           57,
           63,
           32,
           57,
           50,
           45,
           35,
           38,
           31,
           29,
           37,
           43,
           49,
           49,
           37,
           55,
           37,
           15,
           7,
           1,
           14,
           27,
           54,
           53,
           40,
           55,
           57,
           59,
           57,
           27,
           37,
           42,
           63,
           55,
           49,
           52,
           67,
           53,
           64,
           58,
           66,
           60,
           56,
           62,
           61,
           54,
           66,
           51,
           58,
           58,
           68,
           58,
           67,
           57,
           54,
           58,
           67,
           63,
           57,
           52,
           49,
           34,
           46,
           35,
           43,
           34,
           45,
           42,
           61,
           50,
           13,
           1,
           18,
           47,
           65,
           59,
           57,
           58,
           67,
           60,
           66,
           61,
           61,
           50,
           70,
           56,
           60,
           63,
           71,
           66,
           62,
           69,
           65,
           62,
           72,
           66,
           75,
           84,
           83,
           71,
           55,
           66,
           92,
           83,
           73,
           68,
           82,
           59,
           72,
           59,
           65,
           60,
           61,
           56,
           51,
           56,
           55,
           63,
           69,
           48,
           59,
           49,
           23,
           2,
           24,
           64,
           72,
           67,
           80,
           63,
           74,
           52,
           57
          ]
         ]
        }
       ],
       "layout": {
        "font": {
         "size": 16
        },
        "height": 600,
        "template": {
         "data": {
          "bar": [
           {
            "error_x": {
             "color": "#2a3f5f"
            },
            "error_y": {
             "color": "#2a3f5f"
            },
            "marker": {
             "line": {
              "color": "#E5ECF6",
              "width": 0.5
             },
             "pattern": {
              "fillmode": "overlay",
              "size": 10,
              "solidity": 0.2
             }
            },
            "type": "bar"
           }
          ],
          "barpolar": [
           {
            "marker": {
             "line": {
              "color": "#E5ECF6",
              "width": 0.5
             },
             "pattern": {
              "fillmode": "overlay",
              "size": 10,
              "solidity": 0.2
             }
            },
            "type": "barpolar"
           }
          ],
          "carpet": [
           {
            "aaxis": {
             "endlinecolor": "#2a3f5f",
             "gridcolor": "white",
             "linecolor": "white",
             "minorgridcolor": "white",
             "startlinecolor": "#2a3f5f"
            },
            "baxis": {
             "endlinecolor": "#2a3f5f",
             "gridcolor": "white",
             "linecolor": "white",
             "minorgridcolor": "white",
             "startlinecolor": "#2a3f5f"
            },
            "type": "carpet"
           }
          ],
          "choropleth": [
           {
            "colorbar": {
             "outlinewidth": 0,
             "ticks": ""
            },
            "type": "choropleth"
           }
          ],
          "contour": [
           {
            "colorbar": {
             "outlinewidth": 0,
             "ticks": ""
            },
            "colorscale": [
             [
              0,
              "#0d0887"
             ],
             [
              0.1111111111111111,
              "#46039f"
             ],
             [
              0.2222222222222222,
              "#7201a8"
             ],
             [
              0.3333333333333333,
              "#9c179e"
             ],
             [
              0.4444444444444444,
              "#bd3786"
             ],
             [
              0.5555555555555556,
              "#d8576b"
             ],
             [
              0.6666666666666666,
              "#ed7953"
             ],
             [
              0.7777777777777778,
              "#fb9f3a"
             ],
             [
              0.8888888888888888,
              "#fdca26"
             ],
             [
              1,
              "#f0f921"
             ]
            ],
            "type": "contour"
           }
          ],
          "contourcarpet": [
           {
            "colorbar": {
             "outlinewidth": 0,
             "ticks": ""
            },
            "type": "contourcarpet"
           }
          ],
          "heatmap": [
           {
            "colorbar": {
             "outlinewidth": 0,
             "ticks": ""
            },
            "colorscale": [
             [
              0,
              "#0d0887"
             ],
             [
              0.1111111111111111,
              "#46039f"
             ],
             [
              0.2222222222222222,
              "#7201a8"
             ],
             [
              0.3333333333333333,
              "#9c179e"
             ],
             [
              0.4444444444444444,
              "#bd3786"
             ],
             [
              0.5555555555555556,
              "#d8576b"
             ],
             [
              0.6666666666666666,
              "#ed7953"
             ],
             [
              0.7777777777777778,
              "#fb9f3a"
             ],
             [
              0.8888888888888888,
              "#fdca26"
             ],
             [
              1,
              "#f0f921"
             ]
            ],
            "type": "heatmap"
           }
          ],
          "heatmapgl": [
           {
            "colorbar": {
             "outlinewidth": 0,
             "ticks": ""
            },
            "colorscale": [
             [
              0,
              "#0d0887"
             ],
             [
              0.1111111111111111,
              "#46039f"
             ],
             [
              0.2222222222222222,
              "#7201a8"
             ],
             [
              0.3333333333333333,
              "#9c179e"
             ],
             [
              0.4444444444444444,
              "#bd3786"
             ],
             [
              0.5555555555555556,
              "#d8576b"
             ],
             [
              0.6666666666666666,
              "#ed7953"
             ],
             [
              0.7777777777777778,
              "#fb9f3a"
             ],
             [
              0.8888888888888888,
              "#fdca26"
             ],
             [
              1,
              "#f0f921"
             ]
            ],
            "type": "heatmapgl"
           }
          ],
          "histogram": [
           {
            "marker": {
             "pattern": {
              "fillmode": "overlay",
              "size": 10,
              "solidity": 0.2
             }
            },
            "type": "histogram"
           }
          ],
          "histogram2d": [
           {
            "colorbar": {
             "outlinewidth": 0,
             "ticks": ""
            },
            "colorscale": [
             [
              0,
              "#0d0887"
             ],
             [
              0.1111111111111111,
              "#46039f"
             ],
             [
              0.2222222222222222,
              "#7201a8"
             ],
             [
              0.3333333333333333,
              "#9c179e"
             ],
             [
              0.4444444444444444,
              "#bd3786"
             ],
             [
              0.5555555555555556,
              "#d8576b"
             ],
             [
              0.6666666666666666,
              "#ed7953"
             ],
             [
              0.7777777777777778,
              "#fb9f3a"
             ],
             [
              0.8888888888888888,
              "#fdca26"
             ],
             [
              1,
              "#f0f921"
             ]
            ],
            "type": "histogram2d"
           }
          ],
          "histogram2dcontour": [
           {
            "colorbar": {
             "outlinewidth": 0,
             "ticks": ""
            },
            "colorscale": [
             [
              0,
              "#0d0887"
             ],
             [
              0.1111111111111111,
              "#46039f"
             ],
             [
              0.2222222222222222,
              "#7201a8"
             ],
             [
              0.3333333333333333,
              "#9c179e"
             ],
             [
              0.4444444444444444,
              "#bd3786"
             ],
             [
              0.5555555555555556,
              "#d8576b"
             ],
             [
              0.6666666666666666,
              "#ed7953"
             ],
             [
              0.7777777777777778,
              "#fb9f3a"
             ],
             [
              0.8888888888888888,
              "#fdca26"
             ],
             [
              1,
              "#f0f921"
             ]
            ],
            "type": "histogram2dcontour"
           }
          ],
          "mesh3d": [
           {
            "colorbar": {
             "outlinewidth": 0,
             "ticks": ""
            },
            "type": "mesh3d"
           }
          ],
          "parcoords": [
           {
            "line": {
             "colorbar": {
              "outlinewidth": 0,
              "ticks": ""
             }
            },
            "type": "parcoords"
           }
          ],
          "pie": [
           {
            "automargin": true,
            "type": "pie"
           }
          ],
          "scatter": [
           {
            "marker": {
             "colorbar": {
              "outlinewidth": 0,
              "ticks": ""
             }
            },
            "type": "scatter"
           }
          ],
          "scatter3d": [
           {
            "line": {
             "colorbar": {
              "outlinewidth": 0,
              "ticks": ""
             }
            },
            "marker": {
             "colorbar": {
              "outlinewidth": 0,
              "ticks": ""
             }
            },
            "type": "scatter3d"
           }
          ],
          "scattercarpet": [
           {
            "marker": {
             "colorbar": {
              "outlinewidth": 0,
              "ticks": ""
             }
            },
            "type": "scattercarpet"
           }
          ],
          "scattergeo": [
           {
            "marker": {
             "colorbar": {
              "outlinewidth": 0,
              "ticks": ""
             }
            },
            "type": "scattergeo"
           }
          ],
          "scattergl": [
           {
            "marker": {
             "colorbar": {
              "outlinewidth": 0,
              "ticks": ""
             }
            },
            "type": "scattergl"
           }
          ],
          "scattermapbox": [
           {
            "marker": {
             "colorbar": {
              "outlinewidth": 0,
              "ticks": ""
             }
            },
            "type": "scattermapbox"
           }
          ],
          "scatterpolar": [
           {
            "marker": {
             "colorbar": {
              "outlinewidth": 0,
              "ticks": ""
             }
            },
            "type": "scatterpolar"
           }
          ],
          "scatterpolargl": [
           {
            "marker": {
             "colorbar": {
              "outlinewidth": 0,
              "ticks": ""
             }
            },
            "type": "scatterpolargl"
           }
          ],
          "scatterternary": [
           {
            "marker": {
             "colorbar": {
              "outlinewidth": 0,
              "ticks": ""
             }
            },
            "type": "scatterternary"
           }
          ],
          "surface": [
           {
            "colorbar": {
             "outlinewidth": 0,
             "ticks": ""
            },
            "colorscale": [
             [
              0,
              "#0d0887"
             ],
             [
              0.1111111111111111,
              "#46039f"
             ],
             [
              0.2222222222222222,
              "#7201a8"
             ],
             [
              0.3333333333333333,
              "#9c179e"
             ],
             [
              0.4444444444444444,
              "#bd3786"
             ],
             [
              0.5555555555555556,
              "#d8576b"
             ],
             [
              0.6666666666666666,
              "#ed7953"
             ],
             [
              0.7777777777777778,
              "#fb9f3a"
             ],
             [
              0.8888888888888888,
              "#fdca26"
             ],
             [
              1,
              "#f0f921"
             ]
            ],
            "type": "surface"
           }
          ],
          "table": [
           {
            "cells": {
             "fill": {
              "color": "#EBF0F8"
             },
             "line": {
              "color": "white"
             }
            },
            "header": {
             "fill": {
              "color": "#C8D4E3"
             },
             "line": {
              "color": "white"
             }
            },
            "type": "table"
           }
          ]
         },
         "layout": {
          "annotationdefaults": {
           "arrowcolor": "#2a3f5f",
           "arrowhead": 0,
           "arrowwidth": 1
          },
          "autotypenumbers": "strict",
          "coloraxis": {
           "colorbar": {
            "outlinewidth": 0,
            "ticks": ""
           }
          },
          "colorscale": {
           "diverging": [
            [
             0,
             "#8e0152"
            ],
            [
             0.1,
             "#c51b7d"
            ],
            [
             0.2,
             "#de77ae"
            ],
            [
             0.3,
             "#f1b6da"
            ],
            [
             0.4,
             "#fde0ef"
            ],
            [
             0.5,
             "#f7f7f7"
            ],
            [
             0.6,
             "#e6f5d0"
            ],
            [
             0.7,
             "#b8e186"
            ],
            [
             0.8,
             "#7fbc41"
            ],
            [
             0.9,
             "#4d9221"
            ],
            [
             1,
             "#276419"
            ]
           ],
           "sequential": [
            [
             0,
             "#0d0887"
            ],
            [
             0.1111111111111111,
             "#46039f"
            ],
            [
             0.2222222222222222,
             "#7201a8"
            ],
            [
             0.3333333333333333,
             "#9c179e"
            ],
            [
             0.4444444444444444,
             "#bd3786"
            ],
            [
             0.5555555555555556,
             "#d8576b"
            ],
            [
             0.6666666666666666,
             "#ed7953"
            ],
            [
             0.7777777777777778,
             "#fb9f3a"
            ],
            [
             0.8888888888888888,
             "#fdca26"
            ],
            [
             1,
             "#f0f921"
            ]
           ],
           "sequentialminus": [
            [
             0,
             "#0d0887"
            ],
            [
             0.1111111111111111,
             "#46039f"
            ],
            [
             0.2222222222222222,
             "#7201a8"
            ],
            [
             0.3333333333333333,
             "#9c179e"
            ],
            [
             0.4444444444444444,
             "#bd3786"
            ],
            [
             0.5555555555555556,
             "#d8576b"
            ],
            [
             0.6666666666666666,
             "#ed7953"
            ],
            [
             0.7777777777777778,
             "#fb9f3a"
            ],
            [
             0.8888888888888888,
             "#fdca26"
            ],
            [
             1,
             "#f0f921"
            ]
           ]
          },
          "colorway": [
           "#636efa",
           "#EF553B",
           "#00cc96",
           "#ab63fa",
           "#FFA15A",
           "#19d3f3",
           "#FF6692",
           "#B6E880",
           "#FF97FF",
           "#FECB52"
          ],
          "font": {
           "color": "#2a3f5f"
          },
          "geo": {
           "bgcolor": "white",
           "lakecolor": "white",
           "landcolor": "#E5ECF6",
           "showlakes": true,
           "showland": true,
           "subunitcolor": "white"
          },
          "hoverlabel": {
           "align": "left"
          },
          "hovermode": "closest",
          "mapbox": {
           "style": "light"
          },
          "paper_bgcolor": "white",
          "plot_bgcolor": "#E5ECF6",
          "polar": {
           "angularaxis": {
            "gridcolor": "white",
            "linecolor": "white",
            "ticks": ""
           },
           "bgcolor": "#E5ECF6",
           "radialaxis": {
            "gridcolor": "white",
            "linecolor": "white",
            "ticks": ""
           }
          },
          "scene": {
           "xaxis": {
            "backgroundcolor": "#E5ECF6",
            "gridcolor": "white",
            "gridwidth": 2,
            "linecolor": "white",
            "showbackground": true,
            "ticks": "",
            "zerolinecolor": "white"
           },
           "yaxis": {
            "backgroundcolor": "#E5ECF6",
            "gridcolor": "white",
            "gridwidth": 2,
            "linecolor": "white",
            "showbackground": true,
            "ticks": "",
            "zerolinecolor": "white"
           },
           "zaxis": {
            "backgroundcolor": "#E5ECF6",
            "gridcolor": "white",
            "gridwidth": 2,
            "linecolor": "white",
            "showbackground": true,
            "ticks": "",
            "zerolinecolor": "white"
           }
          },
          "shapedefaults": {
           "line": {
            "color": "#2a3f5f"
           }
          },
          "ternary": {
           "aaxis": {
            "gridcolor": "white",
            "linecolor": "white",
            "ticks": ""
           },
           "baxis": {
            "gridcolor": "white",
            "linecolor": "white",
            "ticks": ""
           },
           "bgcolor": "#E5ECF6",
           "caxis": {
            "gridcolor": "white",
            "linecolor": "white",
            "ticks": ""
           }
          },
          "title": {
           "x": 0.05
          },
          "xaxis": {
           "automargin": true,
           "gridcolor": "white",
           "linecolor": "white",
           "ticks": "",
           "title": {
            "standoff": 15
           },
           "zerolinecolor": "white",
           "zerolinewidth": 2
          },
          "yaxis": {
           "automargin": true,
           "gridcolor": "white",
           "linecolor": "white",
           "ticks": "",
           "title": {
            "standoff": 15
           },
           "zerolinecolor": "white",
           "zerolinewidth": 2
          }
         }
        },
        "title": {
         "text": "BIPOC and Canadian Content Plays"
        },
        "width": 1200,
        "xaxis": {
         "nticks": 22
        },
        "yaxis": {
         "nticks": 2
        }
       }
      }
     },
     "metadata": {},
     "output_type": "display_data"
    }
   ],
   "source": [
    "x = time_table['week_of']\n",
    "y = ['bipoc_plays','canadian_content_plays']\n",
    "z = time_table[y].T\n",
    "plot_time_series(x,y,z, title='BIPOC and Canadian Content Plays')"
   ]
  },
  {
   "cell_type": "code",
   "execution_count": 50,
   "metadata": {},
   "outputs": [
    {
     "data": {
      "application/vnd.plotly.v1+json": {
       "config": {
        "plotlyServerURL": "https://plot.ly"
       },
       "data": [
        {
         "type": "heatmap",
         "x": [
          "2006-01-10",
          "2006-01-17",
          "2006-01-24",
          "2006-01-31",
          "2006-02-07",
          "2006-02-14",
          "2006-02-21",
          "2006-02-28",
          "2006-03-07",
          "2006-03-14",
          "2006-03-21",
          "2006-03-28",
          "2006-04-04",
          "2006-04-11",
          "2006-04-18",
          "2006-04-25",
          "2006-05-02",
          "2006-05-09",
          "2006-05-16",
          "2006-05-23",
          "2006-05-30",
          "2006-06-06",
          "2006-06-13",
          "2006-06-20",
          "2006-06-27",
          "2006-07-04",
          "2006-07-11",
          "2006-07-18",
          "2006-07-25",
          "2006-08-01",
          "2006-08-08",
          "2006-08-15",
          "2006-08-22",
          "2006-08-29",
          "2006-09-05",
          "2006-09-12",
          "2006-09-19",
          "2006-09-26",
          "2006-10-03",
          "2006-10-10",
          "2006-10-17",
          "2006-10-24",
          "2006-10-31",
          "2006-11-07",
          "2006-11-14",
          "2006-11-21",
          "2006-11-28",
          "2006-12-05",
          "2006-12-12",
          "2006-12-19",
          "2006-12-26",
          "2007-01-02",
          "2007-01-09",
          "2007-01-16",
          "2007-01-23",
          "2007-01-30",
          "2007-02-06",
          "2007-02-13",
          "2007-02-20",
          "2007-02-27",
          "2007-03-06",
          "2007-03-13",
          "2007-03-20",
          "2007-03-27",
          "2007-04-03",
          "2007-04-10",
          "2007-04-17",
          "2007-04-24",
          "2007-05-01",
          "2007-05-08",
          "2007-05-15",
          "2007-05-22",
          "2007-05-29",
          "2007-06-05",
          "2007-06-12",
          "2007-06-19",
          "2007-06-26",
          "2007-07-03",
          "2007-07-10",
          "2007-07-17",
          "2007-07-24",
          "2007-07-31",
          "2007-08-07",
          "2007-08-14",
          "2007-08-21",
          "2007-08-28",
          "2007-09-04",
          "2007-09-11",
          "2007-09-18",
          "2007-09-25",
          "2007-10-02",
          "2007-10-09",
          "2007-10-16",
          "2007-10-23",
          "2007-10-30",
          "2007-11-06",
          "2007-11-13",
          "2007-11-20",
          "2007-11-27",
          "2007-12-04",
          "2007-12-11",
          "2007-12-18",
          "2008-01-08",
          "2008-01-15",
          "2008-01-22",
          "2008-01-29",
          "2008-02-05",
          "2008-02-12",
          "2008-02-19",
          "2008-02-26",
          "2008-03-04",
          "2008-03-11",
          "2008-03-18",
          "2008-03-25",
          "2008-04-01",
          "2008-04-08",
          "2008-04-15",
          "2008-04-22",
          "2008-04-29",
          "2008-05-06",
          "2008-05-13",
          "2008-05-20",
          "2008-05-27",
          "2008-06-03",
          "2008-06-10",
          "2008-06-17",
          "2008-06-24",
          "2008-07-01",
          "2008-07-08",
          "2008-07-15",
          "2008-07-22",
          "2008-07-29",
          "2008-08-05",
          "2008-08-12",
          "2008-08-19",
          "2008-08-26",
          "2008-09-02",
          "2008-09-09",
          "2008-09-16",
          "2008-09-23",
          "2008-09-30",
          "2008-10-07",
          "2008-10-14",
          "2008-10-21",
          "2008-10-28",
          "2008-11-04",
          "2008-11-11",
          "2008-11-18",
          "2008-11-25",
          "2008-12-02",
          "2008-12-09",
          "2008-12-16",
          "2008-12-23",
          "2008-12-30",
          "2009-01-06",
          "2009-01-13",
          "2009-01-20",
          "2009-01-27",
          "2009-02-03",
          "2009-02-10",
          "2009-02-17",
          "2009-02-24",
          "2009-03-03",
          "2009-03-10",
          "2009-03-17",
          "2009-03-24",
          "2009-03-31",
          "2009-04-07",
          "2009-04-14",
          "2009-04-21",
          "2009-04-28",
          "2009-05-05",
          "2009-05-12",
          "2009-05-19",
          "2009-05-26",
          "2009-06-02",
          "2009-06-09",
          "2009-06-16",
          "2009-06-23",
          "2009-06-30",
          "2009-07-07",
          "2009-07-14",
          "2009-07-21",
          "2009-07-28",
          "2009-08-04",
          "2009-08-11",
          "2009-08-18",
          "2009-08-25",
          "2009-09-01",
          "2009-09-08",
          "2009-09-15",
          "2009-09-22",
          "2009-09-29",
          "2009-10-06",
          "2009-10-13",
          "2009-10-20",
          "2009-10-27",
          "2009-11-03",
          "2009-11-10",
          "2009-11-17",
          "2009-11-24",
          "2009-12-01",
          "2009-12-08",
          "2009-12-15",
          "2009-12-22",
          "2009-12-29",
          "2010-01-05",
          "2010-01-12",
          "2010-01-19",
          "2010-01-26",
          "2010-02-02",
          "2010-02-09",
          "2010-02-16",
          "2010-02-23",
          "2010-03-02",
          "2010-03-09",
          "2010-03-16",
          "2010-03-23",
          "2010-03-30",
          "2010-04-06",
          "2010-04-13",
          "2010-04-20",
          "2010-04-27",
          "2010-05-04",
          "2010-05-11",
          "2010-05-18",
          "2010-05-25",
          "2010-06-01",
          "2010-06-08",
          "2010-06-15",
          "2010-06-22",
          "2010-06-29",
          "2010-07-06",
          "2010-07-13",
          "2010-07-20",
          "2010-07-27",
          "2010-08-03",
          "2010-08-10",
          "2010-08-17",
          "2010-08-24",
          "2010-08-31",
          "2010-09-07",
          "2010-09-14",
          "2010-09-21",
          "2010-09-28",
          "2010-10-05",
          "2010-10-12",
          "2010-10-19",
          "2010-10-26",
          "2010-11-02",
          "2010-11-09",
          "2010-11-16",
          "2010-11-23",
          "2010-11-30",
          "2010-12-07",
          "2010-12-14",
          "2010-12-21",
          "2010-12-28",
          "2011-01-04",
          "2011-01-11",
          "2011-01-18",
          "2011-01-25",
          "2011-02-01",
          "2011-02-08",
          "2011-02-15",
          "2011-02-22",
          "2011-03-01"
         ],
         "y": [
          "10 ",
          "9 ",
          "8 ",
          "7 ",
          "6 ",
          "5 ",
          "4 ",
          "3 ",
          "2 ",
          "1 "
         ],
         "z": [
          [
           13,
           13,
           13,
           15,
           8,
           14,
           12,
           15,
           13,
           14,
           14,
           15,
           14,
           17,
           14,
           18,
           15,
           14,
           17,
           16,
           14,
           15,
           16,
           16,
           14,
           9,
           13,
           15,
           16,
           13,
           13,
           15,
           14,
           15,
           12,
           16,
           16,
           17,
           15,
           16,
           18,
           18,
           13,
           14,
           13,
           18,
           13,
           15,
           15,
           11,
           1,
           4,
           15,
           16,
           15,
           18,
           15,
           19,
           17,
           18,
           15,
           18,
           15,
           10,
           17,
           16,
           16,
           18,
           14,
           15,
           13,
           16,
           15,
           17,
           7,
           14,
           16,
           15,
           15,
           16,
           14,
           16,
           14,
           17,
           16,
           16,
           14,
           17,
           16,
           16,
           16,
           14,
           12,
           9,
           14,
           18,
           15,
           15,
           15,
           15,
           10,
           9,
           10,
           14,
           15,
           15,
           14,
           13,
           16,
           17,
           14,
           15,
           13,
           12,
           16,
           15,
           16,
           17,
           16,
           17,
           17,
           15,
           12,
           15,
           15,
           16,
           11,
           12,
           13,
           18,
           13,
           14,
           13,
           14,
           14,
           15,
           10,
           15,
           14,
           13,
           11,
           11,
           10,
           10,
           10,
           13,
           13,
           14,
           11,
           16,
           13,
           4,
           2,
           1,
           4,
           8,
           13,
           12,
           10,
           13,
           12,
           15,
           16,
           7,
           11,
           9,
           15,
           16,
           15,
           14,
           16,
           16,
           16,
           14,
           16,
           16,
           11,
           15,
           14,
           12,
           15,
           14,
           15,
           15,
           15,
           13,
           16,
           13,
           14,
           14,
           15,
           15,
           15,
           13,
           13,
           11,
           13,
           11,
           12,
           12,
           14,
           12,
           15,
           11,
           3,
           1,
           5,
           11,
           13,
           12,
           12,
           13,
           15,
           14,
           15,
           14,
           12,
           11,
           14,
           11,
           14,
           14,
           15,
           14,
           13,
           14,
           14,
           13,
           15,
           13,
           16,
           16,
           15,
           13,
           11,
           13,
           15,
           15,
           14,
           13,
           15,
           11,
           13,
           11,
           13,
           14,
           13,
           12,
           11,
           12,
           13,
           14,
           14,
           11,
           13,
           11,
           7,
           1,
           5,
           12,
           13,
           12,
           14,
           11,
           12,
           10,
           10
          ],
          [
           13,
           13,
           13,
           15,
           8,
           14,
           12,
           15,
           13,
           14,
           14,
           15,
           14,
           17,
           14,
           18,
           15,
           14,
           17,
           16,
           14,
           15,
           16,
           16,
           14,
           9,
           13,
           15,
           16,
           13,
           13,
           15,
           14,
           15,
           12,
           16,
           16,
           17,
           15,
           16,
           18,
           18,
           13,
           14,
           13,
           18,
           13,
           15,
           15,
           11,
           1,
           4,
           15,
           16,
           15,
           18,
           15,
           19,
           17,
           18,
           15,
           18,
           15,
           10,
           17,
           16,
           16,
           18,
           14,
           15,
           13,
           16,
           15,
           17,
           7,
           14,
           16,
           15,
           15,
           16,
           15,
           16,
           14,
           17,
           16,
           16,
           14,
           17,
           16,
           16,
           16,
           14,
           12,
           9,
           14,
           18,
           15,
           15,
           15,
           15,
           10,
           9,
           10,
           14,
           15,
           15,
           14,
           13,
           16,
           17,
           14,
           15,
           13,
           12,
           16,
           15,
           16,
           17,
           16,
           17,
           17,
           15,
           12,
           15,
           15,
           16,
           11,
           12,
           13,
           18,
           13,
           14,
           13,
           14,
           14,
           15,
           10,
           15,
           14,
           13,
           11,
           11,
           10,
           10,
           10,
           13,
           13,
           14,
           11,
           16,
           13,
           4,
           2,
           1,
           4,
           8,
           13,
           12,
           10,
           13,
           12,
           15,
           16,
           7,
           11,
           9,
           15,
           16,
           15,
           14,
           16,
           16,
           16,
           14,
           16,
           16,
           11,
           15,
           14,
           12,
           15,
           14,
           15,
           15,
           15,
           13,
           16,
           13,
           14,
           14,
           15,
           15,
           15,
           13,
           13,
           11,
           13,
           11,
           12,
           12,
           14,
           12,
           15,
           11,
           3,
           1,
           5,
           11,
           13,
           12,
           12,
           13,
           15,
           14,
           15,
           14,
           12,
           11,
           14,
           11,
           14,
           14,
           15,
           14,
           13,
           14,
           14,
           13,
           15,
           13,
           16,
           16,
           15,
           13,
           11,
           13,
           15,
           15,
           14,
           13,
           15,
           11,
           13,
           11,
           13,
           14,
           13,
           12,
           11,
           12,
           13,
           14,
           14,
           11,
           13,
           11,
           7,
           1,
           5,
           12,
           13,
           12,
           14,
           11,
           12,
           10,
           10
          ],
          [
           13,
           13,
           13,
           15,
           8,
           14,
           12,
           15,
           13,
           14,
           14,
           15,
           14,
           17,
           14,
           18,
           15,
           14,
           17,
           16,
           14,
           15,
           16,
           16,
           14,
           9,
           13,
           15,
           16,
           13,
           13,
           15,
           14,
           15,
           12,
           16,
           16,
           17,
           15,
           16,
           18,
           18,
           13,
           14,
           13,
           18,
           13,
           15,
           15,
           11,
           1,
           4,
           15,
           16,
           15,
           18,
           15,
           19,
           17,
           18,
           15,
           18,
           15,
           10,
           17,
           16,
           16,
           18,
           14,
           15,
           13,
           16,
           15,
           17,
           7,
           14,
           16,
           15,
           15,
           16,
           15,
           16,
           14,
           17,
           16,
           16,
           14,
           17,
           16,
           16,
           16,
           14,
           12,
           9,
           14,
           18,
           15,
           15,
           15,
           15,
           10,
           9,
           10,
           14,
           15,
           15,
           14,
           13,
           16,
           17,
           14,
           15,
           13,
           12,
           16,
           15,
           16,
           17,
           16,
           17,
           17,
           15,
           12,
           15,
           15,
           16,
           11,
           12,
           13,
           18,
           13,
           14,
           13,
           14,
           14,
           15,
           10,
           15,
           14,
           13,
           11,
           11,
           10,
           10,
           10,
           13,
           13,
           14,
           11,
           16,
           13,
           4,
           2,
           1,
           4,
           8,
           13,
           12,
           10,
           13,
           12,
           15,
           16,
           7,
           11,
           9,
           15,
           16,
           15,
           14,
           16,
           16,
           16,
           14,
           16,
           16,
           11,
           15,
           14,
           12,
           15,
           14,
           15,
           15,
           15,
           13,
           16,
           13,
           14,
           14,
           15,
           15,
           15,
           13,
           13,
           11,
           13,
           11,
           12,
           12,
           14,
           12,
           15,
           11,
           3,
           1,
           5,
           11,
           13,
           12,
           12,
           13,
           15,
           14,
           15,
           14,
           12,
           11,
           14,
           11,
           14,
           14,
           15,
           14,
           13,
           14,
           14,
           13,
           15,
           13,
           16,
           16,
           15,
           13,
           11,
           13,
           15,
           15,
           14,
           13,
           15,
           11,
           13,
           11,
           13,
           14,
           13,
           12,
           11,
           12,
           13,
           14,
           14,
           11,
           13,
           11,
           7,
           1,
           5,
           12,
           13,
           12,
           14,
           11,
           12,
           10,
           10
          ],
          [
           13,
           13,
           13,
           15,
           8,
           14,
           12,
           15,
           13,
           14,
           14,
           15,
           14,
           17,
           14,
           18,
           15,
           14,
           17,
           16,
           14,
           15,
           16,
           16,
           14,
           9,
           13,
           15,
           16,
           13,
           13,
           15,
           14,
           15,
           12,
           16,
           16,
           17,
           15,
           16,
           18,
           18,
           13,
           14,
           13,
           18,
           13,
           15,
           15,
           11,
           1,
           4,
           15,
           16,
           15,
           18,
           15,
           19,
           17,
           18,
           15,
           18,
           15,
           10,
           17,
           16,
           16,
           18,
           14,
           15,
           13,
           16,
           15,
           17,
           7,
           14,
           16,
           15,
           15,
           16,
           15,
           16,
           14,
           17,
           16,
           16,
           14,
           17,
           16,
           16,
           16,
           14,
           12,
           9,
           14,
           18,
           15,
           15,
           15,
           15,
           10,
           9,
           10,
           14,
           15,
           15,
           14,
           13,
           16,
           17,
           14,
           15,
           13,
           12,
           16,
           15,
           16,
           17,
           16,
           17,
           17,
           15,
           12,
           15,
           15,
           16,
           11,
           12,
           13,
           18,
           13,
           14,
           13,
           14,
           14,
           15,
           10,
           15,
           14,
           13,
           11,
           11,
           10,
           10,
           10,
           13,
           13,
           14,
           11,
           16,
           13,
           4,
           2,
           1,
           4,
           8,
           13,
           12,
           10,
           13,
           12,
           15,
           16,
           7,
           11,
           9,
           15,
           16,
           15,
           14,
           16,
           16,
           16,
           14,
           16,
           16,
           11,
           15,
           14,
           12,
           15,
           14,
           15,
           15,
           15,
           13,
           16,
           13,
           14,
           14,
           15,
           15,
           15,
           13,
           13,
           11,
           13,
           11,
           12,
           12,
           14,
           12,
           15,
           11,
           3,
           1,
           5,
           11,
           13,
           12,
           12,
           13,
           15,
           14,
           15,
           14,
           12,
           11,
           14,
           11,
           14,
           14,
           15,
           14,
           13,
           14,
           14,
           13,
           15,
           13,
           16,
           16,
           15,
           13,
           11,
           13,
           15,
           15,
           14,
           13,
           15,
           11,
           13,
           11,
           13,
           14,
           13,
           12,
           11,
           12,
           13,
           14,
           14,
           11,
           13,
           11,
           7,
           1,
           5,
           12,
           13,
           12,
           14,
           11,
           12,
           10,
           10
          ],
          [
           13,
           13,
           13,
           15,
           8,
           14,
           12,
           15,
           13,
           14,
           14,
           15,
           14,
           17,
           14,
           18,
           15,
           14,
           17,
           16,
           14,
           15,
           16,
           16,
           14,
           9,
           13,
           15,
           16,
           13,
           13,
           15,
           14,
           15,
           12,
           16,
           16,
           17,
           15,
           16,
           18,
           18,
           13,
           14,
           13,
           18,
           13,
           15,
           15,
           11,
           1,
           4,
           15,
           16,
           15,
           18,
           15,
           19,
           17,
           18,
           15,
           18,
           15,
           10,
           17,
           16,
           16,
           18,
           14,
           15,
           13,
           16,
           15,
           17,
           7,
           14,
           16,
           15,
           15,
           16,
           15,
           16,
           14,
           17,
           16,
           16,
           14,
           17,
           16,
           16,
           16,
           14,
           12,
           9,
           14,
           18,
           15,
           15,
           15,
           15,
           10,
           9,
           10,
           14,
           15,
           15,
           14,
           13,
           16,
           17,
           14,
           15,
           13,
           12,
           16,
           15,
           16,
           17,
           16,
           17,
           17,
           15,
           12,
           15,
           15,
           16,
           11,
           12,
           13,
           18,
           13,
           14,
           13,
           14,
           14,
           15,
           10,
           15,
           14,
           13,
           11,
           11,
           10,
           10,
           10,
           13,
           13,
           14,
           11,
           16,
           13,
           4,
           2,
           1,
           4,
           8,
           13,
           12,
           10,
           13,
           12,
           15,
           16,
           7,
           11,
           9,
           15,
           16,
           15,
           14,
           16,
           16,
           16,
           14,
           16,
           16,
           11,
           15,
           14,
           12,
           15,
           14,
           15,
           15,
           15,
           13,
           16,
           13,
           14,
           14,
           15,
           15,
           15,
           13,
           13,
           11,
           13,
           11,
           12,
           12,
           14,
           12,
           15,
           11,
           3,
           1,
           5,
           11,
           13,
           12,
           12,
           13,
           15,
           14,
           15,
           14,
           12,
           11,
           14,
           11,
           14,
           14,
           15,
           14,
           13,
           14,
           14,
           13,
           15,
           13,
           16,
           16,
           15,
           13,
           11,
           13,
           15,
           15,
           14,
           13,
           15,
           11,
           13,
           11,
           13,
           14,
           13,
           12,
           11,
           12,
           13,
           14,
           14,
           11,
           13,
           11,
           7,
           1,
           5,
           12,
           13,
           12,
           14,
           11,
           12,
           10,
           10
          ],
          [
           13,
           13,
           13,
           15,
           8,
           14,
           12,
           15,
           13,
           14,
           14,
           15,
           14,
           17,
           14,
           18,
           15,
           14,
           17,
           16,
           14,
           15,
           16,
           16,
           14,
           9,
           13,
           15,
           16,
           13,
           13,
           15,
           14,
           15,
           12,
           16,
           16,
           17,
           15,
           16,
           18,
           18,
           13,
           14,
           13,
           18,
           13,
           15,
           15,
           11,
           1,
           4,
           15,
           16,
           15,
           18,
           15,
           19,
           17,
           18,
           15,
           18,
           15,
           10,
           17,
           16,
           16,
           18,
           14,
           15,
           13,
           16,
           15,
           17,
           7,
           14,
           16,
           15,
           15,
           15,
           15,
           16,
           14,
           17,
           16,
           16,
           14,
           17,
           16,
           16,
           16,
           14,
           12,
           9,
           14,
           18,
           15,
           15,
           15,
           15,
           10,
           9,
           10,
           14,
           15,
           15,
           14,
           13,
           16,
           17,
           14,
           15,
           13,
           12,
           16,
           15,
           16,
           17,
           16,
           17,
           17,
           15,
           12,
           15,
           15,
           16,
           11,
           12,
           13,
           18,
           13,
           14,
           13,
           14,
           14,
           15,
           10,
           15,
           14,
           13,
           11,
           11,
           10,
           10,
           10,
           13,
           13,
           14,
           11,
           16,
           13,
           4,
           2,
           1,
           4,
           8,
           13,
           12,
           10,
           13,
           12,
           15,
           16,
           7,
           11,
           9,
           15,
           16,
           15,
           14,
           16,
           16,
           16,
           14,
           16,
           16,
           11,
           15,
           14,
           12,
           15,
           14,
           15,
           15,
           15,
           13,
           16,
           13,
           14,
           14,
           15,
           15,
           15,
           13,
           13,
           11,
           13,
           11,
           12,
           12,
           14,
           12,
           15,
           11,
           3,
           1,
           5,
           11,
           13,
           12,
           12,
           13,
           15,
           14,
           15,
           14,
           12,
           11,
           14,
           11,
           14,
           14,
           15,
           14,
           13,
           14,
           14,
           13,
           15,
           13,
           16,
           16,
           15,
           13,
           11,
           13,
           15,
           15,
           14,
           13,
           15,
           11,
           13,
           11,
           13,
           14,
           13,
           12,
           11,
           12,
           13,
           14,
           14,
           11,
           13,
           11,
           7,
           1,
           5,
           12,
           13,
           12,
           14,
           11,
           12,
           10,
           10
          ],
          [
           13,
           13,
           13,
           15,
           8,
           14,
           12,
           15,
           13,
           14,
           14,
           15,
           14,
           17,
           14,
           18,
           15,
           14,
           17,
           16,
           14,
           15,
           16,
           16,
           14,
           9,
           13,
           15,
           16,
           13,
           13,
           15,
           14,
           15,
           12,
           16,
           16,
           17,
           15,
           16,
           18,
           18,
           13,
           14,
           13,
           18,
           13,
           15,
           15,
           11,
           1,
           4,
           15,
           16,
           15,
           18,
           15,
           19,
           17,
           18,
           15,
           18,
           15,
           10,
           17,
           16,
           16,
           18,
           14,
           15,
           13,
           16,
           15,
           17,
           7,
           14,
           16,
           15,
           15,
           16,
           15,
           16,
           14,
           17,
           16,
           16,
           14,
           17,
           16,
           16,
           16,
           14,
           12,
           9,
           14,
           18,
           15,
           15,
           15,
           15,
           10,
           9,
           10,
           14,
           15,
           15,
           14,
           13,
           16,
           17,
           14,
           15,
           13,
           12,
           16,
           15,
           16,
           17,
           16,
           17,
           17,
           15,
           12,
           15,
           15,
           16,
           11,
           12,
           13,
           18,
           13,
           14,
           13,
           14,
           14,
           15,
           10,
           15,
           14,
           13,
           11,
           11,
           10,
           10,
           10,
           13,
           13,
           14,
           11,
           16,
           13,
           4,
           2,
           1,
           4,
           8,
           13,
           12,
           10,
           13,
           12,
           15,
           16,
           7,
           11,
           9,
           15,
           16,
           15,
           14,
           16,
           16,
           16,
           14,
           16,
           16,
           11,
           15,
           14,
           12,
           15,
           14,
           15,
           15,
           15,
           13,
           16,
           13,
           14,
           14,
           15,
           15,
           15,
           13,
           13,
           11,
           13,
           11,
           12,
           12,
           14,
           12,
           15,
           11,
           3,
           1,
           5,
           11,
           13,
           12,
           12,
           13,
           15,
           14,
           15,
           14,
           12,
           11,
           14,
           11,
           14,
           14,
           15,
           14,
           13,
           14,
           14,
           13,
           15,
           13,
           16,
           16,
           15,
           13,
           11,
           13,
           15,
           15,
           14,
           13,
           15,
           11,
           13,
           11,
           13,
           14,
           13,
           12,
           11,
           12,
           13,
           14,
           14,
           11,
           13,
           11,
           7,
           1,
           5,
           12,
           13,
           12,
           14,
           11,
           12,
           10,
           10
          ],
          [
           13,
           13,
           13,
           15,
           8,
           14,
           12,
           15,
           13,
           14,
           14,
           15,
           14,
           17,
           14,
           18,
           15,
           14,
           17,
           16,
           14,
           15,
           16,
           16,
           14,
           9,
           13,
           15,
           16,
           13,
           13,
           15,
           14,
           15,
           12,
           16,
           16,
           17,
           15,
           16,
           18,
           18,
           13,
           14,
           13,
           18,
           13,
           15,
           15,
           11,
           1,
           4,
           15,
           16,
           15,
           18,
           15,
           19,
           17,
           18,
           15,
           18,
           15,
           10,
           17,
           16,
           16,
           18,
           14,
           15,
           13,
           16,
           15,
           17,
           7,
           14,
           16,
           15,
           15,
           16,
           15,
           16,
           14,
           17,
           16,
           16,
           14,
           17,
           16,
           16,
           16,
           14,
           12,
           9,
           14,
           18,
           15,
           15,
           15,
           15,
           10,
           9,
           10,
           14,
           15,
           15,
           14,
           13,
           16,
           17,
           14,
           15,
           13,
           12,
           16,
           15,
           16,
           17,
           16,
           17,
           17,
           15,
           12,
           15,
           15,
           16,
           11,
           12,
           13,
           18,
           13,
           14,
           13,
           14,
           14,
           15,
           10,
           15,
           14,
           13,
           11,
           11,
           10,
           10,
           10,
           13,
           13,
           14,
           11,
           16,
           13,
           4,
           2,
           1,
           4,
           8,
           13,
           12,
           10,
           13,
           12,
           15,
           16,
           7,
           11,
           9,
           15,
           16,
           15,
           14,
           16,
           16,
           16,
           14,
           16,
           16,
           11,
           15,
           14,
           12,
           15,
           14,
           15,
           15,
           15,
           13,
           16,
           13,
           14,
           14,
           15,
           15,
           15,
           13,
           13,
           11,
           13,
           11,
           12,
           12,
           14,
           12,
           15,
           11,
           3,
           1,
           5,
           11,
           13,
           12,
           12,
           13,
           15,
           14,
           15,
           14,
           12,
           11,
           14,
           11,
           14,
           14,
           15,
           14,
           13,
           14,
           14,
           13,
           15,
           13,
           16,
           16,
           15,
           13,
           11,
           13,
           15,
           15,
           14,
           13,
           15,
           11,
           13,
           11,
           13,
           14,
           13,
           12,
           11,
           12,
           13,
           14,
           14,
           11,
           13,
           11,
           7,
           1,
           5,
           12,
           13,
           12,
           14,
           11,
           12,
           10,
           10
          ],
          [
           13,
           13,
           13,
           15,
           8,
           14,
           12,
           15,
           13,
           14,
           14,
           15,
           14,
           17,
           14,
           18,
           15,
           14,
           17,
           16,
           14,
           15,
           16,
           16,
           14,
           9,
           13,
           15,
           16,
           13,
           13,
           15,
           14,
           15,
           12,
           16,
           16,
           17,
           15,
           16,
           18,
           18,
           13,
           14,
           13,
           18,
           13,
           15,
           15,
           11,
           1,
           4,
           15,
           16,
           15,
           18,
           15,
           19,
           17,
           18,
           15,
           18,
           15,
           10,
           17,
           16,
           16,
           18,
           14,
           15,
           13,
           16,
           15,
           17,
           7,
           14,
           16,
           15,
           15,
           16,
           15,
           16,
           14,
           17,
           16,
           16,
           14,
           17,
           16,
           16,
           16,
           14,
           12,
           9,
           14,
           18,
           15,
           15,
           15,
           15,
           10,
           9,
           10,
           14,
           15,
           15,
           14,
           13,
           16,
           17,
           14,
           15,
           13,
           12,
           16,
           15,
           16,
           17,
           16,
           17,
           17,
           15,
           12,
           15,
           15,
           16,
           11,
           12,
           13,
           18,
           13,
           14,
           13,
           14,
           14,
           15,
           10,
           15,
           14,
           13,
           11,
           11,
           10,
           10,
           10,
           13,
           13,
           14,
           11,
           16,
           13,
           4,
           2,
           1,
           4,
           8,
           13,
           12,
           10,
           13,
           12,
           15,
           16,
           7,
           11,
           9,
           15,
           16,
           15,
           14,
           16,
           16,
           16,
           14,
           16,
           16,
           11,
           15,
           14,
           12,
           15,
           14,
           15,
           15,
           15,
           13,
           16,
           13,
           14,
           14,
           15,
           15,
           15,
           13,
           13,
           11,
           13,
           11,
           12,
           12,
           14,
           12,
           15,
           11,
           3,
           1,
           5,
           11,
           13,
           12,
           12,
           13,
           15,
           14,
           15,
           14,
           12,
           11,
           14,
           11,
           14,
           14,
           15,
           14,
           13,
           14,
           14,
           13,
           15,
           13,
           16,
           16,
           15,
           13,
           11,
           13,
           15,
           15,
           14,
           13,
           15,
           11,
           13,
           11,
           13,
           14,
           13,
           12,
           11,
           12,
           13,
           14,
           14,
           11,
           13,
           11,
           7,
           1,
           5,
           12,
           13,
           12,
           14,
           11,
           12,
           10,
           10
          ],
          [
           13,
           13,
           13,
           15,
           7,
           14,
           12,
           15,
           13,
           13,
           14,
           15,
           14,
           17,
           14,
           17,
           15,
           14,
           17,
           16,
           14,
           14,
           16,
           16,
           14,
           8,
           13,
           15,
           16,
           13,
           13,
           15,
           14,
           15,
           12,
           16,
           16,
           17,
           15,
           16,
           18,
           18,
           13,
           14,
           13,
           18,
           13,
           15,
           15,
           11,
           1,
           4,
           15,
           16,
           14,
           18,
           15,
           19,
           17,
           18,
           15,
           18,
           15,
           10,
           17,
           16,
           16,
           18,
           14,
           15,
           13,
           16,
           14,
           17,
           7,
           14,
           16,
           15,
           15,
           16,
           15,
           16,
           14,
           17,
           16,
           16,
           14,
           17,
           16,
           16,
           16,
           14,
           12,
           9,
           14,
           18,
           15,
           15,
           15,
           15,
           10,
           9,
           10,
           13,
           15,
           14,
           14,
           13,
           16,
           17,
           14,
           15,
           13,
           12,
           16,
           15,
           16,
           17,
           16,
           17,
           17,
           15,
           11,
           15,
           15,
           15,
           10,
           12,
           13,
           18,
           13,
           14,
           13,
           13,
           14,
           15,
           10,
           14,
           14,
           13,
           11,
           10,
           10,
           10,
           10,
           12,
           13,
           14,
           10,
           16,
           13,
           4,
           2,
           1,
           3,
           8,
           12,
           12,
           10,
           13,
           12,
           15,
           16,
           6,
           11,
           9,
           14,
           16,
           15,
           14,
           16,
           16,
           16,
           14,
           16,
           16,
           11,
           15,
           14,
           12,
           14,
           14,
           15,
           15,
           15,
           13,
           16,
           12,
           14,
           14,
           15,
           15,
           15,
           13,
           13,
           11,
           13,
           11,
           12,
           12,
           14,
           12,
           15,
           11,
           3,
           1,
           5,
           11,
           13,
           12,
           12,
           13,
           15,
           14,
           15,
           14,
           12,
           11,
           14,
           11,
           14,
           14,
           15,
           14,
           13,
           14,
           14,
           13,
           15,
           13,
           16,
           16,
           15,
           12,
           11,
           13,
           15,
           15,
           14,
           13,
           15,
           11,
           13,
           11,
           13,
           14,
           13,
           12,
           11,
           12,
           13,
           13,
           14,
           11,
           13,
           11,
           7,
           1,
           5,
           12,
           13,
           12,
           14,
           11,
           12,
           10,
           10
          ]
         ]
        }
       ],
       "layout": {
        "font": {
         "size": 16
        },
        "height": 600,
        "template": {
         "data": {
          "bar": [
           {
            "error_x": {
             "color": "#2a3f5f"
            },
            "error_y": {
             "color": "#2a3f5f"
            },
            "marker": {
             "line": {
              "color": "#E5ECF6",
              "width": 0.5
             },
             "pattern": {
              "fillmode": "overlay",
              "size": 10,
              "solidity": 0.2
             }
            },
            "type": "bar"
           }
          ],
          "barpolar": [
           {
            "marker": {
             "line": {
              "color": "#E5ECF6",
              "width": 0.5
             },
             "pattern": {
              "fillmode": "overlay",
              "size": 10,
              "solidity": 0.2
             }
            },
            "type": "barpolar"
           }
          ],
          "carpet": [
           {
            "aaxis": {
             "endlinecolor": "#2a3f5f",
             "gridcolor": "white",
             "linecolor": "white",
             "minorgridcolor": "white",
             "startlinecolor": "#2a3f5f"
            },
            "baxis": {
             "endlinecolor": "#2a3f5f",
             "gridcolor": "white",
             "linecolor": "white",
             "minorgridcolor": "white",
             "startlinecolor": "#2a3f5f"
            },
            "type": "carpet"
           }
          ],
          "choropleth": [
           {
            "colorbar": {
             "outlinewidth": 0,
             "ticks": ""
            },
            "type": "choropleth"
           }
          ],
          "contour": [
           {
            "colorbar": {
             "outlinewidth": 0,
             "ticks": ""
            },
            "colorscale": [
             [
              0,
              "#0d0887"
             ],
             [
              0.1111111111111111,
              "#46039f"
             ],
             [
              0.2222222222222222,
              "#7201a8"
             ],
             [
              0.3333333333333333,
              "#9c179e"
             ],
             [
              0.4444444444444444,
              "#bd3786"
             ],
             [
              0.5555555555555556,
              "#d8576b"
             ],
             [
              0.6666666666666666,
              "#ed7953"
             ],
             [
              0.7777777777777778,
              "#fb9f3a"
             ],
             [
              0.8888888888888888,
              "#fdca26"
             ],
             [
              1,
              "#f0f921"
             ]
            ],
            "type": "contour"
           }
          ],
          "contourcarpet": [
           {
            "colorbar": {
             "outlinewidth": 0,
             "ticks": ""
            },
            "type": "contourcarpet"
           }
          ],
          "heatmap": [
           {
            "colorbar": {
             "outlinewidth": 0,
             "ticks": ""
            },
            "colorscale": [
             [
              0,
              "#0d0887"
             ],
             [
              0.1111111111111111,
              "#46039f"
             ],
             [
              0.2222222222222222,
              "#7201a8"
             ],
             [
              0.3333333333333333,
              "#9c179e"
             ],
             [
              0.4444444444444444,
              "#bd3786"
             ],
             [
              0.5555555555555556,
              "#d8576b"
             ],
             [
              0.6666666666666666,
              "#ed7953"
             ],
             [
              0.7777777777777778,
              "#fb9f3a"
             ],
             [
              0.8888888888888888,
              "#fdca26"
             ],
             [
              1,
              "#f0f921"
             ]
            ],
            "type": "heatmap"
           }
          ],
          "heatmapgl": [
           {
            "colorbar": {
             "outlinewidth": 0,
             "ticks": ""
            },
            "colorscale": [
             [
              0,
              "#0d0887"
             ],
             [
              0.1111111111111111,
              "#46039f"
             ],
             [
              0.2222222222222222,
              "#7201a8"
             ],
             [
              0.3333333333333333,
              "#9c179e"
             ],
             [
              0.4444444444444444,
              "#bd3786"
             ],
             [
              0.5555555555555556,
              "#d8576b"
             ],
             [
              0.6666666666666666,
              "#ed7953"
             ],
             [
              0.7777777777777778,
              "#fb9f3a"
             ],
             [
              0.8888888888888888,
              "#fdca26"
             ],
             [
              1,
              "#f0f921"
             ]
            ],
            "type": "heatmapgl"
           }
          ],
          "histogram": [
           {
            "marker": {
             "pattern": {
              "fillmode": "overlay",
              "size": 10,
              "solidity": 0.2
             }
            },
            "type": "histogram"
           }
          ],
          "histogram2d": [
           {
            "colorbar": {
             "outlinewidth": 0,
             "ticks": ""
            },
            "colorscale": [
             [
              0,
              "#0d0887"
             ],
             [
              0.1111111111111111,
              "#46039f"
             ],
             [
              0.2222222222222222,
              "#7201a8"
             ],
             [
              0.3333333333333333,
              "#9c179e"
             ],
             [
              0.4444444444444444,
              "#bd3786"
             ],
             [
              0.5555555555555556,
              "#d8576b"
             ],
             [
              0.6666666666666666,
              "#ed7953"
             ],
             [
              0.7777777777777778,
              "#fb9f3a"
             ],
             [
              0.8888888888888888,
              "#fdca26"
             ],
             [
              1,
              "#f0f921"
             ]
            ],
            "type": "histogram2d"
           }
          ],
          "histogram2dcontour": [
           {
            "colorbar": {
             "outlinewidth": 0,
             "ticks": ""
            },
            "colorscale": [
             [
              0,
              "#0d0887"
             ],
             [
              0.1111111111111111,
              "#46039f"
             ],
             [
              0.2222222222222222,
              "#7201a8"
             ],
             [
              0.3333333333333333,
              "#9c179e"
             ],
             [
              0.4444444444444444,
              "#bd3786"
             ],
             [
              0.5555555555555556,
              "#d8576b"
             ],
             [
              0.6666666666666666,
              "#ed7953"
             ],
             [
              0.7777777777777778,
              "#fb9f3a"
             ],
             [
              0.8888888888888888,
              "#fdca26"
             ],
             [
              1,
              "#f0f921"
             ]
            ],
            "type": "histogram2dcontour"
           }
          ],
          "mesh3d": [
           {
            "colorbar": {
             "outlinewidth": 0,
             "ticks": ""
            },
            "type": "mesh3d"
           }
          ],
          "parcoords": [
           {
            "line": {
             "colorbar": {
              "outlinewidth": 0,
              "ticks": ""
             }
            },
            "type": "parcoords"
           }
          ],
          "pie": [
           {
            "automargin": true,
            "type": "pie"
           }
          ],
          "scatter": [
           {
            "marker": {
             "colorbar": {
              "outlinewidth": 0,
              "ticks": ""
             }
            },
            "type": "scatter"
           }
          ],
          "scatter3d": [
           {
            "line": {
             "colorbar": {
              "outlinewidth": 0,
              "ticks": ""
             }
            },
            "marker": {
             "colorbar": {
              "outlinewidth": 0,
              "ticks": ""
             }
            },
            "type": "scatter3d"
           }
          ],
          "scattercarpet": [
           {
            "marker": {
             "colorbar": {
              "outlinewidth": 0,
              "ticks": ""
             }
            },
            "type": "scattercarpet"
           }
          ],
          "scattergeo": [
           {
            "marker": {
             "colorbar": {
              "outlinewidth": 0,
              "ticks": ""
             }
            },
            "type": "scattergeo"
           }
          ],
          "scattergl": [
           {
            "marker": {
             "colorbar": {
              "outlinewidth": 0,
              "ticks": ""
             }
            },
            "type": "scattergl"
           }
          ],
          "scattermapbox": [
           {
            "marker": {
             "colorbar": {
              "outlinewidth": 0,
              "ticks": ""
             }
            },
            "type": "scattermapbox"
           }
          ],
          "scatterpolar": [
           {
            "marker": {
             "colorbar": {
              "outlinewidth": 0,
              "ticks": ""
             }
            },
            "type": "scatterpolar"
           }
          ],
          "scatterpolargl": [
           {
            "marker": {
             "colorbar": {
              "outlinewidth": 0,
              "ticks": ""
             }
            },
            "type": "scatterpolargl"
           }
          ],
          "scatterternary": [
           {
            "marker": {
             "colorbar": {
              "outlinewidth": 0,
              "ticks": ""
             }
            },
            "type": "scatterternary"
           }
          ],
          "surface": [
           {
            "colorbar": {
             "outlinewidth": 0,
             "ticks": ""
            },
            "colorscale": [
             [
              0,
              "#0d0887"
             ],
             [
              0.1111111111111111,
              "#46039f"
             ],
             [
              0.2222222222222222,
              "#7201a8"
             ],
             [
              0.3333333333333333,
              "#9c179e"
             ],
             [
              0.4444444444444444,
              "#bd3786"
             ],
             [
              0.5555555555555556,
              "#d8576b"
             ],
             [
              0.6666666666666666,
              "#ed7953"
             ],
             [
              0.7777777777777778,
              "#fb9f3a"
             ],
             [
              0.8888888888888888,
              "#fdca26"
             ],
             [
              1,
              "#f0f921"
             ]
            ],
            "type": "surface"
           }
          ],
          "table": [
           {
            "cells": {
             "fill": {
              "color": "#EBF0F8"
             },
             "line": {
              "color": "white"
             }
            },
            "header": {
             "fill": {
              "color": "#C8D4E3"
             },
             "line": {
              "color": "white"
             }
            },
            "type": "table"
           }
          ]
         },
         "layout": {
          "annotationdefaults": {
           "arrowcolor": "#2a3f5f",
           "arrowhead": 0,
           "arrowwidth": 1
          },
          "autotypenumbers": "strict",
          "coloraxis": {
           "colorbar": {
            "outlinewidth": 0,
            "ticks": ""
           }
          },
          "colorscale": {
           "diverging": [
            [
             0,
             "#8e0152"
            ],
            [
             0.1,
             "#c51b7d"
            ],
            [
             0.2,
             "#de77ae"
            ],
            [
             0.3,
             "#f1b6da"
            ],
            [
             0.4,
             "#fde0ef"
            ],
            [
             0.5,
             "#f7f7f7"
            ],
            [
             0.6,
             "#e6f5d0"
            ],
            [
             0.7,
             "#b8e186"
            ],
            [
             0.8,
             "#7fbc41"
            ],
            [
             0.9,
             "#4d9221"
            ],
            [
             1,
             "#276419"
            ]
           ],
           "sequential": [
            [
             0,
             "#0d0887"
            ],
            [
             0.1111111111111111,
             "#46039f"
            ],
            [
             0.2222222222222222,
             "#7201a8"
            ],
            [
             0.3333333333333333,
             "#9c179e"
            ],
            [
             0.4444444444444444,
             "#bd3786"
            ],
            [
             0.5555555555555556,
             "#d8576b"
            ],
            [
             0.6666666666666666,
             "#ed7953"
            ],
            [
             0.7777777777777778,
             "#fb9f3a"
            ],
            [
             0.8888888888888888,
             "#fdca26"
            ],
            [
             1,
             "#f0f921"
            ]
           ],
           "sequentialminus": [
            [
             0,
             "#0d0887"
            ],
            [
             0.1111111111111111,
             "#46039f"
            ],
            [
             0.2222222222222222,
             "#7201a8"
            ],
            [
             0.3333333333333333,
             "#9c179e"
            ],
            [
             0.4444444444444444,
             "#bd3786"
            ],
            [
             0.5555555555555556,
             "#d8576b"
            ],
            [
             0.6666666666666666,
             "#ed7953"
            ],
            [
             0.7777777777777778,
             "#fb9f3a"
            ],
            [
             0.8888888888888888,
             "#fdca26"
            ],
            [
             1,
             "#f0f921"
            ]
           ]
          },
          "colorway": [
           "#636efa",
           "#EF553B",
           "#00cc96",
           "#ab63fa",
           "#FFA15A",
           "#19d3f3",
           "#FF6692",
           "#B6E880",
           "#FF97FF",
           "#FECB52"
          ],
          "font": {
           "color": "#2a3f5f"
          },
          "geo": {
           "bgcolor": "white",
           "lakecolor": "white",
           "landcolor": "#E5ECF6",
           "showlakes": true,
           "showland": true,
           "subunitcolor": "white"
          },
          "hoverlabel": {
           "align": "left"
          },
          "hovermode": "closest",
          "mapbox": {
           "style": "light"
          },
          "paper_bgcolor": "white",
          "plot_bgcolor": "#E5ECF6",
          "polar": {
           "angularaxis": {
            "gridcolor": "white",
            "linecolor": "white",
            "ticks": ""
           },
           "bgcolor": "#E5ECF6",
           "radialaxis": {
            "gridcolor": "white",
            "linecolor": "white",
            "ticks": ""
           }
          },
          "scene": {
           "xaxis": {
            "backgroundcolor": "#E5ECF6",
            "gridcolor": "white",
            "gridwidth": 2,
            "linecolor": "white",
            "showbackground": true,
            "ticks": "",
            "zerolinecolor": "white"
           },
           "yaxis": {
            "backgroundcolor": "#E5ECF6",
            "gridcolor": "white",
            "gridwidth": 2,
            "linecolor": "white",
            "showbackground": true,
            "ticks": "",
            "zerolinecolor": "white"
           },
           "zaxis": {
            "backgroundcolor": "#E5ECF6",
            "gridcolor": "white",
            "gridwidth": 2,
            "linecolor": "white",
            "showbackground": true,
            "ticks": "",
            "zerolinecolor": "white"
           }
          },
          "shapedefaults": {
           "line": {
            "color": "#2a3f5f"
           }
          },
          "ternary": {
           "aaxis": {
            "gridcolor": "white",
            "linecolor": "white",
            "ticks": ""
           },
           "baxis": {
            "gridcolor": "white",
            "linecolor": "white",
            "ticks": ""
           },
           "bgcolor": "#E5ECF6",
           "caxis": {
            "gridcolor": "white",
            "linecolor": "white",
            "ticks": ""
           }
          },
          "title": {
           "x": 0.05
          },
          "xaxis": {
           "automargin": true,
           "gridcolor": "white",
           "linecolor": "white",
           "ticks": "",
           "title": {
            "standoff": 15
           },
           "zerolinecolor": "white",
           "zerolinewidth": 2
          },
          "yaxis": {
           "automargin": true,
           "gridcolor": "white",
           "linecolor": "white",
           "ticks": "",
           "title": {
            "standoff": 15
           },
           "zerolinecolor": "white",
           "zerolinewidth": 2
          }
         }
        },
        "title": {
         "text": "Chart Positions of Songs Played"
        },
        "width": 1200,
        "xaxis": {
         "nticks": 22
        },
        "yaxis": {
         "nticks": 10
        }
       }
      }
     },
     "metadata": {},
     "output_type": "display_data"
    }
   ],
   "source": [
    "x = time_table['week_of']\n",
    "y = [int(x.split('_')[0]) for x in time_table.columns if 'chart_position' in x]\n",
    "y.sort(reverse=True)\n",
    "y = [str(x) for x in y]\n",
    "z = time_table[[x for x in time_table.columns if 'chart_position' in x]].T\n",
    "\n",
    "plot_time_series(x,y,z, title='Chart Positions of Songs Played')"
   ]
  },
  {
   "cell_type": "code",
   "execution_count": null,
   "metadata": {},
   "outputs": [],
   "source": []
  }
 ],
 "metadata": {
  "interpreter": {
   "hash": "4fe28adbe6d40c82bdde6a2233f025e3b944121e67b5abb397657075ce1366ca"
  },
  "kernelspec": {
   "display_name": "Python 3.8.12 ('lighthouse')",
   "language": "python",
   "name": "python3"
  },
  "language_info": {
   "codemirror_mode": {
    "name": "ipython",
    "version": 3
   },
   "file_extension": ".py",
   "mimetype": "text/x-python",
   "name": "python",
   "nbconvert_exporter": "python",
   "pygments_lexer": "ipython3",
   "version": "3.8.12"
  },
  "orig_nbformat": 4
 },
 "nbformat": 4,
 "nbformat_minor": 2
}
