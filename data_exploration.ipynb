{
 "cells": [
  {
   "cell_type": "code",
   "execution_count": 1,
   "metadata": {},
   "outputs": [],
   "source": [
    "import pandas as pd\n",
    "import numpy as np\n",
    "from helpers import chart_grouped_categorical_comparison"
   ]
  },
  {
   "cell_type": "code",
   "execution_count": 2,
   "metadata": {},
   "outputs": [],
   "source": [
    "COLOR_DICT = {\n",
    "                'cdn': '#B32E29',\n",
    "                'us': '#3279B3',\n",
    "                'uk': '#DE7012',\n",
    "                'int': '#FACD14'\n",
    "             }"
   ]
  },
  {
   "cell_type": "code",
   "execution_count": 3,
   "metadata": {},
   "outputs": [],
   "source": [
    "df = pd.read_csv('data/clean_data.csv')"
   ]
  },
  {
   "cell_type": "code",
   "execution_count": 4,
   "metadata": {},
   "outputs": [
    {
     "data": {
      "text/plain": [
       "Index(['Unnamed: 0', 'week_of', 'station', 'station_city', 'station_province',\n",
       "       'station_latitude', 'station_longitude', 'chart_position',\n",
       "       'artist_name(s)', 'artist_country', 'artist_home_city',\n",
       "       'artist_home_latitude', 'artist_home_longitude',\n",
       "       'km_distance_(home_station)', 'album_name', 'label_name', 'label_type',\n",
       "       'language_of_music', 'visible_ethnic_minority',\n",
       "       'census_race_classification', 'artist_gender', 'm_music', 'a_artist',\n",
       "       'p_performance', 'l_lyrics', 'artist_is_group', 'canadian_content'],\n",
       "      dtype='object')"
      ]
     },
     "execution_count": 4,
     "metadata": {},
     "output_type": "execute_result"
    }
   ],
   "source": [
    "df.columns"
   ]
  },
  {
   "cell_type": "code",
   "execution_count": 5,
   "metadata": {},
   "outputs": [
    {
     "data": {
      "application/vnd.plotly.v1+json": {
       "config": {
        "plotlyServerURL": "https://plot.ly"
       },
       "data": [
        {
         "marker": {
          "color": "#3279B3"
         },
         "name": "us",
         "type": "bar",
         "x": [
          "mixed group",
          "white",
          "black",
          "hispanic",
          "asian",
          "unknown",
          "native american",
          "middle eastern",
          "indian",
          "jewish",
          "romany"
         ],
         "y": [
          0.18695192815636552,
          0.19899630216587427,
          0.5715795034337031,
          0.01864764923402007,
          0.01347068145800312,
          0.0019017432646593058,
          0.0011093502377178543,
          0.005018489170628637,
          0.002324352879027991,
          0,
          0
         ]
        },
        {
         "marker": {
          "color": "#B32E29"
         },
         "name": "cdn",
         "type": "bar",
         "x": [
          "mixed group",
          "white",
          "black",
          "hispanic",
          "asian",
          "unknown",
          "native american",
          "middle eastern",
          "indian",
          "jewish",
          "romany"
         ],
         "y": [
          0.1769354500314707,
          0.47108189383873,
          0.281208476117211,
          0.007902650535002498,
          0.010000699349604902,
          0.01524582138611097,
          0.013007902650534975,
          0.012588292887614538,
          0.009371284705224192,
          0.002657528498496431,
          0
         ]
        },
        {
         "marker": {
          "color": "#DE7012"
         },
         "name": "uk",
         "type": "bar",
         "x": [
          "mixed group",
          "white",
          "black",
          "hispanic",
          "asian",
          "unknown",
          "native american",
          "middle eastern",
          "indian",
          "jewish",
          "romany"
         ],
         "y": [
          0.16754850088183426,
          0.4426807760141094,
          0.32892416225749554,
          0,
          0.05820105820105825,
          0,
          0,
          0,
          0.002645502645502673,
          0,
          0
         ]
        },
        {
         "marker": {
          "color": "#FACD14"
         },
         "name": "int",
         "type": "bar",
         "x": [
          "mixed group",
          "white",
          "black",
          "hispanic",
          "asian",
          "unknown",
          "native american",
          "middle eastern",
          "indian",
          "jewish",
          "romany"
         ],
         "y": [
          0.22504537205081665,
          0.44283121597096187,
          0.2068965517241379,
          0.029945553539019953,
          0.03176043557168784,
          0,
          0,
          0.060798548094373905,
          0,
          0,
          0.0027223230490017736
         ]
        },
        {
         "marker": {
          "color": "#303030"
         },
         "mode": "lines",
         "name": "mixed group_average",
         "showlegend": false,
         "type": "scatter",
         "x": [
          0,
          1
         ],
         "xaxis": "x2",
         "y": [
          0.18912031278012179,
          0.18912031278012179
         ]
        },
        {
         "marker": {
          "color": "#303030"
         },
         "mode": "lines",
         "name": "white_average",
         "showlegend": false,
         "type": "scatter",
         "x": [
          1,
          2
         ],
         "xaxis": "x2",
         "y": [
          0.38889754699741885,
          0.38889754699741885
         ]
        },
        {
         "marker": {
          "color": "#303030"
         },
         "mode": "lines",
         "name": "black_average",
         "showlegend": false,
         "type": "scatter",
         "x": [
          2,
          3
         ],
         "xaxis": "x2",
         "y": [
          0.34715217338313686,
          0.34715217338313686
         ]
        },
        {
         "marker": {
          "color": "#303030"
         },
         "mode": "lines",
         "name": "hispanic_average",
         "showlegend": false,
         "type": "scatter",
         "x": [
          3,
          4
         ],
         "xaxis": "x2",
         "y": [
          0.01412396332701063,
          0.01412396332701063
         ]
        },
        {
         "marker": {
          "color": "#303030"
         },
         "mode": "lines",
         "name": "asian_average",
         "showlegend": false,
         "type": "scatter",
         "x": [
          4,
          5
         ],
         "xaxis": "x2",
         "y": [
          0.02835821864508853,
          0.02835821864508853
         ]
        },
        {
         "marker": {
          "color": "#303030"
         },
         "mode": "lines",
         "name": "unknown_average",
         "showlegend": false,
         "type": "scatter",
         "x": [
          5,
          6
         ],
         "xaxis": "x2",
         "y": [
          0.004286891162692569,
          0.004286891162692569
         ]
        },
        {
         "marker": {
          "color": "#303030"
         },
         "mode": "lines",
         "name": "native american_average",
         "showlegend": false,
         "type": "scatter",
         "x": [
          6,
          7
         ],
         "xaxis": "x2",
         "y": [
          0.0035293132220632073,
          0.0035293132220632073
         ]
        },
        {
         "marker": {
          "color": "#303030"
         },
         "mode": "lines",
         "name": "middle eastern_average",
         "showlegend": false,
         "type": "scatter",
         "x": [
          7,
          8
         ],
         "xaxis": "x2",
         "y": [
          0.01960133253815427,
          0.01960133253815427
         ]
        },
        {
         "marker": {
          "color": "#303030"
         },
         "mode": "lines",
         "name": "indian_average",
         "showlegend": false,
         "type": "scatter",
         "x": [
          8,
          9
         ],
         "xaxis": "x2",
         "y": [
          0.003585285057438714,
          0.003585285057438714
         ]
        },
        {
         "marker": {
          "color": "#303030"
         },
         "mode": "lines",
         "name": "jewish_average",
         "showlegend": false,
         "type": "scatter",
         "x": [
          9,
          10
         ],
         "xaxis": "x2",
         "y": [
          0.0006643821246241077,
          0.0006643821246241077
         ]
        },
        {
         "marker": {
          "color": "#303030"
         },
         "mode": "lines",
         "name": "romany_average",
         "showlegend": false,
         "type": "scatter",
         "x": [
          10,
          11
         ],
         "xaxis": "x2",
         "y": [
          0.0006805807622504434,
          0.0006805807622504434
         ]
        }
       ],
       "layout": {
        "barmode": "group",
        "font": {
         "size": 16
        },
        "height": 600,
        "plot_bgcolor": "white",
        "template": {
         "data": {
          "bar": [
           {
            "error_x": {
             "color": "#2a3f5f"
            },
            "error_y": {
             "color": "#2a3f5f"
            },
            "marker": {
             "line": {
              "color": "#E5ECF6",
              "width": 0.5
             },
             "pattern": {
              "fillmode": "overlay",
              "size": 10,
              "solidity": 0.2
             }
            },
            "type": "bar"
           }
          ],
          "barpolar": [
           {
            "marker": {
             "line": {
              "color": "#E5ECF6",
              "width": 0.5
             },
             "pattern": {
              "fillmode": "overlay",
              "size": 10,
              "solidity": 0.2
             }
            },
            "type": "barpolar"
           }
          ],
          "carpet": [
           {
            "aaxis": {
             "endlinecolor": "#2a3f5f",
             "gridcolor": "white",
             "linecolor": "white",
             "minorgridcolor": "white",
             "startlinecolor": "#2a3f5f"
            },
            "baxis": {
             "endlinecolor": "#2a3f5f",
             "gridcolor": "white",
             "linecolor": "white",
             "minorgridcolor": "white",
             "startlinecolor": "#2a3f5f"
            },
            "type": "carpet"
           }
          ],
          "choropleth": [
           {
            "colorbar": {
             "outlinewidth": 0,
             "ticks": ""
            },
            "type": "choropleth"
           }
          ],
          "contour": [
           {
            "colorbar": {
             "outlinewidth": 0,
             "ticks": ""
            },
            "colorscale": [
             [
              0,
              "#0d0887"
             ],
             [
              0.1111111111111111,
              "#46039f"
             ],
             [
              0.2222222222222222,
              "#7201a8"
             ],
             [
              0.3333333333333333,
              "#9c179e"
             ],
             [
              0.4444444444444444,
              "#bd3786"
             ],
             [
              0.5555555555555556,
              "#d8576b"
             ],
             [
              0.6666666666666666,
              "#ed7953"
             ],
             [
              0.7777777777777778,
              "#fb9f3a"
             ],
             [
              0.8888888888888888,
              "#fdca26"
             ],
             [
              1,
              "#f0f921"
             ]
            ],
            "type": "contour"
           }
          ],
          "contourcarpet": [
           {
            "colorbar": {
             "outlinewidth": 0,
             "ticks": ""
            },
            "type": "contourcarpet"
           }
          ],
          "heatmap": [
           {
            "colorbar": {
             "outlinewidth": 0,
             "ticks": ""
            },
            "colorscale": [
             [
              0,
              "#0d0887"
             ],
             [
              0.1111111111111111,
              "#46039f"
             ],
             [
              0.2222222222222222,
              "#7201a8"
             ],
             [
              0.3333333333333333,
              "#9c179e"
             ],
             [
              0.4444444444444444,
              "#bd3786"
             ],
             [
              0.5555555555555556,
              "#d8576b"
             ],
             [
              0.6666666666666666,
              "#ed7953"
             ],
             [
              0.7777777777777778,
              "#fb9f3a"
             ],
             [
              0.8888888888888888,
              "#fdca26"
             ],
             [
              1,
              "#f0f921"
             ]
            ],
            "type": "heatmap"
           }
          ],
          "heatmapgl": [
           {
            "colorbar": {
             "outlinewidth": 0,
             "ticks": ""
            },
            "colorscale": [
             [
              0,
              "#0d0887"
             ],
             [
              0.1111111111111111,
              "#46039f"
             ],
             [
              0.2222222222222222,
              "#7201a8"
             ],
             [
              0.3333333333333333,
              "#9c179e"
             ],
             [
              0.4444444444444444,
              "#bd3786"
             ],
             [
              0.5555555555555556,
              "#d8576b"
             ],
             [
              0.6666666666666666,
              "#ed7953"
             ],
             [
              0.7777777777777778,
              "#fb9f3a"
             ],
             [
              0.8888888888888888,
              "#fdca26"
             ],
             [
              1,
              "#f0f921"
             ]
            ],
            "type": "heatmapgl"
           }
          ],
          "histogram": [
           {
            "marker": {
             "pattern": {
              "fillmode": "overlay",
              "size": 10,
              "solidity": 0.2
             }
            },
            "type": "histogram"
           }
          ],
          "histogram2d": [
           {
            "colorbar": {
             "outlinewidth": 0,
             "ticks": ""
            },
            "colorscale": [
             [
              0,
              "#0d0887"
             ],
             [
              0.1111111111111111,
              "#46039f"
             ],
             [
              0.2222222222222222,
              "#7201a8"
             ],
             [
              0.3333333333333333,
              "#9c179e"
             ],
             [
              0.4444444444444444,
              "#bd3786"
             ],
             [
              0.5555555555555556,
              "#d8576b"
             ],
             [
              0.6666666666666666,
              "#ed7953"
             ],
             [
              0.7777777777777778,
              "#fb9f3a"
             ],
             [
              0.8888888888888888,
              "#fdca26"
             ],
             [
              1,
              "#f0f921"
             ]
            ],
            "type": "histogram2d"
           }
          ],
          "histogram2dcontour": [
           {
            "colorbar": {
             "outlinewidth": 0,
             "ticks": ""
            },
            "colorscale": [
             [
              0,
              "#0d0887"
             ],
             [
              0.1111111111111111,
              "#46039f"
             ],
             [
              0.2222222222222222,
              "#7201a8"
             ],
             [
              0.3333333333333333,
              "#9c179e"
             ],
             [
              0.4444444444444444,
              "#bd3786"
             ],
             [
              0.5555555555555556,
              "#d8576b"
             ],
             [
              0.6666666666666666,
              "#ed7953"
             ],
             [
              0.7777777777777778,
              "#fb9f3a"
             ],
             [
              0.8888888888888888,
              "#fdca26"
             ],
             [
              1,
              "#f0f921"
             ]
            ],
            "type": "histogram2dcontour"
           }
          ],
          "mesh3d": [
           {
            "colorbar": {
             "outlinewidth": 0,
             "ticks": ""
            },
            "type": "mesh3d"
           }
          ],
          "parcoords": [
           {
            "line": {
             "colorbar": {
              "outlinewidth": 0,
              "ticks": ""
             }
            },
            "type": "parcoords"
           }
          ],
          "pie": [
           {
            "automargin": true,
            "type": "pie"
           }
          ],
          "scatter": [
           {
            "marker": {
             "colorbar": {
              "outlinewidth": 0,
              "ticks": ""
             }
            },
            "type": "scatter"
           }
          ],
          "scatter3d": [
           {
            "line": {
             "colorbar": {
              "outlinewidth": 0,
              "ticks": ""
             }
            },
            "marker": {
             "colorbar": {
              "outlinewidth": 0,
              "ticks": ""
             }
            },
            "type": "scatter3d"
           }
          ],
          "scattercarpet": [
           {
            "marker": {
             "colorbar": {
              "outlinewidth": 0,
              "ticks": ""
             }
            },
            "type": "scattercarpet"
           }
          ],
          "scattergeo": [
           {
            "marker": {
             "colorbar": {
              "outlinewidth": 0,
              "ticks": ""
             }
            },
            "type": "scattergeo"
           }
          ],
          "scattergl": [
           {
            "marker": {
             "colorbar": {
              "outlinewidth": 0,
              "ticks": ""
             }
            },
            "type": "scattergl"
           }
          ],
          "scattermapbox": [
           {
            "marker": {
             "colorbar": {
              "outlinewidth": 0,
              "ticks": ""
             }
            },
            "type": "scattermapbox"
           }
          ],
          "scatterpolar": [
           {
            "marker": {
             "colorbar": {
              "outlinewidth": 0,
              "ticks": ""
             }
            },
            "type": "scatterpolar"
           }
          ],
          "scatterpolargl": [
           {
            "marker": {
             "colorbar": {
              "outlinewidth": 0,
              "ticks": ""
             }
            },
            "type": "scatterpolargl"
           }
          ],
          "scatterternary": [
           {
            "marker": {
             "colorbar": {
              "outlinewidth": 0,
              "ticks": ""
             }
            },
            "type": "scatterternary"
           }
          ],
          "surface": [
           {
            "colorbar": {
             "outlinewidth": 0,
             "ticks": ""
            },
            "colorscale": [
             [
              0,
              "#0d0887"
             ],
             [
              0.1111111111111111,
              "#46039f"
             ],
             [
              0.2222222222222222,
              "#7201a8"
             ],
             [
              0.3333333333333333,
              "#9c179e"
             ],
             [
              0.4444444444444444,
              "#bd3786"
             ],
             [
              0.5555555555555556,
              "#d8576b"
             ],
             [
              0.6666666666666666,
              "#ed7953"
             ],
             [
              0.7777777777777778,
              "#fb9f3a"
             ],
             [
              0.8888888888888888,
              "#fdca26"
             ],
             [
              1,
              "#f0f921"
             ]
            ],
            "type": "surface"
           }
          ],
          "table": [
           {
            "cells": {
             "fill": {
              "color": "#EBF0F8"
             },
             "line": {
              "color": "white"
             }
            },
            "header": {
             "fill": {
              "color": "#C8D4E3"
             },
             "line": {
              "color": "white"
             }
            },
            "type": "table"
           }
          ]
         },
         "layout": {
          "annotationdefaults": {
           "arrowcolor": "#2a3f5f",
           "arrowhead": 0,
           "arrowwidth": 1
          },
          "autotypenumbers": "strict",
          "coloraxis": {
           "colorbar": {
            "outlinewidth": 0,
            "ticks": ""
           }
          },
          "colorscale": {
           "diverging": [
            [
             0,
             "#8e0152"
            ],
            [
             0.1,
             "#c51b7d"
            ],
            [
             0.2,
             "#de77ae"
            ],
            [
             0.3,
             "#f1b6da"
            ],
            [
             0.4,
             "#fde0ef"
            ],
            [
             0.5,
             "#f7f7f7"
            ],
            [
             0.6,
             "#e6f5d0"
            ],
            [
             0.7,
             "#b8e186"
            ],
            [
             0.8,
             "#7fbc41"
            ],
            [
             0.9,
             "#4d9221"
            ],
            [
             1,
             "#276419"
            ]
           ],
           "sequential": [
            [
             0,
             "#0d0887"
            ],
            [
             0.1111111111111111,
             "#46039f"
            ],
            [
             0.2222222222222222,
             "#7201a8"
            ],
            [
             0.3333333333333333,
             "#9c179e"
            ],
            [
             0.4444444444444444,
             "#bd3786"
            ],
            [
             0.5555555555555556,
             "#d8576b"
            ],
            [
             0.6666666666666666,
             "#ed7953"
            ],
            [
             0.7777777777777778,
             "#fb9f3a"
            ],
            [
             0.8888888888888888,
             "#fdca26"
            ],
            [
             1,
             "#f0f921"
            ]
           ],
           "sequentialminus": [
            [
             0,
             "#0d0887"
            ],
            [
             0.1111111111111111,
             "#46039f"
            ],
            [
             0.2222222222222222,
             "#7201a8"
            ],
            [
             0.3333333333333333,
             "#9c179e"
            ],
            [
             0.4444444444444444,
             "#bd3786"
            ],
            [
             0.5555555555555556,
             "#d8576b"
            ],
            [
             0.6666666666666666,
             "#ed7953"
            ],
            [
             0.7777777777777778,
             "#fb9f3a"
            ],
            [
             0.8888888888888888,
             "#fdca26"
            ],
            [
             1,
             "#f0f921"
            ]
           ]
          },
          "colorway": [
           "#636efa",
           "#EF553B",
           "#00cc96",
           "#ab63fa",
           "#FFA15A",
           "#19d3f3",
           "#FF6692",
           "#B6E880",
           "#FF97FF",
           "#FECB52"
          ],
          "font": {
           "color": "#2a3f5f"
          },
          "geo": {
           "bgcolor": "white",
           "lakecolor": "white",
           "landcolor": "#E5ECF6",
           "showlakes": true,
           "showland": true,
           "subunitcolor": "white"
          },
          "hoverlabel": {
           "align": "left"
          },
          "hovermode": "closest",
          "mapbox": {
           "style": "light"
          },
          "paper_bgcolor": "white",
          "plot_bgcolor": "#E5ECF6",
          "polar": {
           "angularaxis": {
            "gridcolor": "white",
            "linecolor": "white",
            "ticks": ""
           },
           "bgcolor": "#E5ECF6",
           "radialaxis": {
            "gridcolor": "white",
            "linecolor": "white",
            "ticks": ""
           }
          },
          "scene": {
           "xaxis": {
            "backgroundcolor": "#E5ECF6",
            "gridcolor": "white",
            "gridwidth": 2,
            "linecolor": "white",
            "showbackground": true,
            "ticks": "",
            "zerolinecolor": "white"
           },
           "yaxis": {
            "backgroundcolor": "#E5ECF6",
            "gridcolor": "white",
            "gridwidth": 2,
            "linecolor": "white",
            "showbackground": true,
            "ticks": "",
            "zerolinecolor": "white"
           },
           "zaxis": {
            "backgroundcolor": "#E5ECF6",
            "gridcolor": "white",
            "gridwidth": 2,
            "linecolor": "white",
            "showbackground": true,
            "ticks": "",
            "zerolinecolor": "white"
           }
          },
          "shapedefaults": {
           "line": {
            "color": "#2a3f5f"
           }
          },
          "ternary": {
           "aaxis": {
            "gridcolor": "white",
            "linecolor": "white",
            "ticks": ""
           },
           "baxis": {
            "gridcolor": "white",
            "linecolor": "white",
            "ticks": ""
           },
           "bgcolor": "#E5ECF6",
           "caxis": {
            "gridcolor": "white",
            "linecolor": "white",
            "ticks": ""
           }
          },
          "title": {
           "x": 0.05
          },
          "xaxis": {
           "automargin": true,
           "gridcolor": "white",
           "linecolor": "white",
           "ticks": "",
           "title": {
            "standoff": 15
           },
           "zerolinecolor": "white",
           "zerolinewidth": 2
          },
          "yaxis": {
           "automargin": true,
           "gridcolor": "white",
           "linecolor": "white",
           "ticks": "",
           "title": {
            "standoff": 15
           },
           "zerolinecolor": "white",
           "zerolinewidth": 2
          }
         }
        },
        "title": {
         "text": "Census race classification grouped by artist country."
        },
        "width": 1200,
        "xaxis2": {
         "overlaying": "x",
         "range": [
          0,
          11
         ],
         "showticklabels": false
        },
        "yaxis": {
         "dtick": 0.1,
         "gridcolor": "lightgray",
         "range": [
          0,
          1
         ],
         "tickformat": ".0%"
        }
       }
      }
     },
     "metadata": {},
     "output_type": "display_data"
    }
   ],
   "source": [
    "chart_grouped_categorical_comparison(df['artist_country'], df['census_race_classification'],groups=['us','cdn','uk','int'], color_dict=COLOR_DICT )"
   ]
  },
  {
   "cell_type": "code",
   "execution_count": 6,
   "metadata": {},
   "outputs": [
    {
     "data": {
      "application/vnd.plotly.v1+json": {
       "config": {
        "plotlyServerURL": "https://plot.ly"
       },
       "data": [
        {
         "name": "cjsr",
         "type": "bar",
         "x": [
          "mixed group",
          "white",
          "black",
          "hispanic",
          "asian",
          "unknown",
          "native american",
          "middle eastern",
          "indian",
          "jewish",
          "romany"
         ],
         "y": [
          0.17291666666666672,
          0.334375,
          0.39322916666666663,
          0.013541666666666674,
          0.019791666666666652,
          0.01822916666666663,
          0.018750000000000044,
          0.014583333333333282,
          0.014062499999999978,
          0.0005208333333333037,
          0
         ]
        },
        {
         "name": "cjsw",
         "type": "bar",
         "x": [
          "mixed group",
          "white",
          "black",
          "hispanic",
          "asian",
          "unknown",
          "native american",
          "middle eastern",
          "indian",
          "jewish",
          "romany"
         ],
         "y": [
          0.26040609137055837,
          0.3258883248730965,
          0.36446700507614216,
          0.015228426395939132,
          0.013197969543147225,
          0.012182741116751217,
          0.0010152284263958977,
          0.0025380710659898,
          0.004568527918781706,
          0.0005076142131980044,
          0
         ]
        },
        {
         "name": "ckxu",
         "type": "bar",
         "x": [
          "mixed group",
          "white",
          "black",
          "hispanic",
          "asian",
          "unknown",
          "native american",
          "middle eastern",
          "indian",
          "jewish",
          "romany"
         ],
         "y": [
          0.21659192825112106,
          0.4031390134529148,
          0.31569506726457397,
          0.010762331838565009,
          0.018385650224215233,
          0.017488789237668168,
          0.004035874439461851,
          0.008071748878923812,
          0.0053811659192825045,
          0.0004484304932735883,
          0
         ]
        },
        {
         "name": "cfuv",
         "type": "bar",
         "x": [
          "mixed group",
          "white",
          "black",
          "hispanic",
          "asian",
          "unknown",
          "native american",
          "middle eastern",
          "indian",
          "jewish",
          "romany"
         ],
         "y": [
          0.17191169563175202,
          0.28558008454673556,
          0.48990136214185065,
          0.006575857209957681,
          0.025833724753405396,
          0.008454673555659986,
          0.003757632691404389,
          0.004697040864255486,
          0.0014091122592766459,
          0.0018788163457021945,
          0
         ]
        },
        {
         "name": "cjsf",
         "type": "bar",
         "x": [
          "mixed group",
          "white",
          "black",
          "hispanic",
          "asian",
          "unknown",
          "native american",
          "middle eastern",
          "indian",
          "jewish",
          "romany"
         ],
         "y": [
          0.2407407407407407,
          0.2592592592592593,
          0.4377777777777778,
          0.0125925925925926,
          0.028148148148148144,
          0.011111111111111072,
          0.0037037037037036535,
          0.002962962962962945,
          0.0037037037037036535,
          0,
          0
         ]
        },
        {
         "name": "cjum",
         "type": "bar",
         "x": [
          "mixed group",
          "white",
          "black",
          "hispanic",
          "asian",
          "unknown",
          "native american",
          "middle eastern",
          "indian",
          "jewish",
          "romany"
         ],
         "y": [
          0.14789915966386558,
          0.35126050420168065,
          0.44243697478991595,
          0.01134453781512601,
          0.026470588235294135,
          0,
          0.008823529411764675,
          0.005042016806722671,
          0.006722689075630228,
          0,
          0
         ]
        },
        {
         "name": "ckdu",
         "type": "bar",
         "x": [
          "mixed group",
          "white",
          "black",
          "hispanic",
          "asian",
          "unknown",
          "native american",
          "middle eastern",
          "indian",
          "jewish",
          "romany"
         ],
         "y": [
          0.14871794871794874,
          0.4551282051282052,
          0.35,
          0.0038461538461538325,
          0.007692307692307665,
          0.02564102564102566,
          0,
          0.00512820512820511,
          0.0038461538461538325,
          0,
          0
         ]
        },
        {
         "name": "ciut",
         "type": "bar",
         "x": [
          "mixed group",
          "white",
          "black",
          "hispanic",
          "asian",
          "unknown",
          "native american",
          "middle eastern",
          "indian",
          "jewish",
          "romany"
         ],
         "y": [
          0.17748917748917747,
          0.2813852813852814,
          0.4377104377104377,
          0.01683501683501687,
          0.010101010101010055,
          0.0240500240500241,
          0.017316017316017285,
          0.018278018278018227,
          0.015392015392015401,
          0,
          0.0014430014430014682
         ]
        },
        {
         "name": "cfre",
         "type": "bar",
         "x": [
          "mixed group",
          "white",
          "black",
          "hispanic",
          "asian",
          "unknown",
          "native american",
          "middle eastern",
          "indian",
          "jewish",
          "romany"
         ],
         "y": [
          0.25820895522388054,
          0.25074626865671645,
          0.4582089552238806,
          0.013432835820895495,
          0.0029850746268657025,
          0.005970149253731294,
          0,
          0.004477611940298498,
          0,
          0.005970149253731294,
          0
         ]
        },
        {
         "name": "chrw",
         "type": "bar",
         "x": [
          "mixed group",
          "white",
          "black",
          "hispanic",
          "asian",
          "unknown",
          "native american",
          "middle eastern",
          "indian",
          "jewish",
          "romany"
         ],
         "y": [
          0.16975806451612907,
          0.40846774193548385,
          0.36250000000000004,
          0.015725806451612923,
          0.012903225806451646,
          0.010483870967741948,
          0.004838709677419395,
          0.006451612903225823,
          0.006854838709677402,
          0.0020161290322581182,
          0
         ]
        },
        {
         "name": "chuo",
         "type": "bar",
         "x": [
          "mixed group",
          "white",
          "black",
          "hispanic",
          "asian",
          "unknown",
          "native american",
          "middle eastern",
          "indian",
          "jewish",
          "romany"
         ],
         "y": [
          0.19513274336283182,
          0.33008849557522124,
          0.4212389380530973,
          0.018141592920354,
          0.015044247787610598,
          0.005309734513274322,
          0.007964601769911539,
          0.005752212389380507,
          0.0013274336283185528,
          0,
          0
         ]
        },
        {
         "name": "cilu",
         "type": "bar",
         "x": [
          "mixed group",
          "white",
          "black",
          "hispanic",
          "asian",
          "unknown",
          "native american",
          "middle eastern",
          "indian",
          "jewish",
          "romany"
         ],
         "y": [
          0.24560000000000004,
          0.2964,
          0.4204,
          0.00880000000000003,
          0.013599999999999945,
          0.006800000000000028,
          0.0008000000000000229,
          0.005600000000000049,
          0,
          0.0020000000000000018,
          0
         ]
        },
        {
         "name": "ckut",
         "type": "bar",
         "x": [
          "mixed group",
          "white",
          "black",
          "hispanic",
          "asian",
          "unknown",
          "native american",
          "middle eastern",
          "indian",
          "jewish",
          "romany"
         ],
         "y": [
          0.12821782178217822,
          0.20990099009900987,
          0.5915841584158417,
          0.020297029702970315,
          0.004950495049504955,
          0.007920792079207928,
          0.00544554455445545,
          0.02970297029702973,
          0,
          0.001980198019801982,
          0
         ]
        },
        {
         "name": "cfbx",
         "type": "bar",
         "x": [
          "mixed group",
          "white",
          "black",
          "hispanic",
          "asian",
          "unknown",
          "native american",
          "middle eastern",
          "indian",
          "jewish",
          "romany"
         ],
         "y": [
          0.16249999999999998,
          0.39765625000000004,
          0.31953125000000004,
          0.016406249999999956,
          0.014843750000000044,
          0.025781249999999978,
          0.021093750000000022,
          0.024218749999999956,
          0.015625,
          0.002343749999999978,
          0
         ]
        },
        {
         "name": "cfru",
         "type": "bar",
         "x": [
          "mixed group",
          "white",
          "black",
          "hispanic",
          "asian",
          "unknown",
          "native american",
          "middle eastern",
          "indian",
          "jewish",
          "romany"
         ],
         "y": [
          0.2123076923076923,
          0.3369230769230769,
          0.40538461538461534,
          0.020769230769230762,
          0.010769230769230753,
          0.004615384615384577,
          0.003076923076923088,
          0.003076923076923088,
          0.003076923076923088,
          0,
          0
         ]
        },
        {
         "name": "cfmh",
         "type": "bar",
         "x": [
          "mixed group",
          "white",
          "black",
          "hispanic",
          "asian",
          "unknown",
          "native american",
          "middle eastern",
          "indian",
          "jewish",
          "romany"
         ],
         "y": [
          0.04166666666666663,
          0.4916666666666667,
          0.3666666666666667,
          0,
          0.01666666666666672,
          0.008333333333333304,
          0,
          0.07499999999999996,
          0,
          0,
          0
         ]
        },
        {
         "name": "cjam",
         "type": "bar",
         "x": [
          "mixed group",
          "white",
          "black",
          "hispanic",
          "asian",
          "unknown",
          "native american",
          "middle eastern",
          "indian",
          "jewish",
          "romany"
         ],
         "y": [
          0.17746478873239435,
          0.29154929577464783,
          0.4854460093896713,
          0.009859154929577452,
          0.012206572769953072,
          0.006103286384976481,
          0.00328638497652578,
          0.007981220657277022,
          0.005633802816901401,
          0.00046948356807507974,
          0
         ]
        },
        {
         "name": "chsr",
         "type": "bar",
         "x": [
          "mixed group",
          "white",
          "black",
          "hispanic",
          "asian",
          "unknown",
          "native american",
          "middle eastern",
          "indian",
          "jewish",
          "romany"
         ],
         "y": [
          0.17307692307692313,
          0.28076923076923077,
          0.525,
          0.01538461538461533,
          0.0038461538461538325,
          0.0019230769230769162,
          0,
          0,
          0,
          0,
          0
         ]
        },
        {
         "name": "chry",
         "type": "bar",
         "x": [
          "mixed group",
          "white",
          "black",
          "hispanic",
          "asian",
          "unknown",
          "native american",
          "middle eastern",
          "indian",
          "jewish",
          "romany"
         ],
         "y": [
          0.11304347826086958,
          0.12173913043478257,
          0.7304347826086957,
          0.013043478260869601,
          0.013043478260869601,
          0.008695652173912993,
          0,
          0,
          0,
          0,
          0
         ]
        },
        {
         "name": "cjlo",
         "type": "bar",
         "x": [
          "mixed group",
          "white",
          "black",
          "hispanic",
          "asian",
          "unknown",
          "native american",
          "middle eastern",
          "indian",
          "jewish",
          "romany"
         ],
         "y": [
          0.18678160919540232,
          0.3109195402298851,
          0.45747126436781604,
          0.017816091954023006,
          0.0034482758620689724,
          0.005172413793103403,
          0.0011494252873562871,
          0.012068965517241348,
          0.0011494252873562871,
          0.004022988505747116,
          0
         ]
        },
        {
         "name": "chyz",
         "type": "bar",
         "x": [
          "mixed group",
          "white",
          "black",
          "hispanic",
          "asian",
          "unknown",
          "native american",
          "middle eastern",
          "indian",
          "jewish",
          "romany"
         ],
         "y": [
          0.21581395348837207,
          0.4195348837209303,
          0.3111627906976744,
          0.024186046511627923,
          0.01023255813953483,
          0.01023255813953483,
          0,
          0.005116279069767415,
          0.0037209302325581506,
          0,
          0
         ]
        },
        {
         "name": "chly",
         "type": "bar",
         "x": [
          "mixed group",
          "white",
          "black",
          "hispanic",
          "asian",
          "unknown",
          "native american",
          "middle eastern",
          "indian",
          "jewish",
          "romany"
         ],
         "y": [
          0.13194444444444442,
          0.2861111111111111,
          0.4708333333333333,
          0.008333333333333304,
          0.005555555555555536,
          0.054166666666666696,
          0.009722222222222188,
          0.022222222222222254,
          0.008333333333333304,
          0.002777777777777768,
          0
         ]
        },
        {
         "name": "cscr",
         "type": "bar",
         "x": [
          "mixed group",
          "white",
          "black",
          "hispanic",
          "asian",
          "unknown",
          "native american",
          "middle eastern",
          "indian",
          "jewish",
          "romany"
         ],
         "y": [
          0.04567901234567906,
          0.07901234567901239,
          0.8567901234567901,
          0.0024691358024691024,
          0.0012345679012345512,
          0.0024691358024691024,
          0,
          0.00987654320987652,
          0.0024691358024691024,
          0,
          0
         ]
        },
        {
         "name": "cism",
         "type": "bar",
         "x": [
          "mixed group",
          "white",
          "black",
          "hispanic",
          "asian",
          "unknown",
          "native american",
          "middle eastern",
          "indian",
          "jewish",
          "romany"
         ],
         "y": [
          0.2571428571428571,
          0.19999999999999996,
          0.5428571428571429,
          0,
          0,
          0,
          0,
          0,
          0,
          0,
          0
         ]
        },
        {
         "name": "cick",
         "type": "bar",
         "x": [
          "mixed group",
          "white",
          "black",
          "hispanic",
          "asian",
          "unknown",
          "native american",
          "middle eastern",
          "indian",
          "jewish",
          "romany"
         ],
         "y": [
          0.30000000000000004,
          0.44999999999999996,
          0.15000000000000002,
          0,
          0,
          0.09999999999999998,
          0,
          0,
          0,
          0,
          0
         ]
        },
        {
         "marker": {
          "color": "#303030"
         },
         "mode": "lines",
         "name": "mixed group_average",
         "showlegend": false,
         "type": "scatter",
         "x": [
          0,
          1
         ],
         "xaxis": "x2",
         "y": [
          0.18204049676312603,
          0.18204049676312603
         ]
        },
        {
         "marker": {
          "color": "#303030"
         },
         "mode": "lines",
         "name": "white_average",
         "showlegend": false,
         "type": "scatter",
         "x": [
          1,
          2
         ],
         "xaxis": "x2",
         "y": [
          0.314300028016918,
          0.314300028016918
         ]
        },
        {
         "marker": {
          "color": "#303030"
         },
         "mode": "lines",
         "name": "black_average",
         "showlegend": false,
         "type": "scatter",
         "x": [
          2,
          3
         ],
         "xaxis": "x2",
         "y": [
          0.4442691128753037,
          0.4442691128753037
         ]
        },
        {
         "marker": {
          "color": "#303030"
         },
         "mode": "lines",
         "name": "hispanic_average",
         "showlegend": false,
         "type": "scatter",
         "x": [
          3,
          4
         ],
         "xaxis": "x2",
         "y": [
          0.01181564740166388,
          0.01181564740166388
         ]
        },
        {
         "marker": {
          "color": "#303030"
         },
         "mode": "lines",
         "name": "asian_average",
         "showlegend": false,
         "type": "scatter",
         "x": [
          4,
          5
         ],
         "xaxis": "x2",
         "y": [
          0.011638036736235811,
          0.011638036736235811
         ]
        },
        {
         "marker": {
          "color": "#303030"
         },
         "mode": "lines",
         "name": "unknown_average",
         "showlegend": false,
         "type": "scatter",
         "x": [
          5,
          6
         ],
         "xaxis": "x2",
         "y": [
          0.015245393441012825,
          0.015245393441012825
         ]
        },
        {
         "marker": {
          "color": "#303030"
         },
         "mode": "lines",
         "name": "native american_average",
         "showlegend": false,
         "type": "scatter",
         "x": [
          6,
          7
         ],
         "xaxis": "x2",
         "y": [
          0.004591181902142463,
          0.004591181902142463
         ]
        },
        {
         "marker": {
          "color": "#303030"
         },
         "mode": "lines",
         "name": "middle eastern_average",
         "showlegend": false,
         "type": "scatter",
         "x": [
          7,
          8
         ],
         "xaxis": "x2",
         "y": [
          0.01091386834406614,
          0.01091386834406614
         ]
        },
        {
         "marker": {
          "color": "#303030"
         },
         "mode": "lines",
         "name": "indian_average",
         "showlegend": false,
         "type": "scatter",
         "x": [
          8,
          9
         ],
         "xaxis": "x2",
         "y": [
          0.00413106764009525,
          0.00413106764009525
         ]
        },
        {
         "marker": {
          "color": "#303030"
         },
         "mode": "lines",
         "name": "jewish_average",
         "showlegend": false,
         "type": "scatter",
         "x": [
          9,
          10
         ],
         "xaxis": "x2",
         "y": [
          0.0009974468217159372,
          0.0009974468217159372
         ]
        },
        {
         "marker": {
          "color": "#303030"
         },
         "mode": "lines",
         "name": "romany_average",
         "showlegend": false,
         "type": "scatter",
         "x": [
          10,
          11
         ],
         "xaxis": "x2",
         "y": [
          0.00005772005772005872,
          0.00005772005772005872
         ]
        }
       ],
       "layout": {
        "barmode": "group",
        "font": {
         "size": 16
        },
        "height": 600,
        "plot_bgcolor": "white",
        "template": {
         "data": {
          "bar": [
           {
            "error_x": {
             "color": "#2a3f5f"
            },
            "error_y": {
             "color": "#2a3f5f"
            },
            "marker": {
             "line": {
              "color": "#E5ECF6",
              "width": 0.5
             },
             "pattern": {
              "fillmode": "overlay",
              "size": 10,
              "solidity": 0.2
             }
            },
            "type": "bar"
           }
          ],
          "barpolar": [
           {
            "marker": {
             "line": {
              "color": "#E5ECF6",
              "width": 0.5
             },
             "pattern": {
              "fillmode": "overlay",
              "size": 10,
              "solidity": 0.2
             }
            },
            "type": "barpolar"
           }
          ],
          "carpet": [
           {
            "aaxis": {
             "endlinecolor": "#2a3f5f",
             "gridcolor": "white",
             "linecolor": "white",
             "minorgridcolor": "white",
             "startlinecolor": "#2a3f5f"
            },
            "baxis": {
             "endlinecolor": "#2a3f5f",
             "gridcolor": "white",
             "linecolor": "white",
             "minorgridcolor": "white",
             "startlinecolor": "#2a3f5f"
            },
            "type": "carpet"
           }
          ],
          "choropleth": [
           {
            "colorbar": {
             "outlinewidth": 0,
             "ticks": ""
            },
            "type": "choropleth"
           }
          ],
          "contour": [
           {
            "colorbar": {
             "outlinewidth": 0,
             "ticks": ""
            },
            "colorscale": [
             [
              0,
              "#0d0887"
             ],
             [
              0.1111111111111111,
              "#46039f"
             ],
             [
              0.2222222222222222,
              "#7201a8"
             ],
             [
              0.3333333333333333,
              "#9c179e"
             ],
             [
              0.4444444444444444,
              "#bd3786"
             ],
             [
              0.5555555555555556,
              "#d8576b"
             ],
             [
              0.6666666666666666,
              "#ed7953"
             ],
             [
              0.7777777777777778,
              "#fb9f3a"
             ],
             [
              0.8888888888888888,
              "#fdca26"
             ],
             [
              1,
              "#f0f921"
             ]
            ],
            "type": "contour"
           }
          ],
          "contourcarpet": [
           {
            "colorbar": {
             "outlinewidth": 0,
             "ticks": ""
            },
            "type": "contourcarpet"
           }
          ],
          "heatmap": [
           {
            "colorbar": {
             "outlinewidth": 0,
             "ticks": ""
            },
            "colorscale": [
             [
              0,
              "#0d0887"
             ],
             [
              0.1111111111111111,
              "#46039f"
             ],
             [
              0.2222222222222222,
              "#7201a8"
             ],
             [
              0.3333333333333333,
              "#9c179e"
             ],
             [
              0.4444444444444444,
              "#bd3786"
             ],
             [
              0.5555555555555556,
              "#d8576b"
             ],
             [
              0.6666666666666666,
              "#ed7953"
             ],
             [
              0.7777777777777778,
              "#fb9f3a"
             ],
             [
              0.8888888888888888,
              "#fdca26"
             ],
             [
              1,
              "#f0f921"
             ]
            ],
            "type": "heatmap"
           }
          ],
          "heatmapgl": [
           {
            "colorbar": {
             "outlinewidth": 0,
             "ticks": ""
            },
            "colorscale": [
             [
              0,
              "#0d0887"
             ],
             [
              0.1111111111111111,
              "#46039f"
             ],
             [
              0.2222222222222222,
              "#7201a8"
             ],
             [
              0.3333333333333333,
              "#9c179e"
             ],
             [
              0.4444444444444444,
              "#bd3786"
             ],
             [
              0.5555555555555556,
              "#d8576b"
             ],
             [
              0.6666666666666666,
              "#ed7953"
             ],
             [
              0.7777777777777778,
              "#fb9f3a"
             ],
             [
              0.8888888888888888,
              "#fdca26"
             ],
             [
              1,
              "#f0f921"
             ]
            ],
            "type": "heatmapgl"
           }
          ],
          "histogram": [
           {
            "marker": {
             "pattern": {
              "fillmode": "overlay",
              "size": 10,
              "solidity": 0.2
             }
            },
            "type": "histogram"
           }
          ],
          "histogram2d": [
           {
            "colorbar": {
             "outlinewidth": 0,
             "ticks": ""
            },
            "colorscale": [
             [
              0,
              "#0d0887"
             ],
             [
              0.1111111111111111,
              "#46039f"
             ],
             [
              0.2222222222222222,
              "#7201a8"
             ],
             [
              0.3333333333333333,
              "#9c179e"
             ],
             [
              0.4444444444444444,
              "#bd3786"
             ],
             [
              0.5555555555555556,
              "#d8576b"
             ],
             [
              0.6666666666666666,
              "#ed7953"
             ],
             [
              0.7777777777777778,
              "#fb9f3a"
             ],
             [
              0.8888888888888888,
              "#fdca26"
             ],
             [
              1,
              "#f0f921"
             ]
            ],
            "type": "histogram2d"
           }
          ],
          "histogram2dcontour": [
           {
            "colorbar": {
             "outlinewidth": 0,
             "ticks": ""
            },
            "colorscale": [
             [
              0,
              "#0d0887"
             ],
             [
              0.1111111111111111,
              "#46039f"
             ],
             [
              0.2222222222222222,
              "#7201a8"
             ],
             [
              0.3333333333333333,
              "#9c179e"
             ],
             [
              0.4444444444444444,
              "#bd3786"
             ],
             [
              0.5555555555555556,
              "#d8576b"
             ],
             [
              0.6666666666666666,
              "#ed7953"
             ],
             [
              0.7777777777777778,
              "#fb9f3a"
             ],
             [
              0.8888888888888888,
              "#fdca26"
             ],
             [
              1,
              "#f0f921"
             ]
            ],
            "type": "histogram2dcontour"
           }
          ],
          "mesh3d": [
           {
            "colorbar": {
             "outlinewidth": 0,
             "ticks": ""
            },
            "type": "mesh3d"
           }
          ],
          "parcoords": [
           {
            "line": {
             "colorbar": {
              "outlinewidth": 0,
              "ticks": ""
             }
            },
            "type": "parcoords"
           }
          ],
          "pie": [
           {
            "automargin": true,
            "type": "pie"
           }
          ],
          "scatter": [
           {
            "marker": {
             "colorbar": {
              "outlinewidth": 0,
              "ticks": ""
             }
            },
            "type": "scatter"
           }
          ],
          "scatter3d": [
           {
            "line": {
             "colorbar": {
              "outlinewidth": 0,
              "ticks": ""
             }
            },
            "marker": {
             "colorbar": {
              "outlinewidth": 0,
              "ticks": ""
             }
            },
            "type": "scatter3d"
           }
          ],
          "scattercarpet": [
           {
            "marker": {
             "colorbar": {
              "outlinewidth": 0,
              "ticks": ""
             }
            },
            "type": "scattercarpet"
           }
          ],
          "scattergeo": [
           {
            "marker": {
             "colorbar": {
              "outlinewidth": 0,
              "ticks": ""
             }
            },
            "type": "scattergeo"
           }
          ],
          "scattergl": [
           {
            "marker": {
             "colorbar": {
              "outlinewidth": 0,
              "ticks": ""
             }
            },
            "type": "scattergl"
           }
          ],
          "scattermapbox": [
           {
            "marker": {
             "colorbar": {
              "outlinewidth": 0,
              "ticks": ""
             }
            },
            "type": "scattermapbox"
           }
          ],
          "scatterpolar": [
           {
            "marker": {
             "colorbar": {
              "outlinewidth": 0,
              "ticks": ""
             }
            },
            "type": "scatterpolar"
           }
          ],
          "scatterpolargl": [
           {
            "marker": {
             "colorbar": {
              "outlinewidth": 0,
              "ticks": ""
             }
            },
            "type": "scatterpolargl"
           }
          ],
          "scatterternary": [
           {
            "marker": {
             "colorbar": {
              "outlinewidth": 0,
              "ticks": ""
             }
            },
            "type": "scatterternary"
           }
          ],
          "surface": [
           {
            "colorbar": {
             "outlinewidth": 0,
             "ticks": ""
            },
            "colorscale": [
             [
              0,
              "#0d0887"
             ],
             [
              0.1111111111111111,
              "#46039f"
             ],
             [
              0.2222222222222222,
              "#7201a8"
             ],
             [
              0.3333333333333333,
              "#9c179e"
             ],
             [
              0.4444444444444444,
              "#bd3786"
             ],
             [
              0.5555555555555556,
              "#d8576b"
             ],
             [
              0.6666666666666666,
              "#ed7953"
             ],
             [
              0.7777777777777778,
              "#fb9f3a"
             ],
             [
              0.8888888888888888,
              "#fdca26"
             ],
             [
              1,
              "#f0f921"
             ]
            ],
            "type": "surface"
           }
          ],
          "table": [
           {
            "cells": {
             "fill": {
              "color": "#EBF0F8"
             },
             "line": {
              "color": "white"
             }
            },
            "header": {
             "fill": {
              "color": "#C8D4E3"
             },
             "line": {
              "color": "white"
             }
            },
            "type": "table"
           }
          ]
         },
         "layout": {
          "annotationdefaults": {
           "arrowcolor": "#2a3f5f",
           "arrowhead": 0,
           "arrowwidth": 1
          },
          "autotypenumbers": "strict",
          "coloraxis": {
           "colorbar": {
            "outlinewidth": 0,
            "ticks": ""
           }
          },
          "colorscale": {
           "diverging": [
            [
             0,
             "#8e0152"
            ],
            [
             0.1,
             "#c51b7d"
            ],
            [
             0.2,
             "#de77ae"
            ],
            [
             0.3,
             "#f1b6da"
            ],
            [
             0.4,
             "#fde0ef"
            ],
            [
             0.5,
             "#f7f7f7"
            ],
            [
             0.6,
             "#e6f5d0"
            ],
            [
             0.7,
             "#b8e186"
            ],
            [
             0.8,
             "#7fbc41"
            ],
            [
             0.9,
             "#4d9221"
            ],
            [
             1,
             "#276419"
            ]
           ],
           "sequential": [
            [
             0,
             "#0d0887"
            ],
            [
             0.1111111111111111,
             "#46039f"
            ],
            [
             0.2222222222222222,
             "#7201a8"
            ],
            [
             0.3333333333333333,
             "#9c179e"
            ],
            [
             0.4444444444444444,
             "#bd3786"
            ],
            [
             0.5555555555555556,
             "#d8576b"
            ],
            [
             0.6666666666666666,
             "#ed7953"
            ],
            [
             0.7777777777777778,
             "#fb9f3a"
            ],
            [
             0.8888888888888888,
             "#fdca26"
            ],
            [
             1,
             "#f0f921"
            ]
           ],
           "sequentialminus": [
            [
             0,
             "#0d0887"
            ],
            [
             0.1111111111111111,
             "#46039f"
            ],
            [
             0.2222222222222222,
             "#7201a8"
            ],
            [
             0.3333333333333333,
             "#9c179e"
            ],
            [
             0.4444444444444444,
             "#bd3786"
            ],
            [
             0.5555555555555556,
             "#d8576b"
            ],
            [
             0.6666666666666666,
             "#ed7953"
            ],
            [
             0.7777777777777778,
             "#fb9f3a"
            ],
            [
             0.8888888888888888,
             "#fdca26"
            ],
            [
             1,
             "#f0f921"
            ]
           ]
          },
          "colorway": [
           "#636efa",
           "#EF553B",
           "#00cc96",
           "#ab63fa",
           "#FFA15A",
           "#19d3f3",
           "#FF6692",
           "#B6E880",
           "#FF97FF",
           "#FECB52"
          ],
          "font": {
           "color": "#2a3f5f"
          },
          "geo": {
           "bgcolor": "white",
           "lakecolor": "white",
           "landcolor": "#E5ECF6",
           "showlakes": true,
           "showland": true,
           "subunitcolor": "white"
          },
          "hoverlabel": {
           "align": "left"
          },
          "hovermode": "closest",
          "mapbox": {
           "style": "light"
          },
          "paper_bgcolor": "white",
          "plot_bgcolor": "#E5ECF6",
          "polar": {
           "angularaxis": {
            "gridcolor": "white",
            "linecolor": "white",
            "ticks": ""
           },
           "bgcolor": "#E5ECF6",
           "radialaxis": {
            "gridcolor": "white",
            "linecolor": "white",
            "ticks": ""
           }
          },
          "scene": {
           "xaxis": {
            "backgroundcolor": "#E5ECF6",
            "gridcolor": "white",
            "gridwidth": 2,
            "linecolor": "white",
            "showbackground": true,
            "ticks": "",
            "zerolinecolor": "white"
           },
           "yaxis": {
            "backgroundcolor": "#E5ECF6",
            "gridcolor": "white",
            "gridwidth": 2,
            "linecolor": "white",
            "showbackground": true,
            "ticks": "",
            "zerolinecolor": "white"
           },
           "zaxis": {
            "backgroundcolor": "#E5ECF6",
            "gridcolor": "white",
            "gridwidth": 2,
            "linecolor": "white",
            "showbackground": true,
            "ticks": "",
            "zerolinecolor": "white"
           }
          },
          "shapedefaults": {
           "line": {
            "color": "#2a3f5f"
           }
          },
          "ternary": {
           "aaxis": {
            "gridcolor": "white",
            "linecolor": "white",
            "ticks": ""
           },
           "baxis": {
            "gridcolor": "white",
            "linecolor": "white",
            "ticks": ""
           },
           "bgcolor": "#E5ECF6",
           "caxis": {
            "gridcolor": "white",
            "linecolor": "white",
            "ticks": ""
           }
          },
          "title": {
           "x": 0.05
          },
          "xaxis": {
           "automargin": true,
           "gridcolor": "white",
           "linecolor": "white",
           "ticks": "",
           "title": {
            "standoff": 15
           },
           "zerolinecolor": "white",
           "zerolinewidth": 2
          },
          "yaxis": {
           "automargin": true,
           "gridcolor": "white",
           "linecolor": "white",
           "ticks": "",
           "title": {
            "standoff": 15
           },
           "zerolinecolor": "white",
           "zerolinewidth": 2
          }
         }
        },
        "title": {
         "text": "Census race classification grouped by station."
        },
        "width": 2000,
        "xaxis2": {
         "overlaying": "x",
         "range": [
          0,
          11
         ],
         "showticklabels": false
        },
        "yaxis": {
         "dtick": 0.1,
         "gridcolor": "lightgray",
         "range": [
          0,
          1
         ],
         "tickformat": ".0%"
        }
       }
      }
     },
     "metadata": {},
     "output_type": "display_data"
    }
   ],
   "source": [
    "chart_grouped_categorical_comparison(df['station'], df['census_race_classification'], color_dict=COLOR_DICT, chart_width = 2000)"
   ]
  },
  {
   "cell_type": "code",
   "execution_count": null,
   "metadata": {},
   "outputs": [],
   "source": []
  }
 ],
 "metadata": {
  "interpreter": {
   "hash": "4fe28adbe6d40c82bdde6a2233f025e3b944121e67b5abb397657075ce1366ca"
  },
  "kernelspec": {
   "display_name": "Python 3.8.12 ('lighthouse')",
   "language": "python",
   "name": "python3"
  },
  "language_info": {
   "codemirror_mode": {
    "name": "ipython",
    "version": 3
   },
   "file_extension": ".py",
   "mimetype": "text/x-python",
   "name": "python",
   "nbconvert_exporter": "python",
   "pygments_lexer": "ipython3",
   "version": "3.8.12"
  },
  "orig_nbformat": 4
 },
 "nbformat": 4,
 "nbformat_minor": 2
}
